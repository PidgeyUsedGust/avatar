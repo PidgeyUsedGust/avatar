{
 "cells": [
  {
   "cell_type": "code",
   "execution_count": 29,
   "metadata": {},
   "outputs": [
    {
     "name": "stdout",
     "output_type": "stream",
     "text": [
      "The autoreload extension is already loaded. To reload it, use:\n",
      "  %reload_ext autoreload\n"
     ]
    }
   ],
   "source": [
    "%load_ext autoreload\n",
    "%autoreload 2\n",
    "\n",
    "import numpy as np\n",
    "import pandas as pd\n",
    "from sklearn.ensemble import RandomForestRegressor"
   ]
  },
  {
   "cell_type": "code",
   "execution_count": 2,
   "metadata": {},
   "outputs": [
    {
     "data": {
      "text/html": [
       "<div>\n",
       "<style scoped>\n",
       "    .dataframe tbody tr th:only-of-type {\n",
       "        vertical-align: middle;\n",
       "    }\n",
       "\n",
       "    .dataframe tbody tr th {\n",
       "        vertical-align: top;\n",
       "    }\n",
       "\n",
       "    .dataframe thead th {\n",
       "        text-align: right;\n",
       "    }\n",
       "</style>\n",
       "<table border=\"1\" class=\"dataframe\">\n",
       "  <thead>\n",
       "    <tr style=\"text-align: right;\">\n",
       "      <th></th>\n",
       "      <th>Datum</th>\n",
       "      <th>Actual</th>\n",
       "    </tr>\n",
       "  </thead>\n",
       "  <tbody>\n",
       "    <tr>\n",
       "      <th>0</th>\n",
       "      <td>03/08/2020</td>\n",
       "      <td>466.0</td>\n",
       "    </tr>\n",
       "    <tr>\n",
       "      <th>1</th>\n",
       "      <td>04/08/2020</td>\n",
       "      <td>633.0</td>\n",
       "    </tr>\n",
       "    <tr>\n",
       "      <th>2</th>\n",
       "      <td>05/08/2020</td>\n",
       "      <td>685.0</td>\n",
       "    </tr>\n",
       "    <tr>\n",
       "      <th>3</th>\n",
       "      <td>06/08/2020</td>\n",
       "      <td>601.0</td>\n",
       "    </tr>\n",
       "    <tr>\n",
       "      <th>4</th>\n",
       "      <td>07/08/2020</td>\n",
       "      <td>607.0</td>\n",
       "    </tr>\n",
       "    <tr>\n",
       "      <th>...</th>\n",
       "      <td>...</td>\n",
       "      <td>...</td>\n",
       "    </tr>\n",
       "    <tr>\n",
       "      <th>124</th>\n",
       "      <td>25/01/2021</td>\n",
       "      <td>856.0</td>\n",
       "    </tr>\n",
       "    <tr>\n",
       "      <th>125</th>\n",
       "      <td>26/01/2021</td>\n",
       "      <td>853.0</td>\n",
       "    </tr>\n",
       "    <tr>\n",
       "      <th>126</th>\n",
       "      <td>27/01/2021</td>\n",
       "      <td>918.0</td>\n",
       "    </tr>\n",
       "    <tr>\n",
       "      <th>127</th>\n",
       "      <td>28/01/2021</td>\n",
       "      <td>803.0</td>\n",
       "    </tr>\n",
       "    <tr>\n",
       "      <th>128</th>\n",
       "      <td>29/01/2021</td>\n",
       "      <td>736.0</td>\n",
       "    </tr>\n",
       "  </tbody>\n",
       "</table>\n",
       "<p>129 rows × 2 columns</p>\n",
       "</div>"
      ],
      "text/plain": [
       "          Datum  Actual\n",
       "0    03/08/2020   466.0\n",
       "1    04/08/2020   633.0\n",
       "2    05/08/2020   685.0\n",
       "3    06/08/2020   601.0\n",
       "4    07/08/2020   607.0\n",
       "..          ...     ...\n",
       "124  25/01/2021   856.0\n",
       "125  26/01/2021   853.0\n",
       "126  27/01/2021   918.0\n",
       "127  28/01/2021   803.0\n",
       "128  29/01/2021   736.0\n",
       "\n",
       "[129 rows x 2 columns]"
      ]
     },
     "execution_count": 2,
     "metadata": {},
     "output_type": "execute_result"
    }
   ],
   "source": [
    "df = pd.read_csv(\"data/bpost.csv\").dropna().drop('Forcast', axis=1)\n",
    "df"
   ]
  },
  {
   "cell_type": "code",
   "execution_count": 14,
   "metadata": {},
   "outputs": [
    {
     "data": {
      "text/plain": [
       "129"
      ]
     },
     "execution_count": 14,
     "metadata": {},
     "output_type": "execute_result"
    }
   ],
   "source": [
    "df.Datum.nunique()"
   ]
  },
  {
   "cell_type": "code",
   "execution_count": 34,
   "metadata": {},
   "outputs": [],
   "source": [
    "from avatar import WranglingLanguage, Expander\n",
    "from avatar.transformations import TimeFeatures\n",
    "from avatar.settings import Settings\n",
    "from avatar.filter import UniqueFilter\n",
    "\n",
    "Settings.verbose = True"
   ]
  },
  {
   "cell_type": "code",
   "execution_count": 35,
   "metadata": {},
   "outputs": [
    {
     "name": "stderr",
     "output_type": "stream",
     "text": [
      "100%|██████████| 2/2 [00:01<00:00,  1.14it/s]\n"
     ]
    },
    {
     "data": {
      "text/html": [
       "<div>\n",
       "<style scoped>\n",
       "    .dataframe tbody tr th:only-of-type {\n",
       "        vertical-align: middle;\n",
       "    }\n",
       "\n",
       "    .dataframe tbody tr th {\n",
       "        vertical-align: top;\n",
       "    }\n",
       "\n",
       "    .dataframe thead th {\n",
       "        text-align: right;\n",
       "    }\n",
       "</style>\n",
       "<table border=\"1\" class=\"dataframe\">\n",
       "  <thead>\n",
       "    <tr style=\"text-align: right;\">\n",
       "      <th></th>\n",
       "      <th>Actual</th>\n",
       "      <th>TimeFeatures()(Datum)_w</th>\n",
       "      <th>TimeFeatures()(Datum)_-d</th>\n",
       "      <th>TimeFeatures()(Datum)_-m</th>\n",
       "      <th>TimeFeatures()(Datum)_-y</th>\n",
       "      <th>TimeFeatures()(Datum)_Y</th>\n",
       "      <th>TimeFeatures()(Datum)_-j</th>\n",
       "      <th>TimeFeatures()(Datum)_U</th>\n",
       "      <th>TimeFeatures()(Datum)_W</th>\n",
       "    </tr>\n",
       "  </thead>\n",
       "  <tbody>\n",
       "    <tr>\n",
       "      <th>0</th>\n",
       "      <td>466.0</td>\n",
       "      <td>0</td>\n",
       "      <td>8</td>\n",
       "      <td>3</td>\n",
       "      <td>20</td>\n",
       "      <td>2020</td>\n",
       "      <td>68</td>\n",
       "      <td>10</td>\n",
       "      <td>9</td>\n",
       "    </tr>\n",
       "    <tr>\n",
       "      <th>1</th>\n",
       "      <td>633.0</td>\n",
       "      <td>3</td>\n",
       "      <td>8</td>\n",
       "      <td>4</td>\n",
       "      <td>20</td>\n",
       "      <td>2020</td>\n",
       "      <td>99</td>\n",
       "      <td>14</td>\n",
       "      <td>14</td>\n",
       "    </tr>\n",
       "    <tr>\n",
       "      <th>2</th>\n",
       "      <td>685.0</td>\n",
       "      <td>5</td>\n",
       "      <td>8</td>\n",
       "      <td>5</td>\n",
       "      <td>20</td>\n",
       "      <td>2020</td>\n",
       "      <td>129</td>\n",
       "      <td>18</td>\n",
       "      <td>18</td>\n",
       "    </tr>\n",
       "    <tr>\n",
       "      <th>3</th>\n",
       "      <td>601.0</td>\n",
       "      <td>1</td>\n",
       "      <td>8</td>\n",
       "      <td>6</td>\n",
       "      <td>20</td>\n",
       "      <td>2020</td>\n",
       "      <td>160</td>\n",
       "      <td>23</td>\n",
       "      <td>23</td>\n",
       "    </tr>\n",
       "    <tr>\n",
       "      <th>4</th>\n",
       "      <td>607.0</td>\n",
       "      <td>3</td>\n",
       "      <td>8</td>\n",
       "      <td>7</td>\n",
       "      <td>20</td>\n",
       "      <td>2020</td>\n",
       "      <td>190</td>\n",
       "      <td>27</td>\n",
       "      <td>27</td>\n",
       "    </tr>\n",
       "  </tbody>\n",
       "</table>\n",
       "</div>"
      ],
      "text/plain": [
       "   Actual  TimeFeatures()(Datum)_w  TimeFeatures()(Datum)_-d  \\\n",
       "0   466.0                        0                         8   \n",
       "1   633.0                        3                         8   \n",
       "2   685.0                        5                         8   \n",
       "3   601.0                        1                         8   \n",
       "4   607.0                        3                         8   \n",
       "\n",
       "   TimeFeatures()(Datum)_-m  TimeFeatures()(Datum)_-y  \\\n",
       "0                         3                        20   \n",
       "1                         4                        20   \n",
       "2                         5                        20   \n",
       "3                         6                        20   \n",
       "4                         7                        20   \n",
       "\n",
       "   TimeFeatures()(Datum)_Y  TimeFeatures()(Datum)_-j  TimeFeatures()(Datum)_U  \\\n",
       "0                     2020                        68                       10   \n",
       "1                     2020                        99                       14   \n",
       "2                     2020                       129                       18   \n",
       "3                     2020                       160                       23   \n",
       "4                     2020                       190                       27   \n",
       "\n",
       "   TimeFeatures()(Datum)_W  \n",
       "0                        9  \n",
       "1                       14  \n",
       "2                       18  \n",
       "3                       23  \n",
       "4                       27  "
      ]
     },
     "execution_count": 35,
     "metadata": {},
     "output_type": "execute_result"
    }
   ],
   "source": [
    "language = WranglingLanguage([TimeFeatures])\n",
    "expander = Expander(language)\n",
    "expanded = UniqueFilter().select(expander.expand(df, exclude=[\"Actual\"]))\n",
    "expanded = expanded.select_dtypes(include=['int16', 'int32', 'int64', 'float16', 'float32', 'float64'])\n",
    "expanded.head()"
   ]
  },
  {
   "cell_type": "code",
   "execution_count": 36,
   "metadata": {},
   "outputs": [],
   "source": [
    "from avatar.supervised import AnnealingTournament, LegacyTournament"
   ]
  },
  {
   "cell_type": "code",
   "execution_count": 37,
   "metadata": {},
   "outputs": [
    {
     "name": "stderr",
     "output_type": "stream",
     "text": [
      "100%|██████████| 400/400 [00:08<00:00, 45.71it/s]\n"
     ]
    }
   ],
   "source": [
    "legacy = LegacyTournament(games=400)\n",
    "legacy.initialise(expanded, target=\"Actual\")\n",
    "legacy.play()"
   ]
  },
  {
   "cell_type": "code",
   "execution_count": 38,
   "metadata": {},
   "outputs": [
    {
     "data": {
      "text/plain": [
       "{'TimeFeatures()(Datum)_Y': 0.05750133809330579,\n",
       " 'TimeFeatures()(Datum)_-d': 0.2357857294334564,\n",
       " 'TimeFeatures()(Datum)_U': 0.13489988915144133,\n",
       " 'TimeFeatures()(Datum)_w': 0.057683393822469835,\n",
       " 'TimeFeatures()(Datum)_-m': 0.07145651335037817,\n",
       " 'TimeFeatures()(Datum)_W': 0.13029075065731285,\n",
       " 'TimeFeatures()(Datum)_-j': 0.2749407581146985,\n",
       " 'TimeFeatures()(Datum)_-y': 0.03744162737693718}"
      ]
     },
     "execution_count": 38,
     "metadata": {},
     "output_type": "execute_result"
    }
   ],
   "source": [
    "legacy.results"
   ]
  },
  {
   "cell_type": "code",
   "execution_count": 39,
   "metadata": {},
   "outputs": [
    {
     "name": "stderr",
     "output_type": "stream",
     "text": [
      "4: 100%|██████████| 400/400 [00:43<00:00,  8.74it/s] "
     ]
    }
   ],
   "source": [
    "from avatar.supervised import Game, AveragePool\n",
    "\n",
    "anneal = AnnealingTournament(\n",
    "    Game(rounds=5),\n",
    "    AveragePool(),\n",
    "    games=400,\n",
    "    exploration=0.5,\n",
    "    teamsize=4\n",
    ")\n",
    "anneal.initialise(expanded, target=\"Actual\")\n",
    "anneal.play()"
   ]
  },
  {
   "cell_type": "code",
   "execution_count": 40,
   "metadata": {},
   "outputs": [
    {
     "data": {
      "text/plain": [
       "{'TimeFeatures()(Datum)_Y': 0.0014398469329329887,\n",
       " 'TimeFeatures()(Datum)_-d': 0.3705984925865423,\n",
       " 'TimeFeatures()(Datum)_U': 0.04261023743734611,\n",
       " 'TimeFeatures()(Datum)_w': 0.016491520015528314,\n",
       " 'TimeFeatures()(Datum)_-m': 0.014251828012883532,\n",
       " 'TimeFeatures()(Datum)_W': 0.048864638700235996,\n",
       " 'TimeFeatures()(Datum)_-j': 0.5049854876884274,\n",
       " 'TimeFeatures()(Datum)_-y': 0.0007579486261033056}"
      ]
     },
     "execution_count": 40,
     "metadata": {},
     "output_type": "execute_result"
    }
   ],
   "source": [
    "anneal.results"
   ]
  },
  {
   "cell_type": "code",
   "execution_count": 41,
   "metadata": {},
   "outputs": [],
   "source": [
    "from avatar.evaluate import RankingEvaluator"
   ]
  },
  {
   "cell_type": "code",
   "execution_count": 42,
   "metadata": {},
   "outputs": [],
   "source": [
    "estimator = RandomForestRegressor(max_depth=4)\n",
    "evaluator = RankingEvaluator(estimator, max_features=10)"
   ]
  },
  {
   "cell_type": "code",
   "execution_count": 43,
   "metadata": {
    "scrolled": false
   },
   "outputs": [
    {
     "name": "stderr",
     "output_type": "stream",
     "text": [
      "\n",
      "  0%|          | 0/9 [00:00<?, ?it/s]\u001b[A\n",
      "4: 100%|██████████| 400/400 [00:46<00:00,  8.52it/s]\n",
      "\n",
      " 22%|██▏       | 2/9 [00:03<00:10,  1.51s/it]\u001b[A\n",
      " 33%|███▎      | 3/9 [00:04<00:08,  1.40s/it]\u001b[A\n",
      " 44%|████▍     | 4/9 [00:05<00:06,  1.32s/it]\u001b[A\n",
      " 56%|█████▌    | 5/9 [00:06<00:04,  1.21s/it]\u001b[A\n",
      " 67%|██████▋   | 6/9 [00:07<00:03,  1.14s/it]\u001b[A\n",
      " 78%|███████▊  | 7/9 [00:08<00:02,  1.06s/it]\u001b[A\n",
      " 89%|████████▉ | 8/9 [00:09<00:01,  1.02s/it]\u001b[A\n",
      "100%|██████████| 9/9 [00:10<00:00,  1.15s/it]\u001b[A\n",
      "100%|██████████| 9/9 [00:08<00:00,  1.07it/s]\n",
      "100%|██████████| 9/9 [00:08<00:00,  1.07it/s]\n",
      "100%|██████████| 9/9 [00:11<00:00,  1.27s/it]\n",
      "100%|██████████| 9/9 [00:12<00:00,  1.38s/it]\n"
     ]
    },
    {
     "data": {
      "text/plain": [
       "{1: {'scores': [-0.07068439655836153,\n",
       "   -0.14504503081765457,\n",
       "   -0.3003476368658234,\n",
       "   0.019665460550896397,\n",
       "   -0.39522748197645885],\n",
       "  'features': ['TimeFeatures()(Datum)_-j']},\n",
       " 2: {'scores': [0.3366916436594877,\n",
       "   0.4425045182502322,\n",
       "   0.14841320268516728,\n",
       "   0.18318044375791936,\n",
       "   0.25266156528246514],\n",
       "  'features': ['TimeFeatures()(Datum)_-j', 'TimeFeatures()(Datum)_-d']},\n",
       " 3: {'scores': [0.28919582306445274,\n",
       "   0.16908238496290043,\n",
       "   0.10251187220457085,\n",
       "   0.1789785948229407,\n",
       "   0.08158350049205851],\n",
       "  'features': ['TimeFeatures()(Datum)_-j',\n",
       "   'TimeFeatures()(Datum)_-d',\n",
       "   'TimeFeatures()(Datum)_U']},\n",
       " 4: {'scores': [-0.023319055879807225,\n",
       "   0.14606985643169673,\n",
       "   0.26709867778813123,\n",
       "   0.12216947503454459,\n",
       "   0.011614565524274357],\n",
       "  'features': ['TimeFeatures()(Datum)_-j',\n",
       "   'TimeFeatures()(Datum)_-d',\n",
       "   'TimeFeatures()(Datum)_U',\n",
       "   'TimeFeatures()(Datum)_W']},\n",
       " 5: {'scores': [0.39117891786537634,\n",
       "   0.12120397452781424,\n",
       "   0.4452189871372817,\n",
       "   -0.007346332060271044,\n",
       "   0.16101660302085719],\n",
       "  'features': ['TimeFeatures()(Datum)_-j',\n",
       "   'TimeFeatures()(Datum)_-d',\n",
       "   'TimeFeatures()(Datum)_U',\n",
       "   'TimeFeatures()(Datum)_W',\n",
       "   'TimeFeatures()(Datum)_-m']},\n",
       " 6: {'scores': [0.28957987240281685,\n",
       "   0.024117450615688464,\n",
       "   0.29350871256778116,\n",
       "   0.07696784265013659,\n",
       "   0.3312745862417616],\n",
       "  'features': ['TimeFeatures()(Datum)_-j',\n",
       "   'TimeFeatures()(Datum)_-d',\n",
       "   'TimeFeatures()(Datum)_U',\n",
       "   'TimeFeatures()(Datum)_W',\n",
       "   'TimeFeatures()(Datum)_-m',\n",
       "   'TimeFeatures()(Datum)_w']},\n",
       " 7: {'scores': [0.3216037529762417,\n",
       "   0.32350490622541184,\n",
       "   0.3175791831491105,\n",
       "   0.40090964734676415,\n",
       "   0.3762918844391243],\n",
       "  'features': ['TimeFeatures()(Datum)_-j',\n",
       "   'TimeFeatures()(Datum)_-d',\n",
       "   'TimeFeatures()(Datum)_U',\n",
       "   'TimeFeatures()(Datum)_W',\n",
       "   'TimeFeatures()(Datum)_-m',\n",
       "   'TimeFeatures()(Datum)_w',\n",
       "   'TimeFeatures()(Datum)_Y']},\n",
       " 8: {'scores': [0.31468326339019964,\n",
       "   0.11041013002315925,\n",
       "   0.27286905369738756,\n",
       "   0.0427161432450768,\n",
       "   -0.3040582900608716],\n",
       "  'features': ['TimeFeatures()(Datum)_-j',\n",
       "   'TimeFeatures()(Datum)_-d',\n",
       "   'TimeFeatures()(Datum)_U',\n",
       "   'TimeFeatures()(Datum)_W',\n",
       "   'TimeFeatures()(Datum)_-m',\n",
       "   'TimeFeatures()(Datum)_w',\n",
       "   'TimeFeatures()(Datum)_Y',\n",
       "   'TimeFeatures()(Datum)_-y']},\n",
       " 9: {'scores': [0.08679694189755172,\n",
       "   -0.004201638494742421,\n",
       "   0.22201950282210756,\n",
       "   0.18243253879096183,\n",
       "   0.09399365238738647],\n",
       "  'features': ['TimeFeatures()(Datum)_-j',\n",
       "   'TimeFeatures()(Datum)_-d',\n",
       "   'TimeFeatures()(Datum)_U',\n",
       "   'TimeFeatures()(Datum)_W',\n",
       "   'TimeFeatures()(Datum)_-m',\n",
       "   'TimeFeatures()(Datum)_w',\n",
       "   'TimeFeatures()(Datum)_Y',\n",
       "   'TimeFeatures()(Datum)_-y']}}"
      ]
     },
     "execution_count": 43,
     "metadata": {},
     "output_type": "execute_result"
    }
   ],
   "source": [
    "evaluator.fit(expanded, target=\"Actual\", ranking=legacy.results)\n",
    "evaluator.scores"
   ]
  },
  {
   "cell_type": "code",
   "execution_count": 44,
   "metadata": {},
   "outputs": [
    {
     "name": "stdout",
     "output_type": "stream",
     "text": [
      "1 -0.1783278171334804\n",
      "['TimeFeatures()(Datum)_-j']\n",
      "\n",
      "2 0.2726902747270543\n",
      "['TimeFeatures()(Datum)_-j', 'TimeFeatures()(Datum)_-d']\n",
      "\n",
      "3 0.16427043510938463\n",
      "['TimeFeatures()(Datum)_-j', 'TimeFeatures()(Datum)_-d', 'TimeFeatures()(Datum)_U']\n",
      "\n",
      "4 0.10472670377976792\n",
      "['TimeFeatures()(Datum)_-j', 'TimeFeatures()(Datum)_-d', 'TimeFeatures()(Datum)_U', 'TimeFeatures()(Datum)_W']\n",
      "\n",
      "5 0.22225443009821166\n",
      "['TimeFeatures()(Datum)_-j', 'TimeFeatures()(Datum)_-d', 'TimeFeatures()(Datum)_U', 'TimeFeatures()(Datum)_W', 'TimeFeatures()(Datum)_-m']\n",
      "\n",
      "6 0.20308969289563694\n",
      "['TimeFeatures()(Datum)_-j', 'TimeFeatures()(Datum)_-d', 'TimeFeatures()(Datum)_U', 'TimeFeatures()(Datum)_W', 'TimeFeatures()(Datum)_-m', 'TimeFeatures()(Datum)_w']\n",
      "\n",
      "7 0.3479778748273305\n",
      "['TimeFeatures()(Datum)_-j', 'TimeFeatures()(Datum)_-d', 'TimeFeatures()(Datum)_U', 'TimeFeatures()(Datum)_W', 'TimeFeatures()(Datum)_-m', 'TimeFeatures()(Datum)_w', 'TimeFeatures()(Datum)_Y']\n",
      "\n",
      "8 0.08732406005899032\n",
      "['TimeFeatures()(Datum)_-j', 'TimeFeatures()(Datum)_-d', 'TimeFeatures()(Datum)_U', 'TimeFeatures()(Datum)_W', 'TimeFeatures()(Datum)_-m', 'TimeFeatures()(Datum)_w', 'TimeFeatures()(Datum)_Y', 'TimeFeatures()(Datum)_-y']\n",
      "\n",
      "9 0.11620819948065304\n",
      "['TimeFeatures()(Datum)_-j', 'TimeFeatures()(Datum)_-d', 'TimeFeatures()(Datum)_U', 'TimeFeatures()(Datum)_W', 'TimeFeatures()(Datum)_-m', 'TimeFeatures()(Datum)_w', 'TimeFeatures()(Datum)_Y', 'TimeFeatures()(Datum)_-y']\n",
      "\n"
     ]
    }
   ],
   "source": [
    "for k, v in _.items():\n",
    "    print(k, np.mean(v['scores']))\n",
    "    print(v['features'])\n",
    "    print()"
   ]
  },
  {
   "cell_type": "code",
   "execution_count": 45,
   "metadata": {
    "scrolled": false
   },
   "outputs": [
    {
     "name": "stderr",
     "output_type": "stream",
     "text": [
      "100%|██████████| 9/9 [00:15<00:00,  1.68s/it]\n",
      "100%|██████████| 9/9 [00:15<00:00,  1.75s/it]\n",
      "100%|██████████| 9/9 [00:15<00:00,  1.71s/it]\n",
      "100%|██████████| 9/9 [00:07<00:00,  1.23it/s]\n",
      "100%|██████████| 9/9 [00:08<00:00,  1.11it/s]\n"
     ]
    },
    {
     "data": {
      "text/plain": [
       "{1: {'scores': [-0.2901200890977193,\n",
       "   0.053127475547072,\n",
       "   0.10613613380377293,\n",
       "   -0.33770925861357765,\n",
       "   -0.10512662609761274],\n",
       "  'features': ['TimeFeatures()(Datum)_-j']},\n",
       " 2: {'scores': [0.4452860349580404,\n",
       "   0.4698956138958191,\n",
       "   0.01808151428836635,\n",
       "   0.1331927032664944,\n",
       "   0.45003046142713965],\n",
       "  'features': ['TimeFeatures()(Datum)_-j', 'TimeFeatures()(Datum)_-d']},\n",
       " 3: {'scores': [0.11981540304375574,\n",
       "   0.16219700737533527,\n",
       "   0.09320744055284398,\n",
       "   0.27292681304341126,\n",
       "   0.4203465183536606],\n",
       "  'features': ['TimeFeatures()(Datum)_-j',\n",
       "   'TimeFeatures()(Datum)_-d',\n",
       "   'TimeFeatures()(Datum)_W']},\n",
       " 4: {'scores': [0.35331377260010643,\n",
       "   0.08255950575635014,\n",
       "   0.12829466521891877,\n",
       "   0.1921441812525388,\n",
       "   0.1553398456372363],\n",
       "  'features': ['TimeFeatures()(Datum)_-j',\n",
       "   'TimeFeatures()(Datum)_-d',\n",
       "   'TimeFeatures()(Datum)_W',\n",
       "   'TimeFeatures()(Datum)_U']},\n",
       " 5: {'scores': [0.1696323669887528,\n",
       "   -0.010041350286093053,\n",
       "   0.12267417737677311,\n",
       "   0.06643417867234795,\n",
       "   0.15849063267735194],\n",
       "  'features': ['TimeFeatures()(Datum)_-j',\n",
       "   'TimeFeatures()(Datum)_-d',\n",
       "   'TimeFeatures()(Datum)_W',\n",
       "   'TimeFeatures()(Datum)_U',\n",
       "   'TimeFeatures()(Datum)_w']},\n",
       " 6: {'scores': [-0.020463516686299553,\n",
       "   0.11239685578221084,\n",
       "   0.3462300804444167,\n",
       "   0.022355724550461885,\n",
       "   0.32180398128279303],\n",
       "  'features': ['TimeFeatures()(Datum)_-j',\n",
       "   'TimeFeatures()(Datum)_-d',\n",
       "   'TimeFeatures()(Datum)_W',\n",
       "   'TimeFeatures()(Datum)_U',\n",
       "   'TimeFeatures()(Datum)_w',\n",
       "   'TimeFeatures()(Datum)_-m']},\n",
       " 7: {'scores': [0.1886535875825251,\n",
       "   0.002177665361662684,\n",
       "   0.3157155061946487,\n",
       "   0.39205119100264,\n",
       "   0.38592544573823145],\n",
       "  'features': ['TimeFeatures()(Datum)_-j',\n",
       "   'TimeFeatures()(Datum)_-d',\n",
       "   'TimeFeatures()(Datum)_W',\n",
       "   'TimeFeatures()(Datum)_U',\n",
       "   'TimeFeatures()(Datum)_w',\n",
       "   'TimeFeatures()(Datum)_-m',\n",
       "   'TimeFeatures()(Datum)_Y']},\n",
       " 8: {'scores': [0.28838003764537595,\n",
       "   0.18914085616160273,\n",
       "   0.14018071598083767,\n",
       "   0.27036244573146717,\n",
       "   0.3390009581945473],\n",
       "  'features': ['TimeFeatures()(Datum)_-j',\n",
       "   'TimeFeatures()(Datum)_-d',\n",
       "   'TimeFeatures()(Datum)_W',\n",
       "   'TimeFeatures()(Datum)_U',\n",
       "   'TimeFeatures()(Datum)_w',\n",
       "   'TimeFeatures()(Datum)_-m',\n",
       "   'TimeFeatures()(Datum)_Y',\n",
       "   'TimeFeatures()(Datum)_-y']},\n",
       " 9: {'scores': [0.22700801884162133,\n",
       "   0.4259882863581125,\n",
       "   0.11160019046143162,\n",
       "   0.018043375417178976,\n",
       "   0.1353026623407108],\n",
       "  'features': ['TimeFeatures()(Datum)_-j',\n",
       "   'TimeFeatures()(Datum)_-d',\n",
       "   'TimeFeatures()(Datum)_W',\n",
       "   'TimeFeatures()(Datum)_U',\n",
       "   'TimeFeatures()(Datum)_w',\n",
       "   'TimeFeatures()(Datum)_-m',\n",
       "   'TimeFeatures()(Datum)_Y',\n",
       "   'TimeFeatures()(Datum)_-y']}}"
      ]
     },
     "execution_count": 45,
     "metadata": {},
     "output_type": "execute_result"
    }
   ],
   "source": [
    "evaluator.fit(expanded, target=\"Actual\", ranking=anneal.results)\n",
    "evaluator.scores"
   ]
  },
  {
   "cell_type": "code",
   "execution_count": 46,
   "metadata": {},
   "outputs": [
    {
     "name": "stdout",
     "output_type": "stream",
     "text": [
      "1 -0.11473847289161294\n",
      "['TimeFeatures()(Datum)_-j']\n",
      "\n",
      "2 0.30329726556717196\n",
      "['TimeFeatures()(Datum)_-j', 'TimeFeatures()(Datum)_-d']\n",
      "\n",
      "3 0.21369863647380133\n",
      "['TimeFeatures()(Datum)_-j', 'TimeFeatures()(Datum)_-d', 'TimeFeatures()(Datum)_W']\n",
      "\n",
      "4 0.1823303940930301\n",
      "['TimeFeatures()(Datum)_-j', 'TimeFeatures()(Datum)_-d', 'TimeFeatures()(Datum)_W', 'TimeFeatures()(Datum)_U']\n",
      "\n",
      "5 0.10143800108582654\n",
      "['TimeFeatures()(Datum)_-j', 'TimeFeatures()(Datum)_-d', 'TimeFeatures()(Datum)_W', 'TimeFeatures()(Datum)_U', 'TimeFeatures()(Datum)_w']\n",
      "\n",
      "6 0.1564646250747166\n",
      "['TimeFeatures()(Datum)_-j', 'TimeFeatures()(Datum)_-d', 'TimeFeatures()(Datum)_W', 'TimeFeatures()(Datum)_U', 'TimeFeatures()(Datum)_w', 'TimeFeatures()(Datum)_-m']\n",
      "\n",
      "7 0.2569046791759416\n",
      "['TimeFeatures()(Datum)_-j', 'TimeFeatures()(Datum)_-d', 'TimeFeatures()(Datum)_W', 'TimeFeatures()(Datum)_U', 'TimeFeatures()(Datum)_w', 'TimeFeatures()(Datum)_-m', 'TimeFeatures()(Datum)_Y']\n",
      "\n",
      "8 0.24541300274276617\n",
      "['TimeFeatures()(Datum)_-j', 'TimeFeatures()(Datum)_-d', 'TimeFeatures()(Datum)_W', 'TimeFeatures()(Datum)_U', 'TimeFeatures()(Datum)_w', 'TimeFeatures()(Datum)_-m', 'TimeFeatures()(Datum)_Y', 'TimeFeatures()(Datum)_-y']\n",
      "\n",
      "9 0.18358850668381105\n",
      "['TimeFeatures()(Datum)_-j', 'TimeFeatures()(Datum)_-d', 'TimeFeatures()(Datum)_W', 'TimeFeatures()(Datum)_U', 'TimeFeatures()(Datum)_w', 'TimeFeatures()(Datum)_-m', 'TimeFeatures()(Datum)_Y', 'TimeFeatures()(Datum)_-y']\n",
      "\n"
     ]
    }
   ],
   "source": [
    "for k, v in _.items():\n",
    "    print(k, np.mean(v['scores']))\n",
    "    print(v['features'])\n",
    "    print()"
   ]
  },
  {
   "cell_type": "code",
   "execution_count": null,
   "metadata": {},
   "outputs": [],
   "source": []
  },
  {
   "cell_type": "code",
   "execution_count": null,
   "metadata": {},
   "outputs": [],
   "source": []
  }
 ],
 "metadata": {
  "kernelspec": {
   "display_name": "avatar (local)",
   "language": "python",
   "name": "avatar-local"
  },
  "language_info": {
   "codemirror_mode": {
    "name": "ipython",
    "version": 3
   },
   "file_extension": ".py",
   "mimetype": "text/x-python",
   "name": "python",
   "nbconvert_exporter": "python",
   "pygments_lexer": "ipython3",
   "version": "3.8.6"
  }
 },
 "nbformat": 4,
 "nbformat_minor": 4
}
