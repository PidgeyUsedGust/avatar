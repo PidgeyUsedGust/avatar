{
 "cells": [
  {
   "cell_type": "markdown",
   "metadata": {},
   "source": [
    "# Testing Shap Values"
   ]
  },
  {
   "cell_type": "markdown",
   "metadata": {},
   "source": [
    "# Preliminaries"
   ]
  },
  {
   "cell_type": "code",
   "execution_count": 1,
   "metadata": {},
   "outputs": [],
   "source": [
    "\n",
    "from mercs import Mercs\n",
    "import numpy as np\n",
    "import pandas as pd"
   ]
  },
  {
   "cell_type": "code",
   "execution_count": 2,
   "metadata": {},
   "outputs": [],
   "source": [
    "from mercs.tests.setup import RANDOM_STATE, default_dataset"
   ]
  },
  {
   "cell_type": "markdown",
   "metadata": {},
   "source": [
    "## Data - Query\n",
    "\n",
    "Generate decent data and a normal query code."
   ]
  },
  {
   "cell_type": "code",
   "execution_count": 3,
   "metadata": {},
   "outputs": [
    {
     "name": "stdout",
     "output_type": "stream",
     "text": [
      "(800, 8)\n"
     ]
    }
   ],
   "source": [
    "train, test = default_dataset()\n",
    "print(train.shape)\n",
    "\n",
    "q_code = np.array([-1, -1, -1, -1, 0, 0, 0, 1])"
   ]
  },
  {
   "cell_type": "markdown",
   "metadata": {},
   "source": [
    "# Setup - Basic"
   ]
  },
  {
   "cell_type": "code",
   "execution_count": 4,
   "metadata": {},
   "outputs": [],
   "source": [
    "m_basic = Mercs(\n",
    "    random_state=RANDOM_STATE,\n",
    "    prediction_algorithm=\"it\",\n",
    "    evaluation_algorithm=\"dummy\",\n",
    "    selection_algorithm=\"random\",\n",
    "    stepsize=0.1,\n",
    "    nb_iterations=5,\n",
    "    fraction_missing=0.3,\n",
    "    max_depth=4,\n",
    "    calculation_method_feature_importances=None,\n",
    ")\n",
    "\n",
    "m_basic.fit(train, nominal_attributes={7})\n",
    "y_pred_01 = m_basic.predict(test, q_code=q_code)"
   ]
  },
  {
   "cell_type": "code",
   "execution_count": 5,
   "metadata": {},
   "outputs": [
    {
     "data": {
      "image/svg+xml": [
       "<svg xmlns=\"http://www.w3.org/2000/svg\" xmlns:xlink=\"http://www.w3.org/1999/xlink\" width=\"572pt\" height=\"332pt\" viewBox=\"0.00 0.00 572.29 332.00\">\n",
       "<g id=\"graph0\" class=\"graph\" transform=\"scale(1 1) rotate(0) translate(4 328)\">\n",
       "<title>G</title>\n",
       "<polygon fill=\"white\" stroke=\"transparent\" points=\"-4,4 -4,-328 568.29,-328 568.29,4 -4,4\"/>\n",
       "<!-- (&#39;I&#39;, 2) -->\n",
       "<g id=\"node1\" class=\"node\">\n",
       "<title>('I', 2)</title>\n",
       "<ellipse fill=\"none\" stroke=\"black\" cx=\"231.6\" cy=\"-18\" rx=\"37.89\" ry=\"18\"/>\n",
       "<text text-anchor=\"middle\" x=\"231.6\" y=\"-14.3\" font-family=\"Times,serif\" font-size=\"14.00\">('I', 2)</text>\n",
       "</g>\n",
       "<!-- (&#39;M&#39;, 12) -->\n",
       "<g id=\"node2\" class=\"node\">\n",
       "<title>('M', 12)</title>\n",
       "<ellipse fill=\"none\" stroke=\"black\" cx=\"217.6\" cy=\"-90\" rx=\"49.29\" ry=\"18\"/>\n",
       "<text text-anchor=\"middle\" x=\"217.6\" y=\"-86.3\" font-family=\"Times,serif\" font-size=\"14.00\">('M', 12)</text>\n",
       "</g>\n",
       "<!-- (&#39;I&#39;, 2)&#45;&gt;(&#39;M&#39;, 12) -->\n",
       "<g id=\"edge1\" class=\"edge\">\n",
       "<title>('I', 2)-&gt;('M', 12)</title>\n",
       "<path fill=\"none\" stroke=\"black\" d=\"M228.21,-35.95C226.67,-43.65 224.8,-52.97 223.07,-61.64\"/>\n",
       "<polygon fill=\"black\" stroke=\"black\" points=\"219.58,-61.23 221.05,-71.72 226.44,-62.61 219.58,-61.23\"/>\n",
       "</g>\n",
       "<!-- (&#39;M&#39;, 20) -->\n",
       "<g id=\"node7\" class=\"node\">\n",
       "<title>('M', 20)</title>\n",
       "<ellipse fill=\"none\" stroke=\"black\" cx=\"334.6\" cy=\"-90\" rx=\"49.29\" ry=\"18\"/>\n",
       "<text text-anchor=\"middle\" x=\"334.6\" y=\"-86.3\" font-family=\"Times,serif\" font-size=\"14.00\">('M', 20)</text>\n",
       "</g>\n",
       "<!-- (&#39;I&#39;, 2)&#45;&gt;(&#39;M&#39;, 20) -->\n",
       "<g id=\"edge2\" class=\"edge\">\n",
       "<title>('I', 2)-&gt;('M', 20)</title>\n",
       "<path fill=\"none\" stroke=\"black\" d=\"M252.44,-33.17C267.26,-43.24 287.4,-56.92 304.03,-68.23\"/>\n",
       "<polygon fill=\"black\" stroke=\"black\" points=\"302.12,-71.16 312.36,-73.89 306.05,-65.37 302.12,-71.16\"/>\n",
       "</g>\n",
       "<!-- (&#39;D&#39;, 1) -->\n",
       "<g id=\"node9\" class=\"node\">\n",
       "<title>('D', 1)</title>\n",
       "<ellipse fill=\"none\" stroke=\"black\" cx=\"275.6\" cy=\"-162\" rx=\"41.69\" ry=\"18\"/>\n",
       "<text text-anchor=\"middle\" x=\"275.6\" y=\"-158.3\" font-family=\"Times,serif\" font-size=\"14.00\">('D', 1)</text>\n",
       "</g>\n",
       "<!-- (&#39;M&#39;, 12)&#45;&gt;(&#39;D&#39;, 1) -->\n",
       "<g id=\"edge3\" class=\"edge\">\n",
       "<title>('M', 12)-&gt;('D', 1)</title>\n",
       "<path fill=\"none\" stroke=\"black\" d=\"M231.34,-107.59C238.56,-116.31 247.55,-127.15 255.54,-136.79\"/>\n",
       "<polygon fill=\"black\" stroke=\"black\" points=\"252.87,-139.06 261.95,-144.53 258.26,-134.6 252.87,-139.06\"/>\n",
       "</g>\n",
       "<!-- (&#39;I&#39;, 3) -->\n",
       "<g id=\"node3\" class=\"node\">\n",
       "<title>('I', 3)</title>\n",
       "<ellipse fill=\"none\" stroke=\"black\" cx=\"138.6\" cy=\"-18\" rx=\"37.89\" ry=\"18\"/>\n",
       "<text text-anchor=\"middle\" x=\"138.6\" y=\"-14.3\" font-family=\"Times,serif\" font-size=\"14.00\">('I', 3)</text>\n",
       "</g>\n",
       "<!-- (&#39;I&#39;, 3)&#45;&gt;(&#39;M&#39;, 12) -->\n",
       "<g id=\"edge4\" class=\"edge\">\n",
       "<title>('I', 3)-&gt;('M', 12)</title>\n",
       "<path fill=\"none\" stroke=\"black\" d=\"M155.74,-34.19C166.38,-43.62 180.26,-55.92 192.17,-66.47\"/>\n",
       "<polygon fill=\"black\" stroke=\"black\" points=\"189.86,-69.1 199.67,-73.11 194.5,-63.86 189.86,-69.1\"/>\n",
       "</g>\n",
       "<!-- (&#39;D&#39;, 4) -->\n",
       "<g id=\"node4\" class=\"node\">\n",
       "<title>('D', 4)</title>\n",
       "<ellipse fill=\"none\" stroke=\"black\" cx=\"41.6\" cy=\"-18\" rx=\"41.69\" ry=\"18\"/>\n",
       "<text text-anchor=\"middle\" x=\"41.6\" y=\"-14.3\" font-family=\"Times,serif\" font-size=\"14.00\">('D', 4)</text>\n",
       "</g>\n",
       "<!-- (&#39;D&#39;, 4)&#45;&gt;(&#39;M&#39;, 12) -->\n",
       "<g id=\"edge5\" class=\"edge\">\n",
       "<title>('D', 4)-&gt;('M', 12)</title>\n",
       "<path fill=\"none\" stroke=\"black\" d=\"M71.05,-30.72C99.7,-42.11 143.49,-59.53 175.74,-72.35\"/>\n",
       "<polygon fill=\"black\" stroke=\"black\" points=\"174.77,-75.73 185.35,-76.18 177.36,-69.23 174.77,-75.73\"/>\n",
       "</g>\n",
       "<!-- (&#39;D&#39;, 4)&#45;&gt;(&#39;M&#39;, 20) -->\n",
       "<g id=\"edge6\" class=\"edge\">\n",
       "<title>('D', 4)-&gt;('M', 20)</title>\n",
       "<path fill=\"none\" stroke=\"black\" d=\"M72.34,-30.18C78.66,-32.27 85.31,-34.32 91.6,-36 172.11,-57.46 194.59,-52.45 275.6,-72 279.68,-72.98 283.9,-74.07 288.12,-75.2\"/>\n",
       "<polygon fill=\"black\" stroke=\"black\" points=\"287.33,-78.61 297.91,-77.89 289.19,-71.86 287.33,-78.61\"/>\n",
       "</g>\n",
       "<!-- (&#39;M&#39;, 37) -->\n",
       "<g id=\"node10\" class=\"node\">\n",
       "<title>('M', 37)</title>\n",
       "<ellipse fill=\"none\" stroke=\"black\" cx=\"275.6\" cy=\"-234\" rx=\"49.29\" ry=\"18\"/>\n",
       "<text text-anchor=\"middle\" x=\"275.6\" y=\"-230.3\" font-family=\"Times,serif\" font-size=\"14.00\">('M', 37)</text>\n",
       "</g>\n",
       "<!-- (&#39;D&#39;, 4)&#45;&gt;(&#39;M&#39;, 37) -->\n",
       "<g id=\"edge7\" class=\"edge\">\n",
       "<title>('D', 4)-&gt;('M', 37)</title>\n",
       "<path fill=\"none\" stroke=\"black\" d=\"M58.8,-34.74C99.69,-72.13 202.84,-166.46 250.6,-210.14\"/>\n",
       "<polygon fill=\"black\" stroke=\"black\" points=\"248.3,-212.78 258.05,-216.95 253.03,-207.62 248.3,-212.78\"/>\n",
       "</g>\n",
       "<!-- (&#39;D&#39;, 5) -->\n",
       "<g id=\"node5\" class=\"node\">\n",
       "<title>('D', 5)</title>\n",
       "<ellipse fill=\"none\" stroke=\"black\" cx=\"429.6\" cy=\"-18\" rx=\"41.69\" ry=\"18\"/>\n",
       "<text text-anchor=\"middle\" x=\"429.6\" y=\"-14.3\" font-family=\"Times,serif\" font-size=\"14.00\">('D', 5)</text>\n",
       "</g>\n",
       "<!-- (&#39;D&#39;, 5)&#45;&gt;(&#39;M&#39;, 12) -->\n",
       "<g id=\"edge8\" class=\"edge\">\n",
       "<title>('D', 5)-&gt;('M', 12)</title>\n",
       "<path fill=\"none\" stroke=\"black\" d=\"M397.87,-29.85C391.81,-31.9 385.51,-34.03 379.6,-36 340.29,-49.11 295.52,-63.73 263.02,-74.29\"/>\n",
       "<polygon fill=\"black\" stroke=\"black\" points=\"261.78,-71.02 253.35,-77.43 263.94,-77.68 261.78,-71.02\"/>\n",
       "</g>\n",
       "<!-- (&#39;D&#39;, 5)&#45;&gt;(&#39;M&#39;, 20) -->\n",
       "<g id=\"edge9\" class=\"edge\">\n",
       "<title>('D', 5)-&gt;('M', 20)</title>\n",
       "<path fill=\"none\" stroke=\"black\" d=\"M409.45,-33.85C396.25,-43.57 378.76,-56.46 364.02,-67.32\"/>\n",
       "<polygon fill=\"black\" stroke=\"black\" points=\"361.68,-64.7 355.7,-73.45 365.83,-70.33 361.68,-64.7\"/>\n",
       "</g>\n",
       "<!-- (&#39;D&#39;, 5)&#45;&gt;(&#39;M&#39;, 37) -->\n",
       "<g id=\"edge10\" class=\"edge\">\n",
       "<title>('D', 5)-&gt;('M', 37)</title>\n",
       "<path fill=\"none\" stroke=\"black\" d=\"M424.52,-35.92C418.53,-54.48 407.45,-84.72 392.6,-108 367.09,-147.97 327.95,-186.65 302.07,-210.14\"/>\n",
       "<polygon fill=\"black\" stroke=\"black\" points=\"299.6,-207.65 294.49,-216.93 304.27,-212.86 299.6,-207.65\"/>\n",
       "</g>\n",
       "<!-- (&#39;D&#39;, 6) -->\n",
       "<g id=\"node6\" class=\"node\">\n",
       "<title>('D', 6)</title>\n",
       "<ellipse fill=\"none\" stroke=\"black\" cx=\"328.6\" cy=\"-18\" rx=\"41.69\" ry=\"18\"/>\n",
       "<text text-anchor=\"middle\" x=\"328.6\" y=\"-14.3\" font-family=\"Times,serif\" font-size=\"14.00\">('D', 6)</text>\n",
       "</g>\n",
       "<!-- (&#39;D&#39;, 6)&#45;&gt;(&#39;M&#39;, 12) -->\n",
       "<g id=\"edge11\" class=\"edge\">\n",
       "<title>('D', 6)-&gt;('M', 12)</title>\n",
       "<path fill=\"none\" stroke=\"black\" d=\"M306.13,-33.17C289.91,-43.4 267.77,-57.36 249.68,-68.77\"/>\n",
       "<polygon fill=\"black\" stroke=\"black\" points=\"247.77,-65.84 241.17,-74.13 251.5,-71.76 247.77,-65.84\"/>\n",
       "</g>\n",
       "<!-- (&#39;D&#39;, 6)&#45;&gt;(&#39;M&#39;, 20) -->\n",
       "<g id=\"edge12\" class=\"edge\">\n",
       "<title>('D', 6)-&gt;('M', 20)</title>\n",
       "<path fill=\"none\" stroke=\"black\" d=\"M330.08,-36.3C330.74,-44.02 331.54,-53.29 332.27,-61.89\"/>\n",
       "<polygon fill=\"black\" stroke=\"black\" points=\"328.79,-62.23 333.13,-71.9 335.76,-61.63 328.79,-62.23\"/>\n",
       "</g>\n",
       "<!-- (&#39;M&#39;, 20)&#45;&gt;(&#39;D&#39;, 1) -->\n",
       "<g id=\"edge13\" class=\"edge\">\n",
       "<title>('M', 20)-&gt;('D', 1)</title>\n",
       "<path fill=\"none\" stroke=\"black\" d=\"M320.61,-107.59C313.27,-116.31 304.12,-127.15 296,-136.79\"/>\n",
       "<polygon fill=\"black\" stroke=\"black\" points=\"293.25,-134.63 289.48,-144.53 298.6,-139.14 293.25,-134.63\"/>\n",
       "</g>\n",
       "<!-- (&#39;I&#39;, 7) -->\n",
       "<g id=\"node8\" class=\"node\">\n",
       "<title>('I', 7)</title>\n",
       "<ellipse fill=\"none\" stroke=\"black\" cx=\"526.6\" cy=\"-18\" rx=\"37.89\" ry=\"18\"/>\n",
       "<text text-anchor=\"middle\" x=\"526.6\" y=\"-14.3\" font-family=\"Times,serif\" font-size=\"14.00\">('I', 7)</text>\n",
       "</g>\n",
       "<!-- (&#39;I&#39;, 7)&#45;&gt;(&#39;M&#39;, 20) -->\n",
       "<g id=\"edge14\" class=\"edge\">\n",
       "<title>('I', 7)-&gt;('M', 20)</title>\n",
       "<path fill=\"none\" stroke=\"black\" d=\"M497.4,-29.82C491.83,-31.88 486.03,-34.01 480.6,-36 446.13,-48.62 407.04,-62.81 377.99,-73.32\"/>\n",
       "<polygon fill=\"black\" stroke=\"black\" points=\"376.76,-70.05 368.54,-76.74 379.14,-76.63 376.76,-70.05\"/>\n",
       "</g>\n",
       "<!-- (&#39;D&#39;, 1)&#45;&gt;(&#39;M&#39;, 37) -->\n",
       "<g id=\"edge15\" class=\"edge\">\n",
       "<title>('D', 1)-&gt;('M', 37)</title>\n",
       "<path fill=\"none\" stroke=\"black\" d=\"M275.6,-180.3C275.6,-188.02 275.6,-197.29 275.6,-205.89\"/>\n",
       "<polygon fill=\"black\" stroke=\"black\" points=\"272.1,-205.9 275.6,-215.9 279.1,-205.9 272.1,-205.9\"/>\n",
       "</g>\n",
       "<!-- (&#39;D&#39;, 7) -->\n",
       "<g id=\"node11\" class=\"node\">\n",
       "<title>('D', 7)</title>\n",
       "<ellipse fill=\"none\" stroke=\"black\" cx=\"275.6\" cy=\"-306\" rx=\"41.69\" ry=\"18\"/>\n",
       "<text text-anchor=\"middle\" x=\"275.6\" y=\"-302.3\" font-family=\"Times,serif\" font-size=\"14.00\">('D', 7)</text>\n",
       "</g>\n",
       "<!-- (&#39;M&#39;, 37)&#45;&gt;(&#39;D&#39;, 7) -->\n",
       "<g id=\"edge16\" class=\"edge\">\n",
       "<title>('M', 37)-&gt;('D', 7)</title>\n",
       "<path fill=\"none\" stroke=\"black\" d=\"M275.6,-252.3C275.6,-260.02 275.6,-269.29 275.6,-277.89\"/>\n",
       "<polygon fill=\"black\" stroke=\"black\" points=\"272.1,-277.9 275.6,-287.9 279.1,-277.9 272.1,-277.9\"/>\n",
       "</g>\n",
       "</g>\n",
       "</svg>"
      ],
      "text/plain": [
       "<IPython.core.display.SVG object>"
      ]
     },
     "metadata": {},
     "output_type": "display_data"
    }
   ],
   "source": [
    "m_basic.show_q_diagram()"
   ]
  },
  {
   "cell_type": "code",
   "execution_count": 6,
   "metadata": {},
   "outputs": [
    {
     "data": {
      "text/plain": [
       "([0, 1, 5, 6], [3])"
      ]
     },
     "execution_count": 6,
     "metadata": {},
     "output_type": "execute_result"
    }
   ],
   "source": [
    "dt = m_basic.m_list[0].model\n",
    "desc_ids, targ_ids = m_basic.m_list[0].desc_ids, m_basic.m_list[0].targ_ids\n",
    "\n",
    "desc_ids, targ_ids"
   ]
  },
  {
   "cell_type": "code",
   "execution_count": 7,
   "metadata": {},
   "outputs": [
    {
     "data": {
      "text/plain": [
       "array([0.19487116, 0.08789563, 0.        , 0.        , 0.        ,\n",
       "       0.34996847, 0.36726474, 0.        ])"
      ]
     },
     "execution_count": 7,
     "metadata": {},
     "output_type": "execute_result"
    }
   ],
   "source": [
    "m_basic.m_fimps[0]"
   ]
  },
  {
   "cell_type": "markdown",
   "metadata": {},
   "source": [
    "# Setup - Shap"
   ]
  },
  {
   "cell_type": "code",
   "execution_count": 8,
   "metadata": {},
   "outputs": [
    {
     "name": "stderr",
     "output_type": "stream",
     "text": [
      "Setting feature_perturbation = \"tree_path_dependent\" because no background data was given.\n",
      "Setting feature_perturbation = \"tree_path_dependent\" because no background data was given.\n",
      "Setting feature_perturbation = \"tree_path_dependent\" because no background data was given.\n",
      "Setting feature_perturbation = \"tree_path_dependent\" because no background data was given.\n",
      "Setting feature_perturbation = \"tree_path_dependent\" because no background data was given.\n",
      "Setting feature_perturbation = \"tree_path_dependent\" because no background data was given.\n",
      "Setting feature_perturbation = \"tree_path_dependent\" because no background data was given.\n",
      "Setting feature_perturbation = \"tree_path_dependent\" because no background data was given.\n",
      "Setting feature_perturbation = \"tree_path_dependent\" because no background data was given.\n",
      "Setting feature_perturbation = \"tree_path_dependent\" because no background data was given.\n",
      "Setting feature_perturbation = \"tree_path_dependent\" because no background data was given.\n",
      "Setting feature_perturbation = \"tree_path_dependent\" because no background data was given.\n",
      "Setting feature_perturbation = \"tree_path_dependent\" because no background data was given.\n",
      "Setting feature_perturbation = \"tree_path_dependent\" because no background data was given.\n",
      "Setting feature_perturbation = \"tree_path_dependent\" because no background data was given.\n",
      "Setting feature_perturbation = \"tree_path_dependent\" because no background data was given.\n",
      "Setting feature_perturbation = \"tree_path_dependent\" because no background data was given.\n",
      "Setting feature_perturbation = \"tree_path_dependent\" because no background data was given.\n",
      "Setting feature_perturbation = \"tree_path_dependent\" because no background data was given.\n",
      "Setting feature_perturbation = \"tree_path_dependent\" because no background data was given.\n",
      "Setting feature_perturbation = \"tree_path_dependent\" because no background data was given.\n",
      "Setting feature_perturbation = \"tree_path_dependent\" because no background data was given.\n",
      "Setting feature_perturbation = \"tree_path_dependent\" because no background data was given.\n",
      "Setting feature_perturbation = \"tree_path_dependent\" because no background data was given.\n",
      "Setting feature_perturbation = \"tree_path_dependent\" because no background data was given.\n",
      "Setting feature_perturbation = \"tree_path_dependent\" because no background data was given.\n",
      "Setting feature_perturbation = \"tree_path_dependent\" because no background data was given.\n",
      "Setting feature_perturbation = \"tree_path_dependent\" because no background data was given.\n",
      "Setting feature_perturbation = \"tree_path_dependent\" because no background data was given.\n",
      "Setting feature_perturbation = \"tree_path_dependent\" because no background data was given.\n",
      "Setting feature_perturbation = \"tree_path_dependent\" because no background data was given.\n",
      "Setting feature_perturbation = \"tree_path_dependent\" because no background data was given.\n",
      "Setting feature_perturbation = \"tree_path_dependent\" because no background data was given.\n",
      "Setting feature_perturbation = \"tree_path_dependent\" because no background data was given.\n",
      "Setting feature_perturbation = \"tree_path_dependent\" because no background data was given.\n",
      "Setting feature_perturbation = \"tree_path_dependent\" because no background data was given.\n",
      "Setting feature_perturbation = \"tree_path_dependent\" because no background data was given.\n",
      "Setting feature_perturbation = \"tree_path_dependent\" because no background data was given.\n",
      "Setting feature_perturbation = \"tree_path_dependent\" because no background data was given.\n",
      "Setting feature_perturbation = \"tree_path_dependent\" because no background data was given.\n"
     ]
    }
   ],
   "source": [
    "m_shap = Mercs(\n",
    "    random_state=RANDOM_STATE,\n",
    "    prediction_algorithm=\"it\",\n",
    "    evaluation_algorithm=\"dummy\",\n",
    "    selection_algorithm=\"random\",\n",
    "    stepsize=0.1,\n",
    "    nb_iterations=5,\n",
    "    fraction_missing=0.3,\n",
    "    max_depth=4,\n",
    "    calculation_method_feature_importances=\"shap\",\n",
    ")\n",
    "\n",
    "m_shap.fit(train, nominal_attributes={7})\n",
    "y_pred_01 = m_shap.predict(test, q_code=q_code)\n"
   ]
  },
  {
   "cell_type": "code",
   "execution_count": 9,
   "metadata": {},
   "outputs": [
    {
     "data": {
      "image/svg+xml": [
       "<svg xmlns=\"http://www.w3.org/2000/svg\" xmlns:xlink=\"http://www.w3.org/1999/xlink\" width=\"479pt\" height=\"332pt\" viewBox=\"0.00 0.00 479.19 332.00\">\n",
       "<g id=\"graph0\" class=\"graph\" transform=\"scale(1 1) rotate(0) translate(4 328)\">\n",
       "<title>G</title>\n",
       "<polygon fill=\"white\" stroke=\"transparent\" points=\"-4,4 -4,-328 475.19,-328 475.19,4 -4,4\"/>\n",
       "<!-- (&#39;I&#39;, 2) -->\n",
       "<g id=\"node1\" class=\"node\">\n",
       "<title>('I', 2)</title>\n",
       "<ellipse fill=\"none\" stroke=\"black\" cx=\"138.6\" cy=\"-18\" rx=\"37.89\" ry=\"18\"/>\n",
       "<text text-anchor=\"middle\" x=\"138.6\" y=\"-14.3\" font-family=\"Times,serif\" font-size=\"14.00\">('I', 2)</text>\n",
       "</g>\n",
       "<!-- (&#39;M&#39;, 20) -->\n",
       "<g id=\"node2\" class=\"node\">\n",
       "<title>('M', 20)</title>\n",
       "<ellipse fill=\"none\" stroke=\"black\" cx=\"235.6\" cy=\"-90\" rx=\"49.29\" ry=\"18\"/>\n",
       "<text text-anchor=\"middle\" x=\"235.6\" y=\"-86.3\" font-family=\"Times,serif\" font-size=\"14.00\">('M', 20)</text>\n",
       "</g>\n",
       "<!-- (&#39;I&#39;, 2)&#45;&gt;(&#39;M&#39;, 20) -->\n",
       "<g id=\"edge1\" class=\"edge\">\n",
       "<title>('I', 2)-&gt;('M', 20)</title>\n",
       "<path fill=\"none\" stroke=\"black\" d=\"M158.69,-33.5C172.37,-43.37 190.69,-56.59 206.02,-67.65\"/>\n",
       "<polygon fill=\"black\" stroke=\"black\" points=\"204.02,-70.53 214.18,-73.54 208.12,-64.85 204.02,-70.53\"/>\n",
       "</g>\n",
       "<!-- (&#39;D&#39;, 1) -->\n",
       "<g id=\"node7\" class=\"node\">\n",
       "<title>('D', 1)</title>\n",
       "<ellipse fill=\"none\" stroke=\"black\" cx=\"235.6\" cy=\"-162\" rx=\"41.69\" ry=\"18\"/>\n",
       "<text text-anchor=\"middle\" x=\"235.6\" y=\"-158.3\" font-family=\"Times,serif\" font-size=\"14.00\">('D', 1)</text>\n",
       "</g>\n",
       "<!-- (&#39;M&#39;, 20)&#45;&gt;(&#39;D&#39;, 1) -->\n",
       "<g id=\"edge2\" class=\"edge\">\n",
       "<title>('M', 20)-&gt;('D', 1)</title>\n",
       "<path fill=\"none\" stroke=\"black\" d=\"M235.6,-108.3C235.6,-116.02 235.6,-125.29 235.6,-133.89\"/>\n",
       "<polygon fill=\"black\" stroke=\"black\" points=\"232.1,-133.9 235.6,-143.9 239.1,-133.9 232.1,-133.9\"/>\n",
       "</g>\n",
       "<!-- (&#39;D&#39;, 4) -->\n",
       "<g id=\"node3\" class=\"node\">\n",
       "<title>('D', 4)</title>\n",
       "<ellipse fill=\"none\" stroke=\"black\" cx=\"41.6\" cy=\"-18\" rx=\"41.69\" ry=\"18\"/>\n",
       "<text text-anchor=\"middle\" x=\"41.6\" y=\"-14.3\" font-family=\"Times,serif\" font-size=\"14.00\">('D', 4)</text>\n",
       "</g>\n",
       "<!-- (&#39;D&#39;, 4)&#45;&gt;(&#39;M&#39;, 20) -->\n",
       "<g id=\"edge3\" class=\"edge\">\n",
       "<title>('D', 4)-&gt;('M', 20)</title>\n",
       "<path fill=\"none\" stroke=\"black\" d=\"M72.77,-30.25C104.98,-41.87 155.52,-60.11 191.75,-73.18\"/>\n",
       "<polygon fill=\"black\" stroke=\"black\" points=\"190.97,-76.62 201.57,-76.72 193.35,-70.03 190.97,-76.62\"/>\n",
       "</g>\n",
       "<!-- (&#39;M&#39;, 37) -->\n",
       "<g id=\"node8\" class=\"node\">\n",
       "<title>('M', 37)</title>\n",
       "<ellipse fill=\"none\" stroke=\"black\" cx=\"235.6\" cy=\"-234\" rx=\"49.29\" ry=\"18\"/>\n",
       "<text text-anchor=\"middle\" x=\"235.6\" y=\"-230.3\" font-family=\"Times,serif\" font-size=\"14.00\">('M', 37)</text>\n",
       "</g>\n",
       "<!-- (&#39;D&#39;, 4)&#45;&gt;(&#39;M&#39;, 37) -->\n",
       "<g id=\"edge4\" class=\"edge\">\n",
       "<title>('D', 4)-&gt;('M', 37)</title>\n",
       "<path fill=\"none\" stroke=\"black\" d=\"M55.59,-35.19C80.96,-64.42 136.38,-127.84 184.6,-180 193.67,-189.82 203.85,-200.47 212.72,-209.63\"/>\n",
       "<polygon fill=\"black\" stroke=\"black\" points=\"210.32,-212.19 219.8,-216.92 215.35,-207.31 210.32,-212.19\"/>\n",
       "</g>\n",
       "<!-- (&#39;D&#39;, 5) -->\n",
       "<g id=\"node4\" class=\"node\">\n",
       "<title>('D', 5)</title>\n",
       "<ellipse fill=\"none\" stroke=\"black\" cx=\"429.6\" cy=\"-18\" rx=\"41.69\" ry=\"18\"/>\n",
       "<text text-anchor=\"middle\" x=\"429.6\" y=\"-14.3\" font-family=\"Times,serif\" font-size=\"14.00\">('D', 5)</text>\n",
       "</g>\n",
       "<!-- (&#39;D&#39;, 5)&#45;&gt;(&#39;M&#39;, 20) -->\n",
       "<g id=\"edge5\" class=\"edge\">\n",
       "<title>('D', 5)-&gt;('M', 20)</title>\n",
       "<path fill=\"none\" stroke=\"black\" d=\"M398.43,-30.25C366.22,-41.87 315.67,-60.11 279.44,-73.18\"/>\n",
       "<polygon fill=\"black\" stroke=\"black\" points=\"277.84,-70.03 269.63,-76.72 280.22,-76.62 277.84,-70.03\"/>\n",
       "</g>\n",
       "<!-- (&#39;D&#39;, 5)&#45;&gt;(&#39;M&#39;, 37) -->\n",
       "<g id=\"edge6\" class=\"edge\">\n",
       "<title>('D', 5)-&gt;('M', 37)</title>\n",
       "<path fill=\"none\" stroke=\"black\" d=\"M415.6,-35.19C390.23,-64.42 334.82,-127.84 286.6,-180 277.52,-189.82 267.34,-200.47 258.47,-209.63\"/>\n",
       "<polygon fill=\"black\" stroke=\"black\" points=\"255.85,-207.31 251.39,-216.92 260.87,-212.19 255.85,-207.31\"/>\n",
       "</g>\n",
       "<!-- (&#39;D&#39;, 6) -->\n",
       "<g id=\"node5\" class=\"node\">\n",
       "<title>('D', 6)</title>\n",
       "<ellipse fill=\"none\" stroke=\"black\" cx=\"235.6\" cy=\"-18\" rx=\"41.69\" ry=\"18\"/>\n",
       "<text text-anchor=\"middle\" x=\"235.6\" y=\"-14.3\" font-family=\"Times,serif\" font-size=\"14.00\">('D', 6)</text>\n",
       "</g>\n",
       "<!-- (&#39;D&#39;, 6)&#45;&gt;(&#39;M&#39;, 20) -->\n",
       "<g id=\"edge7\" class=\"edge\">\n",
       "<title>('D', 6)-&gt;('M', 20)</title>\n",
       "<path fill=\"none\" stroke=\"black\" d=\"M235.6,-36.3C235.6,-44.02 235.6,-53.29 235.6,-61.89\"/>\n",
       "<polygon fill=\"black\" stroke=\"black\" points=\"232.1,-61.9 235.6,-71.9 239.1,-61.9 232.1,-61.9\"/>\n",
       "</g>\n",
       "<!-- (&#39;I&#39;, 7) -->\n",
       "<g id=\"node6\" class=\"node\">\n",
       "<title>('I', 7)</title>\n",
       "<ellipse fill=\"none\" stroke=\"black\" cx=\"332.6\" cy=\"-18\" rx=\"37.89\" ry=\"18\"/>\n",
       "<text text-anchor=\"middle\" x=\"332.6\" y=\"-14.3\" font-family=\"Times,serif\" font-size=\"14.00\">('I', 7)</text>\n",
       "</g>\n",
       "<!-- (&#39;I&#39;, 7)&#45;&gt;(&#39;M&#39;, 20) -->\n",
       "<g id=\"edge8\" class=\"edge\">\n",
       "<title>('I', 7)-&gt;('M', 20)</title>\n",
       "<path fill=\"none\" stroke=\"black\" d=\"M312.5,-33.5C298.83,-43.37 280.51,-56.59 265.18,-67.65\"/>\n",
       "<polygon fill=\"black\" stroke=\"black\" points=\"263.08,-64.85 257.01,-73.54 267.17,-70.53 263.08,-64.85\"/>\n",
       "</g>\n",
       "<!-- (&#39;D&#39;, 1)&#45;&gt;(&#39;M&#39;, 37) -->\n",
       "<g id=\"edge9\" class=\"edge\">\n",
       "<title>('D', 1)-&gt;('M', 37)</title>\n",
       "<path fill=\"none\" stroke=\"black\" d=\"M235.6,-180.3C235.6,-188.02 235.6,-197.29 235.6,-205.89\"/>\n",
       "<polygon fill=\"black\" stroke=\"black\" points=\"232.1,-205.9 235.6,-215.9 239.1,-205.9 232.1,-205.9\"/>\n",
       "</g>\n",
       "<!-- (&#39;D&#39;, 7) -->\n",
       "<g id=\"node9\" class=\"node\">\n",
       "<title>('D', 7)</title>\n",
       "<ellipse fill=\"none\" stroke=\"black\" cx=\"235.6\" cy=\"-306\" rx=\"41.69\" ry=\"18\"/>\n",
       "<text text-anchor=\"middle\" x=\"235.6\" y=\"-302.3\" font-family=\"Times,serif\" font-size=\"14.00\">('D', 7)</text>\n",
       "</g>\n",
       "<!-- (&#39;M&#39;, 37)&#45;&gt;(&#39;D&#39;, 7) -->\n",
       "<g id=\"edge10\" class=\"edge\">\n",
       "<title>('M', 37)-&gt;('D', 7)</title>\n",
       "<path fill=\"none\" stroke=\"black\" d=\"M235.6,-252.3C235.6,-260.02 235.6,-269.29 235.6,-277.89\"/>\n",
       "<polygon fill=\"black\" stroke=\"black\" points=\"232.1,-277.9 235.6,-287.9 239.1,-277.9 232.1,-277.9\"/>\n",
       "</g>\n",
       "</g>\n",
       "</svg>"
      ],
      "text/plain": [
       "<IPython.core.display.SVG object>"
      ]
     },
     "metadata": {},
     "output_type": "display_data"
    }
   ],
   "source": [
    "m_shap.show_q_diagram()"
   ]
  },
  {
   "cell_type": "code",
   "execution_count": 10,
   "metadata": {},
   "outputs": [
    {
     "data": {
      "text/plain": [
       "([0, 1, 5, 6], [3])"
      ]
     },
     "execution_count": 10,
     "metadata": {},
     "output_type": "execute_result"
    }
   ],
   "source": [
    "dt = m_shap.m_list[0].model\n",
    "desc_ids, targ_ids = m_shap.m_list[0].desc_ids, m_shap.m_list[0].targ_ids\n",
    "\n",
    "desc_ids, targ_ids"
   ]
  },
  {
   "cell_type": "code",
   "execution_count": 11,
   "metadata": {},
   "outputs": [
    {
     "data": {
      "text/plain": [
       "array([0.18088446, 0.17217632, 0.        , 0.        , 0.        ,\n",
       "       0.14855112, 0.4983881 , 0.        ])"
      ]
     },
     "execution_count": 11,
     "metadata": {},
     "output_type": "execute_result"
    }
   ],
   "source": [
    "m_shap.m_fimps[0]"
   ]
  },
  {
   "cell_type": "markdown",
   "metadata": {},
   "source": [
    "Let us summarize a bit more obviously;"
   ]
  },
  {
   "cell_type": "code",
   "execution_count": 12,
   "metadata": {},
   "outputs": [
    {
     "name": "stdout",
     "output_type": "stream",
     "text": [
      "\n",
      "Tree IDX:  0\n",
      "desc_ids = [0, 1, 5, 6]\n",
      "targ_ids = [3]\n",
      "\n",
      "-------\n",
      "\n",
      "Classic feature importances:\n",
      "[0.19487116 0.08789563 0.         0.         0.         0.34996847\n",
      " 0.36726474 0.        ]\n",
      "\n",
      "Shap feature importances:\n",
      "[0.18088446 0.17217632 0.         0.         0.         0.14855112\n",
      " 0.4983881  0.        ]\n",
      "\n",
      "\n"
     ]
    }
   ],
   "source": [
    "tree_idx = 0\n",
    "tree = m_shap.m_list[tree_idx]\n",
    "\n",
    "desc_ids = tree.desc_ids\n",
    "targ_ids = tree.targ_ids\n",
    "\n",
    "assert desc_ids == m_basic.m_list[tree_idx].desc_ids\n",
    "assert targ_ids == m_basic.m_list[tree_idx].targ_ids\n",
    "\n",
    "clas_fimps = m_basic.m_fimps[tree_idx]\n",
    "shap_fimps = m_shap.m_fimps[tree_idx]\n",
    "\n",
    "\n",
    "msg = \"\"\"\n",
    "Tree IDX:  {}\n",
    "desc_ids = {}\n",
    "targ_ids = {}\n",
    "\n",
    "-------\n",
    "\n",
    "Classic feature importances:\n",
    "{}\n",
    "\n",
    "Shap feature importances:\n",
    "{}\n",
    "\n",
    "\"\"\".format(tree_idx, desc_ids, targ_ids, clas_fimps,shap_fimps)\n",
    "\n",
    "print(msg)"
   ]
  }
 ],
 "metadata": {
  "kernelspec": {
   "display_name": "mercs",
   "language": "python",
   "name": "mercs"
  },
  "language_info": {
   "codemirror_mode": {
    "name": "ipython",
    "version": 3
   },
   "file_extension": ".py",
   "mimetype": "text/x-python",
   "name": "python",
   "nbconvert_exporter": "python",
   "pygments_lexer": "ipython3",
   "version": "3.8.1"
  },
  "toc-autonumbering": true
 },
 "nbformat": 4,
 "nbformat_minor": 4
}
