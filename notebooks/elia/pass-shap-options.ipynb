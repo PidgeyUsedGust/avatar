{
 "cells": [
  {
   "cell_type": "markdown",
   "metadata": {},
   "source": [
    "# Evaluator Demo\n",
    "\n",
    "We use feature selection after wrangling for two reasons.\n",
    "\n",
    "1. Obtain a set of good features that represents the current dataset.\n",
    "2. Obtain the set of *not good* features that should be refined in the next wrangling step.\n",
    "\n",
    "This happens in three steps.\n",
    "\n",
    "1. A first preselection step removes obviously bad features.\n",
    "2. A second preselection step removes features that have the same predictive capabilities, in order to prevent the final feature selection step to select.\n",
    "3. A real feature selection step to make the final decision.\n",
    "\n",
    "The following methods are implemented in this notebook.\n",
    "\n",
    "1. A (baseline) random sampling based approach — done.\n",
    "2. CHCGA — a genetic algorithm based approach — done.\n",
    "3. SFFS — a forward selection based approach — done.\n",
    "\n",
    "Both (1) and (2) allow use to set a max running time."
   ]
  },
  {
   "cell_type": "markdown",
   "metadata": {},
   "source": [
    "# Preliminaries"
   ]
  },
  {
   "cell_type": "markdown",
   "metadata": {
    "collapsed": "true"
   },
   "source": [
    "## Imports"
   ]
  },
  {
   "cell_type": "code",
   "execution_count": 1,
   "metadata": {},
   "outputs": [],
   "source": [
    "%reload_ext autoreload\n",
    "%autoreload 2\n",
    "\n",
    "import numpy as np\n",
    "import pandas as pd\n",
    "from typing import Optional, List, Tuple, Callable\n",
    "from tqdm.notebook import tqdm\n",
    "from avatar.language import WranglingLanguage\n",
    "from avatar.analysis import FeatureEvaluator\n",
    "from avatar.analysis import *\n",
    "from avatar.selection import (\n",
    "    SamplingSelector,\n",
    "    CHCGASelector,\n",
    "    Population,\n",
    "    Individual,\n",
    "    SFFSelector,\n",
    "    StackedFilter,\n",
    "    ConstantFilter,\n",
    "    IdenticalFilter,\n",
    "    BijectiveFilter,\n",
    "    UniqueFilter,\n",
    "    MissingFilter,\n",
    ")\n",
    "\n",
    "import warnings"
   ]
  },
  {
   "cell_type": "code",
   "execution_count": 2,
   "metadata": {},
   "outputs": [],
   "source": [
    "# (Optional) Black codeformatter (`pip install nb_black`) for jupyterlab. In jupyter notebook, this changes slightly.\n",
    "%load_ext lab_black"
   ]
  },
  {
   "cell_type": "markdown",
   "metadata": {
    "collapsed": "true"
   },
   "source": [
    "## Data"
   ]
  },
  {
   "cell_type": "markdown",
   "metadata": {},
   "source": [
    "Load dataset."
   ]
  },
  {
   "cell_type": "code",
   "execution_count": 3,
   "metadata": {},
   "outputs": [
    {
     "data": {
      "text/html": [
       "<div>\n",
       "<style scoped>\n",
       "    .dataframe tbody tr th:only-of-type {\n",
       "        vertical-align: middle;\n",
       "    }\n",
       "\n",
       "    .dataframe tbody tr th {\n",
       "        vertical-align: top;\n",
       "    }\n",
       "\n",
       "    .dataframe thead th {\n",
       "        text-align: right;\n",
       "    }\n",
       "</style>\n",
       "<table border=\"1\" class=\"dataframe\">\n",
       "  <thead>\n",
       "    <tr style=\"text-align: right;\">\n",
       "      <th></th>\n",
       "      <th>PassengerId</th>\n",
       "      <th>Survived</th>\n",
       "      <th>Pclass</th>\n",
       "      <th>Name</th>\n",
       "      <th>Sex</th>\n",
       "      <th>Age</th>\n",
       "      <th>SibSp</th>\n",
       "      <th>Parch</th>\n",
       "      <th>Ticket</th>\n",
       "      <th>Fare</th>\n",
       "      <th>Cabin</th>\n",
       "      <th>Embarked</th>\n",
       "    </tr>\n",
       "  </thead>\n",
       "  <tbody>\n",
       "    <tr>\n",
       "      <th>0</th>\n",
       "      <td>1</td>\n",
       "      <td>0</td>\n",
       "      <td>3</td>\n",
       "      <td>Braund, Mr. Owen Harris</td>\n",
       "      <td>male</td>\n",
       "      <td>22.0</td>\n",
       "      <td>1</td>\n",
       "      <td>0</td>\n",
       "      <td>A/5 21171</td>\n",
       "      <td>7.2500</td>\n",
       "      <td>NaN</td>\n",
       "      <td>S</td>\n",
       "    </tr>\n",
       "    <tr>\n",
       "      <th>1</th>\n",
       "      <td>2</td>\n",
       "      <td>1</td>\n",
       "      <td>1</td>\n",
       "      <td>Cumings, Mrs. John Bradley (Florence Briggs Th...</td>\n",
       "      <td>female</td>\n",
       "      <td>38.0</td>\n",
       "      <td>1</td>\n",
       "      <td>0</td>\n",
       "      <td>PC 17599</td>\n",
       "      <td>71.2833</td>\n",
       "      <td>C85</td>\n",
       "      <td>C</td>\n",
       "    </tr>\n",
       "    <tr>\n",
       "      <th>2</th>\n",
       "      <td>3</td>\n",
       "      <td>1</td>\n",
       "      <td>3</td>\n",
       "      <td>Heikkinen, Miss. Laina</td>\n",
       "      <td>female</td>\n",
       "      <td>26.0</td>\n",
       "      <td>0</td>\n",
       "      <td>0</td>\n",
       "      <td>STON/O2. 3101282</td>\n",
       "      <td>7.9250</td>\n",
       "      <td>NaN</td>\n",
       "      <td>S</td>\n",
       "    </tr>\n",
       "    <tr>\n",
       "      <th>3</th>\n",
       "      <td>4</td>\n",
       "      <td>1</td>\n",
       "      <td>1</td>\n",
       "      <td>Futrelle, Mrs. Jacques Heath (Lily May Peel)</td>\n",
       "      <td>female</td>\n",
       "      <td>35.0</td>\n",
       "      <td>1</td>\n",
       "      <td>0</td>\n",
       "      <td>113803</td>\n",
       "      <td>53.1000</td>\n",
       "      <td>C123</td>\n",
       "      <td>S</td>\n",
       "    </tr>\n",
       "    <tr>\n",
       "      <th>4</th>\n",
       "      <td>5</td>\n",
       "      <td>0</td>\n",
       "      <td>3</td>\n",
       "      <td>Allen, Mr. William Henry</td>\n",
       "      <td>male</td>\n",
       "      <td>35.0</td>\n",
       "      <td>0</td>\n",
       "      <td>0</td>\n",
       "      <td>373450</td>\n",
       "      <td>8.0500</td>\n",
       "      <td>NaN</td>\n",
       "      <td>S</td>\n",
       "    </tr>\n",
       "  </tbody>\n",
       "</table>\n",
       "</div>"
      ],
      "text/plain": [
       "   PassengerId Survived  Pclass  \\\n",
       "0            1        0       3   \n",
       "1            2        1       1   \n",
       "2            3        1       3   \n",
       "3            4        1       1   \n",
       "4            5        0       3   \n",
       "\n",
       "                                                Name     Sex   Age  SibSp  \\\n",
       "0                            Braund, Mr. Owen Harris    male  22.0      1   \n",
       "1  Cumings, Mrs. John Bradley (Florence Briggs Th...  female  38.0      1   \n",
       "2                             Heikkinen, Miss. Laina  female  26.0      0   \n",
       "3       Futrelle, Mrs. Jacques Heath (Lily May Peel)  female  35.0      1   \n",
       "4                           Allen, Mr. William Henry    male  35.0      0   \n",
       "\n",
       "   Parch            Ticket     Fare Cabin Embarked  \n",
       "0      0         A/5 21171   7.2500   NaN        S  \n",
       "1      0          PC 17599  71.2833   C85        C  \n",
       "2      0  STON/O2. 3101282   7.9250   NaN        S  \n",
       "3      0            113803  53.1000  C123        S  \n",
       "4      0            373450   8.0500   NaN        S  "
      ]
     },
     "execution_count": 3,
     "metadata": {},
     "output_type": "execute_result"
    }
   ],
   "source": [
    "titanic = pd.read_csv(\"../../data/raw/demo/titanic.csv\")\n",
    "titanic.Survived = titanic.Survived.astype(\"category\")\n",
    "titanic.head()"
   ]
  },
  {
   "cell_type": "markdown",
   "metadata": {
    "collapsed": "true"
   },
   "source": [
    "# Wrangle"
   ]
  },
  {
   "cell_type": "markdown",
   "metadata": {},
   "source": [
    "## Apply Transformations\n",
    "\n",
    "Transformations without replacement.\n"
   ]
  },
  {
   "cell_type": "code",
   "execution_count": 4,
   "metadata": {},
   "outputs": [
    {
     "data": {
      "text/html": [
       "<div>\n",
       "<style scoped>\n",
       "    .dataframe tbody tr th:only-of-type {\n",
       "        vertical-align: middle;\n",
       "    }\n",
       "\n",
       "    .dataframe tbody tr th {\n",
       "        vertical-align: top;\n",
       "    }\n",
       "\n",
       "    .dataframe thead th {\n",
       "        text-align: right;\n",
       "    }\n",
       "</style>\n",
       "<table border=\"1\" class=\"dataframe\">\n",
       "  <thead>\n",
       "    <tr style=\"text-align: right;\">\n",
       "      <th></th>\n",
       "      <th>PassengerId</th>\n",
       "      <th>Survived</th>\n",
       "      <th>Pclass</th>\n",
       "      <th>Name</th>\n",
       "      <th>Sex</th>\n",
       "      <th>Age</th>\n",
       "      <th>SibSp</th>\n",
       "      <th>Parch</th>\n",
       "      <th>Ticket</th>\n",
       "      <th>Fare</th>\n",
       "      <th>...</th>\n",
       "      <th>OneHot()(Parch)_5</th>\n",
       "      <th>OneHot()(Parch)_6</th>\n",
       "      <th>OneHot()(Embarked)_C</th>\n",
       "      <th>OneHot()(Embarked)_Q</th>\n",
       "      <th>OneHot()(Embarked)_S</th>\n",
       "      <th>NaN(Pernot, Mr. Rene)(Name)_Name</th>\n",
       "      <th>NaN(Somerton, Mr. Francis William)(Name)_Name</th>\n",
       "      <th>WordToNumber()(Ticket)_Ticket</th>\n",
       "      <th>ModeImputation()(Cabin)_Cabin</th>\n",
       "      <th>ModeImputation()(Embarked)_Embarked</th>\n",
       "    </tr>\n",
       "  </thead>\n",
       "  <tbody>\n",
       "    <tr>\n",
       "      <th>0</th>\n",
       "      <td>1</td>\n",
       "      <td>0</td>\n",
       "      <td>3</td>\n",
       "      <td>Braund, Mr. Owen Harris</td>\n",
       "      <td>male</td>\n",
       "      <td>22.0</td>\n",
       "      <td>1</td>\n",
       "      <td>0</td>\n",
       "      <td>A/5 21171</td>\n",
       "      <td>7.2500</td>\n",
       "      <td>...</td>\n",
       "      <td>0</td>\n",
       "      <td>0</td>\n",
       "      <td>0</td>\n",
       "      <td>0</td>\n",
       "      <td>1</td>\n",
       "      <td>Braund, Mr. Owen Harris</td>\n",
       "      <td>Braund, Mr. Owen Harris</td>\n",
       "      <td>NaN</td>\n",
       "      <td>B96 B98</td>\n",
       "      <td>S</td>\n",
       "    </tr>\n",
       "    <tr>\n",
       "      <th>1</th>\n",
       "      <td>2</td>\n",
       "      <td>1</td>\n",
       "      <td>1</td>\n",
       "      <td>Cumings, Mrs. John Bradley (Florence Briggs Th...</td>\n",
       "      <td>female</td>\n",
       "      <td>38.0</td>\n",
       "      <td>1</td>\n",
       "      <td>0</td>\n",
       "      <td>PC 17599</td>\n",
       "      <td>71.2833</td>\n",
       "      <td>...</td>\n",
       "      <td>0</td>\n",
       "      <td>0</td>\n",
       "      <td>1</td>\n",
       "      <td>0</td>\n",
       "      <td>0</td>\n",
       "      <td>Cumings, Mrs. John Bradley (Florence Briggs Th...</td>\n",
       "      <td>Cumings, Mrs. John Bradley (Florence Briggs Th...</td>\n",
       "      <td>NaN</td>\n",
       "      <td>C85</td>\n",
       "      <td>C</td>\n",
       "    </tr>\n",
       "  </tbody>\n",
       "</table>\n",
       "<p>2 rows × 127 columns</p>\n",
       "</div>"
      ],
      "text/plain": [
       "   PassengerId Survived  Pclass  \\\n",
       "0            1        0       3   \n",
       "1            2        1       1   \n",
       "\n",
       "                                                Name     Sex   Age  SibSp  \\\n",
       "0                            Braund, Mr. Owen Harris    male  22.0      1   \n",
       "1  Cumings, Mrs. John Bradley (Florence Briggs Th...  female  38.0      1   \n",
       "\n",
       "   Parch     Ticket     Fare  ... OneHot()(Parch)_5 OneHot()(Parch)_6  \\\n",
       "0      0  A/5 21171   7.2500  ...                 0                 0   \n",
       "1      0   PC 17599  71.2833  ...                 0                 0   \n",
       "\n",
       "  OneHot()(Embarked)_C OneHot()(Embarked)_Q OneHot()(Embarked)_S  \\\n",
       "0                    0                    0                    1   \n",
       "1                    1                    0                    0   \n",
       "\n",
       "                    NaN(Pernot, Mr. Rene)(Name)_Name  \\\n",
       "0                            Braund, Mr. Owen Harris   \n",
       "1  Cumings, Mrs. John Bradley (Florence Briggs Th...   \n",
       "\n",
       "       NaN(Somerton, Mr. Francis William)(Name)_Name  \\\n",
       "0                            Braund, Mr. Owen Harris   \n",
       "1  Cumings, Mrs. John Bradley (Florence Briggs Th...   \n",
       "\n",
       "  WordToNumber()(Ticket)_Ticket ModeImputation()(Cabin)_Cabin  \\\n",
       "0                           NaN                       B96 B98   \n",
       "1                           NaN                           C85   \n",
       "\n",
       "  ModeImputation()(Embarked)_Embarked  \n",
       "0                                   S  \n",
       "1                                   C  \n",
       "\n",
       "[2 rows x 127 columns]"
      ]
     },
     "execution_count": 4,
     "metadata": {},
     "output_type": "execute_result"
    }
   ],
   "source": [
    "language = WranglingLanguage()\n",
    "expanded = language.expand(titanic, target=\"Survived\")\n",
    "expanded.head(2)"
   ]
  },
  {
   "cell_type": "markdown",
   "metadata": {},
   "source": [
    "## Prune\n",
    "\n",
    "Remove some features that are not appropriate and don't need more wrangling."
   ]
  },
  {
   "cell_type": "code",
   "execution_count": 5,
   "metadata": {},
   "outputs": [
    {
     "data": {
      "text/html": [
       "<div>\n",
       "<style scoped>\n",
       "    .dataframe tbody tr th:only-of-type {\n",
       "        vertical-align: middle;\n",
       "    }\n",
       "\n",
       "    .dataframe tbody tr th {\n",
       "        vertical-align: top;\n",
       "    }\n",
       "\n",
       "    .dataframe thead th {\n",
       "        text-align: right;\n",
       "    }\n",
       "</style>\n",
       "<table border=\"1\" class=\"dataframe\">\n",
       "  <thead>\n",
       "    <tr style=\"text-align: right;\">\n",
       "      <th></th>\n",
       "      <th>PassengerId</th>\n",
       "      <th>Survived</th>\n",
       "      <th>Pclass</th>\n",
       "      <th>Name</th>\n",
       "      <th>Sex</th>\n",
       "      <th>Age</th>\n",
       "      <th>SibSp</th>\n",
       "      <th>Parch</th>\n",
       "      <th>Ticket</th>\n",
       "      <th>Fare</th>\n",
       "      <th>...</th>\n",
       "      <th>OneHot()(Parch)_5</th>\n",
       "      <th>OneHot()(Parch)_6</th>\n",
       "      <th>OneHot()(Embarked)_C</th>\n",
       "      <th>OneHot()(Embarked)_Q</th>\n",
       "      <th>OneHot()(Embarked)_S</th>\n",
       "      <th>NaN(Pernot, Mr. Rene)(Name)_Name</th>\n",
       "      <th>NaN(Somerton, Mr. Francis William)(Name)_Name</th>\n",
       "      <th>WordToNumber()(Ticket)_Ticket</th>\n",
       "      <th>ModeImputation()(Cabin)_Cabin</th>\n",
       "      <th>ModeImputation()(Embarked)_Embarked</th>\n",
       "    </tr>\n",
       "  </thead>\n",
       "  <tbody>\n",
       "    <tr>\n",
       "      <th>0</th>\n",
       "      <td>1</td>\n",
       "      <td>0</td>\n",
       "      <td>3</td>\n",
       "      <td>Braund, Mr. Owen Harris</td>\n",
       "      <td>male</td>\n",
       "      <td>22.0</td>\n",
       "      <td>1</td>\n",
       "      <td>0</td>\n",
       "      <td>A/5 21171</td>\n",
       "      <td>7.2500</td>\n",
       "      <td>...</td>\n",
       "      <td>0</td>\n",
       "      <td>0</td>\n",
       "      <td>0</td>\n",
       "      <td>0</td>\n",
       "      <td>1</td>\n",
       "      <td>Braund, Mr. Owen Harris</td>\n",
       "      <td>Braund, Mr. Owen Harris</td>\n",
       "      <td>NaN</td>\n",
       "      <td>B96 B98</td>\n",
       "      <td>S</td>\n",
       "    </tr>\n",
       "    <tr>\n",
       "      <th>1</th>\n",
       "      <td>2</td>\n",
       "      <td>1</td>\n",
       "      <td>1</td>\n",
       "      <td>Cumings, Mrs. John Bradley (Florence Briggs Th...</td>\n",
       "      <td>female</td>\n",
       "      <td>38.0</td>\n",
       "      <td>1</td>\n",
       "      <td>0</td>\n",
       "      <td>PC 17599</td>\n",
       "      <td>71.2833</td>\n",
       "      <td>...</td>\n",
       "      <td>0</td>\n",
       "      <td>0</td>\n",
       "      <td>1</td>\n",
       "      <td>0</td>\n",
       "      <td>0</td>\n",
       "      <td>Cumings, Mrs. John Bradley (Florence Briggs Th...</td>\n",
       "      <td>Cumings, Mrs. John Bradley (Florence Briggs Th...</td>\n",
       "      <td>NaN</td>\n",
       "      <td>C85</td>\n",
       "      <td>C</td>\n",
       "    </tr>\n",
       "  </tbody>\n",
       "</table>\n",
       "<p>2 rows × 118 columns</p>\n",
       "</div>"
      ],
      "text/plain": [
       "   PassengerId Survived  Pclass  \\\n",
       "0            1        0       3   \n",
       "1            2        1       1   \n",
       "\n",
       "                                                Name     Sex   Age  SibSp  \\\n",
       "0                            Braund, Mr. Owen Harris    male  22.0      1   \n",
       "1  Cumings, Mrs. John Bradley (Florence Briggs Th...  female  38.0      1   \n",
       "\n",
       "   Parch     Ticket     Fare  ... OneHot()(Parch)_5 OneHot()(Parch)_6  \\\n",
       "0      0  A/5 21171   7.2500  ...                 0                 0   \n",
       "1      0   PC 17599  71.2833  ...                 0                 0   \n",
       "\n",
       "  OneHot()(Embarked)_C OneHot()(Embarked)_Q OneHot()(Embarked)_S  \\\n",
       "0                    0                    0                    1   \n",
       "1                    1                    0                    0   \n",
       "\n",
       "                    NaN(Pernot, Mr. Rene)(Name)_Name  \\\n",
       "0                            Braund, Mr. Owen Harris   \n",
       "1  Cumings, Mrs. John Bradley (Florence Briggs Th...   \n",
       "\n",
       "       NaN(Somerton, Mr. Francis William)(Name)_Name  \\\n",
       "0                            Braund, Mr. Owen Harris   \n",
       "1  Cumings, Mrs. John Bradley (Florence Briggs Th...   \n",
       "\n",
       "  WordToNumber()(Ticket)_Ticket ModeImputation()(Cabin)_Cabin  \\\n",
       "0                           NaN                       B96 B98   \n",
       "1                           NaN                           C85   \n",
       "\n",
       "  ModeImputation()(Embarked)_Embarked  \n",
       "0                                   S  \n",
       "1                                   C  \n",
       "\n",
       "[2 rows x 118 columns]"
      ]
     },
     "execution_count": 5,
     "metadata": {},
     "output_type": "execute_result"
    }
   ],
   "source": [
    "pruner = StackedFilter([ConstantFilter(), IdenticalFilter()])\n",
    "\n",
    "pruned = pruner.select(expanded)\n",
    "pruned.head(2)"
   ]
  },
  {
   "cell_type": "markdown",
   "metadata": {},
   "source": [
    "So let us compare the progress here"
   ]
  },
  {
   "cell_type": "code",
   "execution_count": 6,
   "metadata": {},
   "outputs": [
    {
     "name": "stdout",
     "output_type": "stream",
     "text": [
      "\n",
      "PRUNING SUMMARY:\n",
      "\n",
      "Number of columns original dataset:      12\n",
      "Number of columns after transformations: 127\n",
      "Number of columns after pruning:         118\n",
      "\n",
      "Total gain: 9 columns pruned\n",
      "\n"
     ]
    }
   ],
   "source": [
    "msg = \"\"\"\n",
    "PRUNING SUMMARY:\n",
    "\n",
    "Number of columns original dataset:      {}\n",
    "Number of columns after transformations: {}\n",
    "Number of columns after pruning:         {}\n",
    "\n",
    "Total gain: {} columns pruned\n",
    "\"\"\".format(\n",
    "    titanic.shape[1],\n",
    "    expanded.shape[1],\n",
    "    pruned.shape[1],\n",
    "    expanded.shape[1] - pruned.shape[1],\n",
    ")\n",
    "print(msg)"
   ]
  },
  {
   "cell_type": "markdown",
   "metadata": {},
   "source": [
    "## Preselection\n",
    "\n",
    "Preselect features that will never be appropriate. These can still be wrangled.\n",
    "\n",
    "* Remove columns with too many missing values.\n",
    "* Columns consisting of unique, categorical features are removed."
   ]
  },
  {
   "cell_type": "code",
   "execution_count": 7,
   "metadata": {},
   "outputs": [
    {
     "data": {
      "text/html": [
       "<div>\n",
       "<style scoped>\n",
       "    .dataframe tbody tr th:only-of-type {\n",
       "        vertical-align: middle;\n",
       "    }\n",
       "\n",
       "    .dataframe tbody tr th {\n",
       "        vertical-align: top;\n",
       "    }\n",
       "\n",
       "    .dataframe thead th {\n",
       "        text-align: right;\n",
       "    }\n",
       "</style>\n",
       "<table border=\"1\" class=\"dataframe\">\n",
       "  <thead>\n",
       "    <tr style=\"text-align: right;\">\n",
       "      <th></th>\n",
       "      <th>PassengerId</th>\n",
       "      <th>Survived</th>\n",
       "      <th>Pclass</th>\n",
       "      <th>Sex</th>\n",
       "      <th>Age</th>\n",
       "      <th>SibSp</th>\n",
       "      <th>Parch</th>\n",
       "      <th>Fare</th>\n",
       "      <th>Embarked</th>\n",
       "      <th>Split( )(Name)_1</th>\n",
       "      <th>...</th>\n",
       "      <th>OneHot()(Parch)_3</th>\n",
       "      <th>OneHot()(Parch)_4</th>\n",
       "      <th>OneHot()(Parch)_5</th>\n",
       "      <th>OneHot()(Parch)_6</th>\n",
       "      <th>OneHot()(Embarked)_C</th>\n",
       "      <th>OneHot()(Embarked)_Q</th>\n",
       "      <th>OneHot()(Embarked)_S</th>\n",
       "      <th>WordToNumber()(Ticket)_Ticket</th>\n",
       "      <th>ModeImputation()(Cabin)_Cabin</th>\n",
       "      <th>ModeImputation()(Embarked)_Embarked</th>\n",
       "    </tr>\n",
       "  </thead>\n",
       "  <tbody>\n",
       "    <tr>\n",
       "      <th>0</th>\n",
       "      <td>1</td>\n",
       "      <td>0</td>\n",
       "      <td>3</td>\n",
       "      <td>male</td>\n",
       "      <td>22.0</td>\n",
       "      <td>1</td>\n",
       "      <td>0</td>\n",
       "      <td>7.2500</td>\n",
       "      <td>S</td>\n",
       "      <td>Mr.</td>\n",
       "      <td>...</td>\n",
       "      <td>0</td>\n",
       "      <td>0</td>\n",
       "      <td>0</td>\n",
       "      <td>0</td>\n",
       "      <td>0</td>\n",
       "      <td>0</td>\n",
       "      <td>1</td>\n",
       "      <td>NaN</td>\n",
       "      <td>B96 B98</td>\n",
       "      <td>S</td>\n",
       "    </tr>\n",
       "    <tr>\n",
       "      <th>1</th>\n",
       "      <td>2</td>\n",
       "      <td>1</td>\n",
       "      <td>1</td>\n",
       "      <td>female</td>\n",
       "      <td>38.0</td>\n",
       "      <td>1</td>\n",
       "      <td>0</td>\n",
       "      <td>71.2833</td>\n",
       "      <td>C</td>\n",
       "      <td>Mrs.</td>\n",
       "      <td>...</td>\n",
       "      <td>0</td>\n",
       "      <td>0</td>\n",
       "      <td>0</td>\n",
       "      <td>0</td>\n",
       "      <td>1</td>\n",
       "      <td>0</td>\n",
       "      <td>0</td>\n",
       "      <td>NaN</td>\n",
       "      <td>C85</td>\n",
       "      <td>C</td>\n",
       "    </tr>\n",
       "  </tbody>\n",
       "</table>\n",
       "<p>2 rows × 36 columns</p>\n",
       "</div>"
      ],
      "text/plain": [
       "   PassengerId Survived  Pclass     Sex   Age  SibSp  Parch     Fare Embarked  \\\n",
       "0            1        0       3    male  22.0      1      0   7.2500        S   \n",
       "1            2        1       1  female  38.0      1      0  71.2833        C   \n",
       "\n",
       "  Split( )(Name)_1  ... OneHot()(Parch)_3  OneHot()(Parch)_4  \\\n",
       "0              Mr.  ...                 0                  0   \n",
       "1             Mrs.  ...                 0                  0   \n",
       "\n",
       "  OneHot()(Parch)_5  OneHot()(Parch)_6  OneHot()(Embarked)_C  \\\n",
       "0                 0                  0                     0   \n",
       "1                 0                  0                     1   \n",
       "\n",
       "   OneHot()(Embarked)_Q  OneHot()(Embarked)_S  WordToNumber()(Ticket)_Ticket  \\\n",
       "0                     0                     1                            NaN   \n",
       "1                     0                     0                            NaN   \n",
       "\n",
       "   ModeImputation()(Cabin)_Cabin  ModeImputation()(Embarked)_Embarked  \n",
       "0                        B96 B98                                    S  \n",
       "1                            C85                                    C  \n",
       "\n",
       "[2 rows x 36 columns]"
      ]
     },
     "execution_count": 7,
     "metadata": {},
     "output_type": "execute_result"
    }
   ],
   "source": [
    "preselector = StackedFilter([BijectiveFilter(), UniqueFilter(), MissingFilter()])\n",
    "preselected = preselector.select(expanded)\n",
    "preselected.head(2)"
   ]
  },
  {
   "cell_type": "markdown",
   "metadata": {},
   "source": [
    "## Sampler\n",
    "\n",
    "We sample a subset of the data with at least one row containing no NaNs."
   ]
  },
  {
   "cell_type": "raw",
   "metadata": {},
   "source": [
    "sampler = WeightedColumnSampler(preselected)\n",
    "sampled = sampler.sample()\n",
    "sampled"
   ]
  },
  {
   "cell_type": "markdown",
   "metadata": {},
   "source": [
    "## Correlation Filter"
   ]
  },
  {
   "cell_type": "markdown",
   "metadata": {},
   "source": [
    "Next, we look for features with the same predictive power using a wrapper approach. A decision stump is learned for each feature individually and the predictions for this stump are compared. Features that make the same predictions are pruned."
   ]
  },
  {
   "cell_type": "raw",
   "metadata": {},
   "source": [
    "from avatar.selection import IterativeFilter\n",
    "\n",
    "\n",
    "preselected = IterativeFilter().select(sampled, target=\"Survived\")\n",
    "preselected"
   ]
  },
  {
   "cell_type": "markdown",
   "metadata": {},
   "source": [
    "# Evaluator"
   ]
  },
  {
   "cell_type": "code",
   "execution_count": 8,
   "metadata": {},
   "outputs": [
    {
     "data": {
      "text/plain": [
       "(891, 36)"
      ]
     },
     "execution_count": 8,
     "metadata": {},
     "output_type": "execute_result"
    }
   ],
   "source": [
    "preselected.shape"
   ]
  },
  {
   "cell_type": "code",
   "execution_count": 9,
   "metadata": {},
   "outputs": [],
   "source": [
    "mask = np.random.randint(2, size=len(preselected.columns))\n",
    "mask = np.ones_like(mask)\n",
    "\n",
    "evaluator_shap = FeatureEvaluator(folds=10, method=\"shap\", max_depth=4)\n",
    "evaluator_shap.fit(preselected, target=\"Survived\")\n",
    "\n",
    "\n",
    "evaluator_fimp = FeatureEvaluator(folds=10, max_depth=None)\n",
    "evaluator_fimp.fit(preselected, target=\"Survived\")"
   ]
  },
  {
   "cell_type": "markdown",
   "metadata": {},
   "source": [
    "# Extract MERCS"
   ]
  },
  {
   "cell_type": "markdown",
   "metadata": {},
   "source": [
    "## Helper Methods"
   ]
  },
  {
   "cell_type": "code",
   "execution_count": 10,
   "metadata": {},
   "outputs": [],
   "source": [
    "def extract_mercs_and_training_data_from_feature_evaluator(\n",
    "    evaluator, mask=None, fold_idx=0\n",
    "):\n",
    "    mercs = _extract_mercs_from_feature_evaluator(\n",
    "        evaluator, mask=mask, fold_idx=fold_idx\n",
    "    )\n",
    "    train, test = _extract_data_from_feature_evaluator(\n",
    "        evaluator, fold_idx=fold_idx, kind=None\n",
    "    )\n",
    "\n",
    "    return mercs, train, test\n",
    "\n",
    "\n",
    "def _extract_mercs_from_feature_evaluator(evaluator, mask=None, fold_idx=0):\n",
    "    if mask is not None:\n",
    "        mercs = evaluator.models(mask)[fold_idx]\n",
    "    else:\n",
    "        warnings.warn(\"Extracting first model from the cache.\")\n",
    "        mercs = next(iter(evaluator._cache))[fold_idx]\n",
    "    return mercs\n",
    "\n",
    "\n",
    "def _extract_data_from_feature_evaluator(evaluator, fold_idx=0, kind=None):\n",
    "    train, test = evaluator._folds[fold_idx]\n",
    "    if kind in {\"train\"}:\n",
    "        return train\n",
    "    elif kind in {\"test\"}:\n",
    "        return test\n",
    "    else:\n",
    "        return train, test"
   ]
  },
  {
   "cell_type": "markdown",
   "metadata": {},
   "source": [
    "## Testing `mercs.avatar`"
   ]
  },
  {
   "cell_type": "code",
   "execution_count": 11,
   "metadata": {},
   "outputs": [],
   "source": [
    "import shap\n",
    "\n",
    "mercs, X_train, X_test = extract_mercs_and_training_data_from_feature_evaluator(\n",
    "    evaluator_fimp, mask=mask, fold_idx=0\n",
    ")"
   ]
  },
  {
   "cell_type": "code",
   "execution_count": 22,
   "metadata": {},
   "outputs": [
    {
     "name": "stderr",
     "output_type": "stream",
     "text": [
      "Setting feature_perturbation = \"tree_path_dependent\" because no background data was given.\n"
     ]
    }
   ],
   "source": [
    "model = mercs.m_list[0].model\n",
    "m_code = mercs.m_codes[0]\n",
    "Xb = X_train[:, m_code == 0]\n",
    "Xt = X_test[:, m_code == 0]\n",
    "\n",
    "explainer = shap.TreeExplainer(model, data=None,)\n",
    "raw_shaps = explainer.shap_values(Xb, check_additivity=True)"
   ]
  },
  {
   "cell_type": "code",
   "execution_count": 13,
   "metadata": {},
   "outputs": [],
   "source": [
    "from sklearn.preprocessing import normalize\n",
    "\n",
    "# Make tensor\n",
    "tsr_shaps = np.array(raw_shaps)\n",
    "\n",
    "# Convert to absolute values\n",
    "abs_shaps = np.abs(raw_shaps)\n",
    "\n",
    "# In case of a nominal target, sum shaps across all targets\n",
    "if len(abs_shaps.shape) == 3:\n",
    "    abs_shaps = np.sum(abs_shaps, axis=0)\n",
    "\n",
    "# Average over instances\n",
    "avg_shaps = np.mean(abs_shaps, axis=0)\n",
    "\n",
    "# Normalize (between 0 and 1)\n",
    "nrm_shaps = np.squeeze(normalize(avg_shaps.reshape(1, -1), norm=\"l1\"))"
   ]
  },
  {
   "cell_type": "code",
   "execution_count": 14,
   "metadata": {},
   "outputs": [
    {
     "data": {
      "text/plain": [
       "array([0.05404627, 0.        , 0.20074717, 0.21775432, 0.03426271,\n",
       "       0.        , 0.10399929, 0.        , 0.        , 0.04266714,\n",
       "       0.05389032, 0.        , 0.        , 0.        , 0.09689895,\n",
       "       0.        , 0.        , 0.        , 0.        , 0.        ,\n",
       "       0.        , 0.        , 0.        , 0.00526375, 0.00320323,\n",
       "       0.        , 0.        , 0.        , 0.        , 0.        ,\n",
       "       0.        , 0.        , 0.16931689, 0.01113763, 0.00681233])"
      ]
     },
     "execution_count": 14,
     "metadata": {},
     "output_type": "execute_result"
    }
   ],
   "source": [
    "nrm_shaps"
   ]
  },
  {
   "cell_type": "code",
   "execution_count": 15,
   "metadata": {},
   "outputs": [],
   "source": [
    "X = X_train"
   ]
  },
  {
   "cell_type": "code",
   "execution_count": 16,
   "metadata": {},
   "outputs": [
    {
     "name": "stdout",
     "output_type": "stream",
     "text": [
      "See, I did not crash!\n"
     ]
    },
    {
     "name": "stderr",
     "output_type": "stream",
     "text": [
      "Setting feature_perturbation = \"tree_path_dependent\" because no background data was given.\n"
     ]
    }
   ],
   "source": [
    "mercs.avatar(X, keep_abs_shaps=True)\n",
    "\n",
    "mercs.nrm_shaps  # What we had already (without bugs!)\n",
    "mercs.abs_shaps  # Per-instance information!\n",
    "\n",
    "print(\"See, I did not crash!\")"
   ]
  },
  {
   "cell_type": "code",
   "execution_count": 17,
   "metadata": {},
   "outputs": [
    {
     "name": "stderr",
     "output_type": "stream",
     "text": [
      "Setting feature_perturbation = \"tree_path_dependent\" because no background data was given.\n"
     ]
    },
    {
     "name": "stdout",
     "output_type": "stream",
     "text": [
      "See, I did not crash!\n",
      "ALSO NOT ON MAC ANYMORE\n",
      "\n"
     ]
    }
   ],
   "source": [
    "mercs.avatar(\n",
    "    X, keep_abs_shaps=True, check_additivity=False,\n",
    ")\n",
    "\n",
    "mercs.nrm_shaps  # What we had already (without bugs!)\n",
    "mercs.abs_shaps  # Per-instance information!\n",
    "\n",
    "print(\n",
    "    \"\"\"See, I did not crash!\n",
    "ALSO NOT ON MAC ANYMORE\n",
    "\"\"\"\n",
    ")"
   ]
  },
  {
   "cell_type": "code",
   "execution_count": 18,
   "metadata": {},
   "outputs": [
    {
     "data": {
      "text/plain": [
       "(1, 713, 36)"
      ]
     },
     "execution_count": 18,
     "metadata": {},
     "output_type": "execute_result"
    }
   ],
   "source": [
    "mercs.abs_shaps.shape"
   ]
  },
  {
   "cell_type": "code",
   "execution_count": 19,
   "metadata": {},
   "outputs": [
    {
     "data": {
      "text/plain": [
       "array([0.03442074, 0.        , 0.        , 0.20406541, 0.12617931,\n",
       "       0.04267356, 0.        , 0.28609163, 0.        , 0.        ,\n",
       "       0.18458367, 0.03898494, 0.        , 0.        , 0.        ,\n",
       "       0.48854098, 0.        , 0.        , 0.        , 0.        ,\n",
       "       0.        , 0.        , 0.        , 0.        , 0.0098635 ,\n",
       "       0.01222065, 0.        , 0.        , 0.        , 0.        ,\n",
       "       0.        , 0.        , 0.        , 0.08096751, 0.00583583,\n",
       "       0.00215006])"
      ]
     },
     "execution_count": 19,
     "metadata": {},
     "output_type": "execute_result"
    }
   ],
   "source": [
    "mercs.abs_shaps[0][0, :]"
   ]
  },
  {
   "cell_type": "code",
   "execution_count": 20,
   "metadata": {},
   "outputs": [
    {
     "data": {
      "text/plain": [
       "array([0.03442074, 0.        , 0.20406541, 0.12617931, 0.04267356,\n",
       "       0.        , 0.28609163, 0.        , 0.        , 0.18458367,\n",
       "       0.03898494, 0.        , 0.        , 0.        , 0.48854098,\n",
       "       0.        , 0.        , 0.        , 0.        , 0.        ,\n",
       "       0.        , 0.        , 0.        , 0.0098635 , 0.01222065,\n",
       "       0.        , 0.        , 0.        , 0.        , 0.        ,\n",
       "       0.        , 0.        , 0.08096751, 0.00583583, 0.00215006])"
      ]
     },
     "execution_count": 20,
     "metadata": {},
     "output_type": "execute_result"
    }
   ],
   "source": [
    "abs_shaps[0, :]"
   ]
  },
  {
   "cell_type": "code",
   "execution_count": 21,
   "metadata": {},
   "outputs": [
    {
     "ename": "NameError",
     "evalue": "name 'm_list' is not defined",
     "output_type": "error",
     "traceback": [
      "\u001b[0;31m---------------------------------------------------------------------------\u001b[0m",
      "\u001b[0;31mNameError\u001b[0m                                 Traceback (most recent call last)",
      "\u001b[0;32m<ipython-input-21-3f0229ee5eeb>\u001b[0m in \u001b[0;36m<module>\u001b[0;34m\u001b[0m\n\u001b[1;32m      1\u001b[0m \u001b[0mi\u001b[0m \u001b[0;34m=\u001b[0m \u001b[0;36m0\u001b[0m\u001b[0;34m\u001b[0m\u001b[0;34m\u001b[0m\u001b[0m\n\u001b[0;32m----> 2\u001b[0;31m \u001b[0;32mfor\u001b[0m \u001b[0mi\u001b[0m\u001b[0;34m,\u001b[0m \u001b[0;34m(\u001b[0m\u001b[0mx\u001b[0m\u001b[0;34m,\u001b[0m \u001b[0my\u001b[0m\u001b[0;34m)\u001b[0m \u001b[0;32min\u001b[0m \u001b[0menumerate\u001b[0m\u001b[0;34m(\u001b[0m\u001b[0mzip\u001b[0m\u001b[0;34m(\u001b[0m\u001b[0mm_list\u001b[0m\u001b[0;34m,\u001b[0m \u001b[0mabs_shaps\u001b[0m\u001b[0;34m)\u001b[0m\u001b[0;34m)\u001b[0m\u001b[0;34m:\u001b[0m\u001b[0;34m\u001b[0m\u001b[0;34m\u001b[0m\u001b[0m\n\u001b[0m\u001b[1;32m      3\u001b[0m     \u001b[0mi\u001b[0m \u001b[0;34m+=\u001b[0m \u001b[0;36m1\u001b[0m\u001b[0;34m\u001b[0m\u001b[0;34m\u001b[0m\u001b[0m\n\u001b[1;32m      4\u001b[0m     \u001b[0mprint\u001b[0m\u001b[0;34m(\u001b[0m\u001b[0mtype\u001b[0m\u001b[0;34m(\u001b[0m\u001b[0my\u001b[0m\u001b[0;34m)\u001b[0m\u001b[0;34m)\u001b[0m\u001b[0;34m\u001b[0m\u001b[0;34m\u001b[0m\u001b[0m\n\u001b[1;32m      5\u001b[0m \u001b[0mi\u001b[0m\u001b[0;34m\u001b[0m\u001b[0;34m\u001b[0m\u001b[0m\n",
      "\u001b[0;31mNameError\u001b[0m: name 'm_list' is not defined"
     ]
    }
   ],
   "source": [
    "i = 0\n",
    "for i, (x, y) in enumerate(zip(m_list, abs_shaps)):\n",
    "    i += 1\n",
    "    print(type(y))\n",
    "i"
   ]
  },
  {
   "cell_type": "code",
   "execution_count": null,
   "metadata": {},
   "outputs": [],
   "source": [
    "assert 1==0::"
   ]
  },
  {
   "cell_type": "code",
   "execution_count": null,
   "metadata": {},
   "outputs": [],
   "source": [
    "for m_idx, (mod, abs_shap) in enumerate(zip(m_list, abs_shaps)):\n",
    "    print(abs_shap.shape)\n",
    "    init_abs = np.zeros((713, 36))\n",
    "    init_abs[:, list(mod.desc_ids)] = abs_shap\n",
    "    init[m_idx, :, :] = init_abs"
   ]
  },
  {
   "cell_type": "code",
   "execution_count": null,
   "metadata": {},
   "outputs": [],
   "source": []
  },
  {
   "cell_type": "code",
   "execution_count": null,
   "metadata": {},
   "outputs": [],
   "source": [
    "init.shape"
   ]
  },
  {
   "cell_type": "code",
   "execution_count": null,
   "metadata": {},
   "outputs": [],
   "source": [
    "init[1][0, :]"
   ]
  },
  {
   "cell_type": "code",
   "execution_count": null,
   "metadata": {},
   "outputs": [],
   "source": []
  },
  {
   "cell_type": "code",
   "execution_count": null,
   "metadata": {},
   "outputs": [],
   "source": [
    "init[0, [[3, 4]] * init.shape[1]].shape"
   ]
  },
  {
   "cell_type": "code",
   "execution_count": null,
   "metadata": {},
   "outputs": [],
   "source": [
    "zip(list(range(m_list)), m_list, abs_shaps)"
   ]
  },
  {
   "cell_type": "code",
   "execution_count": null,
   "metadata": {},
   "outputs": [],
   "source": [
    "\n",
    "for m_idx, mod, abs_shap in zip(*enumerate([mercs.m_list[0], mercs.m_list[0]]), abs_shaps):\n",
    "    init[m_idx, : ,list(mod.desc_ids)] = abs_shap"
   ]
  },
  {
   "cell_type": "code",
   "execution_count": null,
   "metadata": {},
   "outputs": [],
   "source": []
  },
  {
   "cell_type": "code",
   "execution_count": null,
   "metadata": {},
   "outputs": [],
   "source": [
    "nrm_shaps"
   ]
  },
  {
   "cell_type": "code",
   "execution_count": null,
   "metadata": {},
   "outputs": [],
   "source": [
    "l = preselected.columns.values.tolist()\n",
    "l.remove(\"Survived\")\n",
    "l\n",
    "\n",
    "df = pd.DataFrame()\n",
    "df[\"cols\"] = l\n",
    "df[\"shap\"] = nrm_shaps\n",
    "df.sort_values(by=\"shap\", ascending=False).head(5)"
   ]
  },
  {
   "cell_type": "code",
   "execution_count": null,
   "metadata": {},
   "outputs": [],
   "source": [
    "df = pd.DataFrame()\n",
    "df[\"cols\"] = preselected.columns\n",
    "df[\"shap\"] = evaluator_shap.importances(mask)\n",
    "df[\"fimp\"] = evaluator_fimp.importances(mask)"
   ]
  },
  {
   "cell_type": "code",
   "execution_count": null,
   "metadata": {},
   "outputs": [],
   "source": [
    "df.sort_values(by=\"fimp\", ascending=False).head(5)"
   ]
  },
  {
   "cell_type": "code",
   "execution_count": null,
   "metadata": {},
   "outputs": [],
   "source": [
    "df.sort_values(by=\"shap\", ascending=False).head(5)"
   ]
  },
  {
   "cell_type": "markdown",
   "metadata": {},
   "source": [
    "# Feature Selection\n",
    "\n",
    "Feature selection ranks the features according to their importance. The end goal is to obtain two groups of features;\n",
    "- **Non-relevant features**: these need more bending\n",
    "- **Relevant features**: these can go in the final evaluator to see whether the model performs better now.\n",
    "\n",
    "\n",
    "Three wrapper methods are implemented.\n",
    "\n",
    "* Randomly sampling columns, training a model and getting the feature relevances.\n",
    "* A genetic approach, which is similar but should combine features slightly better. We perform a small experiment on whether to fix the genome size.\n",
    "* Classic sequential and backwards sequential feature selection.\n",
    "\n",
    "The idea is similar; the feature selection algorithms return sets of feature importances and the associated scores."
   ]
  },
  {
   "cell_type": "markdown",
   "metadata": {},
   "source": [
    "## Mask-Generation: Random\n",
    "\n",
    "Randomly sample subsets of features, evaluate and get feature relevances."
   ]
  },
  {
   "cell_type": "raw",
   "metadata": {},
   "source": [
    "ss = SamplingSelector(iterations=100, evaluator=evaluator_shap)\n",
    "ss.fit(preselected, target=\"Survived\")\n",
    "\n",
    "ss.scores(), ss.ordered()"
   ]
  },
  {
   "cell_type": "markdown",
   "metadata": {},
   "source": [
    "## Mask Generation: Genetic\n",
    "\n",
    "The CHC Genetic Algorithm for feature selection. Uses\n",
    "\n",
    "* Cross-generational elitist selection\n",
    "* Heterogeneous recombination\n",
    "* and Cataclysmic mutation\n",
    "\n",
    "for maintaining diversity and avoiding stagnation.\n",
    "\n",
    "After the final population is obtained, combine importances from this population."
   ]
  },
  {
   "cell_type": "raw",
   "metadata": {},
   "source": [
    "gas = CHCGASelector(iterations=100, evaluator=evaluator_shap)\n",
    "gas.fit(preselected, target=\"Survived\")\n",
    "\n",
    "gas.scores(), gas.ordered()"
   ]
  },
  {
   "cell_type": "markdown",
   "metadata": {},
   "source": [
    "## Mask Generation: SFFS\n",
    "\n",
    "Sequential Forward Floating Selection. We don't use the adaptive version as there will often be many columns and that is too slow."
   ]
  },
  {
   "cell_type": "raw",
   "metadata": {},
   "source": [
    "sffs = SFFSelector(iterations=40, evaluator=evaluator_shap)\n",
    "sffs.fit(preselected, target=\"Survived\")\n",
    "\n",
    "sffs.scores(), sffs.ordered()"
   ]
  }
 ],
 "metadata": {
  "kernelspec": {
   "display_name": "avatar-gust",
   "language": "python",
   "name": "avatar-gust"
  },
  "language_info": {
   "codemirror_mode": {
    "name": "ipython",
    "version": 3
   },
   "file_extension": ".py",
   "mimetype": "text/x-python",
   "name": "python",
   "nbconvert_exporter": "python",
   "pygments_lexer": "ipython3",
   "version": "3.8.2"
  }
 },
 "nbformat": 4,
 "nbformat_minor": 4
}
