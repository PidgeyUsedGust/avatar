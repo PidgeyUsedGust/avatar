{
 "cells": [
  {
   "cell_type": "markdown",
   "metadata": {},
   "source": [
    "# MERCS - Initial Notebook\n",
    "\n",
    "Getting started with Avatar and Mercs"
   ]
  },
  {
   "cell_type": "markdown",
   "metadata": {},
   "source": [
    "# Prelims\n",
    "\n",
    "Preliminaries for rest of notebook."
   ]
  },
  {
   "cell_type": "code",
   "execution_count": 1,
   "metadata": {},
   "outputs": [],
   "source": [
    "# (Optional) Black codeformatter (`pip install nb_black`) for jupyterlab. In jupyter notebook, this changes slightly.\n",
    "%load_ext lab_black"
   ]
  },
  {
   "cell_type": "markdown",
   "metadata": {},
   "source": [
    "## Imports"
   ]
  },
  {
   "cell_type": "code",
   "execution_count": 2,
   "metadata": {},
   "outputs": [],
   "source": [
    "from pathlib import Path\n",
    "import pandas as pd\n",
    "import numpy as np"
   ]
  },
  {
   "cell_type": "code",
   "execution_count": 3,
   "metadata": {},
   "outputs": [],
   "source": [
    "from mercs import Mercs"
   ]
  },
  {
   "cell_type": "markdown",
   "metadata": {},
   "source": [
    "## Constants"
   ]
  },
  {
   "cell_type": "code",
   "execution_count": 4,
   "metadata": {},
   "outputs": [],
   "source": [
    "ROOT_DIR = Path().resolve().parent.parent\n",
    "DATA_DIR = ROOT_DIR / \"data\" / \"raw\"\n",
    "DEMO_DIR = DATA_DIR / \"demo\""
   ]
  },
  {
   "cell_type": "code",
   "execution_count": 5,
   "metadata": {},
   "outputs": [],
   "source": [
    "NOMINAL_THRESHOLD = 10"
   ]
  },
  {
   "cell_type": "markdown",
   "metadata": {},
   "source": [
    "# Implementation\n",
    "\n",
    "Sandbox for writing code."
   ]
  },
  {
   "cell_type": "code",
   "execution_count": null,
   "metadata": {},
   "outputs": [],
   "source": []
  },
  {
   "cell_type": "markdown",
   "metadata": {},
   "source": [
    "# Configuration"
   ]
  },
  {
   "cell_type": "markdown",
   "metadata": {},
   "source": [
    "## Data"
   ]
  },
  {
   "cell_type": "code",
   "execution_count": 6,
   "metadata": {},
   "outputs": [
    {
     "data": {
      "text/html": [
       "<div>\n",
       "<style scoped>\n",
       "    .dataframe tbody tr th:only-of-type {\n",
       "        vertical-align: middle;\n",
       "    }\n",
       "\n",
       "    .dataframe tbody tr th {\n",
       "        vertical-align: top;\n",
       "    }\n",
       "\n",
       "    .dataframe thead th {\n",
       "        text-align: right;\n",
       "    }\n",
       "</style>\n",
       "<table border=\"1\" class=\"dataframe\">\n",
       "  <thead>\n",
       "    <tr style=\"text-align: right;\">\n",
       "      <th></th>\n",
       "      <th>PassengerId</th>\n",
       "      <th>Survived</th>\n",
       "      <th>Pclass</th>\n",
       "      <th>Name</th>\n",
       "      <th>Sex</th>\n",
       "      <th>Age</th>\n",
       "      <th>SibSp</th>\n",
       "      <th>Parch</th>\n",
       "      <th>Ticket</th>\n",
       "      <th>Fare</th>\n",
       "      <th>Cabin</th>\n",
       "      <th>Embarked</th>\n",
       "    </tr>\n",
       "  </thead>\n",
       "  <tbody>\n",
       "    <tr>\n",
       "      <th>0</th>\n",
       "      <td>1</td>\n",
       "      <td>0</td>\n",
       "      <td>3</td>\n",
       "      <td>Braund, Mr. Owen Harris</td>\n",
       "      <td>male</td>\n",
       "      <td>22.0</td>\n",
       "      <td>1</td>\n",
       "      <td>0</td>\n",
       "      <td>A/5 21171</td>\n",
       "      <td>7.2500</td>\n",
       "      <td>NaN</td>\n",
       "      <td>S</td>\n",
       "    </tr>\n",
       "    <tr>\n",
       "      <th>1</th>\n",
       "      <td>2</td>\n",
       "      <td>1</td>\n",
       "      <td>1</td>\n",
       "      <td>Cumings, Mrs. John Bradley (Florence Briggs Th...</td>\n",
       "      <td>female</td>\n",
       "      <td>38.0</td>\n",
       "      <td>1</td>\n",
       "      <td>0</td>\n",
       "      <td>PC 17599</td>\n",
       "      <td>71.2833</td>\n",
       "      <td>C85</td>\n",
       "      <td>C</td>\n",
       "    </tr>\n",
       "    <tr>\n",
       "      <th>2</th>\n",
       "      <td>3</td>\n",
       "      <td>1</td>\n",
       "      <td>3</td>\n",
       "      <td>Heikkinen, Miss. Laina</td>\n",
       "      <td>female</td>\n",
       "      <td>26.0</td>\n",
       "      <td>0</td>\n",
       "      <td>0</td>\n",
       "      <td>STON/O2. 3101282</td>\n",
       "      <td>7.9250</td>\n",
       "      <td>NaN</td>\n",
       "      <td>S</td>\n",
       "    </tr>\n",
       "    <tr>\n",
       "      <th>3</th>\n",
       "      <td>4</td>\n",
       "      <td>1</td>\n",
       "      <td>1</td>\n",
       "      <td>Futrelle, Mrs. Jacques Heath (Lily May Peel)</td>\n",
       "      <td>female</td>\n",
       "      <td>35.0</td>\n",
       "      <td>1</td>\n",
       "      <td>0</td>\n",
       "      <td>113803</td>\n",
       "      <td>53.1000</td>\n",
       "      <td>C123</td>\n",
       "      <td>S</td>\n",
       "    </tr>\n",
       "    <tr>\n",
       "      <th>4</th>\n",
       "      <td>5</td>\n",
       "      <td>0</td>\n",
       "      <td>3</td>\n",
       "      <td>Allen, Mr. William Henry</td>\n",
       "      <td>male</td>\n",
       "      <td>35.0</td>\n",
       "      <td>0</td>\n",
       "      <td>0</td>\n",
       "      <td>373450</td>\n",
       "      <td>8.0500</td>\n",
       "      <td>NaN</td>\n",
       "      <td>S</td>\n",
       "    </tr>\n",
       "  </tbody>\n",
       "</table>\n",
       "</div>"
      ],
      "text/plain": [
       "   PassengerId  Survived  Pclass  \\\n",
       "0            1         0       3   \n",
       "1            2         1       1   \n",
       "2            3         1       3   \n",
       "3            4         1       1   \n",
       "4            5         0       3   \n",
       "\n",
       "                                                Name     Sex   Age  SibSp  \\\n",
       "0                            Braund, Mr. Owen Harris    male  22.0      1   \n",
       "1  Cumings, Mrs. John Bradley (Florence Briggs Th...  female  38.0      1   \n",
       "2                             Heikkinen, Miss. Laina  female  26.0      0   \n",
       "3       Futrelle, Mrs. Jacques Heath (Lily May Peel)  female  35.0      1   \n",
       "4                           Allen, Mr. William Henry    male  35.0      0   \n",
       "\n",
       "   Parch            Ticket     Fare Cabin Embarked  \n",
       "0      0         A/5 21171   7.2500   NaN        S  \n",
       "1      0          PC 17599  71.2833   C85        C  \n",
       "2      0  STON/O2. 3101282   7.9250   NaN        S  \n",
       "3      0            113803  53.1000  C123        S  \n",
       "4      0            373450   8.0500   NaN        S  "
      ]
     },
     "execution_count": 6,
     "metadata": {},
     "output_type": "execute_result"
    }
   ],
   "source": [
    "titanic_fp = DEMO_DIR / \"titanic.csv\"\n",
    "titanic_fp.exists()\n",
    "\n",
    "df = pd.read_csv(titanic_fp)\n",
    "df.head()"
   ]
  },
  {
   "cell_type": "code",
   "execution_count": 7,
   "metadata": {},
   "outputs": [
    {
     "data": {
      "text/html": [
       "<div>\n",
       "<style scoped>\n",
       "    .dataframe tbody tr th:only-of-type {\n",
       "        vertical-align: middle;\n",
       "    }\n",
       "\n",
       "    .dataframe tbody tr th {\n",
       "        vertical-align: top;\n",
       "    }\n",
       "\n",
       "    .dataframe thead th {\n",
       "        text-align: right;\n",
       "    }\n",
       "</style>\n",
       "<table border=\"1\" class=\"dataframe\">\n",
       "  <thead>\n",
       "    <tr style=\"text-align: right;\">\n",
       "      <th></th>\n",
       "      <th>PassengerId</th>\n",
       "      <th>Survived</th>\n",
       "      <th>Pclass</th>\n",
       "      <th>Age</th>\n",
       "      <th>SibSp</th>\n",
       "      <th>Parch</th>\n",
       "      <th>Fare</th>\n",
       "    </tr>\n",
       "  </thead>\n",
       "  <tbody>\n",
       "    <tr>\n",
       "      <th>0</th>\n",
       "      <td>1</td>\n",
       "      <td>0</td>\n",
       "      <td>3</td>\n",
       "      <td>22.0</td>\n",
       "      <td>1</td>\n",
       "      <td>0</td>\n",
       "      <td>7.2500</td>\n",
       "    </tr>\n",
       "    <tr>\n",
       "      <th>1</th>\n",
       "      <td>2</td>\n",
       "      <td>1</td>\n",
       "      <td>1</td>\n",
       "      <td>38.0</td>\n",
       "      <td>1</td>\n",
       "      <td>0</td>\n",
       "      <td>71.2833</td>\n",
       "    </tr>\n",
       "    <tr>\n",
       "      <th>2</th>\n",
       "      <td>3</td>\n",
       "      <td>1</td>\n",
       "      <td>3</td>\n",
       "      <td>26.0</td>\n",
       "      <td>0</td>\n",
       "      <td>0</td>\n",
       "      <td>7.9250</td>\n",
       "    </tr>\n",
       "    <tr>\n",
       "      <th>3</th>\n",
       "      <td>4</td>\n",
       "      <td>1</td>\n",
       "      <td>1</td>\n",
       "      <td>35.0</td>\n",
       "      <td>1</td>\n",
       "      <td>0</td>\n",
       "      <td>53.1000</td>\n",
       "    </tr>\n",
       "    <tr>\n",
       "      <th>4</th>\n",
       "      <td>5</td>\n",
       "      <td>0</td>\n",
       "      <td>3</td>\n",
       "      <td>35.0</td>\n",
       "      <td>0</td>\n",
       "      <td>0</td>\n",
       "      <td>8.0500</td>\n",
       "    </tr>\n",
       "  </tbody>\n",
       "</table>\n",
       "</div>"
      ],
      "text/plain": [
       "   PassengerId  Survived  Pclass   Age  SibSp  Parch     Fare\n",
       "0            1         0       3  22.0      1      0   7.2500\n",
       "1            2         1       1  38.0      1      0  71.2833\n",
       "2            3         1       3  26.0      0      0   7.9250\n",
       "3            4         1       1  35.0      1      0  53.1000\n",
       "4            5         0       3  35.0      0      0   8.0500"
      ]
     },
     "execution_count": 7,
     "metadata": {},
     "output_type": "execute_result"
    }
   ],
   "source": [
    "usable_cols = [c for c in df.columns if pd.api.types.is_numeric_dtype(df[c].dtype)]\n",
    "df2 = df[usable_cols]\n",
    "df2.head()"
   ]
  },
  {
   "cell_type": "markdown",
   "metadata": {},
   "source": [
    "lgtm"
   ]
  },
  {
   "cell_type": "code",
   "execution_count": 8,
   "metadata": {},
   "outputs": [
    {
     "data": {
      "text/plain": [
       "array([[ 1.    ,  0.    ,  3.    , 22.    ,  1.    ,  0.    ,  7.25  ],\n",
       "       [ 2.    ,  1.    ,  1.    , 38.    ,  1.    ,  0.    , 71.2833],\n",
       "       [ 3.    ,  1.    ,  3.    , 26.    ,  0.    ,  0.    ,  7.925 ],\n",
       "       [ 4.    ,  1.    ,  1.    , 35.    ,  1.    ,  0.    , 53.1   ],\n",
       "       [ 5.    ,  0.    ,  3.    , 35.    ,  0.    ,  0.    ,  8.05  ]])"
      ]
     },
     "execution_count": 8,
     "metadata": {},
     "output_type": "execute_result"
    }
   ],
   "source": [
    "X = df2.values\n",
    "X[:5]"
   ]
  },
  {
   "cell_type": "code",
   "execution_count": 9,
   "metadata": {},
   "outputs": [
    {
     "data": {
      "text/plain": [
       "{1, 2, 4, 5}"
      ]
     },
     "execution_count": 9,
     "metadata": {},
     "output_type": "execute_result"
    }
   ],
   "source": [
    "nominal_attributes = [\n",
    "    att_idx\n",
    "    for att_idx, n_uvals in enumerate(df2.nunique())\n",
    "    if n_uvals <= NOMINAL_THRESHOLD\n",
    "]\n",
    "nominal_attributes = set(nominal_attributes)\n",
    "\n",
    "nominal_attributes"
   ]
  },
  {
   "cell_type": "code",
   "execution_count": 10,
   "metadata": {},
   "outputs": [
    {
     "name": "stdout",
     "output_type": "stream",
     "text": [
      "Survived\n",
      "Pclass\n",
      "SibSp\n",
      "Parch\n"
     ]
    }
   ],
   "source": [
    "# Sanity check\n",
    "for c_idx, c in enumerate(df2.columns):\n",
    "    if c_idx in nominal_attributes:\n",
    "        print(c)"
   ]
  },
  {
   "cell_type": "markdown",
   "metadata": {},
   "source": [
    "lgtm"
   ]
  },
  {
   "cell_type": "markdown",
   "metadata": {},
   "source": [
    "## MERCS\n",
    "\n",
    "Still stupid because mercs needs numpy, but you get the gist."
   ]
  },
  {
   "cell_type": "code",
   "execution_count": 11,
   "metadata": {},
   "outputs": [],
   "source": [
    "cfg_mercs_default = dict(\n",
    "    # Induction\n",
    "    max_depth=8,\n",
    "    selection_algorithm=\"default\",\n",
    "    nb_targets=1,\n",
    "    nb_iterations=1,\n",
    "    n_jobs=1,\n",
    "    # Inference\n",
    "    inference_algorithm=\"own\",\n",
    "    prediction_algorithm=\"mi\",\n",
    "    max_steps=8,\n",
    "    # Metadata\n",
    "    nominal_attributes=nominal_attributes,\n",
    ")"
   ]
  },
  {
   "cell_type": "code",
   "execution_count": 12,
   "metadata": {},
   "outputs": [],
   "source": [
    "# Train a MERCS-model with config above\n",
    "clf = Mercs(**cfg_mercs_default)\n",
    "\n",
    "# Nominal attributes has to be given at fit, all the rest can be done before\n",
    "clf.fit(X, nominal_attributes=nominal_attributes)"
   ]
  },
  {
   "cell_type": "code",
   "execution_count": 13,
   "metadata": {},
   "outputs": [
    {
     "data": {
      "text/plain": [
       "{'attributes': {0, 1, 2, 3, 4, 5, 6},\n",
       " 'n_attributes': 7,\n",
       " 'types': [dtype('float64'),\n",
       "  dtype('float64'),\n",
       "  dtype('float64'),\n",
       "  dtype('float64'),\n",
       "  dtype('float64'),\n",
       "  dtype('float64'),\n",
       "  dtype('float64')],\n",
       " 'nominal_attributes': {1, 2, 4, 5},\n",
       " 'numeric_attributes': {0, 3, 6},\n",
       " 'n_component_models': 7}"
      ]
     },
     "execution_count": 13,
     "metadata": {},
     "output_type": "execute_result"
    }
   ],
   "source": [
    "clf.metadata"
   ]
  },
  {
   "cell_type": "markdown",
   "metadata": {},
   "source": [
    "Alright so that looks sensible. Dtypes used to be relevant, now not anymore. Mercs runs on numpy so dtype has to be uniform."
   ]
  },
  {
   "cell_type": "code",
   "execution_count": 14,
   "metadata": {},
   "outputs": [
    {
     "data": {
      "text/plain": [
       "array([[0, 0, 0, 0, 0, 1, 0],\n",
       "       [0, 0, 0, 0, 1, 0, 0],\n",
       "       [0, 0, 1, 0, 0, 0, 0],\n",
       "       [0, 1, 0, 0, 0, 0, 0],\n",
       "       [0, 0, 0, 0, 0, 0, 1],\n",
       "       [0, 0, 0, 1, 0, 0, 0],\n",
       "       [1, 0, 0, 0, 0, 0, 0]])"
      ]
     },
     "execution_count": 14,
     "metadata": {},
     "output_type": "execute_result"
    }
   ],
   "source": [
    "# Inspection of models\n",
    "clf.m_codes"
   ]
  },
  {
   "cell_type": "markdown",
   "metadata": {},
   "source": [
    "So each model predicts one output, all the rest are inputs. \n",
    "\n",
    "A closer look, we can reveal other interesting stuff. For instance, model with index 3 predicts attribute index 1, and that is supposed to be nominal, let us see;"
   ]
  },
  {
   "cell_type": "code",
   "execution_count": 15,
   "metadata": {},
   "outputs": [
    {
     "data": {
      "text/plain": [
       "([0, 2, 3, 4, 5, 6], [1], 'nominal')"
      ]
     },
     "execution_count": 15,
     "metadata": {},
     "output_type": "execute_result"
    }
   ],
   "source": [
    "clf.m_list[3].desc_ids, clf.m_list[3].targ_ids, clf.m_list[3].out_kind"
   ]
  },
  {
   "cell_type": "markdown",
   "metadata": {},
   "source": [
    "That looks pretty much as I expect it too.\n",
    "\n",
    "Also probably of interest is how to get the underlying sklearn model (mercs has an internal extra layer of abstraction since it can also deal with xgboost etc)"
   ]
  },
  {
   "cell_type": "code",
   "execution_count": 16,
   "metadata": {},
   "outputs": [
    {
     "data": {
      "text/plain": [
       "DecisionTreeClassifier(max_depth=8, random_state=270)"
      ]
     },
     "execution_count": 16,
     "metadata": {},
     "output_type": "execute_result"
    }
   ],
   "source": [
    "clf.m_list[3].model"
   ]
  },
  {
   "cell_type": "markdown",
   "metadata": {},
   "source": [
    "Here you go!"
   ]
  },
  {
   "cell_type": "markdown",
   "metadata": {},
   "source": [
    "Now, to see which attribute matters for what, the feature importances matter. I will integrate SHAP soon for more power. For now, you access this datastruct like so;"
   ]
  },
  {
   "cell_type": "code",
   "execution_count": 17,
   "metadata": {},
   "outputs": [
    {
     "data": {
      "text/plain": [
       "array([[1.43774372e-01, 2.13393335e-02, 5.43159156e-02, 3.21849228e-01,\n",
       "        7.10551445e-02, 0.00000000e+00, 3.87666006e-01],\n",
       "       [1.39795227e-01, 3.43145769e-02, 8.46433560e-02, 1.31555033e-01,\n",
       "        0.00000000e+00, 7.83530050e-02, 5.31338802e-01],\n",
       "       [2.17008567e-02, 1.56284762e-02, 0.00000000e+00, 5.29030213e-02,\n",
       "        7.65630235e-02, 6.88926977e-02, 7.64311925e-01],\n",
       "       [2.47448866e-01, 0.00000000e+00, 2.26707058e-01, 2.44169130e-01,\n",
       "        8.25215007e-02, 1.74267276e-02, 1.81726718e-01],\n",
       "       [3.17333277e-01, 3.53217487e-02, 4.06576765e-01, 5.55014624e-02,\n",
       "        7.99444338e-02, 1.05322314e-01, 0.00000000e+00],\n",
       "       [2.51624147e-01, 6.93343249e-02, 2.05690561e-01, 0.00000000e+00,\n",
       "        7.83791360e-02, 2.12133812e-01, 1.82838019e-01],\n",
       "       [0.00000000e+00, 1.22197983e-04, 0.00000000e+00, 5.39069957e-01,\n",
       "        5.52670879e-02, 6.46792035e-03, 3.99072837e-01]])"
      ]
     },
     "execution_count": 17,
     "metadata": {},
     "output_type": "execute_result"
    }
   ],
   "source": [
    "fi = clf.m_fimps\n",
    "fi"
   ]
  },
  {
   "cell_type": "code",
   "execution_count": 18,
   "metadata": {},
   "outputs": [
    {
     "data": {
      "text/plain": [
       "array([1., 1., 1., 1., 1., 1., 1.])"
      ]
     },
     "execution_count": 18,
     "metadata": {},
     "output_type": "execute_result"
    }
   ],
   "source": [
    "np.sum(fi, axis=1)"
   ]
  },
  {
   "cell_type": "code",
   "execution_count": 19,
   "metadata": {},
   "outputs": [
    {
     "data": {
      "text/plain": [
       "array([0.24744887, 0.        , 0.22670706, 0.24416913, 0.0825215 ,\n",
       "       0.01742673, 0.18172672])"
      ]
     },
     "execution_count": 19,
     "metadata": {},
     "output_type": "execute_result"
    }
   ],
   "source": [
    "fi[3]  # Of model with index 3, i.e. the model that predict attribute with idx 1"
   ]
  },
  {
   "cell_type": "markdown",
   "metadata": {},
   "source": [
    "So, to predict attribute 1, attributes 0, 2, and 3 seem to matter most."
   ]
  },
  {
   "cell_type": "code",
   "execution_count": null,
   "metadata": {},
   "outputs": [],
   "source": []
  },
  {
   "cell_type": "markdown",
   "metadata": {},
   "source": [
    "To get an overview of which attributes globally matter most (without any regard for the performance of the component models obviously!), column summations of this fi datastructure are the way to go"
   ]
  },
  {
   "cell_type": "code",
   "execution_count": 20,
   "metadata": {},
   "outputs": [
    {
     "data": {
      "text/plain": [
       "array([1.12167675, 0.17606066, 0.97793366, 1.34504783, 0.44373033,\n",
       "       0.48859648, 2.44695431])"
      ]
     },
     "execution_count": 20,
     "metadata": {},
     "output_type": "execute_result"
    }
   ],
   "source": [
    "np.sum(fi, axis=0)"
   ]
  },
  {
   "cell_type": "markdown",
   "metadata": {},
   "source": [
    "So it looks like the last column is by far the most informative one, across ALL possible prediction tasks."
   ]
  },
  {
   "cell_type": "markdown",
   "metadata": {},
   "source": [
    "# Training for a Specific Target\n",
    "\n",
    "Maybe we do not need a multi-directional model after all.\n",
    "\n",
    "If you know this, how do you tell MERCS to ignore stuff?"
   ]
  },
  {
   "cell_type": "code",
   "execution_count": 21,
   "metadata": {},
   "outputs": [
    {
     "data": {
      "text/plain": [
       "(891, 7)"
      ]
     },
     "execution_count": 21,
     "metadata": {},
     "output_type": "execute_result"
    }
   ],
   "source": [
    "X.shape"
   ]
  },
  {
   "cell_type": "code",
   "execution_count": 22,
   "metadata": {},
   "outputs": [
    {
     "data": {
      "text/plain": [
       "array([[0., 0., 0., 0., 0., 1., 0.]])"
      ]
     },
     "execution_count": 22,
     "metadata": {},
     "output_type": "execute_result"
    }
   ],
   "source": [
    "custom_m_codes = np.zeros((1, 7))\n",
    "custom_m_codes[0, 5] = 1\n",
    "custom_m_codes"
   ]
  },
  {
   "cell_type": "code",
   "execution_count": null,
   "metadata": {},
   "outputs": [],
   "source": []
  },
  {
   "cell_type": "code",
   "execution_count": 23,
   "metadata": {},
   "outputs": [],
   "source": [
    "# Train a MERCS-model with config above\n",
    "clf = Mercs(**cfg_mercs_default)\n",
    "\n",
    "# Nominal attributes has to be given at fit, all the rest can be done before\n",
    "clf.fit(X, m_codes=custom_m_codes, nominal_attributes=nominal_attributes)"
   ]
  },
  {
   "cell_type": "code",
   "execution_count": 24,
   "metadata": {},
   "outputs": [
    {
     "data": {
      "text/plain": [
       "array([[0, 0, 0, 0, 0, 1, 0]])"
      ]
     },
     "execution_count": 24,
     "metadata": {},
     "output_type": "execute_result"
    }
   ],
   "source": [
    "clf.m_codes"
   ]
  },
  {
   "cell_type": "code",
   "execution_count": 25,
   "metadata": {},
   "outputs": [
    {
     "data": {
      "text/plain": [
       "[<mercs.composition.CanonicalModel.CanonicalModel at 0x7fd3d1b1d520>]"
      ]
     },
     "execution_count": 25,
     "metadata": {},
     "output_type": "execute_result"
    }
   ],
   "source": [
    "clf.m_list"
   ]
  },
  {
   "cell_type": "code",
   "execution_count": 26,
   "metadata": {},
   "outputs": [
    {
     "data": {
      "text/plain": [
       "([0, 1, 2, 3, 4, 6], [5], 'nominal')"
      ]
     },
     "execution_count": 26,
     "metadata": {},
     "output_type": "execute_result"
    }
   ],
   "source": [
    "clf.m_list[0].desc_ids, clf.m_list[0].targ_ids, clf.m_list[0].out_kind"
   ]
  },
  {
   "cell_type": "markdown",
   "metadata": {},
   "source": [
    "Alright so this one model that MERCS contained adheres to the m_codes that you gave AND the types were respected. "
   ]
  },
  {
   "cell_type": "markdown",
   "metadata": {},
   "source": [
    "# Obtaining a custom model"
   ]
  },
  {
   "cell_type": "markdown",
   "metadata": {},
   "source": [
    "## Data"
   ]
  },
  {
   "cell_type": "code",
   "execution_count": 27,
   "metadata": {},
   "outputs": [
    {
     "data": {
      "text/html": [
       "<div>\n",
       "<style scoped>\n",
       "    .dataframe tbody tr th:only-of-type {\n",
       "        vertical-align: middle;\n",
       "    }\n",
       "\n",
       "    .dataframe tbody tr th {\n",
       "        vertical-align: top;\n",
       "    }\n",
       "\n",
       "    .dataframe thead th {\n",
       "        text-align: right;\n",
       "    }\n",
       "</style>\n",
       "<table border=\"1\" class=\"dataframe\">\n",
       "  <thead>\n",
       "    <tr style=\"text-align: right;\">\n",
       "      <th></th>\n",
       "      <th>PassengerId</th>\n",
       "      <th>Survived</th>\n",
       "      <th>Pclass</th>\n",
       "      <th>Name</th>\n",
       "      <th>Sex</th>\n",
       "      <th>Age</th>\n",
       "      <th>SibSp</th>\n",
       "      <th>Parch</th>\n",
       "      <th>Ticket</th>\n",
       "      <th>Fare</th>\n",
       "      <th>Cabin</th>\n",
       "      <th>Embarked</th>\n",
       "    </tr>\n",
       "  </thead>\n",
       "  <tbody>\n",
       "    <tr>\n",
       "      <th>0</th>\n",
       "      <td>1</td>\n",
       "      <td>0</td>\n",
       "      <td>3</td>\n",
       "      <td>Braund, Mr. Owen Harris</td>\n",
       "      <td>male</td>\n",
       "      <td>22.0</td>\n",
       "      <td>1</td>\n",
       "      <td>0</td>\n",
       "      <td>A/5 21171</td>\n",
       "      <td>7.2500</td>\n",
       "      <td>NaN</td>\n",
       "      <td>S</td>\n",
       "    </tr>\n",
       "    <tr>\n",
       "      <th>1</th>\n",
       "      <td>2</td>\n",
       "      <td>1</td>\n",
       "      <td>1</td>\n",
       "      <td>Cumings, Mrs. John Bradley (Florence Briggs Th...</td>\n",
       "      <td>female</td>\n",
       "      <td>38.0</td>\n",
       "      <td>1</td>\n",
       "      <td>0</td>\n",
       "      <td>PC 17599</td>\n",
       "      <td>71.2833</td>\n",
       "      <td>C85</td>\n",
       "      <td>C</td>\n",
       "    </tr>\n",
       "    <tr>\n",
       "      <th>2</th>\n",
       "      <td>3</td>\n",
       "      <td>1</td>\n",
       "      <td>3</td>\n",
       "      <td>Heikkinen, Miss. Laina</td>\n",
       "      <td>female</td>\n",
       "      <td>26.0</td>\n",
       "      <td>0</td>\n",
       "      <td>0</td>\n",
       "      <td>STON/O2. 3101282</td>\n",
       "      <td>7.9250</td>\n",
       "      <td>NaN</td>\n",
       "      <td>S</td>\n",
       "    </tr>\n",
       "    <tr>\n",
       "      <th>3</th>\n",
       "      <td>4</td>\n",
       "      <td>1</td>\n",
       "      <td>1</td>\n",
       "      <td>Futrelle, Mrs. Jacques Heath (Lily May Peel)</td>\n",
       "      <td>female</td>\n",
       "      <td>35.0</td>\n",
       "      <td>1</td>\n",
       "      <td>0</td>\n",
       "      <td>113803</td>\n",
       "      <td>53.1000</td>\n",
       "      <td>C123</td>\n",
       "      <td>S</td>\n",
       "    </tr>\n",
       "    <tr>\n",
       "      <th>4</th>\n",
       "      <td>5</td>\n",
       "      <td>0</td>\n",
       "      <td>3</td>\n",
       "      <td>Allen, Mr. William Henry</td>\n",
       "      <td>male</td>\n",
       "      <td>35.0</td>\n",
       "      <td>0</td>\n",
       "      <td>0</td>\n",
       "      <td>373450</td>\n",
       "      <td>8.0500</td>\n",
       "      <td>NaN</td>\n",
       "      <td>S</td>\n",
       "    </tr>\n",
       "  </tbody>\n",
       "</table>\n",
       "</div>"
      ],
      "text/plain": [
       "   PassengerId  Survived  Pclass  \\\n",
       "0            1         0       3   \n",
       "1            2         1       1   \n",
       "2            3         1       3   \n",
       "3            4         1       1   \n",
       "4            5         0       3   \n",
       "\n",
       "                                                Name     Sex   Age  SibSp  \\\n",
       "0                            Braund, Mr. Owen Harris    male  22.0      1   \n",
       "1  Cumings, Mrs. John Bradley (Florence Briggs Th...  female  38.0      1   \n",
       "2                             Heikkinen, Miss. Laina  female  26.0      0   \n",
       "3       Futrelle, Mrs. Jacques Heath (Lily May Peel)  female  35.0      1   \n",
       "4                           Allen, Mr. William Henry    male  35.0      0   \n",
       "\n",
       "   Parch            Ticket     Fare Cabin Embarked  \n",
       "0      0         A/5 21171   7.2500   NaN        S  \n",
       "1      0          PC 17599  71.2833   C85        C  \n",
       "2      0  STON/O2. 3101282   7.9250   NaN        S  \n",
       "3      0            113803  53.1000  C123        S  \n",
       "4      0            373450   8.0500   NaN        S  "
      ]
     },
     "execution_count": 27,
     "metadata": {},
     "output_type": "execute_result"
    }
   ],
   "source": [
    "titanic_fp = DEMO_DIR / \"titanic.csv\"\n",
    "titanic_fp.exists()\n",
    "\n",
    "df = pd.read_csv(titanic_fp)\n",
    "df.head()"
   ]
  },
  {
   "cell_type": "code",
   "execution_count": 28,
   "metadata": {},
   "outputs": [
    {
     "data": {
      "text/html": [
       "<div>\n",
       "<style scoped>\n",
       "    .dataframe tbody tr th:only-of-type {\n",
       "        vertical-align: middle;\n",
       "    }\n",
       "\n",
       "    .dataframe tbody tr th {\n",
       "        vertical-align: top;\n",
       "    }\n",
       "\n",
       "    .dataframe thead th {\n",
       "        text-align: right;\n",
       "    }\n",
       "</style>\n",
       "<table border=\"1\" class=\"dataframe\">\n",
       "  <thead>\n",
       "    <tr style=\"text-align: right;\">\n",
       "      <th></th>\n",
       "      <th>PassengerId</th>\n",
       "      <th>Survived</th>\n",
       "      <th>Pclass</th>\n",
       "      <th>Age</th>\n",
       "      <th>SibSp</th>\n",
       "      <th>Parch</th>\n",
       "      <th>Fare</th>\n",
       "    </tr>\n",
       "  </thead>\n",
       "  <tbody>\n",
       "    <tr>\n",
       "      <th>0</th>\n",
       "      <td>1</td>\n",
       "      <td>0</td>\n",
       "      <td>3</td>\n",
       "      <td>22.0</td>\n",
       "      <td>1</td>\n",
       "      <td>0</td>\n",
       "      <td>7.2500</td>\n",
       "    </tr>\n",
       "    <tr>\n",
       "      <th>1</th>\n",
       "      <td>2</td>\n",
       "      <td>1</td>\n",
       "      <td>1</td>\n",
       "      <td>38.0</td>\n",
       "      <td>1</td>\n",
       "      <td>0</td>\n",
       "      <td>71.2833</td>\n",
       "    </tr>\n",
       "    <tr>\n",
       "      <th>2</th>\n",
       "      <td>3</td>\n",
       "      <td>1</td>\n",
       "      <td>3</td>\n",
       "      <td>26.0</td>\n",
       "      <td>0</td>\n",
       "      <td>0</td>\n",
       "      <td>7.9250</td>\n",
       "    </tr>\n",
       "    <tr>\n",
       "      <th>3</th>\n",
       "      <td>4</td>\n",
       "      <td>1</td>\n",
       "      <td>1</td>\n",
       "      <td>35.0</td>\n",
       "      <td>1</td>\n",
       "      <td>0</td>\n",
       "      <td>53.1000</td>\n",
       "    </tr>\n",
       "    <tr>\n",
       "      <th>4</th>\n",
       "      <td>5</td>\n",
       "      <td>0</td>\n",
       "      <td>3</td>\n",
       "      <td>35.0</td>\n",
       "      <td>0</td>\n",
       "      <td>0</td>\n",
       "      <td>8.0500</td>\n",
       "    </tr>\n",
       "  </tbody>\n",
       "</table>\n",
       "</div>"
      ],
      "text/plain": [
       "   PassengerId  Survived  Pclass   Age  SibSp  Parch     Fare\n",
       "0            1         0       3  22.0      1      0   7.2500\n",
       "1            2         1       1  38.0      1      0  71.2833\n",
       "2            3         1       3  26.0      0      0   7.9250\n",
       "3            4         1       1  35.0      1      0  53.1000\n",
       "4            5         0       3  35.0      0      0   8.0500"
      ]
     },
     "execution_count": 28,
     "metadata": {},
     "output_type": "execute_result"
    }
   ],
   "source": [
    "usable_cols = [c for c in df.columns if pd.api.types.is_numeric_dtype(df[c].dtype)]\n",
    "df2 = df[usable_cols].copy()\n",
    "df2.head()"
   ]
  },
  {
   "cell_type": "code",
   "execution_count": 29,
   "metadata": {},
   "outputs": [
    {
     "data": {
      "text/html": [
       "<div>\n",
       "<style scoped>\n",
       "    .dataframe tbody tr th:only-of-type {\n",
       "        vertical-align: middle;\n",
       "    }\n",
       "\n",
       "    .dataframe tbody tr th {\n",
       "        vertical-align: top;\n",
       "    }\n",
       "\n",
       "    .dataframe thead th {\n",
       "        text-align: right;\n",
       "    }\n",
       "</style>\n",
       "<table border=\"1\" class=\"dataframe\">\n",
       "  <thead>\n",
       "    <tr style=\"text-align: right;\">\n",
       "      <th></th>\n",
       "      <th>Pclass</th>\n",
       "      <th>Age</th>\n",
       "      <th>SibSp</th>\n",
       "      <th>Parch</th>\n",
       "      <th>Fare</th>\n",
       "      <th>Survived</th>\n",
       "    </tr>\n",
       "  </thead>\n",
       "  <tbody>\n",
       "    <tr>\n",
       "      <th>0</th>\n",
       "      <td>3</td>\n",
       "      <td>22.0</td>\n",
       "      <td>1</td>\n",
       "      <td>0</td>\n",
       "      <td>7.2500</td>\n",
       "      <td>0</td>\n",
       "    </tr>\n",
       "    <tr>\n",
       "      <th>1</th>\n",
       "      <td>1</td>\n",
       "      <td>38.0</td>\n",
       "      <td>1</td>\n",
       "      <td>0</td>\n",
       "      <td>71.2833</td>\n",
       "      <td>1</td>\n",
       "    </tr>\n",
       "    <tr>\n",
       "      <th>2</th>\n",
       "      <td>3</td>\n",
       "      <td>26.0</td>\n",
       "      <td>0</td>\n",
       "      <td>0</td>\n",
       "      <td>7.9250</td>\n",
       "      <td>1</td>\n",
       "    </tr>\n",
       "    <tr>\n",
       "      <th>3</th>\n",
       "      <td>1</td>\n",
       "      <td>35.0</td>\n",
       "      <td>1</td>\n",
       "      <td>0</td>\n",
       "      <td>53.1000</td>\n",
       "      <td>1</td>\n",
       "    </tr>\n",
       "    <tr>\n",
       "      <th>4</th>\n",
       "      <td>3</td>\n",
       "      <td>35.0</td>\n",
       "      <td>0</td>\n",
       "      <td>0</td>\n",
       "      <td>8.0500</td>\n",
       "      <td>0</td>\n",
       "    </tr>\n",
       "  </tbody>\n",
       "</table>\n",
       "</div>"
      ],
      "text/plain": [
       "   Pclass   Age  SibSp  Parch     Fare  Survived\n",
       "0       3  22.0      1      0   7.2500         0\n",
       "1       1  38.0      1      0  71.2833         1\n",
       "2       3  26.0      0      0   7.9250         1\n",
       "3       1  35.0      1      0  53.1000         1\n",
       "4       3  35.0      0      0   8.0500         0"
      ]
     },
     "execution_count": 29,
     "metadata": {},
     "output_type": "execute_result"
    }
   ],
   "source": [
    "df2[\"Survived\"] = df.Survived\n",
    "df2 = df2[\n",
    "    [c for c in df2.columns if c not in {\"Survived\", \"PassengerId\"}] + [\"Survived\"]\n",
    "]\n",
    "df2.head()"
   ]
  },
  {
   "cell_type": "code",
   "execution_count": 30,
   "metadata": {},
   "outputs": [],
   "source": [
    "df2.dropna(inplace=True)"
   ]
  },
  {
   "cell_type": "code",
   "execution_count": 31,
   "metadata": {},
   "outputs": [
    {
     "data": {
      "text/plain": [
       "array([[ 3.    , 22.    ,  1.    ,  0.    ,  7.25  ,  0.    ],\n",
       "       [ 1.    , 38.    ,  1.    ,  0.    , 71.2833,  1.    ],\n",
       "       [ 3.    , 26.    ,  0.    ,  0.    ,  7.925 ,  1.    ],\n",
       "       [ 1.    , 35.    ,  1.    ,  0.    , 53.1   ,  1.    ],\n",
       "       [ 3.    , 35.    ,  0.    ,  0.    ,  8.05  ,  0.    ]])"
      ]
     },
     "execution_count": 31,
     "metadata": {},
     "output_type": "execute_result"
    }
   ],
   "source": [
    "X = df2.values\n",
    "X[:5, :]"
   ]
  },
  {
   "cell_type": "markdown",
   "metadata": {},
   "source": [
    "## Mercs"
   ]
  },
  {
   "cell_type": "code",
   "execution_count": 32,
   "metadata": {},
   "outputs": [
    {
     "data": {
      "text/plain": [
       "{5}"
      ]
     },
     "execution_count": 32,
     "metadata": {},
     "output_type": "execute_result"
    }
   ],
   "source": [
    "nominal_attributes = {X.shape[1] - 1}\n",
    "nominal_attributes"
   ]
  },
  {
   "cell_type": "code",
   "execution_count": 33,
   "metadata": {},
   "outputs": [],
   "source": [
    "cfg_mercs_default = dict(\n",
    "    # Induction\n",
    "    max_depth=8,\n",
    "    selection_algorithm=\"random\",\n",
    "    nb_targets=1,\n",
    "    nb_iterations=10,\n",
    "    fraction_missing=0.4,\n",
    "    n_jobs=1,\n",
    "    # Inference\n",
    "    inference_algorithm=\"own\",\n",
    "    prediction_algorithm=\"rw\",\n",
    "    max_steps=8,\n",
    "    nb_walks=5,\n",
    "    # Metadata\n",
    "    nominal_attributes=nominal_attributes,\n",
    ")\n",
    "\n",
    "# Train a MERCS-model with config above\n",
    "clf = Mercs(**cfg_mercs_default)\n",
    "\n",
    "# Nominal attributes has to be given at fit, all the rest can be done before\n",
    "clf.fit(X, nominal_attributes=nominal_attributes)"
   ]
  },
  {
   "cell_type": "code",
   "execution_count": 34,
   "metadata": {},
   "outputs": [
    {
     "data": {
      "text/plain": [
       "60"
      ]
     },
     "execution_count": 34,
     "metadata": {},
     "output_type": "execute_result"
    }
   ],
   "source": [
    "len(clf.m_codes)"
   ]
  },
  {
   "cell_type": "code",
   "execution_count": 35,
   "metadata": {},
   "outputs": [
    {
     "data": {
      "text/plain": [
       "{'attributes': {0, 1, 2, 3, 4, 5},\n",
       " 'n_attributes': 6,\n",
       " 'types': [dtype('float64'),\n",
       "  dtype('float64'),\n",
       "  dtype('float64'),\n",
       "  dtype('float64'),\n",
       "  dtype('float64'),\n",
       "  dtype('float64')],\n",
       " 'nominal_attributes': {5},\n",
       " 'numeric_attributes': {0, 1, 2, 3, 4},\n",
       " 'n_component_models': 60}"
      ]
     },
     "execution_count": 35,
     "metadata": {},
     "output_type": "execute_result"
    }
   ],
   "source": [
    "clf.metadata"
   ]
  },
  {
   "cell_type": "markdown",
   "metadata": {},
   "source": [
    "## Predict"
   ]
  },
  {
   "cell_type": "code",
   "execution_count": 36,
   "metadata": {},
   "outputs": [
    {
     "data": {
      "text/plain": [
       "(714, 6)"
      ]
     },
     "execution_count": 36,
     "metadata": {},
     "output_type": "execute_result"
    }
   ],
   "source": [
    "X.shape"
   ]
  },
  {
   "cell_type": "code",
   "execution_count": 37,
   "metadata": {},
   "outputs": [
    {
     "data": {
      "text/plain": [
       "array([0., 1., 0., 1., 0., 0., 0., 1., 1., 1.])"
      ]
     },
     "execution_count": 37,
     "metadata": {},
     "output_type": "execute_result"
    }
   ],
   "source": [
    "q_code = np.array([-1, 0, 0, 0, 0, 1])\n",
    "clf.predict(X, q_code=q_code)[:10]"
   ]
  },
  {
   "cell_type": "code",
   "execution_count": 38,
   "metadata": {},
   "outputs": [
    {
     "data": {
      "image/svg+xml": [
       "<svg xmlns=\"http://www.w3.org/2000/svg\" xmlns:xlink=\"http://www.w3.org/1999/xlink\" width=\"490pt\" height=\"188pt\" viewBox=\"0.00 0.00 489.89 188.00\">\n",
       "<g id=\"graph0\" class=\"graph\" transform=\"scale(1 1) rotate(0) translate(4 184)\">\n",
       "<title>G</title>\n",
       "<polygon fill=\"white\" stroke=\"transparent\" points=\"-4,4 -4,-184 485.89,-184 485.89,4 -4,4\"/>\n",
       "<!-- (&#39;D&#39;, 1) -->\n",
       "<g id=\"node1\" class=\"node\">\n",
       "<title>('D', 1)</title>\n",
       "<ellipse fill=\"none\" stroke=\"black\" cx=\"290.95\" cy=\"-18\" rx=\"41.69\" ry=\"18\"/>\n",
       "<text text-anchor=\"middle\" x=\"290.95\" y=\"-14.3\" font-family=\"Times,serif\" font-size=\"14.00\">('D', 1)</text>\n",
       "</g>\n",
       "<!-- (&#39;C&#39;, 0) -->\n",
       "<g id=\"node2\" class=\"node\">\n",
       "<title>('C', 0)</title>\n",
       "<ellipse fill=\"none\" stroke=\"black\" cx=\"440.95\" cy=\"-90\" rx=\"40.89\" ry=\"18\"/>\n",
       "<text text-anchor=\"middle\" x=\"440.95\" y=\"-86.3\" font-family=\"Times,serif\" font-size=\"14.00\">('C', 0)</text>\n",
       "</g>\n",
       "<!-- (&#39;D&#39;, 1)&#45;&gt;(&#39;C&#39;, 0) -->\n",
       "<g id=\"edge1\" class=\"edge\">\n",
       "<title>('D', 1)-&gt;('C', 0)</title>\n",
       "<path fill=\"none\" stroke=\"black\" d=\"M318.11,-31.68C342.32,-42.98 377.95,-59.6 404.61,-72.04\"/>\n",
       "<polygon fill=\"black\" stroke=\"black\" points=\"403.44,-75.36 413.98,-76.42 406.4,-69.02 403.44,-75.36\"/>\n",
       "</g>\n",
       "<!-- (&#39;C&#39;, 1) -->\n",
       "<g id=\"node6\" class=\"node\">\n",
       "<title>('C', 1)</title>\n",
       "<ellipse fill=\"none\" stroke=\"black\" cx=\"40.95\" cy=\"-90\" rx=\"40.89\" ry=\"18\"/>\n",
       "<text text-anchor=\"middle\" x=\"40.95\" y=\"-86.3\" font-family=\"Times,serif\" font-size=\"14.00\">('C', 1)</text>\n",
       "</g>\n",
       "<!-- (&#39;D&#39;, 1)&#45;&gt;(&#39;C&#39;, 1) -->\n",
       "<g id=\"edge2\" class=\"edge\">\n",
       "<title>('D', 1)-&gt;('C', 1)</title>\n",
       "<path fill=\"none\" stroke=\"black\" d=\"M259.88,-30.06C253.64,-32.14 247.11,-34.22 240.95,-36 175.09,-55.06 156.8,-52.94 90.95,-72 87.82,-72.9 84.6,-73.89 81.37,-74.9\"/>\n",
       "<polygon fill=\"black\" stroke=\"black\" points=\"80.17,-71.61 71.74,-78.03 82.34,-78.27 80.17,-71.61\"/>\n",
       "</g>\n",
       "<!-- (&#39;C&#39;, 2) -->\n",
       "<g id=\"node7\" class=\"node\">\n",
       "<title>('C', 2)</title>\n",
       "<ellipse fill=\"none\" stroke=\"black\" cx=\"140.95\" cy=\"-90\" rx=\"40.89\" ry=\"18\"/>\n",
       "<text text-anchor=\"middle\" x=\"140.95\" y=\"-86.3\" font-family=\"Times,serif\" font-size=\"14.00\">('C', 2)</text>\n",
       "</g>\n",
       "<!-- (&#39;D&#39;, 1)&#45;&gt;(&#39;C&#39;, 2) -->\n",
       "<g id=\"edge3\" class=\"edge\">\n",
       "<title>('D', 1)-&gt;('C', 2)</title>\n",
       "<path fill=\"none\" stroke=\"black\" d=\"M263.78,-31.68C239.57,-42.98 203.94,-59.6 177.29,-72.04\"/>\n",
       "<polygon fill=\"black\" stroke=\"black\" points=\"175.49,-69.02 167.91,-76.42 178.45,-75.36 175.49,-69.02\"/>\n",
       "</g>\n",
       "<!-- (&#39;C&#39;, 3) -->\n",
       "<g id=\"node8\" class=\"node\">\n",
       "<title>('C', 3)</title>\n",
       "<ellipse fill=\"none\" stroke=\"black\" cx=\"240.95\" cy=\"-90\" rx=\"40.89\" ry=\"18\"/>\n",
       "<text text-anchor=\"middle\" x=\"240.95\" y=\"-86.3\" font-family=\"Times,serif\" font-size=\"14.00\">('C', 3)</text>\n",
       "</g>\n",
       "<!-- (&#39;D&#39;, 1)&#45;&gt;(&#39;C&#39;, 3) -->\n",
       "<g id=\"edge4\" class=\"edge\">\n",
       "<title>('D', 1)-&gt;('C', 3)</title>\n",
       "<path fill=\"none\" stroke=\"black\" d=\"M279.1,-35.59C272.99,-44.13 265.43,-54.72 258.65,-64.21\"/>\n",
       "<polygon fill=\"black\" stroke=\"black\" points=\"255.67,-62.36 252.71,-72.53 261.37,-66.43 255.67,-62.36\"/>\n",
       "</g>\n",
       "<!-- (&#39;C&#39;, 4) -->\n",
       "<g id=\"node9\" class=\"node\">\n",
       "<title>('C', 4)</title>\n",
       "<ellipse fill=\"none\" stroke=\"black\" cx=\"340.95\" cy=\"-90\" rx=\"40.89\" ry=\"18\"/>\n",
       "<text text-anchor=\"middle\" x=\"340.95\" y=\"-86.3\" font-family=\"Times,serif\" font-size=\"14.00\">('C', 4)</text>\n",
       "</g>\n",
       "<!-- (&#39;D&#39;, 1)&#45;&gt;(&#39;C&#39;, 4) -->\n",
       "<g id=\"edge5\" class=\"edge\">\n",
       "<title>('D', 1)-&gt;('C', 4)</title>\n",
       "<path fill=\"none\" stroke=\"black\" d=\"M302.8,-35.59C308.9,-44.13 316.46,-54.72 323.24,-64.21\"/>\n",
       "<polygon fill=\"black\" stroke=\"black\" points=\"320.52,-66.43 329.18,-72.53 326.22,-62.36 320.52,-66.43\"/>\n",
       "</g>\n",
       "<!-- (&#39;D&#39;, 5) -->\n",
       "<g id=\"node10\" class=\"node\">\n",
       "<title>('D', 5)</title>\n",
       "<ellipse fill=\"none\" stroke=\"black\" cx=\"240.95\" cy=\"-162\" rx=\"41.69\" ry=\"18\"/>\n",
       "<text text-anchor=\"middle\" x=\"240.95\" y=\"-158.3\" font-family=\"Times,serif\" font-size=\"14.00\">('D', 5)</text>\n",
       "</g>\n",
       "<!-- (&#39;C&#39;, 0)&#45;&gt;(&#39;D&#39;, 5) -->\n",
       "<g id=\"edge6\" class=\"edge\">\n",
       "<title>('C', 0)-&gt;('D', 5)</title>\n",
       "<path fill=\"none\" stroke=\"black\" d=\"M409.7,-101.94C375.31,-113.97 319.89,-133.37 282.01,-146.63\"/>\n",
       "<polygon fill=\"black\" stroke=\"black\" points=\"280.59,-143.42 272.31,-150.02 282.9,-150.02 280.59,-143.42\"/>\n",
       "</g>\n",
       "<!-- (&#39;D&#39;, 2) -->\n",
       "<g id=\"node3\" class=\"node\">\n",
       "<title>('D', 2)</title>\n",
       "<ellipse fill=\"none\" stroke=\"black\" cx=\"391.95\" cy=\"-18\" rx=\"41.69\" ry=\"18\"/>\n",
       "<text text-anchor=\"middle\" x=\"391.95\" y=\"-14.3\" font-family=\"Times,serif\" font-size=\"14.00\">('D', 2)</text>\n",
       "</g>\n",
       "<!-- (&#39;D&#39;, 2)&#45;&gt;(&#39;C&#39;, 0) -->\n",
       "<g id=\"edge7\" class=\"edge\">\n",
       "<title>('D', 2)-&gt;('C', 0)</title>\n",
       "<path fill=\"none\" stroke=\"black\" d=\"M403.56,-35.59C409.54,-44.13 416.95,-54.72 423.6,-64.21\"/>\n",
       "<polygon fill=\"black\" stroke=\"black\" points=\"420.82,-66.34 429.42,-72.53 426.55,-62.33 420.82,-66.34\"/>\n",
       "</g>\n",
       "<!-- (&#39;D&#39;, 2)&#45;&gt;(&#39;C&#39;, 1) -->\n",
       "<g id=\"edge8\" class=\"edge\">\n",
       "<title>('D', 2)-&gt;('C', 1)</title>\n",
       "<path fill=\"none\" stroke=\"black\" d=\"M361.54,-30.34C355.13,-32.44 348.37,-34.46 341.95,-36 232.35,-62.25 200.54,-45.75 90.95,-72 87.59,-72.8 84.14,-73.74 80.7,-74.75\"/>\n",
       "<polygon fill=\"black\" stroke=\"black\" points=\"79.59,-71.43 71.09,-77.75 81.68,-78.11 79.59,-71.43\"/>\n",
       "</g>\n",
       "<!-- (&#39;D&#39;, 2)&#45;&gt;(&#39;C&#39;, 2) -->\n",
       "<g id=\"edge9\" class=\"edge\">\n",
       "<title>('D', 2)-&gt;('C', 2)</title>\n",
       "<path fill=\"none\" stroke=\"black\" d=\"M360.88,-30.06C354.65,-32.14 348.11,-34.22 341.95,-36 275.66,-55.13 257.23,-52.87 190.95,-72 187.82,-72.9 184.6,-73.88 181.37,-74.9\"/>\n",
       "<polygon fill=\"black\" stroke=\"black\" points=\"180.17,-71.61 171.74,-78.02 182.33,-78.26 180.17,-71.61\"/>\n",
       "</g>\n",
       "<!-- (&#39;D&#39;, 2)&#45;&gt;(&#39;C&#39;, 3) -->\n",
       "<g id=\"edge10\" class=\"edge\">\n",
       "<title>('D', 2)-&gt;('C', 3)</title>\n",
       "<path fill=\"none\" stroke=\"black\" d=\"M364.6,-31.68C340.12,-43.02 304.05,-59.75 277.18,-72.2\"/>\n",
       "<polygon fill=\"black\" stroke=\"black\" points=\"275.69,-69.04 268.09,-76.42 278.63,-75.39 275.69,-69.04\"/>\n",
       "</g>\n",
       "<!-- (&#39;D&#39;, 2)&#45;&gt;(&#39;C&#39;, 4) -->\n",
       "<g id=\"edge11\" class=\"edge\">\n",
       "<title>('D', 2)-&gt;('C', 4)</title>\n",
       "<path fill=\"none\" stroke=\"black\" d=\"M379.86,-35.59C373.64,-44.13 365.92,-54.72 359.01,-64.21\"/>\n",
       "<polygon fill=\"black\" stroke=\"black\" points=\"356.01,-62.39 352.95,-72.53 361.66,-66.51 356.01,-62.39\"/>\n",
       "</g>\n",
       "<!-- (&#39;D&#39;, 3) -->\n",
       "<g id=\"node4\" class=\"node\">\n",
       "<title>('D', 3)</title>\n",
       "<ellipse fill=\"none\" stroke=\"black\" cx=\"88.95\" cy=\"-18\" rx=\"41.69\" ry=\"18\"/>\n",
       "<text text-anchor=\"middle\" x=\"88.95\" y=\"-14.3\" font-family=\"Times,serif\" font-size=\"14.00\">('D', 3)</text>\n",
       "</g>\n",
       "<!-- (&#39;D&#39;, 3)&#45;&gt;(&#39;C&#39;, 0) -->\n",
       "<g id=\"edge12\" class=\"edge\">\n",
       "<title>('D', 3)-&gt;('C', 0)</title>\n",
       "<path fill=\"none\" stroke=\"black\" d=\"M119.36,-30.34C125.76,-32.45 132.53,-34.46 138.95,-36 248.98,-62.32 280.91,-45.68 390.95,-72 394.3,-72.8 397.75,-73.74 401.2,-74.75\"/>\n",
       "<polygon fill=\"black\" stroke=\"black\" points=\"400.21,-78.11 410.8,-77.75 402.3,-71.42 400.21,-78.11\"/>\n",
       "</g>\n",
       "<!-- (&#39;D&#39;, 3)&#45;&gt;(&#39;C&#39;, 1) -->\n",
       "<g id=\"edge13\" class=\"edge\">\n",
       "<title>('D', 3)-&gt;('C', 1)</title>\n",
       "<path fill=\"none\" stroke=\"black\" d=\"M77.57,-35.59C71.71,-44.13 64.45,-54.72 57.94,-64.21\"/>\n",
       "<polygon fill=\"black\" stroke=\"black\" points=\"55.01,-62.3 52.24,-72.53 60.78,-66.26 55.01,-62.3\"/>\n",
       "</g>\n",
       "<!-- (&#39;D&#39;, 3)&#45;&gt;(&#39;C&#39;, 2) -->\n",
       "<g id=\"edge14\" class=\"edge\">\n",
       "<title>('D', 3)-&gt;('C', 2)</title>\n",
       "<path fill=\"none\" stroke=\"black\" d=\"M101.01,-35.24C107.41,-43.86 115.42,-54.64 122.58,-64.27\"/>\n",
       "<polygon fill=\"black\" stroke=\"black\" points=\"119.82,-66.43 128.59,-72.37 125.44,-62.25 119.82,-66.43\"/>\n",
       "</g>\n",
       "<!-- (&#39;D&#39;, 3)&#45;&gt;(&#39;C&#39;, 3) -->\n",
       "<g id=\"edge15\" class=\"edge\">\n",
       "<title>('D', 3)-&gt;('C', 3)</title>\n",
       "<path fill=\"none\" stroke=\"black\" d=\"M116.47,-31.68C141.11,-43.02 177.43,-59.75 204.48,-72.2\"/>\n",
       "<polygon fill=\"black\" stroke=\"black\" points=\"203.08,-75.41 213.63,-76.42 206.01,-69.06 203.08,-75.41\"/>\n",
       "</g>\n",
       "<!-- (&#39;D&#39;, 3)&#45;&gt;(&#39;C&#39;, 4) -->\n",
       "<g id=\"edge16\" class=\"edge\">\n",
       "<title>('D', 3)-&gt;('C', 4)</title>\n",
       "<path fill=\"none\" stroke=\"black\" d=\"M120.01,-30.07C126.25,-32.15 132.78,-34.23 138.95,-36 205.66,-55.2 224.23,-52.8 290.95,-72 294.07,-72.9 297.3,-73.88 300.53,-74.89\"/>\n",
       "<polygon fill=\"black\" stroke=\"black\" points=\"299.56,-78.26 310.15,-78.02 301.72,-71.6 299.56,-78.26\"/>\n",
       "</g>\n",
       "<!-- (&#39;D&#39;, 4) -->\n",
       "<g id=\"node5\" class=\"node\">\n",
       "<title>('D', 4)</title>\n",
       "<ellipse fill=\"none\" stroke=\"black\" cx=\"189.95\" cy=\"-18\" rx=\"41.69\" ry=\"18\"/>\n",
       "<text text-anchor=\"middle\" x=\"189.95\" y=\"-14.3\" font-family=\"Times,serif\" font-size=\"14.00\">('D', 4)</text>\n",
       "</g>\n",
       "<!-- (&#39;D&#39;, 4)&#45;&gt;(&#39;C&#39;, 0) -->\n",
       "<g id=\"edge17\" class=\"edge\">\n",
       "<title>('D', 4)-&gt;('C', 0)</title>\n",
       "<path fill=\"none\" stroke=\"black\" d=\"M221.01,-30.06C227.25,-32.14 233.78,-34.22 239.95,-36 306.23,-55.13 324.66,-52.87 390.95,-72 394.07,-72.9 397.3,-73.88 400.52,-74.9\"/>\n",
       "<polygon fill=\"black\" stroke=\"black\" points=\"399.56,-78.26 410.15,-78.02 401.72,-71.61 399.56,-78.26\"/>\n",
       "</g>\n",
       "<!-- (&#39;D&#39;, 4)&#45;&gt;(&#39;C&#39;, 1) -->\n",
       "<g id=\"edge18\" class=\"edge\">\n",
       "<title>('D', 4)-&gt;('C', 1)</title>\n",
       "<path fill=\"none\" stroke=\"black\" d=\"M162.62,-31.84C138.67,-43.09 103.69,-59.52 77.37,-71.89\"/>\n",
       "<polygon fill=\"black\" stroke=\"black\" points=\"75.66,-68.82 68.1,-76.24 78.64,-75.16 75.66,-68.82\"/>\n",
       "</g>\n",
       "<!-- (&#39;D&#39;, 4)&#45;&gt;(&#39;C&#39;, 2) -->\n",
       "<g id=\"edge19\" class=\"edge\">\n",
       "<title>('D', 4)-&gt;('C', 2)</title>\n",
       "<path fill=\"none\" stroke=\"black\" d=\"M178.33,-35.59C172.35,-44.13 164.94,-54.72 158.3,-64.21\"/>\n",
       "<polygon fill=\"black\" stroke=\"black\" points=\"155.34,-62.33 152.48,-72.53 161.08,-66.34 155.34,-62.33\"/>\n",
       "</g>\n",
       "<!-- (&#39;D&#39;, 4)&#45;&gt;(&#39;C&#39;, 3) -->\n",
       "<g id=\"edge20\" class=\"edge\">\n",
       "<title>('D', 4)-&gt;('C', 3)</title>\n",
       "<path fill=\"none\" stroke=\"black\" d=\"M202.03,-35.59C208.26,-44.13 215.97,-54.72 222.89,-64.21\"/>\n",
       "<polygon fill=\"black\" stroke=\"black\" points=\"220.23,-66.51 228.95,-72.53 225.89,-62.39 220.23,-66.51\"/>\n",
       "</g>\n",
       "<!-- (&#39;D&#39;, 4)&#45;&gt;(&#39;C&#39;, 4) -->\n",
       "<g id=\"edge21\" class=\"edge\">\n",
       "<title>('D', 4)-&gt;('C', 4)</title>\n",
       "<path fill=\"none\" stroke=\"black\" d=\"M217.29,-31.68C241.77,-43.02 277.84,-59.75 304.72,-72.2\"/>\n",
       "<polygon fill=\"black\" stroke=\"black\" points=\"303.26,-75.39 313.8,-76.42 306.2,-69.04 303.26,-75.39\"/>\n",
       "</g>\n",
       "<!-- (&#39;C&#39;, 1)&#45;&gt;(&#39;D&#39;, 5) -->\n",
       "<g id=\"edge22\" class=\"edge\">\n",
       "<title>('C', 1)-&gt;('D', 5)</title>\n",
       "<path fill=\"none\" stroke=\"black\" d=\"M72.2,-101.94C106.59,-113.97 162,-133.37 199.88,-146.63\"/>\n",
       "<polygon fill=\"black\" stroke=\"black\" points=\"198.99,-150.02 209.59,-150.02 201.3,-143.42 198.99,-150.02\"/>\n",
       "</g>\n",
       "<!-- (&#39;C&#39;, 2)&#45;&gt;(&#39;D&#39;, 5) -->\n",
       "<g id=\"edge23\" class=\"edge\">\n",
       "<title>('C', 2)-&gt;('D', 5)</title>\n",
       "<path fill=\"none\" stroke=\"black\" d=\"M162.15,-105.85C176.57,-115.94 195.83,-129.42 211.7,-140.53\"/>\n",
       "<polygon fill=\"black\" stroke=\"black\" points=\"209.91,-143.55 220.11,-146.42 213.93,-137.81 209.91,-143.55\"/>\n",
       "</g>\n",
       "<!-- (&#39;C&#39;, 3)&#45;&gt;(&#39;D&#39;, 5) -->\n",
       "<g id=\"edge24\" class=\"edge\">\n",
       "<title>('C', 3)-&gt;('D', 5)</title>\n",
       "<path fill=\"none\" stroke=\"black\" d=\"M240.95,-108.3C240.95,-116.02 240.95,-125.29 240.95,-133.89\"/>\n",
       "<polygon fill=\"black\" stroke=\"black\" points=\"237.45,-133.9 240.95,-143.9 244.45,-133.9 237.45,-133.9\"/>\n",
       "</g>\n",
       "<!-- (&#39;C&#39;, 4)&#45;&gt;(&#39;D&#39;, 5) -->\n",
       "<g id=\"edge25\" class=\"edge\">\n",
       "<title>('C', 4)-&gt;('D', 5)</title>\n",
       "<path fill=\"none\" stroke=\"black\" d=\"M319.74,-105.85C305.32,-115.94 286.06,-129.42 270.2,-140.53\"/>\n",
       "<polygon fill=\"black\" stroke=\"black\" points=\"267.97,-137.81 261.78,-146.42 271.98,-143.55 267.97,-137.81\"/>\n",
       "</g>\n",
       "</g>\n",
       "</svg>"
      ],
      "text/plain": [
       "<IPython.core.display.SVG object>"
      ]
     },
     "metadata": {},
     "output_type": "display_data"
    }
   ],
   "source": [
    "clf.show_q_diagram()"
   ]
  },
  {
   "cell_type": "code",
   "execution_count": 39,
   "metadata": {},
   "outputs": [
    {
     "data": {
      "text/plain": [
       "[array([0., 1.])]"
      ]
     },
     "execution_count": 39,
     "metadata": {},
     "output_type": "execute_result"
    }
   ],
   "source": [
    "clf.q_model.classes_"
   ]
  },
  {
   "cell_type": "code",
   "execution_count": null,
   "metadata": {},
   "outputs": [],
   "source": []
  },
  {
   "cell_type": "code",
   "execution_count": 40,
   "metadata": {},
   "outputs": [
    {
     "data": {
      "text/plain": [
       "[1, 2, 3, 4]"
      ]
     },
     "execution_count": 40,
     "metadata": {},
     "output_type": "execute_result"
    }
   ],
   "source": [
    "clf.q_model.desc_ids"
   ]
  },
  {
   "cell_type": "code",
   "execution_count": 41,
   "metadata": {},
   "outputs": [
    {
     "data": {
      "text/plain": [
       "[5]"
      ]
     },
     "execution_count": 41,
     "metadata": {},
     "output_type": "execute_result"
    }
   ],
   "source": [
    "clf.q_model.targ_ids"
   ]
  },
  {
   "cell_type": "code",
   "execution_count": 42,
   "metadata": {},
   "outputs": [],
   "source": [
    "y_pred = clf.q_model.predict(X[:, clf.q_model.desc_ids])"
   ]
  },
  {
   "cell_type": "markdown",
   "metadata": {},
   "source": [
    "## SHAP Manual"
   ]
  },
  {
   "cell_type": "code",
   "execution_count": 43,
   "metadata": {},
   "outputs": [],
   "source": [
    "import shap\n",
    "\n",
    "X_desc = X[:, clf.q_model.desc_ids]\n",
    "X_train = X_desc[:200, :]\n",
    "X_test = X_desc[200:300, :]\n",
    "bg_data = shap.sample(X_train, 100)\n",
    "\n",
    "\n",
    "function_to_explain = lambda x: clf.q_model.predict_proba(x)[0]\n",
    "\n",
    "explainer = shap.KernelExplainer(function_to_explain, bg_data, silent=True)"
   ]
  },
  {
   "cell_type": "code",
   "execution_count": 44,
   "metadata": {},
   "outputs": [
    {
     "name": "stderr",
     "output_type": "stream",
     "text": [
      "ERROR:root:No traceback has been produced, nothing to debug.\n"
     ]
    }
   ],
   "source": [
    "%debug"
   ]
  },
  {
   "cell_type": "code",
   "execution_count": 53,
   "metadata": {},
   "outputs": [
    {
     "data": {
      "text/plain": [
       "(array([0.33060994, 0.14190972, 0.22949596, 0.36453787]),\n",
       " array([0.20159143, 0.08653032, 0.13993656, 0.22227919]))"
      ]
     },
     "execution_count": 53,
     "metadata": {},
     "output_type": "execute_result"
    }
   ],
   "source": [
    "shap_values = explainer.shap_values(X_test, l1_reg=\"num_features(10)\", silent=True)\n",
    "\n",
    "np.mean(np.abs(shap_values[0]), axis=0), np.mean(np.abs(shap_values[1]), axis=0) / 1.64"
   ]
  },
  {
   "cell_type": "code",
   "execution_count": 46,
   "metadata": {},
   "outputs": [
    {
     "name": "stderr",
     "output_type": "stream",
     "text": [
      "ERROR:root:No traceback has been produced, nothing to debug.\n"
     ]
    }
   ],
   "source": [
    "%debug"
   ]
  },
  {
   "cell_type": "code",
   "execution_count": 47,
   "metadata": {},
   "outputs": [
    {
     "data": {
      "text/plain": [
       "1.0665534918480615"
      ]
     },
     "execution_count": 47,
     "metadata": {},
     "output_type": "execute_result"
    }
   ],
   "source": [
    "np.sum(np.mean(np.abs(shap_values[0]), axis=0))"
   ]
  },
  {
   "cell_type": "markdown",
   "metadata": {},
   "source": [
    "## SHAP Avatar Function"
   ]
  },
  {
   "cell_type": "code",
   "execution_count": 48,
   "metadata": {},
   "outputs": [
    {
     "name": "stderr",
     "output_type": "stream",
     "text": [
      "WARNING:shap:Using 200 background data samples could cause slower run times. Consider using shap.sample(data, K) or shap.kmeans(data, K) to summarize the background as K samples.\n"
     ]
    },
    {
     "data": {
      "application/vnd.jupyter.widget-view+json": {
       "model_id": "06e42305e64845aeab7f49be86d4a524",
       "version_major": 2,
       "version_minor": 0
      },
      "text/plain": [
       "HBox(children=(FloatProgress(value=0.0), HTML(value='')))"
      ]
     },
     "metadata": {},
     "output_type": "display_data"
    },
    {
     "name": "stdout",
     "output_type": "stream",
     "text": [
      "\n"
     ]
    },
    {
     "data": {
      "text/plain": [
       "array([0.30474599, 0.12939281, 0.22773032, 0.33813088])"
      ]
     },
     "execution_count": 48,
     "metadata": {},
     "output_type": "execute_result"
    }
   ],
   "source": [
    "clf.avatar_q_model(X_train, X_test, n_samples=200)"
   ]
  },
  {
   "cell_type": "code",
   "execution_count": 49,
   "metadata": {},
   "outputs": [
    {
     "data": {
      "application/vnd.jupyter.widget-view+json": {
       "model_id": "e6e2631c047f468e887a7176816df0ba",
       "version_major": 2,
       "version_minor": 0
      },
      "text/plain": [
       "HBox(children=(FloatProgress(value=0.0), HTML(value='')))"
      ]
     },
     "metadata": {},
     "output_type": "display_data"
    },
    {
     "name": "stdout",
     "output_type": "stream",
     "text": [
      "\n"
     ]
    },
    {
     "data": {
      "text/plain": [
       "array([0.29568166, 0.15563953, 0.13324768, 0.41543113])"
      ]
     },
     "execution_count": 49,
     "metadata": {},
     "output_type": "execute_result"
    }
   ],
   "source": [
    "clf.avatar_q_model(X_train, X_test, n_samples=1)"
   ]
  },
  {
   "cell_type": "code",
   "execution_count": 50,
   "metadata": {},
   "outputs": [
    {
     "data": {
      "text/plain": [
       "{5}"
      ]
     },
     "execution_count": 50,
     "metadata": {},
     "output_type": "execute_result"
    }
   ],
   "source": [
    "clf.q_model.targ_ids\n",
    "clf.q_model.nominal_targ_ids"
   ]
  },
  {
   "cell_type": "code",
   "execution_count": 51,
   "metadata": {},
   "outputs": [
    {
     "data": {
      "text/plain": [
       "[array([0., 1.])]"
      ]
     },
     "execution_count": 51,
     "metadata": {},
     "output_type": "execute_result"
    }
   ],
   "source": [
    "clf.q_model.classes_"
   ]
  },
  {
   "cell_type": "code",
   "execution_count": 52,
   "metadata": {},
   "outputs": [
    {
     "data": {
      "text/plain": [
       "mercs.core.Mercs.Mercs"
      ]
     },
     "execution_count": 52,
     "metadata": {},
     "output_type": "execute_result"
    }
   ],
   "source": [
    "type(clf)"
   ]
  },
  {
   "cell_type": "code",
   "execution_count": null,
   "metadata": {},
   "outputs": [],
   "source": []
  },
  {
   "cell_type": "code",
   "execution_count": null,
   "metadata": {},
   "outputs": [],
   "source": []
  },
  {
   "cell_type": "code",
   "execution_count": null,
   "metadata": {},
   "outputs": [],
   "source": []
  },
  {
   "cell_type": "markdown",
   "metadata": {},
   "source": [
    "# Test"
   ]
  },
  {
   "cell_type": "code",
   "execution_count": null,
   "metadata": {},
   "outputs": [],
   "source": []
  }
 ],
 "metadata": {
  "kernelspec": {
   "display_name": "avatar",
   "language": "python",
   "name": "avatar"
  },
  "language_info": {
   "codemirror_mode": {
    "name": "ipython",
    "version": 3
   },
   "file_extension": ".py",
   "mimetype": "text/x-python",
   "name": "python",
   "nbconvert_exporter": "python",
   "pygments_lexer": "ipython3",
   "version": "3.8.3"
  },
  "toc-autonumbering": true
 },
 "nbformat": 4,
 "nbformat_minor": 4
}
