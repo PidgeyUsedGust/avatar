{
 "cells": [
  {
   "cell_type": "markdown",
   "metadata": {},
   "source": [
    "# Altair Plots"
   ]
  },
  {
   "cell_type": "markdown",
   "metadata": {},
   "source": [
    "# Preliminaries"
   ]
  },
  {
   "cell_type": "code",
   "execution_count": 87,
   "metadata": {},
   "outputs": [],
   "source": [
    "%load_ext lab_black"
   ]
  },
  {
   "cell_type": "markdown",
   "metadata": {},
   "source": [
    "## Imports"
   ]
  },
  {
   "cell_type": "code",
   "execution_count": 1,
   "metadata": {},
   "outputs": [],
   "source": [
    "import altair as alt\n",
    "import pandas as pd\n",
    "import numpy as np"
   ]
  },
  {
   "cell_type": "markdown",
   "metadata": {},
   "source": [
    "## Setup"
   ]
  },
  {
   "cell_type": "code",
   "execution_count": null,
   "metadata": {},
   "outputs": [],
   "source": []
  },
  {
   "cell_type": "code",
   "execution_count": null,
   "metadata": {},
   "outputs": [],
   "source": []
  },
  {
   "cell_type": "markdown",
   "metadata": {},
   "source": [
    "# Data\n",
    "\n",
    "Generating some fake data."
   ]
  },
  {
   "cell_type": "markdown",
   "metadata": {},
   "source": [
    "## Functions"
   ]
  },
  {
   "cell_type": "code",
   "execution_count": 2,
   "metadata": {},
   "outputs": [],
   "source": [
    "def _get_feature_imprt(n_features, n_orders_of_magnitude=3):\n",
    "    feature_imprt = ((10**n_orders_of_magnitude)*np.random.rand(n_features))**np.random.rand(n_features)\n",
    "    feature_imprt = feature_imprt/np.sum(feature_imprt)\n",
    "    return feature_imprt\n",
    "\n",
    "\n",
    "def _get_feature_names(n_features):\n",
    "    return [\"Feature_{:02d}\".format(i) for i in range(n_features)]\n",
    "\n",
    "def _get_iterations(n_features, n_iterations=2):\n",
    "    return np.random.randint(n_iterations+1, size=(n_features,))"
   ]
  },
  {
   "cell_type": "code",
   "execution_count": 3,
   "metadata": {},
   "outputs": [],
   "source": [
    "def get_dataframe(n_features, n_iterations=2, n_orders_of_magnitude=3):\n",
    "    df = pd.DataFrame()\n",
    "    \n",
    "    df['feature_name'] = _get_feature_names(n_features)\n",
    "    df['feature_impt'] = _get_feature_imprt(n_features, n_orders_of_magnitude=n_orders_of_magnitude)\n",
    "    df['iteration_id'] = _get_iterations(n_features, n_iterations=n_iterations)\n",
    "    return df"
   ]
  },
  {
   "cell_type": "markdown",
   "metadata": {},
   "source": [
    "## Work\n",
    "\n",
    "Actually generating data"
   ]
  },
  {
   "cell_type": "code",
   "execution_count": 4,
   "metadata": {},
   "outputs": [
    {
     "data": {
      "text/html": [
       "<div>\n",
       "<style scoped>\n",
       "    .dataframe tbody tr th:only-of-type {\n",
       "        vertical-align: middle;\n",
       "    }\n",
       "\n",
       "    .dataframe tbody tr th {\n",
       "        vertical-align: top;\n",
       "    }\n",
       "\n",
       "    .dataframe thead th {\n",
       "        text-align: right;\n",
       "    }\n",
       "</style>\n",
       "<table border=\"1\" class=\"dataframe\">\n",
       "  <thead>\n",
       "    <tr style=\"text-align: right;\">\n",
       "      <th></th>\n",
       "      <th>feature_name</th>\n",
       "      <th>feature_impt</th>\n",
       "      <th>iteration_id</th>\n",
       "    </tr>\n",
       "  </thead>\n",
       "  <tbody>\n",
       "    <tr>\n",
       "      <th>0</th>\n",
       "      <td>Feature_00</td>\n",
       "      <td>0.453986</td>\n",
       "      <td>0</td>\n",
       "    </tr>\n",
       "    <tr>\n",
       "      <th>1</th>\n",
       "      <td>Feature_01</td>\n",
       "      <td>0.030020</td>\n",
       "      <td>0</td>\n",
       "    </tr>\n",
       "    <tr>\n",
       "      <th>2</th>\n",
       "      <td>Feature_02</td>\n",
       "      <td>0.000985</td>\n",
       "      <td>1</td>\n",
       "    </tr>\n",
       "    <tr>\n",
       "      <th>3</th>\n",
       "      <td>Feature_03</td>\n",
       "      <td>0.004282</td>\n",
       "      <td>0</td>\n",
       "    </tr>\n",
       "    <tr>\n",
       "      <th>4</th>\n",
       "      <td>Feature_04</td>\n",
       "      <td>0.026872</td>\n",
       "      <td>2</td>\n",
       "    </tr>\n",
       "  </tbody>\n",
       "</table>\n",
       "</div>"
      ],
      "text/plain": [
       "  feature_name  feature_impt  iteration_id\n",
       "0   Feature_00      0.453986             0\n",
       "1   Feature_01      0.030020             0\n",
       "2   Feature_02      0.000985             1\n",
       "3   Feature_03      0.004282             0\n",
       "4   Feature_04      0.026872             2"
      ]
     },
     "execution_count": 4,
     "metadata": {},
     "output_type": "execute_result"
    }
   ],
   "source": [
    "n_features = 15\n",
    "\n",
    "df = get_dataframe(n_features, n_iterations=2, n_orders_of_magnitude=3)\n",
    "df.head()"
   ]
  },
  {
   "cell_type": "markdown",
   "metadata": {},
   "source": [
    "# Histogram"
   ]
  },
  {
   "cell_type": "code",
   "execution_count": 5,
   "metadata": {},
   "outputs": [],
   "source": [
    "def _alias_title(title, aliases):\n",
    "    for text, alias in aliases:\n",
    "        if alias is not None:\n",
    "            title = title.replace(text, alias)\n",
    "    return title"
   ]
  },
  {
   "cell_type": "code",
   "execution_count": 6,
   "metadata": {},
   "outputs": [
    {
     "data": {
      "text/html": [
       "\n",
       "<div id=\"altair-viz-297eb677b5ac4eababb78aa4c3beceb5\"></div>\n",
       "<script type=\"text/javascript\">\n",
       "  (function(spec, embedOpt){\n",
       "    let outputDiv = document.currentScript.previousElementSibling;\n",
       "    if (outputDiv.id !== \"altair-viz-297eb677b5ac4eababb78aa4c3beceb5\") {\n",
       "      outputDiv = document.getElementById(\"altair-viz-297eb677b5ac4eababb78aa4c3beceb5\");\n",
       "    }\n",
       "    const paths = {\n",
       "      \"vega\": \"https://cdn.jsdelivr.net/npm//vega@5?noext\",\n",
       "      \"vega-lib\": \"https://cdn.jsdelivr.net/npm//vega-lib?noext\",\n",
       "      \"vega-lite\": \"https://cdn.jsdelivr.net/npm//vega-lite@4.8.1?noext\",\n",
       "      \"vega-embed\": \"https://cdn.jsdelivr.net/npm//vega-embed@6?noext\",\n",
       "    };\n",
       "\n",
       "    function loadScript(lib) {\n",
       "      return new Promise(function(resolve, reject) {\n",
       "        var s = document.createElement('script');\n",
       "        s.src = paths[lib];\n",
       "        s.async = true;\n",
       "        s.onload = () => resolve(paths[lib]);\n",
       "        s.onerror = () => reject(`Error loading script: ${paths[lib]}`);\n",
       "        document.getElementsByTagName(\"head\")[0].appendChild(s);\n",
       "      });\n",
       "    }\n",
       "\n",
       "    function showError(err) {\n",
       "      outputDiv.innerHTML = `<div class=\"error\" style=\"color:red;\">${err}</div>`;\n",
       "      throw err;\n",
       "    }\n",
       "\n",
       "    function displayChart(vegaEmbed) {\n",
       "      vegaEmbed(outputDiv, spec, embedOpt)\n",
       "        .catch(err => showError(`Javascript Error: ${err.message}<br>This usually means there's a typo in your chart specification. See the javascript console for the full traceback.`));\n",
       "    }\n",
       "\n",
       "    if(typeof define === \"function\" && define.amd) {\n",
       "      requirejs.config({paths});\n",
       "      require([\"vega-embed\"], displayChart, err => showError(`Error loading script: ${err.message}`));\n",
       "    } else if (typeof vegaEmbed === \"function\") {\n",
       "      displayChart(vegaEmbed);\n",
       "    } else {\n",
       "      loadScript(\"vega\")\n",
       "        .then(() => loadScript(\"vega-lite\"))\n",
       "        .then(() => loadScript(\"vega-embed\"))\n",
       "        .catch(showError)\n",
       "        .then(() => displayChart(vegaEmbed));\n",
       "    }\n",
       "  })({\"config\": {\"view\": {\"continuousWidth\": 400, \"continuousHeight\": 300}, \"axis\": {\"labelFont\": \"times new roman\", \"labelFontSize\": 20, \"titleFont\": \"times new roman\", \"titleFontSize\": 30}, \"legend\": {\"labelFont\": \"times new roman\", \"labelFontSize\": 20, \"titleFont\": \"times new roman\", \"titleFontSize\": 20}, \"title\": {\"font\": \"times new roman\", \"fontSize\": 35}}, \"data\": {\"name\": \"data-b00bbda5ac487502a52ec19104505d26\"}, \"mark\": \"bar\", \"encoding\": {\"color\": {\"type\": \"nominal\", \"field\": \"feature_name\", \"title\": \"Feature Name\"}, \"x\": {\"type\": \"nominal\", \"field\": \"iteration_id\", \"title\": \"Iteration\"}, \"y\": {\"type\": \"quantitative\", \"aggregate\": \"sum\", \"field\": \"feature_impt\", \"title\": \"Feature Importance\"}}, \"height\": 600, \"title\": \"Selected Features\", \"width\": 400, \"$schema\": \"https://vega.github.io/schema/vega-lite/v4.8.1.json\", \"datasets\": {\"data-b00bbda5ac487502a52ec19104505d26\": [{\"feature_name\": \"Feature_00\", \"feature_impt\": 0.4539860303479307, \"iteration_id\": 0}, {\"feature_name\": \"Feature_01\", \"feature_impt\": 0.03001967901886393, \"iteration_id\": 0}, {\"feature_name\": \"Feature_02\", \"feature_impt\": 0.0009845759785732258, \"iteration_id\": 1}, {\"feature_name\": \"Feature_03\", \"feature_impt\": 0.004281653355304611, \"iteration_id\": 0}, {\"feature_name\": \"Feature_04\", \"feature_impt\": 0.026872405520302543, \"iteration_id\": 2}, {\"feature_name\": \"Feature_05\", \"feature_impt\": 0.04197887184146357, \"iteration_id\": 1}, {\"feature_name\": \"Feature_06\", \"feature_impt\": 0.0019501225955489215, \"iteration_id\": 2}, {\"feature_name\": \"Feature_07\", \"feature_impt\": 0.042877348603346264, \"iteration_id\": 0}, {\"feature_name\": \"Feature_08\", \"feature_impt\": 0.030749442058875715, \"iteration_id\": 2}, {\"feature_name\": \"Feature_09\", \"feature_impt\": 0.02849094157572383, \"iteration_id\": 0}, {\"feature_name\": \"Feature_10\", \"feature_impt\": 0.0011312437813208683, \"iteration_id\": 2}, {\"feature_name\": \"Feature_11\", \"feature_impt\": 0.0028136731219833536, \"iteration_id\": 0}, {\"feature_name\": \"Feature_12\", \"feature_impt\": 0.19036416123493688, \"iteration_id\": 1}, {\"feature_name\": \"Feature_13\", \"feature_impt\": 0.1411424068260867, \"iteration_id\": 2}, {\"feature_name\": \"Feature_14\", \"feature_impt\": 0.002357444139738983, \"iteration_id\": 1}]}}, {\"mode\": \"vega-lite\"});\n",
       "</script>"
      ],
      "text/plain": [
       "alt.Chart(...)"
      ]
     },
     "execution_count": 6,
     "metadata": {},
     "output_type": "execute_result"
    }
   ],
   "source": [
    "def feature_importances_plot(\n",
    "    df,\n",
    "    x_quantity=\"iteration_id\",\n",
    "    y_quantity=\"feature_impt\",\n",
    "    c_quantity=\"feature_name\",\n",
    "    labelFontSize=20,\n",
    "    axis_titleFontSize=30,\n",
    "    legend_titleFontSize=20,\n",
    "    fig_titleFontSize=35,\n",
    "    font=\"times new roman\",\n",
    "    aliases=None,\n",
    "):\n",
    "\n",
    "    f = (\n",
    "        alt.Chart(df)\n",
    "        .mark_bar()\n",
    "        .encode(\n",
    "            x=alt.X(\n",
    "                \"{}:N\".format(x_quantity), title=_alias_title(x_quantity, aliases),\n",
    "            ),\n",
    "            y=alt.Y(\n",
    "                \"sum({})\".format(y_quantity), title=_alias_title(y_quantity, aliases)\n",
    "            ),\n",
    "            color=alt.Color(\n",
    "                \"{}:N\".format(c_quantity), title=_alias_title(c_quantity, aliases)\n",
    "            ),\n",
    "        )\n",
    "    )\n",
    "\n",
    "    # Configuration\n",
    "    f = (\n",
    "        f.configure_axis(\n",
    "            titleFont=font,\n",
    "            labelFont=font,\n",
    "            labelFontSize=labelFontSize,\n",
    "            titleFontSize=axis_titleFontSize,\n",
    "        )\n",
    "        .configure_title(font=font, fontSize=fig_titleFontSize)\n",
    "        .configure_legend(\n",
    "            titleFont=font,\n",
    "            labelFont=font,\n",
    "            labelFontSize=labelFontSize,\n",
    "            titleFontSize=legend_titleFontSize,\n",
    "        )\n",
    "    )\n",
    "    f = f.properties(title=\"Selected Features\", width=400, height=600)\n",
    "    return f\n",
    "\n",
    "\n",
    "feature_importances_plot(\n",
    "    df,\n",
    "    aliases=[\n",
    "        (\"iteration_id\", \"Iteration\"),\n",
    "        (\"feature_impt\", \"Feature Importance\"),\n",
    "        (\"feature_name\", \"Feature Name\"),\n",
    "    ],\n",
    ")"
   ]
  },
  {
   "cell_type": "code",
   "execution_count": 11,
   "metadata": {},
   "outputs": [
    {
     "data": {
      "text/html": [
       "\n",
       "<div id=\"altair-viz-2d47b55dd155430fb5859610300ffaca\"></div>\n",
       "<script type=\"text/javascript\">\n",
       "  (function(spec, embedOpt){\n",
       "    let outputDiv = document.currentScript.previousElementSibling;\n",
       "    if (outputDiv.id !== \"altair-viz-2d47b55dd155430fb5859610300ffaca\") {\n",
       "      outputDiv = document.getElementById(\"altair-viz-2d47b55dd155430fb5859610300ffaca\");\n",
       "    }\n",
       "    const paths = {\n",
       "      \"vega\": \"https://cdn.jsdelivr.net/npm//vega@5?noext\",\n",
       "      \"vega-lib\": \"https://cdn.jsdelivr.net/npm//vega-lib?noext\",\n",
       "      \"vega-lite\": \"https://cdn.jsdelivr.net/npm//vega-lite@4.8.1?noext\",\n",
       "      \"vega-embed\": \"https://cdn.jsdelivr.net/npm//vega-embed@6?noext\",\n",
       "    };\n",
       "\n",
       "    function loadScript(lib) {\n",
       "      return new Promise(function(resolve, reject) {\n",
       "        var s = document.createElement('script');\n",
       "        s.src = paths[lib];\n",
       "        s.async = true;\n",
       "        s.onload = () => resolve(paths[lib]);\n",
       "        s.onerror = () => reject(`Error loading script: ${paths[lib]}`);\n",
       "        document.getElementsByTagName(\"head\")[0].appendChild(s);\n",
       "      });\n",
       "    }\n",
       "\n",
       "    function showError(err) {\n",
       "      outputDiv.innerHTML = `<div class=\"error\" style=\"color:red;\">${err}</div>`;\n",
       "      throw err;\n",
       "    }\n",
       "\n",
       "    function displayChart(vegaEmbed) {\n",
       "      vegaEmbed(outputDiv, spec, embedOpt)\n",
       "        .catch(err => showError(`Javascript Error: ${err.message}<br>This usually means there's a typo in your chart specification. See the javascript console for the full traceback.`));\n",
       "    }\n",
       "\n",
       "    if(typeof define === \"function\" && define.amd) {\n",
       "      requirejs.config({paths});\n",
       "      require([\"vega-embed\"], displayChart, err => showError(`Error loading script: ${err.message}`));\n",
       "    } else if (typeof vegaEmbed === \"function\") {\n",
       "      displayChart(vegaEmbed);\n",
       "    } else {\n",
       "      loadScript(\"vega\")\n",
       "        .then(() => loadScript(\"vega-lite\"))\n",
       "        .then(() => loadScript(\"vega-embed\"))\n",
       "        .catch(showError)\n",
       "        .then(() => displayChart(vegaEmbed));\n",
       "    }\n",
       "  })({\"config\": {\"view\": {\"continuousWidth\": 400, \"continuousHeight\": 300}, \"title\": {\"font\": \"computer modern\", \"fontSize\": 20}}, \"data\": {\"name\": \"data-ce24607cd717b02c9789e3209ae01c3a\"}, \"mark\": \"bar\", \"encoding\": {\"color\": {\"type\": \"nominal\", \"field\": \"feature_name\", \"title\": \"Feature Name\"}, \"x\": {\"type\": \"nominal\", \"field\": \"iteration_id\", \"title\": \"Iteration\"}, \"y\": {\"type\": \"quantitative\", \"aggregate\": \"sum\", \"field\": \"feature_impt\", \"title\": \"Feature Importance\"}}, \"height\": 600, \"title\": \"Selected Features\", \"width\": 400, \"$schema\": \"https://vega.github.io/schema/vega-lite/v4.8.1.json\", \"datasets\": {\"data-ce24607cd717b02c9789e3209ae01c3a\": [{\"feature_name\": \"Feature_00\", \"feature_impt\": 0.00962816436993635, \"iteration_id\": 1}, {\"feature_name\": \"Feature_01\", \"feature_impt\": 0.025017418212635756, \"iteration_id\": 1}, {\"feature_name\": \"Feature_02\", \"feature_impt\": 0.007115359034789154, \"iteration_id\": 0}, {\"feature_name\": \"Feature_03\", \"feature_impt\": 0.13870173030681152, \"iteration_id\": 1}, {\"feature_name\": \"Feature_04\", \"feature_impt\": 0.01705861926249483, \"iteration_id\": 0}, {\"feature_name\": \"Feature_05\", \"feature_impt\": 0.0027258109812990754, \"iteration_id\": 2}, {\"feature_name\": \"Feature_06\", \"feature_impt\": 0.002461454571030607, \"iteration_id\": 1}, {\"feature_name\": \"Feature_07\", \"feature_impt\": 0.6186914266116449, \"iteration_id\": 1}, {\"feature_name\": \"Feature_08\", \"feature_impt\": 0.010565843082722522, \"iteration_id\": 0}, {\"feature_name\": \"Feature_09\", \"feature_impt\": 0.032401786334103976, \"iteration_id\": 0}, {\"feature_name\": \"Feature_10\", \"feature_impt\": 0.001128026653878256, \"iteration_id\": 0}, {\"feature_name\": \"Feature_11\", \"feature_impt\": 0.002651766234677393, \"iteration_id\": 2}, {\"feature_name\": \"Feature_12\", \"feature_impt\": 0.014287045984186298, \"iteration_id\": 0}, {\"feature_name\": \"Feature_13\", \"feature_impt\": 0.10451176048738291, \"iteration_id\": 0}, {\"feature_name\": \"Feature_14\", \"feature_impt\": 0.01305378787240626, \"iteration_id\": 1}]}}, {\"mode\": \"vega-lite\"});\n",
       "</script>"
      ],
      "text/plain": [
       "alt.Chart(...)"
      ]
     },
     "execution_count": 11,
     "metadata": {},
     "output_type": "execute_result"
    }
   ],
   "source": [
    "f = (\n",
    "    alt.Chart(df)\n",
    "    .mark_bar()\n",
    "    .encode(\n",
    "        x=alt.X(\"iteration_id:N\", title=\"Iteration\"),\n",
    "        y=alt.Y(\"sum(feature_impt)\", title=\"Feature Importance\"),\n",
    "        color=alt.Color(\"feature_name:N\", title=\"Feature Name\"),\n",
    "    )\n",
    ")\n",
    "\n",
    "f = f.configure_title(font=\"computer modern\", fontSize=20)\n",
    "f.properties(title=\"Selected Features\", width=400, height=600)"
   ]
  },
  {
   "cell_type": "markdown",
   "metadata": {},
   "source": [
    "# Accuracy Plot"
   ]
  },
  {
   "cell_type": "code",
   "execution_count": null,
   "metadata": {},
   "outputs": [],
   "source": []
  }
 ],
 "metadata": {
  "kernelspec": {
   "display_name": "avatar",
   "language": "python",
   "name": "avatar"
  },
  "language_info": {
   "codemirror_mode": {
    "name": "ipython",
    "version": 3
   },
   "file_extension": ".py",
   "mimetype": "text/x-python",
   "name": "python",
   "nbconvert_exporter": "python",
   "pygments_lexer": "ipython3",
   "version": "3.8.5"
  },
  "toc-autonumbering": true
 },
 "nbformat": 4,
 "nbformat_minor": 4
}
