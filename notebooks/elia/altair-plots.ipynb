{
 "cells": [
  {
   "cell_type": "markdown",
   "metadata": {},
   "source": [
    "# Altair Plots"
   ]
  },
  {
   "cell_type": "markdown",
   "metadata": {},
   "source": [
    "# Preliminaries"
   ]
  },
  {
   "cell_type": "code",
   "execution_count": 87,
   "metadata": {},
   "outputs": [],
   "source": [
    "%load_ext lab_black"
   ]
  },
  {
   "cell_type": "markdown",
   "metadata": {},
   "source": [
    "## Imports"
   ]
  },
  {
   "cell_type": "code",
   "execution_count": 2,
   "metadata": {},
   "outputs": [],
   "source": [
    "import altair as alt\n",
    "import pandas as pd\n",
    "import numpy as np"
   ]
  },
  {
   "cell_type": "markdown",
   "metadata": {},
   "source": [
    "## Setup"
   ]
  },
  {
   "cell_type": "code",
   "execution_count": null,
   "metadata": {},
   "outputs": [],
   "source": []
  },
  {
   "cell_type": "code",
   "execution_count": 14,
   "metadata": {},
   "outputs": [
    {
     "data": {
      "text/plain": [
       "'Feature_01'"
      ]
     },
     "execution_count": 14,
     "metadata": {},
     "output_type": "execute_result"
    }
   ],
   "source": []
  },
  {
   "cell_type": "markdown",
   "metadata": {},
   "source": [
    "# Data\n",
    "\n",
    "Generating some fake data."
   ]
  },
  {
   "cell_type": "markdown",
   "metadata": {},
   "source": [
    "## Functions"
   ]
  },
  {
   "cell_type": "code",
   "execution_count": 46,
   "metadata": {},
   "outputs": [],
   "source": [
    "def _get_feature_imprt(n_features, n_orders_of_magnitude=3):\n",
    "    feature_imprt = ((10**n_orders_of_magnitude)*np.random.rand(n_features))**np.random.rand(n_features)\n",
    "    feature_imprt = feature_imprt/np.sum(feature_imprt)\n",
    "    return feature_imprt\n",
    "\n",
    "\n",
    "def _get_feature_names(n_features):\n",
    "    return [\"Feature_{:02d}\".format(i) for i in range(n_features)]\n",
    "\n",
    "def _get_iterations(n_features, n_iterations=2):\n",
    "    return np.random.randint(n_iterations+1, size=(n_features,))"
   ]
  },
  {
   "cell_type": "code",
   "execution_count": 49,
   "metadata": {},
   "outputs": [],
   "source": [
    "def get_dataframe(n_features, n_iterations=2, n_orders_of_magnitude=3):\n",
    "    df = pd.DataFrame()\n",
    "    \n",
    "    df['feature_name'] = _get_feature_names(n_features)\n",
    "    df['feature_impt'] = _get_feature_imprt(n_features, n_orders_of_magnitude=n_orders_of_magnitude)\n",
    "    df['iteration_id'] = _get_iterations(n_features, n_iterations=n_iterations)\n",
    "    return df"
   ]
  },
  {
   "cell_type": "markdown",
   "metadata": {},
   "source": [
    "## Work\n",
    "\n",
    "Actually generating data"
   ]
  },
  {
   "cell_type": "code",
   "execution_count": 94,
   "metadata": {},
   "outputs": [
    {
     "data": {
      "text/html": [
       "<div>\n",
       "<style scoped>\n",
       "    .dataframe tbody tr th:only-of-type {\n",
       "        vertical-align: middle;\n",
       "    }\n",
       "\n",
       "    .dataframe tbody tr th {\n",
       "        vertical-align: top;\n",
       "    }\n",
       "\n",
       "    .dataframe thead th {\n",
       "        text-align: right;\n",
       "    }\n",
       "</style>\n",
       "<table border=\"1\" class=\"dataframe\">\n",
       "  <thead>\n",
       "    <tr style=\"text-align: right;\">\n",
       "      <th></th>\n",
       "      <th>feature_name</th>\n",
       "      <th>feature_impt</th>\n",
       "      <th>iteration_id</th>\n",
       "    </tr>\n",
       "  </thead>\n",
       "  <tbody>\n",
       "    <tr>\n",
       "      <th>0</th>\n",
       "      <td>Feature_00</td>\n",
       "      <td>0.124004</td>\n",
       "      <td>2</td>\n",
       "    </tr>\n",
       "    <tr>\n",
       "      <th>1</th>\n",
       "      <td>Feature_01</td>\n",
       "      <td>0.030139</td>\n",
       "      <td>1</td>\n",
       "    </tr>\n",
       "    <tr>\n",
       "      <th>2</th>\n",
       "      <td>Feature_02</td>\n",
       "      <td>0.016108</td>\n",
       "      <td>2</td>\n",
       "    </tr>\n",
       "    <tr>\n",
       "      <th>3</th>\n",
       "      <td>Feature_03</td>\n",
       "      <td>0.003724</td>\n",
       "      <td>2</td>\n",
       "    </tr>\n",
       "    <tr>\n",
       "      <th>4</th>\n",
       "      <td>Feature_04</td>\n",
       "      <td>0.017963</td>\n",
       "      <td>1</td>\n",
       "    </tr>\n",
       "  </tbody>\n",
       "</table>\n",
       "</div>"
      ],
      "text/plain": [
       "  feature_name  feature_impt  iteration_id\n",
       "0   Feature_00      0.124004             2\n",
       "1   Feature_01      0.030139             1\n",
       "2   Feature_02      0.016108             2\n",
       "3   Feature_03      0.003724             2\n",
       "4   Feature_04      0.017963             1"
      ]
     },
     "execution_count": 94,
     "metadata": {},
     "output_type": "execute_result"
    }
   ],
   "source": [
    "n_features = 15\n",
    "\n",
    "df = get_dataframe(n_features, n_iterations=2, n_orders_of_magnitude=3)\n",
    "df.head()"
   ]
  },
  {
   "cell_type": "markdown",
   "metadata": {},
   "source": [
    "# Histogram"
   ]
  },
  {
   "cell_type": "code",
   "execution_count": 79,
   "metadata": {},
   "outputs": [],
   "source": [
    "def _alias_title(title, aliases):\n",
    "    for text, alias in aliases:\n",
    "        if alias is not None:\n",
    "            title = title.replace(text, alias)\n",
    "    return title"
   ]
  },
  {
   "cell_type": "code",
   "execution_count": 149,
   "metadata": {},
   "outputs": [
    {
     "data": {
      "text/html": [
       "\n",
       "<div id=\"altair-viz-a91843d1e27640b68e40ab57a48d2099\"></div>\n",
       "<script type=\"text/javascript\">\n",
       "  (function(spec, embedOpt){\n",
       "    let outputDiv = document.currentScript.previousElementSibling;\n",
       "    if (outputDiv.id !== \"altair-viz-a91843d1e27640b68e40ab57a48d2099\") {\n",
       "      outputDiv = document.getElementById(\"altair-viz-a91843d1e27640b68e40ab57a48d2099\");\n",
       "    }\n",
       "    const paths = {\n",
       "      \"vega\": \"https://cdn.jsdelivr.net/npm//vega@5?noext\",\n",
       "      \"vega-lib\": \"https://cdn.jsdelivr.net/npm//vega-lib?noext\",\n",
       "      \"vega-lite\": \"https://cdn.jsdelivr.net/npm//vega-lite@4.8.1?noext\",\n",
       "      \"vega-embed\": \"https://cdn.jsdelivr.net/npm//vega-embed@6?noext\",\n",
       "    };\n",
       "\n",
       "    function loadScript(lib) {\n",
       "      return new Promise(function(resolve, reject) {\n",
       "        var s = document.createElement('script');\n",
       "        s.src = paths[lib];\n",
       "        s.async = true;\n",
       "        s.onload = () => resolve(paths[lib]);\n",
       "        s.onerror = () => reject(`Error loading script: ${paths[lib]}`);\n",
       "        document.getElementsByTagName(\"head\")[0].appendChild(s);\n",
       "      });\n",
       "    }\n",
       "\n",
       "    function showError(err) {\n",
       "      outputDiv.innerHTML = `<div class=\"error\" style=\"color:red;\">${err}</div>`;\n",
       "      throw err;\n",
       "    }\n",
       "\n",
       "    function displayChart(vegaEmbed) {\n",
       "      vegaEmbed(outputDiv, spec, embedOpt)\n",
       "        .catch(err => showError(`Javascript Error: ${err.message}<br>This usually means there's a typo in your chart specification. See the javascript console for the full traceback.`));\n",
       "    }\n",
       "\n",
       "    if(typeof define === \"function\" && define.amd) {\n",
       "      requirejs.config({paths});\n",
       "      require([\"vega-embed\"], displayChart, err => showError(`Error loading script: ${err.message}`));\n",
       "    } else if (typeof vegaEmbed === \"function\") {\n",
       "      displayChart(vegaEmbed);\n",
       "    } else {\n",
       "      loadScript(\"vega\")\n",
       "        .then(() => loadScript(\"vega-lite\"))\n",
       "        .then(() => loadScript(\"vega-embed\"))\n",
       "        .catch(showError)\n",
       "        .then(() => displayChart(vegaEmbed));\n",
       "    }\n",
       "  })({\"config\": {\"view\": {\"continuousWidth\": 400, \"continuousHeight\": 300}, \"axis\": {\"labelFont\": \"times new roman\", \"labelFontSize\": 20, \"titleFont\": \"times new roman\", \"titleFontSize\": 30}, \"legend\": {\"labelFont\": \"times new roman\", \"labelFontSize\": 20, \"titleFont\": \"times new roman\", \"titleFontSize\": 20}, \"title\": {\"font\": \"times new roman\", \"fontSize\": 35}}, \"data\": {\"name\": \"data-c93f7068e7ebdefd208ce18368860a3b\"}, \"mark\": \"bar\", \"encoding\": {\"color\": {\"type\": \"nominal\", \"field\": \"feature_name\", \"title\": \"Feature Name\"}, \"x\": {\"type\": \"nominal\", \"field\": \"iteration_id\", \"title\": \"Iteration\"}, \"y\": {\"type\": \"quantitative\", \"aggregate\": \"sum\", \"field\": \"feature_impt\", \"title\": \"Feature Importance\"}}, \"height\": 600, \"title\": \"Selected Features\", \"width\": 400, \"$schema\": \"https://vega.github.io/schema/vega-lite/v4.8.1.json\", \"datasets\": {\"data-c93f7068e7ebdefd208ce18368860a3b\": [{\"feature_name\": \"Feature_00\", \"feature_impt\": 0.12400448044230082, \"iteration_id\": 2}, {\"feature_name\": \"Feature_01\", \"feature_impt\": 0.03013928683994205, \"iteration_id\": 1}, {\"feature_name\": \"Feature_02\", \"feature_impt\": 0.01610818121744272, \"iteration_id\": 2}, {\"feature_name\": \"Feature_03\", \"feature_impt\": 0.003723717799936704, \"iteration_id\": 2}, {\"feature_name\": \"Feature_04\", \"feature_impt\": 0.017962797884697828, \"iteration_id\": 1}, {\"feature_name\": \"Feature_05\", \"feature_impt\": 0.02444155030543364, \"iteration_id\": 0}, {\"feature_name\": \"Feature_06\", \"feature_impt\": 0.11339146519850599, \"iteration_id\": 1}, {\"feature_name\": \"Feature_07\", \"feature_impt\": 0.007101563670156323, \"iteration_id\": 2}, {\"feature_name\": \"Feature_08\", \"feature_impt\": 0.04887041589446622, \"iteration_id\": 1}, {\"feature_name\": \"Feature_09\", \"feature_impt\": 0.12964450310529604, \"iteration_id\": 0}, {\"feature_name\": \"Feature_10\", \"feature_impt\": 0.07908273685729203, \"iteration_id\": 0}, {\"feature_name\": \"Feature_11\", \"feature_impt\": 0.23684979349780133, \"iteration_id\": 1}, {\"feature_name\": \"Feature_12\", \"feature_impt\": 0.0026771691621437377, \"iteration_id\": 1}, {\"feature_name\": \"Feature_13\", \"feature_impt\": 0.022411656908214027, \"iteration_id\": 1}, {\"feature_name\": \"Feature_14\", \"feature_impt\": 0.1435906812163705, \"iteration_id\": 0}]}}, {\"mode\": \"vega-lite\"});\n",
       "</script>"
      ],
      "text/plain": [
       "alt.Chart(...)"
      ]
     },
     "execution_count": 149,
     "metadata": {},
     "output_type": "execute_result"
    }
   ],
   "source": [
    "def feature_importances_plot(\n",
    "    df,\n",
    "    x_quantity=\"iteration_id\",\n",
    "    y_quantity=\"feature_impt\",\n",
    "    c_quantity=\"feature_name\",\n",
    "    labelFontSize=20,\n",
    "    axis_titleFontSize=30,\n",
    "    legend_titleFontSize=20,\n",
    "    fig_titleFontSize=35,\n",
    "    font=\"times new roman\",\n",
    "    aliases=None,\n",
    "):\n",
    "\n",
    "    f = (\n",
    "        alt.Chart(df)\n",
    "        .mark_bar()\n",
    "        .encode(\n",
    "            x=alt.X(\n",
    "                \"{}:N\".format(x_quantity), title=_alias_title(x_quantity, aliases),\n",
    "            ),\n",
    "            y=alt.Y(\n",
    "                \"sum({})\".format(y_quantity), title=_alias_title(y_quantity, aliases)\n",
    "            ),\n",
    "            color=alt.Color(\n",
    "                \"{}:N\".format(c_quantity), title=_alias_title(c_quantity, aliases)\n",
    "            ),\n",
    "        )\n",
    "    )\n",
    "\n",
    "    # Configuration\n",
    "    f = (\n",
    "        f.configure_axis(\n",
    "            titleFont=font,\n",
    "            labelFont=font,\n",
    "            labelFontSize=labelFontSize,\n",
    "            titleFontSize=axis_titleFontSize,\n",
    "        )\n",
    "        .configure_title(font=font, fontSize=fig_titleFontSize)\n",
    "        .configure_legend(\n",
    "            titleFont=font,\n",
    "            labelFont=font,\n",
    "            labelFontSize=labelFontSize,\n",
    "            titleFontSize=legend_titleFontSize,\n",
    "        )\n",
    "    )\n",
    "    f = f.properties(title=\"Selected Features\", width=400, height=600)\n",
    "    return f\n",
    "\n",
    "\n",
    "feature_importances_plot(\n",
    "    df,\n",
    "    aliases=[\n",
    "        (\"iteration_id\", \"Iteration\"),\n",
    "        (\"feature_impt\", \"Feature Importance\"),\n",
    "        (\"feature_name\", \"Feature Name\"),\n",
    "    ],\n",
    ")"
   ]
  },
  {
   "cell_type": "code",
   "execution_count": 109,
   "metadata": {},
   "outputs": [
    {
     "data": {
      "text/html": [
       "\n",
       "<div id=\"altair-viz-73a866d73f2645a49a01226242ee0142\"></div>\n",
       "<script type=\"text/javascript\">\n",
       "  (function(spec, embedOpt){\n",
       "    let outputDiv = document.currentScript.previousElementSibling;\n",
       "    if (outputDiv.id !== \"altair-viz-73a866d73f2645a49a01226242ee0142\") {\n",
       "      outputDiv = document.getElementById(\"altair-viz-73a866d73f2645a49a01226242ee0142\");\n",
       "    }\n",
       "    const paths = {\n",
       "      \"vega\": \"https://cdn.jsdelivr.net/npm//vega@5?noext\",\n",
       "      \"vega-lib\": \"https://cdn.jsdelivr.net/npm//vega-lib?noext\",\n",
       "      \"vega-lite\": \"https://cdn.jsdelivr.net/npm//vega-lite@4.8.1?noext\",\n",
       "      \"vega-embed\": \"https://cdn.jsdelivr.net/npm//vega-embed@6?noext\",\n",
       "    };\n",
       "\n",
       "    function loadScript(lib) {\n",
       "      return new Promise(function(resolve, reject) {\n",
       "        var s = document.createElement('script');\n",
       "        s.src = paths[lib];\n",
       "        s.async = true;\n",
       "        s.onload = () => resolve(paths[lib]);\n",
       "        s.onerror = () => reject(`Error loading script: ${paths[lib]}`);\n",
       "        document.getElementsByTagName(\"head\")[0].appendChild(s);\n",
       "      });\n",
       "    }\n",
       "\n",
       "    function showError(err) {\n",
       "      outputDiv.innerHTML = `<div class=\"error\" style=\"color:red;\">${err}</div>`;\n",
       "      throw err;\n",
       "    }\n",
       "\n",
       "    function displayChart(vegaEmbed) {\n",
       "      vegaEmbed(outputDiv, spec, embedOpt)\n",
       "        .catch(err => showError(`Javascript Error: ${err.message}<br>This usually means there's a typo in your chart specification. See the javascript console for the full traceback.`));\n",
       "    }\n",
       "\n",
       "    if(typeof define === \"function\" && define.amd) {\n",
       "      requirejs.config({paths});\n",
       "      require([\"vega-embed\"], displayChart, err => showError(`Error loading script: ${err.message}`));\n",
       "    } else if (typeof vegaEmbed === \"function\") {\n",
       "      displayChart(vegaEmbed);\n",
       "    } else {\n",
       "      loadScript(\"vega\")\n",
       "        .then(() => loadScript(\"vega-lite\"))\n",
       "        .then(() => loadScript(\"vega-embed\"))\n",
       "        .catch(showError)\n",
       "        .then(() => displayChart(vegaEmbed));\n",
       "    }\n",
       "  })({\"config\": {\"view\": {\"continuousWidth\": 400, \"continuousHeight\": 300}, \"title\": {\"font\": \"computer modern\", \"fontSize\": 20}}, \"data\": {\"name\": \"data-c93f7068e7ebdefd208ce18368860a3b\"}, \"mark\": \"bar\", \"encoding\": {\"color\": {\"type\": \"nominal\", \"field\": \"feature_name\", \"title\": \"Feature Name\"}, \"x\": {\"type\": \"nominal\", \"field\": \"iteration_id\", \"title\": \"Iteration\"}, \"y\": {\"type\": \"quantitative\", \"aggregate\": \"sum\", \"field\": \"feature_impt\", \"title\": \"Feature Importance\"}}, \"height\": 600, \"title\": \"Selected Features\", \"width\": 400, \"$schema\": \"https://vega.github.io/schema/vega-lite/v4.8.1.json\", \"datasets\": {\"data-c93f7068e7ebdefd208ce18368860a3b\": [{\"feature_name\": \"Feature_00\", \"feature_impt\": 0.12400448044230082, \"iteration_id\": 2}, {\"feature_name\": \"Feature_01\", \"feature_impt\": 0.03013928683994205, \"iteration_id\": 1}, {\"feature_name\": \"Feature_02\", \"feature_impt\": 0.01610818121744272, \"iteration_id\": 2}, {\"feature_name\": \"Feature_03\", \"feature_impt\": 0.003723717799936704, \"iteration_id\": 2}, {\"feature_name\": \"Feature_04\", \"feature_impt\": 0.017962797884697828, \"iteration_id\": 1}, {\"feature_name\": \"Feature_05\", \"feature_impt\": 0.02444155030543364, \"iteration_id\": 0}, {\"feature_name\": \"Feature_06\", \"feature_impt\": 0.11339146519850599, \"iteration_id\": 1}, {\"feature_name\": \"Feature_07\", \"feature_impt\": 0.007101563670156323, \"iteration_id\": 2}, {\"feature_name\": \"Feature_08\", \"feature_impt\": 0.04887041589446622, \"iteration_id\": 1}, {\"feature_name\": \"Feature_09\", \"feature_impt\": 0.12964450310529604, \"iteration_id\": 0}, {\"feature_name\": \"Feature_10\", \"feature_impt\": 0.07908273685729203, \"iteration_id\": 0}, {\"feature_name\": \"Feature_11\", \"feature_impt\": 0.23684979349780133, \"iteration_id\": 1}, {\"feature_name\": \"Feature_12\", \"feature_impt\": 0.0026771691621437377, \"iteration_id\": 1}, {\"feature_name\": \"Feature_13\", \"feature_impt\": 0.022411656908214027, \"iteration_id\": 1}, {\"feature_name\": \"Feature_14\", \"feature_impt\": 0.1435906812163705, \"iteration_id\": 0}]}}, {\"mode\": \"vega-lite\"});\n",
       "</script>"
      ],
      "text/plain": [
       "alt.Chart(...)"
      ]
     },
     "execution_count": 109,
     "metadata": {},
     "output_type": "execute_result"
    }
   ],
   "source": [
    "f = (\n",
    "    alt.Chart(df)\n",
    "    .mark_bar()\n",
    "    .encode(\n",
    "        x=alt.X(\"iteration_id:N\", title=\"Iteration\"),\n",
    "        y=alt.Y(\"sum(feature_impt)\", title=\"Feature Importance\"),\n",
    "        color=alt.Color(\"feature_name:N\", title=\"Feature Name\"),\n",
    "    )\n",
    ")\n",
    "\n",
    "f = f.configure_title(font=\"computer modern\", fontSize=20)\n",
    "f.properties(title=\"Selected Features\", width=400, height=600)"
   ]
  },
  {
   "cell_type": "markdown",
   "metadata": {},
   "source": [
    "# Accuracy Plot"
   ]
  },
  {
   "cell_type": "code",
   "execution_count": null,
   "metadata": {},
   "outputs": [],
   "source": []
  }
 ],
 "metadata": {
  "kernelspec": {
   "display_name": "admercs",
   "language": "python",
   "name": "admercs"
  },
  "language_info": {
   "codemirror_mode": {
    "name": "ipython",
    "version": 3
   },
   "file_extension": ".py",
   "mimetype": "text/x-python",
   "name": "python",
   "nbconvert_exporter": "python",
   "pygments_lexer": "ipython3",
   "version": "3.8.0"
  },
  "toc-autonumbering": true
 },
 "nbformat": 4,
 "nbformat_minor": 4
}
