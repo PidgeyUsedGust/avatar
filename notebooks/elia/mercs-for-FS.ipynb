{
 "cells": [
  {
   "cell_type": "markdown",
   "metadata": {},
   "source": [
    "# MERCS for Feature Selection\n",
    "\n",
    "Using MERCS' composite models for feature "
   ]
  },
  {
   "cell_type": "markdown",
   "metadata": {},
   "source": [
    "# Prelims\n",
    "\n",
    "Preliminaries for rest of notebook."
   ]
  },
  {
   "cell_type": "code",
   "execution_count": 1,
   "metadata": {},
   "outputs": [],
   "source": [
    "# (Optional) Black codeformatter (`pip install nb_black`) for jupyterlab. In jupyter notebook, this changes slightly.\n",
    "%load_ext lab_black"
   ]
  },
  {
   "cell_type": "markdown",
   "metadata": {},
   "source": [
    "## Imports"
   ]
  },
  {
   "cell_type": "code",
   "execution_count": 2,
   "metadata": {},
   "outputs": [],
   "source": [
    "from pathlib import Path\n",
    "import pandas as pd\n",
    "import numpy as np"
   ]
  },
  {
   "cell_type": "code",
   "execution_count": 3,
   "metadata": {},
   "outputs": [],
   "source": [
    "from mercs import Mercs\n",
    "import shap"
   ]
  },
  {
   "cell_type": "markdown",
   "metadata": {},
   "source": [
    "## Constants"
   ]
  },
  {
   "cell_type": "code",
   "execution_count": 4,
   "metadata": {},
   "outputs": [],
   "source": [
    "ROOT_DIR = Path().resolve().parent.parent\n",
    "DATA_DIR = ROOT_DIR / \"data\" / \"raw\"\n",
    "DEMO_DIR = DATA_DIR / \"demo\""
   ]
  },
  {
   "cell_type": "code",
   "execution_count": 5,
   "metadata": {},
   "outputs": [],
   "source": [
    "NOMINAL_THRESHOLD = 10"
   ]
  },
  {
   "cell_type": "markdown",
   "metadata": {},
   "source": [
    "# Custom model for a query-code"
   ]
  },
  {
   "cell_type": "markdown",
   "metadata": {},
   "source": [
    "## Data"
   ]
  },
  {
   "cell_type": "code",
   "execution_count": 6,
   "metadata": {},
   "outputs": [
    {
     "data": {
      "text/html": [
       "<div>\n",
       "<style scoped>\n",
       "    .dataframe tbody tr th:only-of-type {\n",
       "        vertical-align: middle;\n",
       "    }\n",
       "\n",
       "    .dataframe tbody tr th {\n",
       "        vertical-align: top;\n",
       "    }\n",
       "\n",
       "    .dataframe thead th {\n",
       "        text-align: right;\n",
       "    }\n",
       "</style>\n",
       "<table border=\"1\" class=\"dataframe\">\n",
       "  <thead>\n",
       "    <tr style=\"text-align: right;\">\n",
       "      <th></th>\n",
       "      <th>PassengerId</th>\n",
       "      <th>Survived</th>\n",
       "      <th>Pclass</th>\n",
       "      <th>Name</th>\n",
       "      <th>Sex</th>\n",
       "      <th>Age</th>\n",
       "      <th>SibSp</th>\n",
       "      <th>Parch</th>\n",
       "      <th>Ticket</th>\n",
       "      <th>Fare</th>\n",
       "      <th>Cabin</th>\n",
       "      <th>Embarked</th>\n",
       "    </tr>\n",
       "  </thead>\n",
       "  <tbody>\n",
       "    <tr>\n",
       "      <th>0</th>\n",
       "      <td>1</td>\n",
       "      <td>0</td>\n",
       "      <td>3</td>\n",
       "      <td>Braund, Mr. Owen Harris</td>\n",
       "      <td>male</td>\n",
       "      <td>22.0</td>\n",
       "      <td>1</td>\n",
       "      <td>0</td>\n",
       "      <td>A/5 21171</td>\n",
       "      <td>7.2500</td>\n",
       "      <td>NaN</td>\n",
       "      <td>S</td>\n",
       "    </tr>\n",
       "    <tr>\n",
       "      <th>1</th>\n",
       "      <td>2</td>\n",
       "      <td>1</td>\n",
       "      <td>1</td>\n",
       "      <td>Cumings, Mrs. John Bradley (Florence Briggs Th...</td>\n",
       "      <td>female</td>\n",
       "      <td>38.0</td>\n",
       "      <td>1</td>\n",
       "      <td>0</td>\n",
       "      <td>PC 17599</td>\n",
       "      <td>71.2833</td>\n",
       "      <td>C85</td>\n",
       "      <td>C</td>\n",
       "    </tr>\n",
       "    <tr>\n",
       "      <th>2</th>\n",
       "      <td>3</td>\n",
       "      <td>1</td>\n",
       "      <td>3</td>\n",
       "      <td>Heikkinen, Miss. Laina</td>\n",
       "      <td>female</td>\n",
       "      <td>26.0</td>\n",
       "      <td>0</td>\n",
       "      <td>0</td>\n",
       "      <td>STON/O2. 3101282</td>\n",
       "      <td>7.9250</td>\n",
       "      <td>NaN</td>\n",
       "      <td>S</td>\n",
       "    </tr>\n",
       "    <tr>\n",
       "      <th>3</th>\n",
       "      <td>4</td>\n",
       "      <td>1</td>\n",
       "      <td>1</td>\n",
       "      <td>Futrelle, Mrs. Jacques Heath (Lily May Peel)</td>\n",
       "      <td>female</td>\n",
       "      <td>35.0</td>\n",
       "      <td>1</td>\n",
       "      <td>0</td>\n",
       "      <td>113803</td>\n",
       "      <td>53.1000</td>\n",
       "      <td>C123</td>\n",
       "      <td>S</td>\n",
       "    </tr>\n",
       "    <tr>\n",
       "      <th>4</th>\n",
       "      <td>5</td>\n",
       "      <td>0</td>\n",
       "      <td>3</td>\n",
       "      <td>Allen, Mr. William Henry</td>\n",
       "      <td>male</td>\n",
       "      <td>35.0</td>\n",
       "      <td>0</td>\n",
       "      <td>0</td>\n",
       "      <td>373450</td>\n",
       "      <td>8.0500</td>\n",
       "      <td>NaN</td>\n",
       "      <td>S</td>\n",
       "    </tr>\n",
       "  </tbody>\n",
       "</table>\n",
       "</div>"
      ],
      "text/plain": [
       "   PassengerId  Survived  Pclass  \\\n",
       "0            1         0       3   \n",
       "1            2         1       1   \n",
       "2            3         1       3   \n",
       "3            4         1       1   \n",
       "4            5         0       3   \n",
       "\n",
       "                                                Name     Sex   Age  SibSp  \\\n",
       "0                            Braund, Mr. Owen Harris    male  22.0      1   \n",
       "1  Cumings, Mrs. John Bradley (Florence Briggs Th...  female  38.0      1   \n",
       "2                             Heikkinen, Miss. Laina  female  26.0      0   \n",
       "3       Futrelle, Mrs. Jacques Heath (Lily May Peel)  female  35.0      1   \n",
       "4                           Allen, Mr. William Henry    male  35.0      0   \n",
       "\n",
       "   Parch            Ticket     Fare Cabin Embarked  \n",
       "0      0         A/5 21171   7.2500   NaN        S  \n",
       "1      0          PC 17599  71.2833   C85        C  \n",
       "2      0  STON/O2. 3101282   7.9250   NaN        S  \n",
       "3      0            113803  53.1000  C123        S  \n",
       "4      0            373450   8.0500   NaN        S  "
      ]
     },
     "execution_count": 6,
     "metadata": {},
     "output_type": "execute_result"
    }
   ],
   "source": [
    "titanic_fp = DEMO_DIR / \"titanic.csv\"\n",
    "titanic_fp.exists()\n",
    "\n",
    "df = pd.read_csv(titanic_fp)\n",
    "df.head()"
   ]
  },
  {
   "cell_type": "code",
   "execution_count": 7,
   "metadata": {},
   "outputs": [
    {
     "data": {
      "text/html": [
       "<div>\n",
       "<style scoped>\n",
       "    .dataframe tbody tr th:only-of-type {\n",
       "        vertical-align: middle;\n",
       "    }\n",
       "\n",
       "    .dataframe tbody tr th {\n",
       "        vertical-align: top;\n",
       "    }\n",
       "\n",
       "    .dataframe thead th {\n",
       "        text-align: right;\n",
       "    }\n",
       "</style>\n",
       "<table border=\"1\" class=\"dataframe\">\n",
       "  <thead>\n",
       "    <tr style=\"text-align: right;\">\n",
       "      <th></th>\n",
       "      <th>PassengerId</th>\n",
       "      <th>Survived</th>\n",
       "      <th>Pclass</th>\n",
       "      <th>Age</th>\n",
       "      <th>SibSp</th>\n",
       "      <th>Parch</th>\n",
       "      <th>Fare</th>\n",
       "    </tr>\n",
       "  </thead>\n",
       "  <tbody>\n",
       "    <tr>\n",
       "      <th>0</th>\n",
       "      <td>1</td>\n",
       "      <td>0</td>\n",
       "      <td>3</td>\n",
       "      <td>22.0</td>\n",
       "      <td>1</td>\n",
       "      <td>0</td>\n",
       "      <td>7.2500</td>\n",
       "    </tr>\n",
       "    <tr>\n",
       "      <th>1</th>\n",
       "      <td>2</td>\n",
       "      <td>1</td>\n",
       "      <td>1</td>\n",
       "      <td>38.0</td>\n",
       "      <td>1</td>\n",
       "      <td>0</td>\n",
       "      <td>71.2833</td>\n",
       "    </tr>\n",
       "    <tr>\n",
       "      <th>2</th>\n",
       "      <td>3</td>\n",
       "      <td>1</td>\n",
       "      <td>3</td>\n",
       "      <td>26.0</td>\n",
       "      <td>0</td>\n",
       "      <td>0</td>\n",
       "      <td>7.9250</td>\n",
       "    </tr>\n",
       "    <tr>\n",
       "      <th>3</th>\n",
       "      <td>4</td>\n",
       "      <td>1</td>\n",
       "      <td>1</td>\n",
       "      <td>35.0</td>\n",
       "      <td>1</td>\n",
       "      <td>0</td>\n",
       "      <td>53.1000</td>\n",
       "    </tr>\n",
       "    <tr>\n",
       "      <th>4</th>\n",
       "      <td>5</td>\n",
       "      <td>0</td>\n",
       "      <td>3</td>\n",
       "      <td>35.0</td>\n",
       "      <td>0</td>\n",
       "      <td>0</td>\n",
       "      <td>8.0500</td>\n",
       "    </tr>\n",
       "  </tbody>\n",
       "</table>\n",
       "</div>"
      ],
      "text/plain": [
       "   PassengerId  Survived  Pclass   Age  SibSp  Parch     Fare\n",
       "0            1         0       3  22.0      1      0   7.2500\n",
       "1            2         1       1  38.0      1      0  71.2833\n",
       "2            3         1       3  26.0      0      0   7.9250\n",
       "3            4         1       1  35.0      1      0  53.1000\n",
       "4            5         0       3  35.0      0      0   8.0500"
      ]
     },
     "execution_count": 7,
     "metadata": {},
     "output_type": "execute_result"
    }
   ],
   "source": [
    "usable_cols = [c for c in df.columns if pd.api.types.is_numeric_dtype(df[c].dtype)]\n",
    "df2 = df[usable_cols].copy()\n",
    "df2.head()"
   ]
  },
  {
   "cell_type": "code",
   "execution_count": 8,
   "metadata": {},
   "outputs": [
    {
     "data": {
      "text/html": [
       "<div>\n",
       "<style scoped>\n",
       "    .dataframe tbody tr th:only-of-type {\n",
       "        vertical-align: middle;\n",
       "    }\n",
       "\n",
       "    .dataframe tbody tr th {\n",
       "        vertical-align: top;\n",
       "    }\n",
       "\n",
       "    .dataframe thead th {\n",
       "        text-align: right;\n",
       "    }\n",
       "</style>\n",
       "<table border=\"1\" class=\"dataframe\">\n",
       "  <thead>\n",
       "    <tr style=\"text-align: right;\">\n",
       "      <th></th>\n",
       "      <th>Pclass</th>\n",
       "      <th>Age</th>\n",
       "      <th>SibSp</th>\n",
       "      <th>Parch</th>\n",
       "      <th>Fare</th>\n",
       "      <th>Survived</th>\n",
       "    </tr>\n",
       "  </thead>\n",
       "  <tbody>\n",
       "    <tr>\n",
       "      <th>0</th>\n",
       "      <td>3</td>\n",
       "      <td>22.0</td>\n",
       "      <td>1</td>\n",
       "      <td>0</td>\n",
       "      <td>7.2500</td>\n",
       "      <td>0</td>\n",
       "    </tr>\n",
       "    <tr>\n",
       "      <th>1</th>\n",
       "      <td>1</td>\n",
       "      <td>38.0</td>\n",
       "      <td>1</td>\n",
       "      <td>0</td>\n",
       "      <td>71.2833</td>\n",
       "      <td>1</td>\n",
       "    </tr>\n",
       "    <tr>\n",
       "      <th>2</th>\n",
       "      <td>3</td>\n",
       "      <td>26.0</td>\n",
       "      <td>0</td>\n",
       "      <td>0</td>\n",
       "      <td>7.9250</td>\n",
       "      <td>1</td>\n",
       "    </tr>\n",
       "    <tr>\n",
       "      <th>3</th>\n",
       "      <td>1</td>\n",
       "      <td>35.0</td>\n",
       "      <td>1</td>\n",
       "      <td>0</td>\n",
       "      <td>53.1000</td>\n",
       "      <td>1</td>\n",
       "    </tr>\n",
       "    <tr>\n",
       "      <th>4</th>\n",
       "      <td>3</td>\n",
       "      <td>35.0</td>\n",
       "      <td>0</td>\n",
       "      <td>0</td>\n",
       "      <td>8.0500</td>\n",
       "      <td>0</td>\n",
       "    </tr>\n",
       "  </tbody>\n",
       "</table>\n",
       "</div>"
      ],
      "text/plain": [
       "   Pclass   Age  SibSp  Parch     Fare  Survived\n",
       "0       3  22.0      1      0   7.2500         0\n",
       "1       1  38.0      1      0  71.2833         1\n",
       "2       3  26.0      0      0   7.9250         1\n",
       "3       1  35.0      1      0  53.1000         1\n",
       "4       3  35.0      0      0   8.0500         0"
      ]
     },
     "execution_count": 8,
     "metadata": {},
     "output_type": "execute_result"
    }
   ],
   "source": [
    "df2[\"Survived\"] = df.Survived\n",
    "df2 = df2[\n",
    "    [c for c in df2.columns if c not in {\"Survived\", \"PassengerId\"}] + [\"Survived\"]\n",
    "]\n",
    "df2.head()"
   ]
  },
  {
   "cell_type": "code",
   "execution_count": 9,
   "metadata": {},
   "outputs": [],
   "source": [
    "df2.dropna(inplace=True)"
   ]
  },
  {
   "cell_type": "code",
   "execution_count": 10,
   "metadata": {},
   "outputs": [
    {
     "data": {
      "text/plain": [
       "array([[ 3.    , 22.    ,  1.    ,  0.    ,  7.25  ,  0.    ],\n",
       "       [ 1.    , 38.    ,  1.    ,  0.    , 71.2833,  1.    ],\n",
       "       [ 3.    , 26.    ,  0.    ,  0.    ,  7.925 ,  1.    ],\n",
       "       [ 1.    , 35.    ,  1.    ,  0.    , 53.1   ,  1.    ],\n",
       "       [ 3.    , 35.    ,  0.    ,  0.    ,  8.05  ,  0.    ]])"
      ]
     },
     "execution_count": 10,
     "metadata": {},
     "output_type": "execute_result"
    }
   ],
   "source": [
    "X = df2.values\n",
    "X[:5, :]"
   ]
  },
  {
   "cell_type": "markdown",
   "metadata": {},
   "source": [
    "## Mercs"
   ]
  },
  {
   "cell_type": "code",
   "execution_count": 11,
   "metadata": {},
   "outputs": [
    {
     "data": {
      "text/plain": [
       "{5}"
      ]
     },
     "execution_count": 11,
     "metadata": {},
     "output_type": "execute_result"
    }
   ],
   "source": [
    "nominal_attributes = {X.shape[1] - 1}\n",
    "nominal_attributes"
   ]
  },
  {
   "cell_type": "code",
   "execution_count": 12,
   "metadata": {},
   "outputs": [],
   "source": [
    "cfg_mercs_default = dict(\n",
    "    # Induction\n",
    "    max_depth=8,\n",
    "    selection_algorithm=\"random\",\n",
    "    nb_targets=1,\n",
    "    nb_iterations=10,\n",
    "    fraction_missing=0.4,\n",
    "    n_jobs=1,\n",
    "    # Inference\n",
    "    inference_algorithm=\"own\",\n",
    "    prediction_algorithm=\"rw\",\n",
    "    max_steps=8,\n",
    "    nb_walks=5,\n",
    "    # Metadata\n",
    "    nominal_attributes=nominal_attributes,\n",
    ")\n",
    "\n",
    "# Train a MERCS-model with config above\n",
    "clf = Mercs(**cfg_mercs_default)\n",
    "\n",
    "# Nominal attributes has to be given at fit, all the rest can be done before\n",
    "clf.fit(X, nominal_attributes=nominal_attributes)"
   ]
  },
  {
   "cell_type": "markdown",
   "metadata": {},
   "source": [
    "10 iterations means that every target has 10 models that predict that target. Given that we have 6 attributes in total, we get 60 models:"
   ]
  },
  {
   "cell_type": "code",
   "execution_count": 13,
   "metadata": {},
   "outputs": [
    {
     "data": {
      "text/plain": [
       "60"
      ]
     },
     "execution_count": 13,
     "metadata": {},
     "output_type": "execute_result"
    }
   ],
   "source": [
    "len(clf.m_codes)"
   ]
  },
  {
   "cell_type": "markdown",
   "metadata": {},
   "source": [
    "And, since we set fraction_missing=0.4, each model has more or less 2 attributes missing (2 being more or less 40 percent of 6)"
   ]
  },
  {
   "cell_type": "code",
   "execution_count": 14,
   "metadata": {},
   "outputs": [
    {
     "data": {
      "text/plain": [
       "2.066666666666667"
      ]
     },
     "execution_count": 14,
     "metadata": {},
     "output_type": "execute_result"
    }
   ],
   "source": [
    "np.mean(np.sum(clf.m_codes == -1, axis=1))"
   ]
  },
  {
   "cell_type": "markdown",
   "metadata": {},
   "source": [
    "Other options for `fraction_missing` include `log2` or `sqrt` which then take the total amount of attributes into account. This way of subsetting features is essentially standard in RF as well, so that's why they are available.\n",
    "\n",
    "Note however that if you set it to `sqrt` it means that `sqrt(n_attributes)` will be the amount of _descriptive_ attributes.\n",
    "\n",
    "\n",
    "Another thing you can do, if you need more control, is manually specifiy the exact amount of missing attributes using the `nb_missing_attributes` parameter, which overrides the `fraction_missing` parameter."
   ]
  },
  {
   "cell_type": "code",
   "execution_count": 15,
   "metadata": {},
   "outputs": [
    {
     "name": "stdout",
     "output_type": "stream",
     "text": [
      "\n",
      "AVERAGE AMOUNT OF MISSING ATTRIBUTES PER MODEL: 2.9833333333333334\n",
      "\n"
     ]
    }
   ],
   "source": [
    "cfg_mercs_default = dict(\n",
    "    # Induction\n",
    "    max_depth=8,\n",
    "    selection_algorithm=\"random\",\n",
    "    nb_targets=1,\n",
    "    nb_iterations=10,\n",
    "    fraction_missing=0.0,\n",
    "    nb_missing_attributes=3,\n",
    "    n_jobs=1,\n",
    "    # Inference\n",
    "    prediction_algorithm=\"rw\",\n",
    "    max_steps=8,\n",
    "    nb_walks=5,\n",
    "    # Metadata\n",
    "    nominal_attributes=nominal_attributes,\n",
    ")\n",
    "\n",
    "# Train a MERCS-model with config above\n",
    "clf = Mercs(**cfg_mercs_default)\n",
    "\n",
    "# Nominal attributes has to be given at fit, all the rest can be done before\n",
    "clf.fit(X, nominal_attributes=nominal_attributes)\n",
    "\n",
    "\n",
    "avg_missing_attributes_per_model = np.mean(np.sum(clf.m_codes == -1, axis=1))\n",
    "\n",
    "msg = \"\"\"\n",
    "AVERAGE AMOUNT OF MISSING ATTRIBUTES PER MODEL: {}\n",
    "\"\"\".format(\n",
    "    avg_missing_attributes_per_model\n",
    ")\n",
    "print(msg)"
   ]
  },
  {
   "cell_type": "markdown",
   "metadata": {},
   "source": [
    "So that also works, basically.\n",
    "\n",
    "Also please note for all this stuff, you really do need to set\n",
    "```\n",
    "selection_algorithm=\"random\"\n",
    "```\n",
    "\n",
    "since otherwise all attributes are taken to be inputs."
   ]
  },
  {
   "cell_type": "markdown",
   "metadata": {},
   "source": [
    "## Predict\n",
    "\n",
    "\n",
    "Given that the settings for prediction are the following:\n",
    "\n",
    "```\n",
    "    prediction_algorithm=\"rw\",\n",
    "    max_steps=8,\n",
    "    nb_walks=5,\n",
    "```\n",
    "\n",
    "You are using the random walks prediction algorithm, with 5 walks of maximum 8 steps. That means that you are making 5 random chains, each chain consisting of maximally 8 individual decision trees. Each chain predicts the target. The final prediction is an average of those 5 predictions.\n",
    "\n",
    "All of these chains together form what we call a `query_model`, since it is just a composite model, tailor-made by MERCS for _your_ query-code.\n",
    "\n",
    "Allow me to give you a tiny demonstration,"
   ]
  },
  {
   "cell_type": "code",
   "execution_count": 16,
   "metadata": {},
   "outputs": [
    {
     "data": {
      "text/plain": [
       "(714, 6)"
      ]
     },
     "execution_count": 16,
     "metadata": {},
     "output_type": "execute_result"
    }
   ],
   "source": [
    "X.shape"
   ]
  },
  {
   "cell_type": "code",
   "execution_count": 17,
   "metadata": {},
   "outputs": [
    {
     "data": {
      "text/plain": [
       "array([0., 1., 0., 1., 0., 0., 0., 0., 1., 1.])"
      ]
     },
     "execution_count": 17,
     "metadata": {},
     "output_type": "execute_result"
    }
   ],
   "source": [
    "q_code = np.array([-1, -1, 0, -1, 0, 1])\n",
    "clf.predict(X, q_code=q_code)[:10]"
   ]
  },
  {
   "cell_type": "code",
   "execution_count": 18,
   "metadata": {},
   "outputs": [
    {
     "data": {
      "image/svg+xml": [
       "<svg xmlns=\"http://www.w3.org/2000/svg\" xmlns:xlink=\"http://www.w3.org/1999/xlink\" width=\"490pt\" height=\"188pt\" viewBox=\"0.00 0.00 489.89 188.00\">\n",
       "<g id=\"graph0\" class=\"graph\" transform=\"scale(1 1) rotate(0) translate(4 184)\">\n",
       "<title>G</title>\n",
       "<polygon fill=\"white\" stroke=\"transparent\" points=\"-4,4 -4,-184 485.89,-184 485.89,4 -4,4\"/>\n",
       "<!-- (&#39;D&#39;, 2) -->\n",
       "<g id=\"node1\" class=\"node\">\n",
       "<title>('D', 2)</title>\n",
       "<ellipse fill=\"none\" stroke=\"black\" cx=\"189.95\" cy=\"-18\" rx=\"41.69\" ry=\"18\"/>\n",
       "<text text-anchor=\"middle\" x=\"189.95\" y=\"-14.3\" font-family=\"Times,serif\" font-size=\"14.00\">('D', 2)</text>\n",
       "</g>\n",
       "<!-- (&#39;C&#39;, 0) -->\n",
       "<g id=\"node2\" class=\"node\">\n",
       "<title>('C', 0)</title>\n",
       "<ellipse fill=\"none\" stroke=\"black\" cx=\"440.95\" cy=\"-90\" rx=\"40.89\" ry=\"18\"/>\n",
       "<text text-anchor=\"middle\" x=\"440.95\" y=\"-86.3\" font-family=\"Times,serif\" font-size=\"14.00\">('C', 0)</text>\n",
       "</g>\n",
       "<!-- (&#39;D&#39;, 2)&#45;&gt;(&#39;C&#39;, 0) -->\n",
       "<g id=\"edge1\" class=\"edge\">\n",
       "<title>('D', 2)-&gt;('C', 0)</title>\n",
       "<path fill=\"none\" stroke=\"black\" d=\"M221.01,-30.06C227.25,-32.14 233.78,-34.22 239.95,-36 306.23,-55.13 324.66,-52.87 390.95,-72 394.07,-72.9 397.3,-73.88 400.52,-74.9\"/>\n",
       "<polygon fill=\"black\" stroke=\"black\" points=\"399.56,-78.26 410.15,-78.02 401.72,-71.61 399.56,-78.26\"/>\n",
       "</g>\n",
       "<!-- (&#39;C&#39;, 1) -->\n",
       "<g id=\"node4\" class=\"node\">\n",
       "<title>('C', 1)</title>\n",
       "<ellipse fill=\"none\" stroke=\"black\" cx=\"40.95\" cy=\"-90\" rx=\"40.89\" ry=\"18\"/>\n",
       "<text text-anchor=\"middle\" x=\"40.95\" y=\"-86.3\" font-family=\"Times,serif\" font-size=\"14.00\">('C', 1)</text>\n",
       "</g>\n",
       "<!-- (&#39;D&#39;, 2)&#45;&gt;(&#39;C&#39;, 1) -->\n",
       "<g id=\"edge2\" class=\"edge\">\n",
       "<title>('D', 2)-&gt;('C', 1)</title>\n",
       "<path fill=\"none\" stroke=\"black\" d=\"M162.62,-31.84C138.67,-43.09 103.69,-59.52 77.37,-71.89\"/>\n",
       "<polygon fill=\"black\" stroke=\"black\" points=\"75.66,-68.82 68.1,-76.24 78.64,-75.16 75.66,-68.82\"/>\n",
       "</g>\n",
       "<!-- (&#39;C&#39;, 2) -->\n",
       "<g id=\"node5\" class=\"node\">\n",
       "<title>('C', 2)</title>\n",
       "<ellipse fill=\"none\" stroke=\"black\" cx=\"140.95\" cy=\"-90\" rx=\"40.89\" ry=\"18\"/>\n",
       "<text text-anchor=\"middle\" x=\"140.95\" y=\"-86.3\" font-family=\"Times,serif\" font-size=\"14.00\">('C', 2)</text>\n",
       "</g>\n",
       "<!-- (&#39;D&#39;, 2)&#45;&gt;(&#39;C&#39;, 2) -->\n",
       "<g id=\"edge3\" class=\"edge\">\n",
       "<title>('D', 2)-&gt;('C', 2)</title>\n",
       "<path fill=\"none\" stroke=\"black\" d=\"M178.33,-35.59C172.35,-44.13 164.94,-54.72 158.3,-64.21\"/>\n",
       "<polygon fill=\"black\" stroke=\"black\" points=\"155.34,-62.33 152.48,-72.53 161.08,-66.34 155.34,-62.33\"/>\n",
       "</g>\n",
       "<!-- (&#39;C&#39;, 3) -->\n",
       "<g id=\"node6\" class=\"node\">\n",
       "<title>('C', 3)</title>\n",
       "<ellipse fill=\"none\" stroke=\"black\" cx=\"240.95\" cy=\"-90\" rx=\"40.89\" ry=\"18\"/>\n",
       "<text text-anchor=\"middle\" x=\"240.95\" y=\"-86.3\" font-family=\"Times,serif\" font-size=\"14.00\">('C', 3)</text>\n",
       "</g>\n",
       "<!-- (&#39;D&#39;, 2)&#45;&gt;(&#39;C&#39;, 3) -->\n",
       "<g id=\"edge4\" class=\"edge\">\n",
       "<title>('D', 2)-&gt;('C', 3)</title>\n",
       "<path fill=\"none\" stroke=\"black\" d=\"M202.03,-35.59C208.26,-44.13 215.97,-54.72 222.89,-64.21\"/>\n",
       "<polygon fill=\"black\" stroke=\"black\" points=\"220.23,-66.51 228.95,-72.53 225.89,-62.39 220.23,-66.51\"/>\n",
       "</g>\n",
       "<!-- (&#39;C&#39;, 4) -->\n",
       "<g id=\"node7\" class=\"node\">\n",
       "<title>('C', 4)</title>\n",
       "<ellipse fill=\"none\" stroke=\"black\" cx=\"340.95\" cy=\"-90\" rx=\"40.89\" ry=\"18\"/>\n",
       "<text text-anchor=\"middle\" x=\"340.95\" y=\"-86.3\" font-family=\"Times,serif\" font-size=\"14.00\">('C', 4)</text>\n",
       "</g>\n",
       "<!-- (&#39;D&#39;, 2)&#45;&gt;(&#39;C&#39;, 4) -->\n",
       "<g id=\"edge5\" class=\"edge\">\n",
       "<title>('D', 2)-&gt;('C', 4)</title>\n",
       "<path fill=\"none\" stroke=\"black\" d=\"M217.29,-31.68C241.77,-43.02 277.84,-59.75 304.72,-72.2\"/>\n",
       "<polygon fill=\"black\" stroke=\"black\" points=\"303.26,-75.39 313.8,-76.42 306.2,-69.04 303.26,-75.39\"/>\n",
       "</g>\n",
       "<!-- (&#39;D&#39;, 5) -->\n",
       "<g id=\"node8\" class=\"node\">\n",
       "<title>('D', 5)</title>\n",
       "<ellipse fill=\"none\" stroke=\"black\" cx=\"240.95\" cy=\"-162\" rx=\"41.69\" ry=\"18\"/>\n",
       "<text text-anchor=\"middle\" x=\"240.95\" y=\"-158.3\" font-family=\"Times,serif\" font-size=\"14.00\">('D', 5)</text>\n",
       "</g>\n",
       "<!-- (&#39;C&#39;, 0)&#45;&gt;(&#39;D&#39;, 5) -->\n",
       "<g id=\"edge6\" class=\"edge\">\n",
       "<title>('C', 0)-&gt;('D', 5)</title>\n",
       "<path fill=\"none\" stroke=\"black\" d=\"M409.7,-101.94C375.31,-113.97 319.89,-133.37 282.01,-146.63\"/>\n",
       "<polygon fill=\"black\" stroke=\"black\" points=\"280.59,-143.42 272.31,-150.02 282.9,-150.02 280.59,-143.42\"/>\n",
       "</g>\n",
       "<!-- (&#39;D&#39;, 4) -->\n",
       "<g id=\"node3\" class=\"node\">\n",
       "<title>('D', 4)</title>\n",
       "<ellipse fill=\"none\" stroke=\"black\" cx=\"290.95\" cy=\"-18\" rx=\"41.69\" ry=\"18\"/>\n",
       "<text text-anchor=\"middle\" x=\"290.95\" y=\"-14.3\" font-family=\"Times,serif\" font-size=\"14.00\">('D', 4)</text>\n",
       "</g>\n",
       "<!-- (&#39;D&#39;, 4)&#45;&gt;(&#39;C&#39;, 0) -->\n",
       "<g id=\"edge7\" class=\"edge\">\n",
       "<title>('D', 4)-&gt;('C', 0)</title>\n",
       "<path fill=\"none\" stroke=\"black\" d=\"M318.11,-31.68C342.32,-42.98 377.95,-59.6 404.61,-72.04\"/>\n",
       "<polygon fill=\"black\" stroke=\"black\" points=\"403.44,-75.36 413.98,-76.42 406.4,-69.02 403.44,-75.36\"/>\n",
       "</g>\n",
       "<!-- (&#39;D&#39;, 4)&#45;&gt;(&#39;C&#39;, 1) -->\n",
       "<g id=\"edge8\" class=\"edge\">\n",
       "<title>('D', 4)-&gt;('C', 1)</title>\n",
       "<path fill=\"none\" stroke=\"black\" d=\"M259.88,-30.06C253.64,-32.14 247.11,-34.22 240.95,-36 175.09,-55.06 156.8,-52.94 90.95,-72 87.82,-72.9 84.6,-73.89 81.37,-74.9\"/>\n",
       "<polygon fill=\"black\" stroke=\"black\" points=\"80.17,-71.61 71.74,-78.03 82.34,-78.27 80.17,-71.61\"/>\n",
       "</g>\n",
       "<!-- (&#39;D&#39;, 4)&#45;&gt;(&#39;C&#39;, 2) -->\n",
       "<g id=\"edge9\" class=\"edge\">\n",
       "<title>('D', 4)-&gt;('C', 2)</title>\n",
       "<path fill=\"none\" stroke=\"black\" d=\"M263.78,-31.68C239.57,-42.98 203.94,-59.6 177.29,-72.04\"/>\n",
       "<polygon fill=\"black\" stroke=\"black\" points=\"175.49,-69.02 167.91,-76.42 178.45,-75.36 175.49,-69.02\"/>\n",
       "</g>\n",
       "<!-- (&#39;D&#39;, 4)&#45;&gt;(&#39;C&#39;, 3) -->\n",
       "<g id=\"edge10\" class=\"edge\">\n",
       "<title>('D', 4)-&gt;('C', 3)</title>\n",
       "<path fill=\"none\" stroke=\"black\" d=\"M279.1,-35.59C272.99,-44.13 265.43,-54.72 258.65,-64.21\"/>\n",
       "<polygon fill=\"black\" stroke=\"black\" points=\"255.67,-62.36 252.71,-72.53 261.37,-66.43 255.67,-62.36\"/>\n",
       "</g>\n",
       "<!-- (&#39;D&#39;, 4)&#45;&gt;(&#39;C&#39;, 4) -->\n",
       "<g id=\"edge11\" class=\"edge\">\n",
       "<title>('D', 4)-&gt;('C', 4)</title>\n",
       "<path fill=\"none\" stroke=\"black\" d=\"M302.8,-35.59C308.9,-44.13 316.46,-54.72 323.24,-64.21\"/>\n",
       "<polygon fill=\"black\" stroke=\"black\" points=\"320.52,-66.43 329.18,-72.53 326.22,-62.36 320.52,-66.43\"/>\n",
       "</g>\n",
       "<!-- (&#39;C&#39;, 1)&#45;&gt;(&#39;D&#39;, 5) -->\n",
       "<g id=\"edge12\" class=\"edge\">\n",
       "<title>('C', 1)-&gt;('D', 5)</title>\n",
       "<path fill=\"none\" stroke=\"black\" d=\"M72.2,-101.94C106.59,-113.97 162,-133.37 199.88,-146.63\"/>\n",
       "<polygon fill=\"black\" stroke=\"black\" points=\"198.99,-150.02 209.59,-150.02 201.3,-143.42 198.99,-150.02\"/>\n",
       "</g>\n",
       "<!-- (&#39;C&#39;, 2)&#45;&gt;(&#39;D&#39;, 5) -->\n",
       "<g id=\"edge13\" class=\"edge\">\n",
       "<title>('C', 2)-&gt;('D', 5)</title>\n",
       "<path fill=\"none\" stroke=\"black\" d=\"M162.15,-105.85C176.57,-115.94 195.83,-129.42 211.7,-140.53\"/>\n",
       "<polygon fill=\"black\" stroke=\"black\" points=\"209.91,-143.55 220.11,-146.42 213.93,-137.81 209.91,-143.55\"/>\n",
       "</g>\n",
       "<!-- (&#39;C&#39;, 3)&#45;&gt;(&#39;D&#39;, 5) -->\n",
       "<g id=\"edge14\" class=\"edge\">\n",
       "<title>('C', 3)-&gt;('D', 5)</title>\n",
       "<path fill=\"none\" stroke=\"black\" d=\"M240.95,-108.3C240.95,-116.02 240.95,-125.29 240.95,-133.89\"/>\n",
       "<polygon fill=\"black\" stroke=\"black\" points=\"237.45,-133.9 240.95,-143.9 244.45,-133.9 237.45,-133.9\"/>\n",
       "</g>\n",
       "<!-- (&#39;C&#39;, 4)&#45;&gt;(&#39;D&#39;, 5) -->\n",
       "<g id=\"edge15\" class=\"edge\">\n",
       "<title>('C', 4)-&gt;('D', 5)</title>\n",
       "<path fill=\"none\" stroke=\"black\" d=\"M319.74,-105.85C305.32,-115.94 286.06,-129.42 270.2,-140.53\"/>\n",
       "<polygon fill=\"black\" stroke=\"black\" points=\"267.97,-137.81 261.78,-146.42 271.98,-143.55 267.97,-137.81\"/>\n",
       "</g>\n",
       "</g>\n",
       "</svg>"
      ],
      "text/plain": [
       "<IPython.core.display.SVG object>"
      ]
     },
     "metadata": {},
     "output_type": "display_data"
    }
   ],
   "source": [
    "# For this to work, you need graphviz installed on your machine!\n",
    "clf.show_q_diagram()"
   ]
  },
  {
   "cell_type": "markdown",
   "metadata": {},
   "source": [
    "The `C`nodes stand for composite. The chains themselves are composite models and are not visualized in detail. However, if you must:"
   ]
  },
  {
   "cell_type": "code",
   "execution_count": 19,
   "metadata": {},
   "outputs": [
    {
     "data": {
      "image/svg+xml": [
       "<svg xmlns=\"http://www.w3.org/2000/svg\" xmlns:xlink=\"http://www.w3.org/1999/xlink\" width=\"285pt\" height=\"476pt\" viewBox=\"0.00 0.00 285.19 476.00\">\n",
       "<g id=\"graph0\" class=\"graph\" transform=\"scale(1 1) rotate(0) translate(4 472)\">\n",
       "<title>G</title>\n",
       "<polygon fill=\"white\" stroke=\"transparent\" points=\"-4,4 -4,-472 281.19,-472 281.19,4 -4,4\"/>\n",
       "<!-- (&#39;D&#39;, 2) -->\n",
       "<g id=\"node1\" class=\"node\">\n",
       "<title>('D', 2)</title>\n",
       "<ellipse fill=\"none\" stroke=\"black\" cx=\"41.6\" cy=\"-18\" rx=\"41.69\" ry=\"18\"/>\n",
       "<text text-anchor=\"middle\" x=\"41.6\" y=\"-14.3\" font-family=\"Times,serif\" font-size=\"14.00\">('D', 2)</text>\n",
       "</g>\n",
       "<!-- (&#39;M&#39;, 25) -->\n",
       "<g id=\"node2\" class=\"node\">\n",
       "<title>('M', 25)</title>\n",
       "<ellipse fill=\"none\" stroke=\"black\" cx=\"197.6\" cy=\"-90\" rx=\"49.29\" ry=\"18\"/>\n",
       "<text text-anchor=\"middle\" x=\"197.6\" y=\"-86.3\" font-family=\"Times,serif\" font-size=\"14.00\">('M', 25)</text>\n",
       "</g>\n",
       "<!-- (&#39;D&#39;, 2)&#45;&gt;(&#39;M&#39;, 25) -->\n",
       "<g id=\"edge1\" class=\"edge\">\n",
       "<title>('D', 2)-&gt;('M', 25)</title>\n",
       "<path fill=\"none\" stroke=\"black\" d=\"M69.49,-31.51C94.18,-42.6 130.5,-58.89 158.16,-71.31\"/>\n",
       "<polygon fill=\"black\" stroke=\"black\" points=\"157,-74.62 167.55,-75.52 159.86,-68.23 157,-74.62\"/>\n",
       "</g>\n",
       "<!-- (&#39;M&#39;, 33) -->\n",
       "<g id=\"node5\" class=\"node\">\n",
       "<title>('M', 33)</title>\n",
       "<ellipse fill=\"none\" stroke=\"black\" cx=\"107.6\" cy=\"-234\" rx=\"49.29\" ry=\"18\"/>\n",
       "<text text-anchor=\"middle\" x=\"107.6\" y=\"-230.3\" font-family=\"Times,serif\" font-size=\"14.00\">('M', 33)</text>\n",
       "</g>\n",
       "<!-- (&#39;D&#39;, 2)&#45;&gt;(&#39;M&#39;, 33) -->\n",
       "<g id=\"edge2\" class=\"edge\">\n",
       "<title>('D', 2)-&gt;('M', 33)</title>\n",
       "<path fill=\"none\" stroke=\"black\" d=\"M40.35,-36.34C38.85,-66.84 38.83,-131.46 60.6,-180 65.58,-191.11 73.73,-201.55 81.87,-210.18\"/>\n",
       "<polygon fill=\"black\" stroke=\"black\" points=\"79.39,-212.66 88.93,-217.27 84.35,-207.72 79.39,-212.66\"/>\n",
       "</g>\n",
       "<!-- (&#39;M&#39;, 8) -->\n",
       "<g id=\"node8\" class=\"node\">\n",
       "<title>('M', 8)</title>\n",
       "<ellipse fill=\"none\" stroke=\"black\" cx=\"107.6\" cy=\"-378\" rx=\"43.59\" ry=\"18\"/>\n",
       "<text text-anchor=\"middle\" x=\"107.6\" y=\"-374.3\" font-family=\"Times,serif\" font-size=\"14.00\">('M', 8)</text>\n",
       "</g>\n",
       "<!-- (&#39;D&#39;, 2)&#45;&gt;(&#39;M&#39;, 8) -->\n",
       "<g id=\"edge3\" class=\"edge\">\n",
       "<title>('D', 2)-&gt;('M', 8)</title>\n",
       "<path fill=\"none\" stroke=\"black\" d=\"M33.91,-36.09C22.8,-62.38 3.6,-114.55 3.6,-161 3.6,-161 3.6,-161 3.6,-235 3.6,-286.05 47.89,-330.95 78.67,-355.98\"/>\n",
       "<polygon fill=\"black\" stroke=\"black\" points=\"76.53,-358.76 86.55,-362.21 80.87,-353.26 76.53,-358.76\"/>\n",
       "</g>\n",
       "<!-- (&#39;D&#39;, 0) -->\n",
       "<g id=\"node4\" class=\"node\">\n",
       "<title>('D', 0)</title>\n",
       "<ellipse fill=\"none\" stroke=\"black\" cx=\"204.6\" cy=\"-162\" rx=\"41.69\" ry=\"18\"/>\n",
       "<text text-anchor=\"middle\" x=\"204.6\" y=\"-158.3\" font-family=\"Times,serif\" font-size=\"14.00\">('D', 0)</text>\n",
       "</g>\n",
       "<!-- (&#39;M&#39;, 25)&#45;&gt;(&#39;D&#39;, 0) -->\n",
       "<g id=\"edge4\" class=\"edge\">\n",
       "<title>('M', 25)-&gt;('D', 0)</title>\n",
       "<path fill=\"none\" stroke=\"black\" d=\"M199.33,-108.3C200.1,-116.02 201.03,-125.29 201.89,-133.89\"/>\n",
       "<polygon fill=\"black\" stroke=\"black\" points=\"198.41,-134.29 202.89,-143.9 205.37,-133.6 198.41,-134.29\"/>\n",
       "</g>\n",
       "<!-- (&#39;D&#39;, 4) -->\n",
       "<g id=\"node3\" class=\"node\">\n",
       "<title>('D', 4)</title>\n",
       "<ellipse fill=\"none\" stroke=\"black\" cx=\"235.6\" cy=\"-18\" rx=\"41.69\" ry=\"18\"/>\n",
       "<text text-anchor=\"middle\" x=\"235.6\" y=\"-14.3\" font-family=\"Times,serif\" font-size=\"14.00\">('D', 4)</text>\n",
       "</g>\n",
       "<!-- (&#39;D&#39;, 4)&#45;&gt;(&#39;M&#39;, 25) -->\n",
       "<g id=\"edge5\" class=\"edge\">\n",
       "<title>('D', 4)-&gt;('M', 25)</title>\n",
       "<path fill=\"none\" stroke=\"black\" d=\"M226.59,-35.59C222.11,-43.84 216.6,-53.99 211.59,-63.22\"/>\n",
       "<polygon fill=\"black\" stroke=\"black\" points=\"208.5,-61.59 206.8,-72.04 214.65,-64.93 208.5,-61.59\"/>\n",
       "</g>\n",
       "<!-- (&#39;D&#39;, 4)&#45;&gt;(&#39;M&#39;, 8) -->\n",
       "<g id=\"edge6\" class=\"edge\">\n",
       "<title>('D', 4)-&gt;('M', 8)</title>\n",
       "<path fill=\"none\" stroke=\"black\" d=\"M243.49,-36.07C254.88,-62.33 274.6,-114.47 274.6,-161 274.6,-161 274.6,-161 274.6,-235 274.6,-300.29 199.59,-341.85 150.12,-362.16\"/>\n",
       "<polygon fill=\"black\" stroke=\"black\" points=\"148.59,-358.99 140.59,-365.93 151.18,-365.5 148.59,-358.99\"/>\n",
       "</g>\n",
       "<!-- (&#39;D&#39;, 0)&#45;&gt;(&#39;M&#39;, 33) -->\n",
       "<g id=\"edge7\" class=\"edge\">\n",
       "<title>('D', 0)-&gt;('M', 33)</title>\n",
       "<path fill=\"none\" stroke=\"black\" d=\"M184.03,-177.85C170.45,-187.64 152.45,-200.63 137.32,-211.55\"/>\n",
       "<polygon fill=\"black\" stroke=\"black\" points=\"134.87,-209 128.81,-217.69 138.97,-214.68 134.87,-209\"/>\n",
       "</g>\n",
       "<!-- (&#39;D&#39;, 3) -->\n",
       "<g id=\"node7\" class=\"node\">\n",
       "<title>('D', 3)</title>\n",
       "<ellipse fill=\"none\" stroke=\"black\" cx=\"107.6\" cy=\"-306\" rx=\"41.69\" ry=\"18\"/>\n",
       "<text text-anchor=\"middle\" x=\"107.6\" y=\"-302.3\" font-family=\"Times,serif\" font-size=\"14.00\">('D', 3)</text>\n",
       "</g>\n",
       "<!-- (&#39;M&#39;, 33)&#45;&gt;(&#39;D&#39;, 3) -->\n",
       "<g id=\"edge8\" class=\"edge\">\n",
       "<title>('M', 33)-&gt;('D', 3)</title>\n",
       "<path fill=\"none\" stroke=\"black\" d=\"M107.6,-252.3C107.6,-260.02 107.6,-269.29 107.6,-277.89\"/>\n",
       "<polygon fill=\"black\" stroke=\"black\" points=\"104.1,-277.9 107.6,-287.9 111.1,-277.9 104.1,-277.9\"/>\n",
       "</g>\n",
       "<!-- (&#39;I&#39;, 5) -->\n",
       "<g id=\"node6\" class=\"node\">\n",
       "<title>('I', 5)</title>\n",
       "<ellipse fill=\"none\" stroke=\"black\" cx=\"107.6\" cy=\"-162\" rx=\"37.89\" ry=\"18\"/>\n",
       "<text text-anchor=\"middle\" x=\"107.6\" y=\"-158.3\" font-family=\"Times,serif\" font-size=\"14.00\">('I', 5)</text>\n",
       "</g>\n",
       "<!-- (&#39;I&#39;, 5)&#45;&gt;(&#39;M&#39;, 33) -->\n",
       "<g id=\"edge9\" class=\"edge\">\n",
       "<title>('I', 5)-&gt;('M', 33)</title>\n",
       "<path fill=\"none\" stroke=\"black\" d=\"M107.6,-180.3C107.6,-188.02 107.6,-197.29 107.6,-205.89\"/>\n",
       "<polygon fill=\"black\" stroke=\"black\" points=\"104.1,-205.9 107.6,-215.9 111.1,-205.9 104.1,-205.9\"/>\n",
       "</g>\n",
       "<!-- (&#39;D&#39;, 3)&#45;&gt;(&#39;M&#39;, 8) -->\n",
       "<g id=\"edge10\" class=\"edge\">\n",
       "<title>('D', 3)-&gt;('M', 8)</title>\n",
       "<path fill=\"none\" stroke=\"black\" d=\"M107.6,-324.3C107.6,-332.02 107.6,-341.29 107.6,-349.89\"/>\n",
       "<polygon fill=\"black\" stroke=\"black\" points=\"104.1,-349.9 107.6,-359.9 111.1,-349.9 104.1,-349.9\"/>\n",
       "</g>\n",
       "<!-- (&#39;D&#39;, 5) -->\n",
       "<g id=\"node9\" class=\"node\">\n",
       "<title>('D', 5)</title>\n",
       "<ellipse fill=\"none\" stroke=\"black\" cx=\"107.6\" cy=\"-450\" rx=\"41.69\" ry=\"18\"/>\n",
       "<text text-anchor=\"middle\" x=\"107.6\" y=\"-446.3\" font-family=\"Times,serif\" font-size=\"14.00\">('D', 5)</text>\n",
       "</g>\n",
       "<!-- (&#39;M&#39;, 8)&#45;&gt;(&#39;D&#39;, 5) -->\n",
       "<g id=\"edge11\" class=\"edge\">\n",
       "<title>('M', 8)-&gt;('D', 5)</title>\n",
       "<path fill=\"none\" stroke=\"black\" d=\"M107.6,-396.3C107.6,-404.02 107.6,-413.29 107.6,-421.89\"/>\n",
       "<polygon fill=\"black\" stroke=\"black\" points=\"104.1,-421.9 107.6,-431.9 111.1,-421.9 104.1,-421.9\"/>\n",
       "</g>\n",
       "</g>\n",
       "</svg>"
      ],
      "text/plain": [
       "<IPython.core.display.SVG object>"
      ]
     },
     "metadata": {},
     "output_type": "display_data"
    }
   ],
   "source": [
    "clf.show_q_diagram(index=2)"
   ]
  },
  {
   "cell_type": "markdown",
   "metadata": {},
   "source": [
    "This is how the `(c,2)` node looks internally.\n",
    "\n",
    "Now, let us touch the query model for real:"
   ]
  },
  {
   "cell_type": "code",
   "execution_count": 20,
   "metadata": {},
   "outputs": [
    {
     "data": {
      "text/plain": [
       "<mercs.composition.NewCompositeModel.NewCompositeModel at 0x7f43a58a9fa0>"
      ]
     },
     "execution_count": 20,
     "metadata": {},
     "output_type": "execute_result"
    }
   ],
   "source": [
    "qmod = clf.q_model\n",
    "qmod"
   ]
  },
  {
   "cell_type": "markdown",
   "metadata": {},
   "source": [
    "Indeed, it's a composite model, as I said it was.\n",
    "\n",
    "Let us inspect a few attributes:"
   ]
  },
  {
   "cell_type": "code",
   "execution_count": 21,
   "metadata": {},
   "outputs": [
    {
     "data": {
      "text/plain": [
       "([2, 4], [5], 'nominal')"
      ]
     },
     "execution_count": 21,
     "metadata": {},
     "output_type": "execute_result"
    }
   ],
   "source": [
    "qmod.desc_ids, qmod.targ_ids, qmod.out_kind"
   ]
  },
  {
   "cell_type": "markdown",
   "metadata": {},
   "source": [
    "One other thing is the following, either you must give the correct inputs to the query model, if you call it directly:"
   ]
  },
  {
   "cell_type": "code",
   "execution_count": 22,
   "metadata": {},
   "outputs": [
    {
     "data": {
      "text/plain": [
       "array([0., 1., 0., 1., 0., 0., 0., 0., 1., 1.])"
      ]
     },
     "execution_count": 22,
     "metadata": {},
     "output_type": "execute_result"
    }
   ],
   "source": [
    "y_pred = qmod.predict(X[:, qmod.desc_ids])\n",
    "y_pred[:10]"
   ]
  },
  {
   "cell_type": "markdown",
   "metadata": {},
   "source": [
    "# SHAP Avatar Function\n",
    "\n",
    "So, now you have your MERCS model, and your queries. Furthermore, you know that given a query, a mercs model generates a custom query model for you.\n",
    "\n",
    "Evidently, now we just need SHAP values of this query model, and we'd know which features matter and which ones do not."
   ]
  },
  {
   "cell_type": "code",
   "execution_count": 23,
   "metadata": {},
   "outputs": [],
   "source": [
    "cfg_mercs_default = dict(\n",
    "    # Induction\n",
    "    max_depth=8,\n",
    "    selection_algorithm=\"random\",\n",
    "    nb_targets=1,\n",
    "    nb_iterations=10,\n",
    "    fraction_missing=0.0,\n",
    "    nb_missing_attributes=3,\n",
    "    n_jobs=1,\n",
    "    # Inference\n",
    "    prediction_algorithm=\"rw\",\n",
    "    max_steps=8,\n",
    "    nb_walks=5,\n",
    "    # Metadata\n",
    "    nominal_attributes=nominal_attributes,\n",
    "    random_state=30,\n",
    ")\n",
    "\n",
    "X_train = X[:500, :]\n",
    "X_test = X[500:, :]\n",
    "\n",
    "# Train a MERCS-model with config above\n",
    "clf = Mercs(**cfg_mercs_default)\n",
    "\n",
    "# Nominal attributes has to be given at fit, all the rest can be done before\n",
    "clf.fit(X_train, nominal_attributes=nominal_attributes)"
   ]
  },
  {
   "cell_type": "code",
   "execution_count": 24,
   "metadata": {},
   "outputs": [
    {
     "data": {
      "text/plain": [
       "array([1., 0., 0., 0., 1., 0., 0., 1., 0., 1., 1., 0., 0., 0., 0., 0., 0.,\n",
       "       0., 0., 0.])"
      ]
     },
     "execution_count": 24,
     "metadata": {},
     "output_type": "execute_result"
    }
   ],
   "source": [
    "# Giving a q_code and making a prediction\n",
    "q_code = np.array([-1, -1, 0, -1, 0, 1])\n",
    "clf.predict(X_test, q_code=q_code)[:20]"
   ]
  },
  {
   "cell_type": "code",
   "execution_count": 25,
   "metadata": {},
   "outputs": [
    {
     "data": {
      "text/plain": [
       "array([1., 0., 0., 0., 1., 0., 0., 1., 0., 1., 1., 0., 0., 0., 0., 0., 0.,\n",
       "       0., 0., 0.])"
      ]
     },
     "execution_count": 25,
     "metadata": {},
     "output_type": "execute_result"
    }
   ],
   "source": [
    "clf.predict(X_test[:100, :], q_code=q_code)[:20]"
   ]
  },
  {
   "cell_type": "code",
   "execution_count": 26,
   "metadata": {},
   "outputs": [
    {
     "data": {
      "image/svg+xml": [
       "<svg xmlns=\"http://www.w3.org/2000/svg\" xmlns:xlink=\"http://www.w3.org/1999/xlink\" width=\"490pt\" height=\"188pt\" viewBox=\"0.00 0.00 489.89 188.00\">\n",
       "<g id=\"graph0\" class=\"graph\" transform=\"scale(1 1) rotate(0) translate(4 184)\">\n",
       "<title>G</title>\n",
       "<polygon fill=\"white\" stroke=\"transparent\" points=\"-4,4 -4,-184 485.89,-184 485.89,4 -4,4\"/>\n",
       "<!-- (&#39;D&#39;, 2) -->\n",
       "<g id=\"node1\" class=\"node\">\n",
       "<title>('D', 2)</title>\n",
       "<ellipse fill=\"none\" stroke=\"black\" cx=\"189.95\" cy=\"-18\" rx=\"41.69\" ry=\"18\"/>\n",
       "<text text-anchor=\"middle\" x=\"189.95\" y=\"-14.3\" font-family=\"Times,serif\" font-size=\"14.00\">('D', 2)</text>\n",
       "</g>\n",
       "<!-- (&#39;C&#39;, 0) -->\n",
       "<g id=\"node2\" class=\"node\">\n",
       "<title>('C', 0)</title>\n",
       "<ellipse fill=\"none\" stroke=\"black\" cx=\"440.95\" cy=\"-90\" rx=\"40.89\" ry=\"18\"/>\n",
       "<text text-anchor=\"middle\" x=\"440.95\" y=\"-86.3\" font-family=\"Times,serif\" font-size=\"14.00\">('C', 0)</text>\n",
       "</g>\n",
       "<!-- (&#39;D&#39;, 2)&#45;&gt;(&#39;C&#39;, 0) -->\n",
       "<g id=\"edge1\" class=\"edge\">\n",
       "<title>('D', 2)-&gt;('C', 0)</title>\n",
       "<path fill=\"none\" stroke=\"black\" d=\"M221.01,-30.06C227.25,-32.14 233.78,-34.22 239.95,-36 306.23,-55.13 324.66,-52.87 390.95,-72 394.07,-72.9 397.3,-73.88 400.52,-74.9\"/>\n",
       "<polygon fill=\"black\" stroke=\"black\" points=\"399.56,-78.26 410.15,-78.02 401.72,-71.61 399.56,-78.26\"/>\n",
       "</g>\n",
       "<!-- (&#39;C&#39;, 1) -->\n",
       "<g id=\"node4\" class=\"node\">\n",
       "<title>('C', 1)</title>\n",
       "<ellipse fill=\"none\" stroke=\"black\" cx=\"40.95\" cy=\"-90\" rx=\"40.89\" ry=\"18\"/>\n",
       "<text text-anchor=\"middle\" x=\"40.95\" y=\"-86.3\" font-family=\"Times,serif\" font-size=\"14.00\">('C', 1)</text>\n",
       "</g>\n",
       "<!-- (&#39;D&#39;, 2)&#45;&gt;(&#39;C&#39;, 1) -->\n",
       "<g id=\"edge2\" class=\"edge\">\n",
       "<title>('D', 2)-&gt;('C', 1)</title>\n",
       "<path fill=\"none\" stroke=\"black\" d=\"M162.62,-31.84C138.67,-43.09 103.69,-59.52 77.37,-71.89\"/>\n",
       "<polygon fill=\"black\" stroke=\"black\" points=\"75.66,-68.82 68.1,-76.24 78.64,-75.16 75.66,-68.82\"/>\n",
       "</g>\n",
       "<!-- (&#39;C&#39;, 2) -->\n",
       "<g id=\"node5\" class=\"node\">\n",
       "<title>('C', 2)</title>\n",
       "<ellipse fill=\"none\" stroke=\"black\" cx=\"140.95\" cy=\"-90\" rx=\"40.89\" ry=\"18\"/>\n",
       "<text text-anchor=\"middle\" x=\"140.95\" y=\"-86.3\" font-family=\"Times,serif\" font-size=\"14.00\">('C', 2)</text>\n",
       "</g>\n",
       "<!-- (&#39;D&#39;, 2)&#45;&gt;(&#39;C&#39;, 2) -->\n",
       "<g id=\"edge3\" class=\"edge\">\n",
       "<title>('D', 2)-&gt;('C', 2)</title>\n",
       "<path fill=\"none\" stroke=\"black\" d=\"M178.33,-35.59C172.35,-44.13 164.94,-54.72 158.3,-64.21\"/>\n",
       "<polygon fill=\"black\" stroke=\"black\" points=\"155.34,-62.33 152.48,-72.53 161.08,-66.34 155.34,-62.33\"/>\n",
       "</g>\n",
       "<!-- (&#39;C&#39;, 3) -->\n",
       "<g id=\"node6\" class=\"node\">\n",
       "<title>('C', 3)</title>\n",
       "<ellipse fill=\"none\" stroke=\"black\" cx=\"240.95\" cy=\"-90\" rx=\"40.89\" ry=\"18\"/>\n",
       "<text text-anchor=\"middle\" x=\"240.95\" y=\"-86.3\" font-family=\"Times,serif\" font-size=\"14.00\">('C', 3)</text>\n",
       "</g>\n",
       "<!-- (&#39;D&#39;, 2)&#45;&gt;(&#39;C&#39;, 3) -->\n",
       "<g id=\"edge4\" class=\"edge\">\n",
       "<title>('D', 2)-&gt;('C', 3)</title>\n",
       "<path fill=\"none\" stroke=\"black\" d=\"M202.03,-35.59C208.26,-44.13 215.97,-54.72 222.89,-64.21\"/>\n",
       "<polygon fill=\"black\" stroke=\"black\" points=\"220.23,-66.51 228.95,-72.53 225.89,-62.39 220.23,-66.51\"/>\n",
       "</g>\n",
       "<!-- (&#39;C&#39;, 4) -->\n",
       "<g id=\"node7\" class=\"node\">\n",
       "<title>('C', 4)</title>\n",
       "<ellipse fill=\"none\" stroke=\"black\" cx=\"340.95\" cy=\"-90\" rx=\"40.89\" ry=\"18\"/>\n",
       "<text text-anchor=\"middle\" x=\"340.95\" y=\"-86.3\" font-family=\"Times,serif\" font-size=\"14.00\">('C', 4)</text>\n",
       "</g>\n",
       "<!-- (&#39;D&#39;, 2)&#45;&gt;(&#39;C&#39;, 4) -->\n",
       "<g id=\"edge5\" class=\"edge\">\n",
       "<title>('D', 2)-&gt;('C', 4)</title>\n",
       "<path fill=\"none\" stroke=\"black\" d=\"M217.29,-31.68C241.77,-43.02 277.84,-59.75 304.72,-72.2\"/>\n",
       "<polygon fill=\"black\" stroke=\"black\" points=\"303.26,-75.39 313.8,-76.42 306.2,-69.04 303.26,-75.39\"/>\n",
       "</g>\n",
       "<!-- (&#39;D&#39;, 5) -->\n",
       "<g id=\"node8\" class=\"node\">\n",
       "<title>('D', 5)</title>\n",
       "<ellipse fill=\"none\" stroke=\"black\" cx=\"240.95\" cy=\"-162\" rx=\"41.69\" ry=\"18\"/>\n",
       "<text text-anchor=\"middle\" x=\"240.95\" y=\"-158.3\" font-family=\"Times,serif\" font-size=\"14.00\">('D', 5)</text>\n",
       "</g>\n",
       "<!-- (&#39;C&#39;, 0)&#45;&gt;(&#39;D&#39;, 5) -->\n",
       "<g id=\"edge6\" class=\"edge\">\n",
       "<title>('C', 0)-&gt;('D', 5)</title>\n",
       "<path fill=\"none\" stroke=\"black\" d=\"M409.7,-101.94C375.31,-113.97 319.89,-133.37 282.01,-146.63\"/>\n",
       "<polygon fill=\"black\" stroke=\"black\" points=\"280.59,-143.42 272.31,-150.02 282.9,-150.02 280.59,-143.42\"/>\n",
       "</g>\n",
       "<!-- (&#39;D&#39;, 4) -->\n",
       "<g id=\"node3\" class=\"node\">\n",
       "<title>('D', 4)</title>\n",
       "<ellipse fill=\"none\" stroke=\"black\" cx=\"290.95\" cy=\"-18\" rx=\"41.69\" ry=\"18\"/>\n",
       "<text text-anchor=\"middle\" x=\"290.95\" y=\"-14.3\" font-family=\"Times,serif\" font-size=\"14.00\">('D', 4)</text>\n",
       "</g>\n",
       "<!-- (&#39;D&#39;, 4)&#45;&gt;(&#39;C&#39;, 0) -->\n",
       "<g id=\"edge7\" class=\"edge\">\n",
       "<title>('D', 4)-&gt;('C', 0)</title>\n",
       "<path fill=\"none\" stroke=\"black\" d=\"M318.11,-31.68C342.32,-42.98 377.95,-59.6 404.61,-72.04\"/>\n",
       "<polygon fill=\"black\" stroke=\"black\" points=\"403.44,-75.36 413.98,-76.42 406.4,-69.02 403.44,-75.36\"/>\n",
       "</g>\n",
       "<!-- (&#39;D&#39;, 4)&#45;&gt;(&#39;C&#39;, 1) -->\n",
       "<g id=\"edge8\" class=\"edge\">\n",
       "<title>('D', 4)-&gt;('C', 1)</title>\n",
       "<path fill=\"none\" stroke=\"black\" d=\"M259.88,-30.06C253.64,-32.14 247.11,-34.22 240.95,-36 175.09,-55.06 156.8,-52.94 90.95,-72 87.82,-72.9 84.6,-73.89 81.37,-74.9\"/>\n",
       "<polygon fill=\"black\" stroke=\"black\" points=\"80.17,-71.61 71.74,-78.03 82.34,-78.27 80.17,-71.61\"/>\n",
       "</g>\n",
       "<!-- (&#39;D&#39;, 4)&#45;&gt;(&#39;C&#39;, 2) -->\n",
       "<g id=\"edge9\" class=\"edge\">\n",
       "<title>('D', 4)-&gt;('C', 2)</title>\n",
       "<path fill=\"none\" stroke=\"black\" d=\"M263.78,-31.68C239.57,-42.98 203.94,-59.6 177.29,-72.04\"/>\n",
       "<polygon fill=\"black\" stroke=\"black\" points=\"175.49,-69.02 167.91,-76.42 178.45,-75.36 175.49,-69.02\"/>\n",
       "</g>\n",
       "<!-- (&#39;D&#39;, 4)&#45;&gt;(&#39;C&#39;, 3) -->\n",
       "<g id=\"edge10\" class=\"edge\">\n",
       "<title>('D', 4)-&gt;('C', 3)</title>\n",
       "<path fill=\"none\" stroke=\"black\" d=\"M279.1,-35.59C272.99,-44.13 265.43,-54.72 258.65,-64.21\"/>\n",
       "<polygon fill=\"black\" stroke=\"black\" points=\"255.67,-62.36 252.71,-72.53 261.37,-66.43 255.67,-62.36\"/>\n",
       "</g>\n",
       "<!-- (&#39;D&#39;, 4)&#45;&gt;(&#39;C&#39;, 4) -->\n",
       "<g id=\"edge11\" class=\"edge\">\n",
       "<title>('D', 4)-&gt;('C', 4)</title>\n",
       "<path fill=\"none\" stroke=\"black\" d=\"M302.8,-35.59C308.9,-44.13 316.46,-54.72 323.24,-64.21\"/>\n",
       "<polygon fill=\"black\" stroke=\"black\" points=\"320.52,-66.43 329.18,-72.53 326.22,-62.36 320.52,-66.43\"/>\n",
       "</g>\n",
       "<!-- (&#39;C&#39;, 1)&#45;&gt;(&#39;D&#39;, 5) -->\n",
       "<g id=\"edge12\" class=\"edge\">\n",
       "<title>('C', 1)-&gt;('D', 5)</title>\n",
       "<path fill=\"none\" stroke=\"black\" d=\"M72.2,-101.94C106.59,-113.97 162,-133.37 199.88,-146.63\"/>\n",
       "<polygon fill=\"black\" stroke=\"black\" points=\"198.99,-150.02 209.59,-150.02 201.3,-143.42 198.99,-150.02\"/>\n",
       "</g>\n",
       "<!-- (&#39;C&#39;, 2)&#45;&gt;(&#39;D&#39;, 5) -->\n",
       "<g id=\"edge13\" class=\"edge\">\n",
       "<title>('C', 2)-&gt;('D', 5)</title>\n",
       "<path fill=\"none\" stroke=\"black\" d=\"M162.15,-105.85C176.57,-115.94 195.83,-129.42 211.7,-140.53\"/>\n",
       "<polygon fill=\"black\" stroke=\"black\" points=\"209.91,-143.55 220.11,-146.42 213.93,-137.81 209.91,-143.55\"/>\n",
       "</g>\n",
       "<!-- (&#39;C&#39;, 3)&#45;&gt;(&#39;D&#39;, 5) -->\n",
       "<g id=\"edge14\" class=\"edge\">\n",
       "<title>('C', 3)-&gt;('D', 5)</title>\n",
       "<path fill=\"none\" stroke=\"black\" d=\"M240.95,-108.3C240.95,-116.02 240.95,-125.29 240.95,-133.89\"/>\n",
       "<polygon fill=\"black\" stroke=\"black\" points=\"237.45,-133.9 240.95,-143.9 244.45,-133.9 237.45,-133.9\"/>\n",
       "</g>\n",
       "<!-- (&#39;C&#39;, 4)&#45;&gt;(&#39;D&#39;, 5) -->\n",
       "<g id=\"edge15\" class=\"edge\">\n",
       "<title>('C', 4)-&gt;('D', 5)</title>\n",
       "<path fill=\"none\" stroke=\"black\" d=\"M319.74,-105.85C305.32,-115.94 286.06,-129.42 270.2,-140.53\"/>\n",
       "<polygon fill=\"black\" stroke=\"black\" points=\"267.97,-137.81 261.78,-146.42 271.98,-143.55 267.97,-137.81\"/>\n",
       "</g>\n",
       "</g>\n",
       "</svg>"
      ],
      "text/plain": [
       "<IPython.core.display.SVG object>"
      ]
     },
     "metadata": {},
     "output_type": "display_data"
    }
   ],
   "source": [
    "clf.show_q_diagram()"
   ]
  },
  {
   "cell_type": "code",
   "execution_count": 27,
   "metadata": {},
   "outputs": [
    {
     "data": {
      "image/svg+xml": [
       "<svg xmlns=\"http://www.w3.org/2000/svg\" xmlns:xlink=\"http://www.w3.org/1999/xlink\" width=\"95pt\" height=\"188pt\" viewBox=\"0.00 0.00 95.09 188.00\">\n",
       "<g id=\"graph0\" class=\"graph\" transform=\"scale(1 1) rotate(0) translate(4 184)\">\n",
       "<title>G</title>\n",
       "<polygon fill=\"white\" stroke=\"transparent\" points=\"-4,4 -4,-184 91.09,-184 91.09,4 -4,4\"/>\n",
       "<!-- (&#39;D&#39;, 4) -->\n",
       "<g id=\"node1\" class=\"node\">\n",
       "<title>('D', 4)</title>\n",
       "<ellipse fill=\"none\" stroke=\"black\" cx=\"43.55\" cy=\"-18\" rx=\"41.69\" ry=\"18\"/>\n",
       "<text text-anchor=\"middle\" x=\"43.55\" y=\"-14.3\" font-family=\"Times,serif\" font-size=\"14.00\">('D', 4)</text>\n",
       "</g>\n",
       "<!-- (&#39;M&#39;, 6) -->\n",
       "<g id=\"node2\" class=\"node\">\n",
       "<title>('M', 6)</title>\n",
       "<ellipse fill=\"none\" stroke=\"black\" cx=\"43.55\" cy=\"-90\" rx=\"43.59\" ry=\"18\"/>\n",
       "<text text-anchor=\"middle\" x=\"43.55\" y=\"-86.3\" font-family=\"Times,serif\" font-size=\"14.00\">('M', 6)</text>\n",
       "</g>\n",
       "<!-- (&#39;D&#39;, 4)&#45;&gt;(&#39;M&#39;, 6) -->\n",
       "<g id=\"edge1\" class=\"edge\">\n",
       "<title>('D', 4)-&gt;('M', 6)</title>\n",
       "<path fill=\"none\" stroke=\"black\" d=\"M43.55,-36.3C43.55,-44.02 43.55,-53.29 43.55,-61.89\"/>\n",
       "<polygon fill=\"black\" stroke=\"black\" points=\"40.05,-61.9 43.55,-71.9 47.05,-61.9 40.05,-61.9\"/>\n",
       "</g>\n",
       "<!-- (&#39;D&#39;, 5) -->\n",
       "<g id=\"node3\" class=\"node\">\n",
       "<title>('D', 5)</title>\n",
       "<ellipse fill=\"none\" stroke=\"black\" cx=\"43.55\" cy=\"-162\" rx=\"41.69\" ry=\"18\"/>\n",
       "<text text-anchor=\"middle\" x=\"43.55\" y=\"-158.3\" font-family=\"Times,serif\" font-size=\"14.00\">('D', 5)</text>\n",
       "</g>\n",
       "<!-- (&#39;M&#39;, 6)&#45;&gt;(&#39;D&#39;, 5) -->\n",
       "<g id=\"edge2\" class=\"edge\">\n",
       "<title>('M', 6)-&gt;('D', 5)</title>\n",
       "<path fill=\"none\" stroke=\"black\" d=\"M43.55,-108.3C43.55,-116.02 43.55,-125.29 43.55,-133.89\"/>\n",
       "<polygon fill=\"black\" stroke=\"black\" points=\"40.05,-133.9 43.55,-143.9 47.05,-133.9 40.05,-133.9\"/>\n",
       "</g>\n",
       "</g>\n",
       "</svg>"
      ],
      "text/plain": [
       "<IPython.core.display.SVG object>"
      ]
     },
     "metadata": {},
     "output_type": "display_data"
    }
   ],
   "source": [
    "clf.show_q_diagram(index=1)"
   ]
  },
  {
   "cell_type": "markdown",
   "metadata": {},
   "source": [
    "## Extracting nrm_shaps"
   ]
  },
  {
   "cell_type": "markdown",
   "metadata": {},
   "source": [
    "You need to give training data and testing data to calculate the SHAP values now.\n",
    "\n",
    "The training data can be the data that you you used in fit. The `n_samples`parameter subsamples this. I have found that you do not need to set too many samples for accurate results. Setting `n_samples` too high really hits runtime bad.\n",
    "\n",
    "The testing data is exactly what you expect it to be. It is the data you use in the mercs.predict (if you were not too lazy to do a train-test split)\n",
    "\n",
    "If you give 200 testing samples, the shap calculation will calculate 200 predictions, and internally, they're will be 200 abs_shaps values. Those are averaged and normalized and that process yields the nrm_shaps as you see here."
   ]
  },
  {
   "cell_type": "code",
   "execution_count": 28,
   "metadata": {},
   "outputs": [
    {
     "name": "stdout",
     "output_type": "stream",
     "text": [
      "1.02 s ± 58.6 ms per loop (mean ± std. dev. of 7 runs, 1 loop each)\n"
     ]
    }
   ],
   "source": [
    "%%timeit\n",
    "nrm_shaps = clf.avatar_q_model(X_train, X_test, n_samples=50)"
   ]
  },
  {
   "cell_type": "code",
   "execution_count": 29,
   "metadata": {},
   "outputs": [
    {
     "data": {
      "text/plain": [
       "array([0.0425927, 0.9574073])"
      ]
     },
     "execution_count": 29,
     "metadata": {},
     "output_type": "execute_result"
    }
   ],
   "source": [
    "clf.avatar_q_model(X_train, X_test, n_samples=50)"
   ]
  },
  {
   "cell_type": "code",
   "execution_count": 30,
   "metadata": {},
   "outputs": [
    {
     "name": "stdout",
     "output_type": "stream",
     "text": [
      "879 ms ± 6.63 ms per loop (mean ± std. dev. of 7 runs, 1 loop each)\n"
     ]
    }
   ],
   "source": [
    "%%timeit\n",
    "nrm_shaps = clf.avatar_q_model(X_train, X_test, n_samples=5)"
   ]
  },
  {
   "cell_type": "code",
   "execution_count": 31,
   "metadata": {},
   "outputs": [
    {
     "data": {
      "text/plain": [
       "array([0.03745447, 0.96254553])"
      ]
     },
     "execution_count": 31,
     "metadata": {},
     "output_type": "execute_result"
    }
   ],
   "source": [
    "clf.avatar_q_model(X_train, X_test, n_samples=5)"
   ]
  },
  {
   "cell_type": "code",
   "execution_count": 32,
   "metadata": {},
   "outputs": [
    {
     "data": {
      "text/plain": [
       "array([0.05171342, 0.94828658])"
      ]
     },
     "execution_count": 32,
     "metadata": {},
     "output_type": "execute_result"
    }
   ],
   "source": [
    "clf.avatar_q_model(X_train, X_test[:50], n_samples=5)"
   ]
  },
  {
   "cell_type": "code",
   "execution_count": null,
   "metadata": {},
   "outputs": [],
   "source": []
  },
  {
   "cell_type": "markdown",
   "metadata": {},
   "source": [
    "Smaller test set is even way faster AND the results seem also semi-close"
   ]
  },
  {
   "cell_type": "markdown",
   "metadata": {},
   "source": [
    "# SHAP Avatar Function with different predict\n",
    "\n",
    "Just FYI, the iterative prediction algorithm in mercs is also quite powerful (also does chaining and is somewhat faster)\n",
    "\n",
    "Instead of a chain, it makes a pyramid of decision trees. By that, I mean a single chain, but every level of the chain is allowed to contain multiple trees. But overall, this algorithm will end up using less decision trees than the random walk algorithm. To see why, just realize that the 'it' algorithm can only use each decision tree once. In the random walk prediction, a single decision tree can be used a lot."
   ]
  },
  {
   "cell_type": "code",
   "execution_count": 33,
   "metadata": {},
   "outputs": [
    {
     "data": {
      "image/svg+xml": [
       "<svg xmlns=\"http://www.w3.org/2000/svg\" xmlns:xlink=\"http://www.w3.org/1999/xlink\" width=\"850pt\" height=\"332pt\" viewBox=\"0.00 0.00 849.96 332.00\">\n",
       "<g id=\"graph0\" class=\"graph\" transform=\"scale(1 1) rotate(0) translate(4 328)\">\n",
       "<title>G</title>\n",
       "<polygon fill=\"white\" stroke=\"transparent\" points=\"-4,4 -4,-328 845.96,-328 845.96,4 -4,4\"/>\n",
       "<!-- (&#39;I&#39;, 1) -->\n",
       "<g id=\"node1\" class=\"node\">\n",
       "<title>('I', 1)</title>\n",
       "<ellipse fill=\"none\" stroke=\"black\" cx=\"217.41\" cy=\"-18\" rx=\"37.89\" ry=\"18\"/>\n",
       "<text text-anchor=\"middle\" x=\"217.41\" y=\"-14.3\" font-family=\"Times,serif\" font-size=\"14.00\">('I', 1)</text>\n",
       "</g>\n",
       "<!-- (&#39;M&#39;, 17) -->\n",
       "<g id=\"node2\" class=\"node\">\n",
       "<title>('M', 17)</title>\n",
       "<ellipse fill=\"none\" stroke=\"black\" cx=\"227.41\" cy=\"-90\" rx=\"49.29\" ry=\"18\"/>\n",
       "<text text-anchor=\"middle\" x=\"227.41\" y=\"-86.3\" font-family=\"Times,serif\" font-size=\"14.00\">('M', 17)</text>\n",
       "</g>\n",
       "<!-- (&#39;I&#39;, 1)&#45;&gt;(&#39;M&#39;, 17) -->\n",
       "<g id=\"edge1\" class=\"edge\">\n",
       "<title>('I', 1)-&gt;('M', 17)</title>\n",
       "<path fill=\"none\" stroke=\"black\" d=\"M219.88,-36.3C220.98,-44.02 222.31,-53.29 223.54,-61.89\"/>\n",
       "<polygon fill=\"black\" stroke=\"black\" points=\"220.09,-62.49 224.97,-71.9 227.02,-61.5 220.09,-62.49\"/>\n",
       "</g>\n",
       "<!-- (&#39;M&#39;, 32) -->\n",
       "<g id=\"node7\" class=\"node\">\n",
       "<title>('M', 32)</title>\n",
       "<ellipse fill=\"none\" stroke=\"black\" cx=\"110.41\" cy=\"-90\" rx=\"49.29\" ry=\"18\"/>\n",
       "<text text-anchor=\"middle\" x=\"110.41\" y=\"-86.3\" font-family=\"Times,serif\" font-size=\"14.00\">('M', 32)</text>\n",
       "</g>\n",
       "<!-- (&#39;I&#39;, 1)&#45;&gt;(&#39;M&#39;, 32) -->\n",
       "<g id=\"edge2\" class=\"edge\">\n",
       "<title>('I', 1)-&gt;('M', 32)</title>\n",
       "<path fill=\"none\" stroke=\"black\" d=\"M196.01,-33C180.64,-43.05 159.66,-56.78 142.31,-68.13\"/>\n",
       "<polygon fill=\"black\" stroke=\"black\" points=\"140.08,-65.41 133.62,-73.81 143.91,-71.27 140.08,-65.41\"/>\n",
       "</g>\n",
       "<!-- (&#39;D&#39;, 0) -->\n",
       "<g id=\"node10\" class=\"node\">\n",
       "<title>('D', 0)</title>\n",
       "<ellipse fill=\"none\" stroke=\"black\" cx=\"352.41\" cy=\"-162\" rx=\"41.69\" ry=\"18\"/>\n",
       "<text text-anchor=\"middle\" x=\"352.41\" y=\"-158.3\" font-family=\"Times,serif\" font-size=\"14.00\">('D', 0)</text>\n",
       "</g>\n",
       "<!-- (&#39;M&#39;, 17)&#45;&gt;(&#39;D&#39;, 0) -->\n",
       "<g id=\"edge3\" class=\"edge\">\n",
       "<title>('M', 17)-&gt;('D', 0)</title>\n",
       "<path fill=\"none\" stroke=\"black\" d=\"M253.31,-105.5C272.37,-116.18 298.45,-130.78 319.06,-142.33\"/>\n",
       "<polygon fill=\"black\" stroke=\"black\" points=\"317.38,-145.4 327.82,-147.23 320.8,-139.29 317.38,-145.4\"/>\n",
       "</g>\n",
       "<!-- (&#39;D&#39;, 2) -->\n",
       "<g id=\"node3\" class=\"node\">\n",
       "<title>('D', 2)</title>\n",
       "<ellipse fill=\"none\" stroke=\"black\" cx=\"110.41\" cy=\"-18\" rx=\"41.69\" ry=\"18\"/>\n",
       "<text text-anchor=\"middle\" x=\"110.41\" y=\"-14.3\" font-family=\"Times,serif\" font-size=\"14.00\">('D', 2)</text>\n",
       "</g>\n",
       "<!-- (&#39;D&#39;, 2)&#45;&gt;(&#39;M&#39;, 17) -->\n",
       "<g id=\"edge4\" class=\"edge\">\n",
       "<title>('D', 2)-&gt;('M', 17)</title>\n",
       "<path fill=\"none\" stroke=\"black\" d=\"M133.81,-33C151.08,-43.33 174.82,-57.54 194.08,-69.06\"/>\n",
       "<polygon fill=\"black\" stroke=\"black\" points=\"192.47,-72.17 202.84,-74.3 196.06,-66.17 192.47,-72.17\"/>\n",
       "</g>\n",
       "<!-- (&#39;D&#39;, 2)&#45;&gt;(&#39;M&#39;, 32) -->\n",
       "<g id=\"edge5\" class=\"edge\">\n",
       "<title>('D', 2)-&gt;('M', 32)</title>\n",
       "<path fill=\"none\" stroke=\"black\" d=\"M110.41,-36.3C110.41,-44.02 110.41,-53.29 110.41,-61.89\"/>\n",
       "<polygon fill=\"black\" stroke=\"black\" points=\"106.91,-61.9 110.41,-71.9 113.91,-61.9 106.91,-61.9\"/>\n",
       "</g>\n",
       "<!-- (&#39;M&#39;, 53) -->\n",
       "<g id=\"node9\" class=\"node\">\n",
       "<title>('M', 53)</title>\n",
       "<ellipse fill=\"none\" stroke=\"black\" cx=\"344.41\" cy=\"-90\" rx=\"49.29\" ry=\"18\"/>\n",
       "<text text-anchor=\"middle\" x=\"344.41\" y=\"-86.3\" font-family=\"Times,serif\" font-size=\"14.00\">('M', 53)</text>\n",
       "</g>\n",
       "<!-- (&#39;D&#39;, 2)&#45;&gt;(&#39;M&#39;, 53) -->\n",
       "<g id=\"edge6\" class=\"edge\">\n",
       "<title>('D', 2)-&gt;('M', 53)</title>\n",
       "<path fill=\"none\" stroke=\"black\" d=\"M143.94,-29.03C184.32,-41.11 252.39,-61.47 297.85,-75.07\"/>\n",
       "<polygon fill=\"black\" stroke=\"black\" points=\"296.89,-78.44 307.47,-77.95 298.89,-71.73 296.89,-78.44\"/>\n",
       "</g>\n",
       "<!-- (&#39;M&#39;, 0) -->\n",
       "<g id=\"node11\" class=\"node\">\n",
       "<title>('M', 0)</title>\n",
       "<ellipse fill=\"none\" stroke=\"black\" cx=\"264.41\" cy=\"-234\" rx=\"43.59\" ry=\"18\"/>\n",
       "<text text-anchor=\"middle\" x=\"264.41\" y=\"-230.3\" font-family=\"Times,serif\" font-size=\"14.00\">('M', 0)</text>\n",
       "</g>\n",
       "<!-- (&#39;D&#39;, 2)&#45;&gt;(&#39;M&#39;, 0) -->\n",
       "<g id=\"edge7\" class=\"edge\">\n",
       "<title>('D', 2)-&gt;('M', 0)</title>\n",
       "<path fill=\"none\" stroke=\"black\" d=\"M87.29,-33.09C74.41,-42.36 59.56,-55.77 52.41,-72 45.96,-86.64 44.47,-94.11 52.41,-108 71.69,-141.76 170.68,-190.68 226.32,-216.16\"/>\n",
       "<polygon fill=\"black\" stroke=\"black\" points=\"224.96,-219.38 235.51,-220.33 227.86,-213.01 224.96,-219.38\"/>\n",
       "</g>\n",
       "<!-- (&#39;M&#39;, 9) -->\n",
       "<g id=\"node17\" class=\"node\">\n",
       "<title>('M', 9)</title>\n",
       "<ellipse fill=\"none\" stroke=\"black\" cx=\"159.41\" cy=\"-234\" rx=\"43.59\" ry=\"18\"/>\n",
       "<text text-anchor=\"middle\" x=\"159.41\" y=\"-230.3\" font-family=\"Times,serif\" font-size=\"14.00\">('M', 9)</text>\n",
       "</g>\n",
       "<!-- (&#39;D&#39;, 2)&#45;&gt;(&#39;M&#39;, 9) -->\n",
       "<g id=\"edge8\" class=\"edge\">\n",
       "<title>('D', 2)-&gt;('M', 9)</title>\n",
       "<path fill=\"none\" stroke=\"black\" d=\"M76.88,-28.99C56.34,-37.03 31.71,-50.6 19.41,-72 -4.51,-113.61 -7.87,-140.5 19.41,-180 38.98,-208.34 75.81,-221.54 106.78,-227.68\"/>\n",
       "<polygon fill=\"black\" stroke=\"black\" points=\"106.56,-231.2 117.02,-229.51 107.79,-224.31 106.56,-231.2\"/>\n",
       "</g>\n",
       "<!-- (&#39;D&#39;, 4) -->\n",
       "<g id=\"node4\" class=\"node\">\n",
       "<title>('D', 4)</title>\n",
       "<ellipse fill=\"none\" stroke=\"black\" cx=\"519.41\" cy=\"-18\" rx=\"41.69\" ry=\"18\"/>\n",
       "<text text-anchor=\"middle\" x=\"519.41\" y=\"-14.3\" font-family=\"Times,serif\" font-size=\"14.00\">('D', 4)</text>\n",
       "</g>\n",
       "<!-- (&#39;D&#39;, 4)&#45;&gt;(&#39;M&#39;, 17) -->\n",
       "<g id=\"edge9\" class=\"edge\">\n",
       "<title>('D', 4)-&gt;('M', 17)</title>\n",
       "<path fill=\"none\" stroke=\"black\" d=\"M482.53,-26.71C436.46,-36.5 355.31,-54.25 286.41,-72 282.4,-73.03 278.26,-74.14 274.1,-75.28\"/>\n",
       "<polygon fill=\"black\" stroke=\"black\" points=\"273.15,-71.91 264.46,-77.98 275.03,-78.66 273.15,-71.91\"/>\n",
       "</g>\n",
       "<!-- (&#39;M&#39;, 23) -->\n",
       "<g id=\"node6\" class=\"node\">\n",
       "<title>('M', 23)</title>\n",
       "<ellipse fill=\"none\" stroke=\"black\" cx=\"578.41\" cy=\"-90\" rx=\"49.29\" ry=\"18\"/>\n",
       "<text text-anchor=\"middle\" x=\"578.41\" y=\"-86.3\" font-family=\"Times,serif\" font-size=\"14.00\">('M', 23)</text>\n",
       "</g>\n",
       "<!-- (&#39;D&#39;, 4)&#45;&gt;(&#39;M&#39;, 23) -->\n",
       "<g id=\"edge10\" class=\"edge\">\n",
       "<title>('D', 4)-&gt;('M', 23)</title>\n",
       "<path fill=\"none\" stroke=\"black\" d=\"M533.09,-35.24C540.43,-43.94 549.63,-54.85 557.81,-64.57\"/>\n",
       "<polygon fill=\"black\" stroke=\"black\" points=\"555.27,-66.98 564.39,-72.37 560.62,-62.46 555.27,-66.98\"/>\n",
       "</g>\n",
       "<!-- (&#39;D&#39;, 4)&#45;&gt;(&#39;M&#39;, 32) -->\n",
       "<g id=\"edge11\" class=\"edge\">\n",
       "<title>('D', 4)-&gt;('M', 32)</title>\n",
       "<path fill=\"none\" stroke=\"black\" d=\"M480.14,-24.29C401.71,-34.96 228.17,-59.14 169.41,-72 165.25,-72.91 160.95,-73.95 156.66,-75.06\"/>\n",
       "<polygon fill=\"black\" stroke=\"black\" points=\"155.47,-71.75 146.73,-77.73 157.3,-78.51 155.47,-71.75\"/>\n",
       "</g>\n",
       "<!-- (&#39;M&#39;, 40) -->\n",
       "<g id=\"node8\" class=\"node\">\n",
       "<title>('M', 40)</title>\n",
       "<ellipse fill=\"none\" stroke=\"black\" cx=\"461.41\" cy=\"-90\" rx=\"49.29\" ry=\"18\"/>\n",
       "<text text-anchor=\"middle\" x=\"461.41\" y=\"-86.3\" font-family=\"Times,serif\" font-size=\"14.00\">('M', 40)</text>\n",
       "</g>\n",
       "<!-- (&#39;D&#39;, 4)&#45;&gt;(&#39;M&#39;, 40) -->\n",
       "<g id=\"edge12\" class=\"edge\">\n",
       "<title>('D', 4)-&gt;('M', 40)</title>\n",
       "<path fill=\"none\" stroke=\"black\" d=\"M505.96,-35.24C498.74,-43.94 489.7,-54.85 481.66,-64.57\"/>\n",
       "<polygon fill=\"black\" stroke=\"black\" points=\"478.88,-62.43 475.19,-72.37 484.27,-66.9 478.88,-62.43\"/>\n",
       "</g>\n",
       "<!-- (&#39;D&#39;, 4)&#45;&gt;(&#39;M&#39;, 53) -->\n",
       "<g id=\"edge13\" class=\"edge\">\n",
       "<title>('D', 4)-&gt;('M', 53)</title>\n",
       "<path fill=\"none\" stroke=\"black\" d=\"M489.72,-30.87C461.18,-42.29 417.78,-59.65 385.83,-72.43\"/>\n",
       "<polygon fill=\"black\" stroke=\"black\" points=\"384.3,-69.27 376.32,-76.24 386.9,-75.77 384.3,-69.27\"/>\n",
       "</g>\n",
       "<!-- (&#39;D&#39;, 4)&#45;&gt;(&#39;M&#39;, 0) -->\n",
       "<g id=\"edge14\" class=\"edge\">\n",
       "<title>('D', 4)-&gt;('M', 0)</title>\n",
       "<path fill=\"none\" stroke=\"black\" d=\"M557.57,-25.2C584.65,-31.8 619.13,-45.2 636.41,-72 645.08,-85.45 645.75,-95.01 636.41,-108 633.9,-111.49 404.15,-187.16 307.01,-219.04\"/>\n",
       "<polygon fill=\"black\" stroke=\"black\" points=\"305.9,-215.72 297.48,-222.17 308.08,-222.37 305.9,-215.72\"/>\n",
       "</g>\n",
       "<!-- (&#39;M&#39;, 6) -->\n",
       "<g id=\"node15\" class=\"node\">\n",
       "<title>('M', 6)</title>\n",
       "<ellipse fill=\"none\" stroke=\"black\" cx=\"693.41\" cy=\"-162\" rx=\"43.59\" ry=\"18\"/>\n",
       "<text text-anchor=\"middle\" x=\"693.41\" y=\"-158.3\" font-family=\"Times,serif\" font-size=\"14.00\">('M', 6)</text>\n",
       "</g>\n",
       "<!-- (&#39;D&#39;, 4)&#45;&gt;(&#39;M&#39;, 6) -->\n",
       "<g id=\"edge15\" class=\"edge\">\n",
       "<title>('D', 4)-&gt;('M', 6)</title>\n",
       "<path fill=\"none\" stroke=\"black\" d=\"M559.77,-22.94C593.66,-28.38 640.97,-41.31 669.41,-72 684.83,-88.64 690.53,-114.14 692.55,-133.59\"/>\n",
       "<polygon fill=\"black\" stroke=\"black\" points=\"689.07,-133.97 693.33,-143.67 696.05,-133.43 689.07,-133.97\"/>\n",
       "</g>\n",
       "<!-- (&#39;M&#39;, 7) -->\n",
       "<g id=\"node16\" class=\"node\">\n",
       "<title>('M', 7)</title>\n",
       "<ellipse fill=\"none\" stroke=\"black\" cx=\"798.41\" cy=\"-162\" rx=\"43.59\" ry=\"18\"/>\n",
       "<text text-anchor=\"middle\" x=\"798.41\" y=\"-158.3\" font-family=\"Times,serif\" font-size=\"14.00\">('M', 7)</text>\n",
       "</g>\n",
       "<!-- (&#39;D&#39;, 4)&#45;&gt;(&#39;M&#39;, 7) -->\n",
       "<g id=\"edge16\" class=\"edge\">\n",
       "<title>('D', 4)-&gt;('M', 7)</title>\n",
       "<path fill=\"none\" stroke=\"black\" d=\"M557.13,-25.85C593.59,-33.52 649.61,-48.11 693.41,-72 725.4,-89.45 756.55,-117.7 776.49,-137.68\"/>\n",
       "<polygon fill=\"black\" stroke=\"black\" points=\"774.07,-140.21 783.57,-144.9 779.07,-135.31 774.07,-140.21\"/>\n",
       "</g>\n",
       "<!-- (&#39;I&#39;, 5) -->\n",
       "<g id=\"node5\" class=\"node\">\n",
       "<title>('I', 5)</title>\n",
       "<ellipse fill=\"none\" stroke=\"black\" cx=\"344.41\" cy=\"-18\" rx=\"37.89\" ry=\"18\"/>\n",
       "<text text-anchor=\"middle\" x=\"344.41\" y=\"-14.3\" font-family=\"Times,serif\" font-size=\"14.00\">('I', 5)</text>\n",
       "</g>\n",
       "<!-- (&#39;I&#39;, 5)&#45;&gt;(&#39;M&#39;, 17) -->\n",
       "<g id=\"edge17\" class=\"edge\">\n",
       "<title>('I', 5)-&gt;('M', 17)</title>\n",
       "<path fill=\"none\" stroke=\"black\" d=\"M321.85,-32.5C304.46,-42.9 280.15,-57.45 260.55,-69.17\"/>\n",
       "<polygon fill=\"black\" stroke=\"black\" points=\"258.7,-66.2 251.92,-74.34 262.3,-72.21 258.7,-66.2\"/>\n",
       "</g>\n",
       "<!-- (&#39;I&#39;, 5)&#45;&gt;(&#39;M&#39;, 40) -->\n",
       "<g id=\"edge18\" class=\"edge\">\n",
       "<title>('I', 5)-&gt;('M', 40)</title>\n",
       "<path fill=\"none\" stroke=\"black\" d=\"M366.97,-32.5C384.36,-42.9 408.67,-57.45 428.27,-69.17\"/>\n",
       "<polygon fill=\"black\" stroke=\"black\" points=\"426.52,-72.21 436.9,-74.34 430.12,-66.2 426.52,-72.21\"/>\n",
       "</g>\n",
       "<!-- (&#39;I&#39;, 5)&#45;&gt;(&#39;M&#39;, 53) -->\n",
       "<g id=\"edge19\" class=\"edge\">\n",
       "<title>('I', 5)-&gt;('M', 53)</title>\n",
       "<path fill=\"none\" stroke=\"black\" d=\"M344.41,-36.3C344.41,-44.02 344.41,-53.29 344.41,-61.89\"/>\n",
       "<polygon fill=\"black\" stroke=\"black\" points=\"340.91,-61.9 344.41,-71.9 347.91,-61.9 340.91,-61.9\"/>\n",
       "</g>\n",
       "<!-- (&#39;M&#39;, 23)&#45;&gt;(&#39;D&#39;, 0) -->\n",
       "<g id=\"edge20\" class=\"edge\">\n",
       "<title>('M', 23)-&gt;('D', 0)</title>\n",
       "<path fill=\"none\" stroke=\"black\" d=\"M542.1,-102.25C502.02,-114.66 437.56,-134.63 395.09,-147.78\"/>\n",
       "<polygon fill=\"black\" stroke=\"black\" points=\"393.84,-144.5 385.32,-150.81 395.91,-151.19 393.84,-144.5\"/>\n",
       "</g>\n",
       "<!-- (&#39;M&#39;, 32)&#45;&gt;(&#39;D&#39;, 0) -->\n",
       "<g id=\"edge21\" class=\"edge\">\n",
       "<title>('M', 32)-&gt;('D', 0)</title>\n",
       "<path fill=\"none\" stroke=\"black\" d=\"M147.96,-101.86C191.49,-114.45 263.14,-135.18 309.02,-148.45\"/>\n",
       "<polygon fill=\"black\" stroke=\"black\" points=\"308.1,-151.83 318.68,-151.24 310.05,-145.1 308.1,-151.83\"/>\n",
       "</g>\n",
       "<!-- (&#39;M&#39;, 40)&#45;&gt;(&#39;D&#39;, 0) -->\n",
       "<g id=\"edge22\" class=\"edge\">\n",
       "<title>('M', 40)-&gt;('D', 0)</title>\n",
       "<path fill=\"none\" stroke=\"black\" d=\"M438.03,-106.02C422.05,-116.28 400.7,-129.99 383.32,-141.15\"/>\n",
       "<polygon fill=\"black\" stroke=\"black\" points=\"381.16,-138.38 374.64,-146.73 384.94,-144.27 381.16,-138.38\"/>\n",
       "</g>\n",
       "<!-- (&#39;M&#39;, 53)&#45;&gt;(&#39;D&#39;, 0) -->\n",
       "<g id=\"edge23\" class=\"edge\">\n",
       "<title>('M', 53)-&gt;('D', 0)</title>\n",
       "<path fill=\"none\" stroke=\"black\" d=\"M346.39,-108.3C347.27,-116.02 348.33,-125.29 349.31,-133.89\"/>\n",
       "<polygon fill=\"black\" stroke=\"black\" points=\"345.84,-134.36 350.46,-143.9 352.8,-133.56 345.84,-134.36\"/>\n",
       "</g>\n",
       "<!-- (&#39;D&#39;, 0)&#45;&gt;(&#39;M&#39;, 0) -->\n",
       "<g id=\"edge24\" class=\"edge\">\n",
       "<title>('D', 0)-&gt;('M', 0)</title>\n",
       "<path fill=\"none\" stroke=\"black\" d=\"M333.32,-178.19C321.18,-187.85 305.26,-200.5 291.79,-211.22\"/>\n",
       "<polygon fill=\"black\" stroke=\"black\" points=\"289.42,-208.63 283.77,-217.6 293.78,-214.11 289.42,-208.63\"/>\n",
       "</g>\n",
       "<!-- (&#39;M&#39;, 1) -->\n",
       "<g id=\"node12\" class=\"node\">\n",
       "<title>('M', 1)</title>\n",
       "<ellipse fill=\"none\" stroke=\"black\" cx=\"369.41\" cy=\"-234\" rx=\"43.59\" ry=\"18\"/>\n",
       "<text text-anchor=\"middle\" x=\"369.41\" y=\"-230.3\" font-family=\"Times,serif\" font-size=\"14.00\">('M', 1)</text>\n",
       "</g>\n",
       "<!-- (&#39;D&#39;, 0)&#45;&gt;(&#39;M&#39;, 1) -->\n",
       "<g id=\"edge25\" class=\"edge\">\n",
       "<title>('D', 0)-&gt;('M', 1)</title>\n",
       "<path fill=\"none\" stroke=\"black\" d=\"M356.53,-179.95C358.42,-187.74 360.71,-197.18 362.83,-205.92\"/>\n",
       "<polygon fill=\"black\" stroke=\"black\" points=\"359.45,-206.83 365.21,-215.72 366.26,-205.18 359.45,-206.83\"/>\n",
       "</g>\n",
       "<!-- (&#39;M&#39;, 4) -->\n",
       "<g id=\"node13\" class=\"node\">\n",
       "<title>('M', 4)</title>\n",
       "<ellipse fill=\"none\" stroke=\"black\" cx=\"474.41\" cy=\"-234\" rx=\"43.59\" ry=\"18\"/>\n",
       "<text text-anchor=\"middle\" x=\"474.41\" y=\"-230.3\" font-family=\"Times,serif\" font-size=\"14.00\">('M', 4)</text>\n",
       "</g>\n",
       "<!-- (&#39;D&#39;, 0)&#45;&gt;(&#39;M&#39;, 4) -->\n",
       "<g id=\"edge26\" class=\"edge\">\n",
       "<title>('D', 0)-&gt;('M', 4)</title>\n",
       "<path fill=\"none\" stroke=\"black\" d=\"M376.51,-176.83C395.02,-187.45 420.79,-202.24 441.25,-213.97\"/>\n",
       "<polygon fill=\"black\" stroke=\"black\" points=\"439.52,-217.02 449.94,-218.96 443.01,-210.95 439.52,-217.02\"/>\n",
       "</g>\n",
       "<!-- (&#39;M&#39;, 5) -->\n",
       "<g id=\"node14\" class=\"node\">\n",
       "<title>('M', 5)</title>\n",
       "<ellipse fill=\"none\" stroke=\"black\" cx=\"579.41\" cy=\"-234\" rx=\"43.59\" ry=\"18\"/>\n",
       "<text text-anchor=\"middle\" x=\"579.41\" y=\"-230.3\" font-family=\"Times,serif\" font-size=\"14.00\">('M', 5)</text>\n",
       "</g>\n",
       "<!-- (&#39;D&#39;, 0)&#45;&gt;(&#39;M&#39;, 5) -->\n",
       "<g id=\"edge27\" class=\"edge\">\n",
       "<title>('D', 0)-&gt;('M', 5)</title>\n",
       "<path fill=\"none\" stroke=\"black\" d=\"M385.7,-172.85C420.96,-183.33 478.21,-200.51 527.41,-216 530.49,-216.97 533.67,-217.98 536.87,-219.01\"/>\n",
       "<polygon fill=\"black\" stroke=\"black\" points=\"535.84,-222.36 546.43,-222.1 538,-215.69 535.84,-222.36\"/>\n",
       "</g>\n",
       "<!-- (&#39;D&#39;, 0)&#45;&gt;(&#39;M&#39;, 9) -->\n",
       "<g id=\"edge28\" class=\"edge\">\n",
       "<title>('D', 0)-&gt;('M', 9)</title>\n",
       "<path fill=\"none\" stroke=\"black\" d=\"M321.4,-174.25C288.68,-186.12 236.92,-204.89 200.74,-218.01\"/>\n",
       "<polygon fill=\"black\" stroke=\"black\" points=\"199.19,-214.85 190.98,-221.55 201.58,-221.43 199.19,-214.85\"/>\n",
       "</g>\n",
       "<!-- (&#39;D&#39;, 5) -->\n",
       "<g id=\"node18\" class=\"node\">\n",
       "<title>('D', 5)</title>\n",
       "<ellipse fill=\"none\" stroke=\"black\" cx=\"474.41\" cy=\"-306\" rx=\"41.69\" ry=\"18\"/>\n",
       "<text text-anchor=\"middle\" x=\"474.41\" y=\"-302.3\" font-family=\"Times,serif\" font-size=\"14.00\">('D', 5)</text>\n",
       "</g>\n",
       "<!-- (&#39;M&#39;, 0)&#45;&gt;(&#39;D&#39;, 5) -->\n",
       "<g id=\"edge29\" class=\"edge\">\n",
       "<title>('M', 0)-&gt;('D', 5)</title>\n",
       "<path fill=\"none\" stroke=\"black\" d=\"M297.22,-245.94C333.8,-258.13 393.05,-277.88 432.84,-291.14\"/>\n",
       "<polygon fill=\"black\" stroke=\"black\" points=\"431.92,-294.53 442.52,-294.37 434.14,-287.89 431.92,-294.53\"/>\n",
       "</g>\n",
       "<!-- (&#39;M&#39;, 1)&#45;&gt;(&#39;D&#39;, 5) -->\n",
       "<g id=\"edge30\" class=\"edge\">\n",
       "<title>('M', 1)-&gt;('D', 5)</title>\n",
       "<path fill=\"none\" stroke=\"black\" d=\"M391.42,-249.67C406.78,-259.92 427.48,-273.71 444.36,-284.96\"/>\n",
       "<polygon fill=\"black\" stroke=\"black\" points=\"442.53,-287.95 452.79,-290.58 446.41,-282.13 442.53,-287.95\"/>\n",
       "</g>\n",
       "<!-- (&#39;M&#39;, 4)&#45;&gt;(&#39;D&#39;, 5) -->\n",
       "<g id=\"edge31\" class=\"edge\">\n",
       "<title>('M', 4)-&gt;('D', 5)</title>\n",
       "<path fill=\"none\" stroke=\"black\" d=\"M474.41,-252.3C474.41,-260.02 474.41,-269.29 474.41,-277.89\"/>\n",
       "<polygon fill=\"black\" stroke=\"black\" points=\"470.91,-277.9 474.41,-287.9 477.91,-277.9 470.91,-277.9\"/>\n",
       "</g>\n",
       "<!-- (&#39;M&#39;, 5)&#45;&gt;(&#39;D&#39;, 5) -->\n",
       "<g id=\"edge32\" class=\"edge\">\n",
       "<title>('M', 5)-&gt;('D', 5)</title>\n",
       "<path fill=\"none\" stroke=\"black\" d=\"M557.4,-249.67C542.04,-259.92 521.34,-273.71 504.46,-284.96\"/>\n",
       "<polygon fill=\"black\" stroke=\"black\" points=\"502.41,-282.13 496.03,-290.58 506.29,-287.95 502.41,-282.13\"/>\n",
       "</g>\n",
       "<!-- (&#39;M&#39;, 6)&#45;&gt;(&#39;D&#39;, 5) -->\n",
       "<g id=\"edge33\" class=\"edge\">\n",
       "<title>('M', 6)-&gt;('D', 5)</title>\n",
       "<path fill=\"none\" stroke=\"black\" d=\"M685.99,-179.89C676.38,-199.86 657.82,-232.81 632.41,-252 600.29,-276.25 556.42,-289.8 523.06,-297.11\"/>\n",
       "<polygon fill=\"black\" stroke=\"black\" points=\"522.15,-293.73 513.07,-299.19 523.57,-300.58 522.15,-293.73\"/>\n",
       "</g>\n",
       "<!-- (&#39;M&#39;, 7)&#45;&gt;(&#39;D&#39;, 5) -->\n",
       "<g id=\"edge34\" class=\"edge\">\n",
       "<title>('M', 7)-&gt;('D', 5)</title>\n",
       "<path fill=\"none\" stroke=\"black\" d=\"M779.24,-178.28C753.87,-197.85 707.1,-231.66 662.41,-252 616.65,-272.83 560.84,-287.31 521.97,-295.8\"/>\n",
       "<polygon fill=\"black\" stroke=\"black\" points=\"521.02,-292.43 511.97,-297.94 522.48,-299.27 521.02,-292.43\"/>\n",
       "</g>\n",
       "<!-- (&#39;M&#39;, 9)&#45;&gt;(&#39;D&#39;, 5) -->\n",
       "<g id=\"edge35\" class=\"edge\">\n",
       "<title>('M', 9)-&gt;('D', 5)</title>\n",
       "<path fill=\"none\" stroke=\"black\" d=\"M191.69,-246.2C198.18,-248.27 204.98,-250.31 211.41,-252 285.52,-271.51 373,-287.83 426.06,-297.01\"/>\n",
       "<polygon fill=\"black\" stroke=\"black\" points=\"425.75,-300.51 436.2,-298.75 426.93,-293.61 425.75,-300.51\"/>\n",
       "</g>\n",
       "</g>\n",
       "</svg>"
      ],
      "text/plain": [
       "<IPython.core.display.SVG object>"
      ]
     },
     "metadata": {},
     "output_type": "display_data"
    }
   ],
   "source": [
    "cfg_mercs_default = dict(\n",
    "    # Induction\n",
    "    max_depth=8,\n",
    "    selection_algorithm=\"random\",\n",
    "    nb_targets=1,\n",
    "    nb_iterations=10,\n",
    "    fraction_missing=0.0,\n",
    "    nb_missing_attributes=3,\n",
    "    n_jobs=1,\n",
    "    # Inference\n",
    "    prediction_algorithm=\"it\",\n",
    "    max_steps=4,\n",
    "    stepsize=0.1,\n",
    "    # Metadata\n",
    "    nominal_attributes=nominal_attributes,\n",
    "    random_state=30,\n",
    ")\n",
    "\n",
    "X_train = X[:500, :]\n",
    "X_test = X[500:, :]\n",
    "\n",
    "# Train a MERCS-model with config above\n",
    "clf = Mercs(**cfg_mercs_default)\n",
    "\n",
    "# Nominal attributes has to be given at fit, all the rest can be done before\n",
    "clf.fit(X_train, nominal_attributes=nominal_attributes)\n",
    "\n",
    "# Giving a q_code and making a prediction\n",
    "q_code = np.array([-1, -1, 0, -1, 0, 1])\n",
    "clf.predict(X_test, q_code=q_code)[:20]\n",
    "\n",
    "clf.show_q_diagram()"
   ]
  },
  {
   "cell_type": "code",
   "execution_count": 40,
   "metadata": {},
   "outputs": [
    {
     "name": "stdout",
     "output_type": "stream",
     "text": [
      "52 ms ± 1.08 ms per loop (mean ± std. dev. of 7 runs, 10 loops each)\n"
     ]
    }
   ],
   "source": [
    "%%timeit\n",
    "clf.avatar_q_model(X_train, X_test[:10], n_samples=1)"
   ]
  },
  {
   "cell_type": "code",
   "execution_count": 35,
   "metadata": {},
   "outputs": [],
   "source": [
    "from sklearn.tree import DecisionTreeClassifier"
   ]
  },
  {
   "cell_type": "code",
   "execution_count": 39,
   "metadata": {},
   "outputs": [
    {
     "name": "stdout",
     "output_type": "stream",
     "text": [
      "909 µs ± 20.5 µs per loop (mean ± std. dev. of 7 runs, 1000 loops each)\n"
     ]
    }
   ],
   "source": [
    "%%timeit\n",
    "dt = DecisionTreeClassifier()\n",
    "dt.fit(X[:, q_code == 0], X[:, -1])"
   ]
  },
  {
   "cell_type": "markdown",
   "metadata": {},
   "source": [
    "Interestingly enough, this one is also super close to what we found before, even though the composition is quite different!\n",
    "\n",
    "So, maybe it does work after all..."
   ]
  }
 ],
 "metadata": {
  "kernelspec": {
   "display_name": "avatar",
   "language": "python",
   "name": "avatar"
  },
  "language_info": {
   "codemirror_mode": {
    "name": "ipython",
    "version": 3
   },
   "file_extension": ".py",
   "mimetype": "text/x-python",
   "name": "python",
   "nbconvert_exporter": "python",
   "pygments_lexer": "ipython3",
   "version": "3.8.3"
  },
  "toc-autonumbering": true
 },
 "nbformat": 4,
 "nbformat_minor": 4
}
