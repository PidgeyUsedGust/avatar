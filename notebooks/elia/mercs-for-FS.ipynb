{
 "cells": [
  {
   "cell_type": "markdown",
   "metadata": {},
   "source": [
    "# MERCS for Feature Selection\n",
    "\n",
    "Using MERCS' composite models for feature "
   ]
  },
  {
   "cell_type": "markdown",
   "metadata": {},
   "source": [
    "# Prelims\n",
    "\n",
    "Preliminaries for rest of notebook."
   ]
  },
  {
   "cell_type": "code",
   "execution_count": 1,
   "metadata": {},
   "outputs": [],
   "source": [
    "# (Optional) Black codeformatter (`pip install nb_black`) for jupyterlab. In jupyter notebook, this changes slightly.\n",
    "%load_ext lab_black"
   ]
  },
  {
   "cell_type": "markdown",
   "metadata": {},
   "source": [
    "## Imports"
   ]
  },
  {
   "cell_type": "code",
   "execution_count": 2,
   "metadata": {},
   "outputs": [],
   "source": [
    "from pathlib import Path\n",
    "import pandas as pd\n",
    "import numpy as np"
   ]
  },
  {
   "cell_type": "code",
   "execution_count": 3,
   "metadata": {},
   "outputs": [],
   "source": [
    "from mercs import Mercs\n",
    "import shap"
   ]
  },
  {
   "cell_type": "markdown",
   "metadata": {},
   "source": [
    "## Constants"
   ]
  },
  {
   "cell_type": "code",
   "execution_count": 4,
   "metadata": {},
   "outputs": [],
   "source": [
    "ROOT_DIR = Path().resolve().parent.parent\n",
    "DATA_DIR = ROOT_DIR / \"data\" / \"raw\"\n",
    "DEMO_DIR = DATA_DIR / \"demo\""
   ]
  },
  {
   "cell_type": "code",
   "execution_count": 5,
   "metadata": {},
   "outputs": [],
   "source": [
    "NOMINAL_THRESHOLD = 10"
   ]
  },
  {
   "cell_type": "markdown",
   "metadata": {},
   "source": [
    "# Custom model for a query-code"
   ]
  },
  {
   "cell_type": "markdown",
   "metadata": {},
   "source": [
    "## Data"
   ]
  },
  {
   "cell_type": "code",
   "execution_count": 6,
   "metadata": {},
   "outputs": [
    {
     "data": {
      "text/html": [
       "<div>\n",
       "<style scoped>\n",
       "    .dataframe tbody tr th:only-of-type {\n",
       "        vertical-align: middle;\n",
       "    }\n",
       "\n",
       "    .dataframe tbody tr th {\n",
       "        vertical-align: top;\n",
       "    }\n",
       "\n",
       "    .dataframe thead th {\n",
       "        text-align: right;\n",
       "    }\n",
       "</style>\n",
       "<table border=\"1\" class=\"dataframe\">\n",
       "  <thead>\n",
       "    <tr style=\"text-align: right;\">\n",
       "      <th></th>\n",
       "      <th>PassengerId</th>\n",
       "      <th>Survived</th>\n",
       "      <th>Pclass</th>\n",
       "      <th>Name</th>\n",
       "      <th>Sex</th>\n",
       "      <th>Age</th>\n",
       "      <th>SibSp</th>\n",
       "      <th>Parch</th>\n",
       "      <th>Ticket</th>\n",
       "      <th>Fare</th>\n",
       "      <th>Cabin</th>\n",
       "      <th>Embarked</th>\n",
       "    </tr>\n",
       "  </thead>\n",
       "  <tbody>\n",
       "    <tr>\n",
       "      <th>0</th>\n",
       "      <td>1</td>\n",
       "      <td>0</td>\n",
       "      <td>3</td>\n",
       "      <td>Braund, Mr. Owen Harris</td>\n",
       "      <td>male</td>\n",
       "      <td>22.0</td>\n",
       "      <td>1</td>\n",
       "      <td>0</td>\n",
       "      <td>A/5 21171</td>\n",
       "      <td>7.2500</td>\n",
       "      <td>NaN</td>\n",
       "      <td>S</td>\n",
       "    </tr>\n",
       "    <tr>\n",
       "      <th>1</th>\n",
       "      <td>2</td>\n",
       "      <td>1</td>\n",
       "      <td>1</td>\n",
       "      <td>Cumings, Mrs. John Bradley (Florence Briggs Th...</td>\n",
       "      <td>female</td>\n",
       "      <td>38.0</td>\n",
       "      <td>1</td>\n",
       "      <td>0</td>\n",
       "      <td>PC 17599</td>\n",
       "      <td>71.2833</td>\n",
       "      <td>C85</td>\n",
       "      <td>C</td>\n",
       "    </tr>\n",
       "    <tr>\n",
       "      <th>2</th>\n",
       "      <td>3</td>\n",
       "      <td>1</td>\n",
       "      <td>3</td>\n",
       "      <td>Heikkinen, Miss. Laina</td>\n",
       "      <td>female</td>\n",
       "      <td>26.0</td>\n",
       "      <td>0</td>\n",
       "      <td>0</td>\n",
       "      <td>STON/O2. 3101282</td>\n",
       "      <td>7.9250</td>\n",
       "      <td>NaN</td>\n",
       "      <td>S</td>\n",
       "    </tr>\n",
       "    <tr>\n",
       "      <th>3</th>\n",
       "      <td>4</td>\n",
       "      <td>1</td>\n",
       "      <td>1</td>\n",
       "      <td>Futrelle, Mrs. Jacques Heath (Lily May Peel)</td>\n",
       "      <td>female</td>\n",
       "      <td>35.0</td>\n",
       "      <td>1</td>\n",
       "      <td>0</td>\n",
       "      <td>113803</td>\n",
       "      <td>53.1000</td>\n",
       "      <td>C123</td>\n",
       "      <td>S</td>\n",
       "    </tr>\n",
       "    <tr>\n",
       "      <th>4</th>\n",
       "      <td>5</td>\n",
       "      <td>0</td>\n",
       "      <td>3</td>\n",
       "      <td>Allen, Mr. William Henry</td>\n",
       "      <td>male</td>\n",
       "      <td>35.0</td>\n",
       "      <td>0</td>\n",
       "      <td>0</td>\n",
       "      <td>373450</td>\n",
       "      <td>8.0500</td>\n",
       "      <td>NaN</td>\n",
       "      <td>S</td>\n",
       "    </tr>\n",
       "  </tbody>\n",
       "</table>\n",
       "</div>"
      ],
      "text/plain": [
       "   PassengerId  Survived  Pclass  \\\n",
       "0            1         0       3   \n",
       "1            2         1       1   \n",
       "2            3         1       3   \n",
       "3            4         1       1   \n",
       "4            5         0       3   \n",
       "\n",
       "                                                Name     Sex   Age  SibSp  \\\n",
       "0                            Braund, Mr. Owen Harris    male  22.0      1   \n",
       "1  Cumings, Mrs. John Bradley (Florence Briggs Th...  female  38.0      1   \n",
       "2                             Heikkinen, Miss. Laina  female  26.0      0   \n",
       "3       Futrelle, Mrs. Jacques Heath (Lily May Peel)  female  35.0      1   \n",
       "4                           Allen, Mr. William Henry    male  35.0      0   \n",
       "\n",
       "   Parch            Ticket     Fare Cabin Embarked  \n",
       "0      0         A/5 21171   7.2500   NaN        S  \n",
       "1      0          PC 17599  71.2833   C85        C  \n",
       "2      0  STON/O2. 3101282   7.9250   NaN        S  \n",
       "3      0            113803  53.1000  C123        S  \n",
       "4      0            373450   8.0500   NaN        S  "
      ]
     },
     "execution_count": 6,
     "metadata": {},
     "output_type": "execute_result"
    }
   ],
   "source": [
    "titanic_fp = DEMO_DIR / \"titanic.csv\"\n",
    "titanic_fp.exists()\n",
    "\n",
    "df = pd.read_csv(titanic_fp)\n",
    "df.head()"
   ]
  },
  {
   "cell_type": "code",
   "execution_count": 7,
   "metadata": {},
   "outputs": [
    {
     "data": {
      "text/html": [
       "<div>\n",
       "<style scoped>\n",
       "    .dataframe tbody tr th:only-of-type {\n",
       "        vertical-align: middle;\n",
       "    }\n",
       "\n",
       "    .dataframe tbody tr th {\n",
       "        vertical-align: top;\n",
       "    }\n",
       "\n",
       "    .dataframe thead th {\n",
       "        text-align: right;\n",
       "    }\n",
       "</style>\n",
       "<table border=\"1\" class=\"dataframe\">\n",
       "  <thead>\n",
       "    <tr style=\"text-align: right;\">\n",
       "      <th></th>\n",
       "      <th>PassengerId</th>\n",
       "      <th>Survived</th>\n",
       "      <th>Pclass</th>\n",
       "      <th>Age</th>\n",
       "      <th>SibSp</th>\n",
       "      <th>Parch</th>\n",
       "      <th>Fare</th>\n",
       "    </tr>\n",
       "  </thead>\n",
       "  <tbody>\n",
       "    <tr>\n",
       "      <th>0</th>\n",
       "      <td>1</td>\n",
       "      <td>0</td>\n",
       "      <td>3</td>\n",
       "      <td>22.0</td>\n",
       "      <td>1</td>\n",
       "      <td>0</td>\n",
       "      <td>7.2500</td>\n",
       "    </tr>\n",
       "    <tr>\n",
       "      <th>1</th>\n",
       "      <td>2</td>\n",
       "      <td>1</td>\n",
       "      <td>1</td>\n",
       "      <td>38.0</td>\n",
       "      <td>1</td>\n",
       "      <td>0</td>\n",
       "      <td>71.2833</td>\n",
       "    </tr>\n",
       "    <tr>\n",
       "      <th>2</th>\n",
       "      <td>3</td>\n",
       "      <td>1</td>\n",
       "      <td>3</td>\n",
       "      <td>26.0</td>\n",
       "      <td>0</td>\n",
       "      <td>0</td>\n",
       "      <td>7.9250</td>\n",
       "    </tr>\n",
       "    <tr>\n",
       "      <th>3</th>\n",
       "      <td>4</td>\n",
       "      <td>1</td>\n",
       "      <td>1</td>\n",
       "      <td>35.0</td>\n",
       "      <td>1</td>\n",
       "      <td>0</td>\n",
       "      <td>53.1000</td>\n",
       "    </tr>\n",
       "    <tr>\n",
       "      <th>4</th>\n",
       "      <td>5</td>\n",
       "      <td>0</td>\n",
       "      <td>3</td>\n",
       "      <td>35.0</td>\n",
       "      <td>0</td>\n",
       "      <td>0</td>\n",
       "      <td>8.0500</td>\n",
       "    </tr>\n",
       "  </tbody>\n",
       "</table>\n",
       "</div>"
      ],
      "text/plain": [
       "   PassengerId  Survived  Pclass   Age  SibSp  Parch     Fare\n",
       "0            1         0       3  22.0      1      0   7.2500\n",
       "1            2         1       1  38.0      1      0  71.2833\n",
       "2            3         1       3  26.0      0      0   7.9250\n",
       "3            4         1       1  35.0      1      0  53.1000\n",
       "4            5         0       3  35.0      0      0   8.0500"
      ]
     },
     "execution_count": 7,
     "metadata": {},
     "output_type": "execute_result"
    }
   ],
   "source": [
    "usable_cols = [c for c in df.columns if pd.api.types.is_numeric_dtype(df[c].dtype)]\n",
    "df2 = df[usable_cols].copy()\n",
    "df2.head()"
   ]
  },
  {
   "cell_type": "code",
   "execution_count": 8,
   "metadata": {},
   "outputs": [
    {
     "data": {
      "text/html": [
       "<div>\n",
       "<style scoped>\n",
       "    .dataframe tbody tr th:only-of-type {\n",
       "        vertical-align: middle;\n",
       "    }\n",
       "\n",
       "    .dataframe tbody tr th {\n",
       "        vertical-align: top;\n",
       "    }\n",
       "\n",
       "    .dataframe thead th {\n",
       "        text-align: right;\n",
       "    }\n",
       "</style>\n",
       "<table border=\"1\" class=\"dataframe\">\n",
       "  <thead>\n",
       "    <tr style=\"text-align: right;\">\n",
       "      <th></th>\n",
       "      <th>Pclass</th>\n",
       "      <th>Age</th>\n",
       "      <th>SibSp</th>\n",
       "      <th>Parch</th>\n",
       "      <th>Fare</th>\n",
       "      <th>Survived</th>\n",
       "    </tr>\n",
       "  </thead>\n",
       "  <tbody>\n",
       "    <tr>\n",
       "      <th>0</th>\n",
       "      <td>3</td>\n",
       "      <td>22.0</td>\n",
       "      <td>1</td>\n",
       "      <td>0</td>\n",
       "      <td>7.2500</td>\n",
       "      <td>0</td>\n",
       "    </tr>\n",
       "    <tr>\n",
       "      <th>1</th>\n",
       "      <td>1</td>\n",
       "      <td>38.0</td>\n",
       "      <td>1</td>\n",
       "      <td>0</td>\n",
       "      <td>71.2833</td>\n",
       "      <td>1</td>\n",
       "    </tr>\n",
       "    <tr>\n",
       "      <th>2</th>\n",
       "      <td>3</td>\n",
       "      <td>26.0</td>\n",
       "      <td>0</td>\n",
       "      <td>0</td>\n",
       "      <td>7.9250</td>\n",
       "      <td>1</td>\n",
       "    </tr>\n",
       "    <tr>\n",
       "      <th>3</th>\n",
       "      <td>1</td>\n",
       "      <td>35.0</td>\n",
       "      <td>1</td>\n",
       "      <td>0</td>\n",
       "      <td>53.1000</td>\n",
       "      <td>1</td>\n",
       "    </tr>\n",
       "    <tr>\n",
       "      <th>4</th>\n",
       "      <td>3</td>\n",
       "      <td>35.0</td>\n",
       "      <td>0</td>\n",
       "      <td>0</td>\n",
       "      <td>8.0500</td>\n",
       "      <td>0</td>\n",
       "    </tr>\n",
       "  </tbody>\n",
       "</table>\n",
       "</div>"
      ],
      "text/plain": [
       "   Pclass   Age  SibSp  Parch     Fare  Survived\n",
       "0       3  22.0      1      0   7.2500         0\n",
       "1       1  38.0      1      0  71.2833         1\n",
       "2       3  26.0      0      0   7.9250         1\n",
       "3       1  35.0      1      0  53.1000         1\n",
       "4       3  35.0      0      0   8.0500         0"
      ]
     },
     "execution_count": 8,
     "metadata": {},
     "output_type": "execute_result"
    }
   ],
   "source": [
    "df2[\"Survived\"] = df.Survived\n",
    "df2 = df2[\n",
    "    [c for c in df2.columns if c not in {\"Survived\", \"PassengerId\"}] + [\"Survived\"]\n",
    "]\n",
    "df2.head()"
   ]
  },
  {
   "cell_type": "code",
   "execution_count": 9,
   "metadata": {},
   "outputs": [],
   "source": [
    "df2.dropna(inplace=True)"
   ]
  },
  {
   "cell_type": "code",
   "execution_count": 10,
   "metadata": {},
   "outputs": [
    {
     "data": {
      "text/plain": [
       "array([[ 3.    , 22.    ,  1.    ,  0.    ,  7.25  ,  0.    ],\n",
       "       [ 1.    , 38.    ,  1.    ,  0.    , 71.2833,  1.    ],\n",
       "       [ 3.    , 26.    ,  0.    ,  0.    ,  7.925 ,  1.    ],\n",
       "       [ 1.    , 35.    ,  1.    ,  0.    , 53.1   ,  1.    ],\n",
       "       [ 3.    , 35.    ,  0.    ,  0.    ,  8.05  ,  0.    ]])"
      ]
     },
     "execution_count": 10,
     "metadata": {},
     "output_type": "execute_result"
    }
   ],
   "source": [
    "X = df2.values\n",
    "X[:5, :]"
   ]
  },
  {
   "cell_type": "markdown",
   "metadata": {},
   "source": [
    "## Mercs"
   ]
  },
  {
   "cell_type": "code",
   "execution_count": 11,
   "metadata": {},
   "outputs": [
    {
     "data": {
      "text/plain": [
       "{5}"
      ]
     },
     "execution_count": 11,
     "metadata": {},
     "output_type": "execute_result"
    }
   ],
   "source": [
    "nominal_attributes = {X.shape[1] - 1}\n",
    "nominal_attributes"
   ]
  },
  {
   "cell_type": "code",
   "execution_count": 12,
   "metadata": {},
   "outputs": [],
   "source": [
    "cfg_mercs_default = dict(\n",
    "    # Induction\n",
    "    max_depth=8,\n",
    "    selection_algorithm=\"random\",\n",
    "    nb_targets=1,\n",
    "    nb_iterations=10,\n",
    "    fraction_missing=0.4,\n",
    "    n_jobs=1,\n",
    "    # Inference\n",
    "    inference_algorithm=\"own\",\n",
    "    prediction_algorithm=\"rw\",\n",
    "    max_steps=8,\n",
    "    nb_walks=5,\n",
    "    # Metadata\n",
    "    nominal_attributes=nominal_attributes,\n",
    ")\n",
    "\n",
    "# Train a MERCS-model with config above\n",
    "clf = Mercs(**cfg_mercs_default)\n",
    "\n",
    "# Nominal attributes has to be given at fit, all the rest can be done before\n",
    "clf.fit(X, nominal_attributes=nominal_attributes)"
   ]
  },
  {
   "cell_type": "markdown",
   "metadata": {},
   "source": [
    "10 iterations means that every target has 10 models that predict that target. Given that we have 6 attributes in total, we get 60 models:"
   ]
  },
  {
   "cell_type": "code",
   "execution_count": 13,
   "metadata": {},
   "outputs": [
    {
     "data": {
      "text/plain": [
       "60"
      ]
     },
     "execution_count": 13,
     "metadata": {},
     "output_type": "execute_result"
    }
   ],
   "source": [
    "len(clf.m_codes)"
   ]
  },
  {
   "cell_type": "markdown",
   "metadata": {},
   "source": [
    "And, since we set fraction_missing=0.4, each model has more or less 2 attributes missing (2 being more or less 40 percent of 6)"
   ]
  },
  {
   "cell_type": "code",
   "execution_count": 14,
   "metadata": {},
   "outputs": [
    {
     "data": {
      "text/plain": [
       "2.1"
      ]
     },
     "execution_count": 14,
     "metadata": {},
     "output_type": "execute_result"
    }
   ],
   "source": [
    "np.mean(np.sum(clf.m_codes == -1, axis=1))"
   ]
  },
  {
   "cell_type": "markdown",
   "metadata": {},
   "source": [
    "Other options for `fraction_missing` include `log2` or `sqrt` which then take the total amount of attributes into account. This way of subsetting features is essentially standard in RF as well, so that's why they are available.\n",
    "\n",
    "Note however that if you set it to `sqrt` it means that `sqrt(n_attributes)` will be the amount of _descriptive_ attributes.\n",
    "\n",
    "\n",
    "Another thing you can do, if you need more control, is manually specifiy the exact amount of missing attributes using the `nb_missing_attributes` parameter, which overrides the `fraction_missing` parameter."
   ]
  },
  {
   "cell_type": "code",
   "execution_count": 15,
   "metadata": {},
   "outputs": [
    {
     "name": "stdout",
     "output_type": "stream",
     "text": [
      "\n",
      "AVERAGE AMOUNT OF MISSING ATTRIBUTES PER MODEL: 2.933333333333333\n",
      "\n"
     ]
    }
   ],
   "source": [
    "cfg_mercs_default = dict(\n",
    "    # Induction\n",
    "    max_depth=8,\n",
    "    selection_algorithm=\"random\",\n",
    "    nb_targets=1,\n",
    "    nb_iterations=10,\n",
    "    fraction_missing=0.0,\n",
    "    nb_missing_attributes=3,\n",
    "    n_jobs=1,\n",
    "    # Inference\n",
    "    prediction_algorithm=\"rw\",\n",
    "    max_steps=8,\n",
    "    nb_walks=5,\n",
    "    # Metadata\n",
    "    nominal_attributes=nominal_attributes,\n",
    ")\n",
    "\n",
    "# Train a MERCS-model with config above\n",
    "clf = Mercs(**cfg_mercs_default)\n",
    "\n",
    "# Nominal attributes has to be given at fit, all the rest can be done before\n",
    "clf.fit(X, nominal_attributes=nominal_attributes)\n",
    "\n",
    "\n",
    "avg_missing_attributes_per_model = np.mean(np.sum(clf.m_codes == -1, axis=1))\n",
    "\n",
    "msg = \"\"\"\n",
    "AVERAGE AMOUNT OF MISSING ATTRIBUTES PER MODEL: {}\n",
    "\"\"\".format(\n",
    "    avg_missing_attributes_per_model\n",
    ")\n",
    "print(msg)"
   ]
  },
  {
   "cell_type": "markdown",
   "metadata": {},
   "source": [
    "So that also works, basically.\n",
    "\n",
    "Also please note for all this stuff, you really do need to set\n",
    "```\n",
    "selection_algorithm=\"random\"\n",
    "```\n",
    "\n",
    "since otherwise all attributes are taken to be inputs."
   ]
  },
  {
   "cell_type": "markdown",
   "metadata": {},
   "source": [
    "## Predict\n",
    "\n",
    "\n",
    "Given that the settings for prediction are the following:\n",
    "\n",
    "```\n",
    "    prediction_algorithm=\"rw\",\n",
    "    max_steps=8,\n",
    "    nb_walks=5,\n",
    "```\n",
    "\n",
    "You are using the random walks prediction algorithm, with 5 walks of maximum 8 steps. That means that you are making 5 random chains, each chain consisting of maximally 8 individual decision trees. Each chain predicts the target. The final prediction is an average of those 5 predictions.\n",
    "\n",
    "All of these chains together form what we call a `query_model`, since it is just a composite model, tailor-made by MERCS for _your_ query-code.\n",
    "\n",
    "Allow me to give you a tiny demonstration,"
   ]
  },
  {
   "cell_type": "code",
   "execution_count": 16,
   "metadata": {},
   "outputs": [
    {
     "data": {
      "text/plain": [
       "(714, 6)"
      ]
     },
     "execution_count": 16,
     "metadata": {},
     "output_type": "execute_result"
    }
   ],
   "source": [
    "X.shape"
   ]
  },
  {
   "cell_type": "code",
   "execution_count": 17,
   "metadata": {},
   "outputs": [
    {
     "data": {
      "text/plain": [
       "array([0., 1., 0., 1., 0., 0., 0., 1., 1., 1.])"
      ]
     },
     "execution_count": 17,
     "metadata": {},
     "output_type": "execute_result"
    }
   ],
   "source": [
    "q_code = np.array([-1, -1, 0, -1, 0, 1])\n",
    "clf.predict(X, q_code=q_code)[:10]"
   ]
  },
  {
   "cell_type": "code",
   "execution_count": 18,
   "metadata": {},
   "outputs": [
    {
     "data": {
      "image/svg+xml": [
       "<svg xmlns=\"http://www.w3.org/2000/svg\" xmlns:xlink=\"http://www.w3.org/1999/xlink\" width=\"490pt\" height=\"188pt\" viewBox=\"0.00 0.00 489.89 188.00\">\n",
       "<g id=\"graph0\" class=\"graph\" transform=\"scale(1 1) rotate(0) translate(4 184)\">\n",
       "<title>G</title>\n",
       "<polygon fill=\"white\" stroke=\"transparent\" points=\"-4,4 -4,-184 485.89,-184 485.89,4 -4,4\"/>\n",
       "<!-- (&#39;D&#39;, 2) -->\n",
       "<g id=\"node1\" class=\"node\">\n",
       "<title>('D', 2)</title>\n",
       "<ellipse fill=\"none\" stroke=\"black\" cx=\"189.95\" cy=\"-18\" rx=\"41.69\" ry=\"18\"/>\n",
       "<text text-anchor=\"middle\" x=\"189.95\" y=\"-14.3\" font-family=\"Times,serif\" font-size=\"14.00\">('D', 2)</text>\n",
       "</g>\n",
       "<!-- (&#39;C&#39;, 0) -->\n",
       "<g id=\"node2\" class=\"node\">\n",
       "<title>('C', 0)</title>\n",
       "<ellipse fill=\"none\" stroke=\"black\" cx=\"440.95\" cy=\"-90\" rx=\"40.89\" ry=\"18\"/>\n",
       "<text text-anchor=\"middle\" x=\"440.95\" y=\"-86.3\" font-family=\"Times,serif\" font-size=\"14.00\">('C', 0)</text>\n",
       "</g>\n",
       "<!-- (&#39;D&#39;, 2)&#45;&gt;(&#39;C&#39;, 0) -->\n",
       "<g id=\"edge1\" class=\"edge\">\n",
       "<title>('D', 2)-&gt;('C', 0)</title>\n",
       "<path fill=\"none\" stroke=\"black\" d=\"M221.01,-30.06C227.25,-32.14 233.78,-34.22 239.95,-36 306.23,-55.13 324.66,-52.87 390.95,-72 394.07,-72.9 397.3,-73.88 400.52,-74.9\"/>\n",
       "<polygon fill=\"black\" stroke=\"black\" points=\"399.56,-78.26 410.15,-78.02 401.72,-71.61 399.56,-78.26\"/>\n",
       "</g>\n",
       "<!-- (&#39;C&#39;, 1) -->\n",
       "<g id=\"node4\" class=\"node\">\n",
       "<title>('C', 1)</title>\n",
       "<ellipse fill=\"none\" stroke=\"black\" cx=\"40.95\" cy=\"-90\" rx=\"40.89\" ry=\"18\"/>\n",
       "<text text-anchor=\"middle\" x=\"40.95\" y=\"-86.3\" font-family=\"Times,serif\" font-size=\"14.00\">('C', 1)</text>\n",
       "</g>\n",
       "<!-- (&#39;D&#39;, 2)&#45;&gt;(&#39;C&#39;, 1) -->\n",
       "<g id=\"edge2\" class=\"edge\">\n",
       "<title>('D', 2)-&gt;('C', 1)</title>\n",
       "<path fill=\"none\" stroke=\"black\" d=\"M162.62,-31.84C138.67,-43.09 103.69,-59.52 77.37,-71.89\"/>\n",
       "<polygon fill=\"black\" stroke=\"black\" points=\"75.66,-68.82 68.1,-76.24 78.64,-75.16 75.66,-68.82\"/>\n",
       "</g>\n",
       "<!-- (&#39;C&#39;, 2) -->\n",
       "<g id=\"node5\" class=\"node\">\n",
       "<title>('C', 2)</title>\n",
       "<ellipse fill=\"none\" stroke=\"black\" cx=\"140.95\" cy=\"-90\" rx=\"40.89\" ry=\"18\"/>\n",
       "<text text-anchor=\"middle\" x=\"140.95\" y=\"-86.3\" font-family=\"Times,serif\" font-size=\"14.00\">('C', 2)</text>\n",
       "</g>\n",
       "<!-- (&#39;D&#39;, 2)&#45;&gt;(&#39;C&#39;, 2) -->\n",
       "<g id=\"edge3\" class=\"edge\">\n",
       "<title>('D', 2)-&gt;('C', 2)</title>\n",
       "<path fill=\"none\" stroke=\"black\" d=\"M178.33,-35.59C172.35,-44.13 164.94,-54.72 158.3,-64.21\"/>\n",
       "<polygon fill=\"black\" stroke=\"black\" points=\"155.34,-62.33 152.48,-72.53 161.08,-66.34 155.34,-62.33\"/>\n",
       "</g>\n",
       "<!-- (&#39;C&#39;, 3) -->\n",
       "<g id=\"node6\" class=\"node\">\n",
       "<title>('C', 3)</title>\n",
       "<ellipse fill=\"none\" stroke=\"black\" cx=\"240.95\" cy=\"-90\" rx=\"40.89\" ry=\"18\"/>\n",
       "<text text-anchor=\"middle\" x=\"240.95\" y=\"-86.3\" font-family=\"Times,serif\" font-size=\"14.00\">('C', 3)</text>\n",
       "</g>\n",
       "<!-- (&#39;D&#39;, 2)&#45;&gt;(&#39;C&#39;, 3) -->\n",
       "<g id=\"edge4\" class=\"edge\">\n",
       "<title>('D', 2)-&gt;('C', 3)</title>\n",
       "<path fill=\"none\" stroke=\"black\" d=\"M202.03,-35.59C208.26,-44.13 215.97,-54.72 222.89,-64.21\"/>\n",
       "<polygon fill=\"black\" stroke=\"black\" points=\"220.23,-66.51 228.95,-72.53 225.89,-62.39 220.23,-66.51\"/>\n",
       "</g>\n",
       "<!-- (&#39;C&#39;, 4) -->\n",
       "<g id=\"node7\" class=\"node\">\n",
       "<title>('C', 4)</title>\n",
       "<ellipse fill=\"none\" stroke=\"black\" cx=\"340.95\" cy=\"-90\" rx=\"40.89\" ry=\"18\"/>\n",
       "<text text-anchor=\"middle\" x=\"340.95\" y=\"-86.3\" font-family=\"Times,serif\" font-size=\"14.00\">('C', 4)</text>\n",
       "</g>\n",
       "<!-- (&#39;D&#39;, 2)&#45;&gt;(&#39;C&#39;, 4) -->\n",
       "<g id=\"edge5\" class=\"edge\">\n",
       "<title>('D', 2)-&gt;('C', 4)</title>\n",
       "<path fill=\"none\" stroke=\"black\" d=\"M217.29,-31.68C241.77,-43.02 277.84,-59.75 304.72,-72.2\"/>\n",
       "<polygon fill=\"black\" stroke=\"black\" points=\"303.26,-75.39 313.8,-76.42 306.2,-69.04 303.26,-75.39\"/>\n",
       "</g>\n",
       "<!-- (&#39;D&#39;, 5) -->\n",
       "<g id=\"node8\" class=\"node\">\n",
       "<title>('D', 5)</title>\n",
       "<ellipse fill=\"none\" stroke=\"black\" cx=\"240.95\" cy=\"-162\" rx=\"41.69\" ry=\"18\"/>\n",
       "<text text-anchor=\"middle\" x=\"240.95\" y=\"-158.3\" font-family=\"Times,serif\" font-size=\"14.00\">('D', 5)</text>\n",
       "</g>\n",
       "<!-- (&#39;C&#39;, 0)&#45;&gt;(&#39;D&#39;, 5) -->\n",
       "<g id=\"edge6\" class=\"edge\">\n",
       "<title>('C', 0)-&gt;('D', 5)</title>\n",
       "<path fill=\"none\" stroke=\"black\" d=\"M409.7,-101.94C375.31,-113.97 319.89,-133.37 282.01,-146.63\"/>\n",
       "<polygon fill=\"black\" stroke=\"black\" points=\"280.59,-143.42 272.31,-150.02 282.9,-150.02 280.59,-143.42\"/>\n",
       "</g>\n",
       "<!-- (&#39;D&#39;, 4) -->\n",
       "<g id=\"node3\" class=\"node\">\n",
       "<title>('D', 4)</title>\n",
       "<ellipse fill=\"none\" stroke=\"black\" cx=\"290.95\" cy=\"-18\" rx=\"41.69\" ry=\"18\"/>\n",
       "<text text-anchor=\"middle\" x=\"290.95\" y=\"-14.3\" font-family=\"Times,serif\" font-size=\"14.00\">('D', 4)</text>\n",
       "</g>\n",
       "<!-- (&#39;D&#39;, 4)&#45;&gt;(&#39;C&#39;, 0) -->\n",
       "<g id=\"edge7\" class=\"edge\">\n",
       "<title>('D', 4)-&gt;('C', 0)</title>\n",
       "<path fill=\"none\" stroke=\"black\" d=\"M318.11,-31.68C342.32,-42.98 377.95,-59.6 404.61,-72.04\"/>\n",
       "<polygon fill=\"black\" stroke=\"black\" points=\"403.44,-75.36 413.98,-76.42 406.4,-69.02 403.44,-75.36\"/>\n",
       "</g>\n",
       "<!-- (&#39;D&#39;, 4)&#45;&gt;(&#39;C&#39;, 1) -->\n",
       "<g id=\"edge8\" class=\"edge\">\n",
       "<title>('D', 4)-&gt;('C', 1)</title>\n",
       "<path fill=\"none\" stroke=\"black\" d=\"M259.88,-30.06C253.64,-32.14 247.11,-34.22 240.95,-36 175.09,-55.06 156.8,-52.94 90.95,-72 87.82,-72.9 84.6,-73.89 81.37,-74.9\"/>\n",
       "<polygon fill=\"black\" stroke=\"black\" points=\"80.17,-71.61 71.74,-78.03 82.34,-78.27 80.17,-71.61\"/>\n",
       "</g>\n",
       "<!-- (&#39;D&#39;, 4)&#45;&gt;(&#39;C&#39;, 2) -->\n",
       "<g id=\"edge9\" class=\"edge\">\n",
       "<title>('D', 4)-&gt;('C', 2)</title>\n",
       "<path fill=\"none\" stroke=\"black\" d=\"M263.78,-31.68C239.57,-42.98 203.94,-59.6 177.29,-72.04\"/>\n",
       "<polygon fill=\"black\" stroke=\"black\" points=\"175.49,-69.02 167.91,-76.42 178.45,-75.36 175.49,-69.02\"/>\n",
       "</g>\n",
       "<!-- (&#39;D&#39;, 4)&#45;&gt;(&#39;C&#39;, 3) -->\n",
       "<g id=\"edge10\" class=\"edge\">\n",
       "<title>('D', 4)-&gt;('C', 3)</title>\n",
       "<path fill=\"none\" stroke=\"black\" d=\"M279.1,-35.59C272.99,-44.13 265.43,-54.72 258.65,-64.21\"/>\n",
       "<polygon fill=\"black\" stroke=\"black\" points=\"255.67,-62.36 252.71,-72.53 261.37,-66.43 255.67,-62.36\"/>\n",
       "</g>\n",
       "<!-- (&#39;D&#39;, 4)&#45;&gt;(&#39;C&#39;, 4) -->\n",
       "<g id=\"edge11\" class=\"edge\">\n",
       "<title>('D', 4)-&gt;('C', 4)</title>\n",
       "<path fill=\"none\" stroke=\"black\" d=\"M302.8,-35.59C308.9,-44.13 316.46,-54.72 323.24,-64.21\"/>\n",
       "<polygon fill=\"black\" stroke=\"black\" points=\"320.52,-66.43 329.18,-72.53 326.22,-62.36 320.52,-66.43\"/>\n",
       "</g>\n",
       "<!-- (&#39;C&#39;, 1)&#45;&gt;(&#39;D&#39;, 5) -->\n",
       "<g id=\"edge12\" class=\"edge\">\n",
       "<title>('C', 1)-&gt;('D', 5)</title>\n",
       "<path fill=\"none\" stroke=\"black\" d=\"M72.2,-101.94C106.59,-113.97 162,-133.37 199.88,-146.63\"/>\n",
       "<polygon fill=\"black\" stroke=\"black\" points=\"198.99,-150.02 209.59,-150.02 201.3,-143.42 198.99,-150.02\"/>\n",
       "</g>\n",
       "<!-- (&#39;C&#39;, 2)&#45;&gt;(&#39;D&#39;, 5) -->\n",
       "<g id=\"edge13\" class=\"edge\">\n",
       "<title>('C', 2)-&gt;('D', 5)</title>\n",
       "<path fill=\"none\" stroke=\"black\" d=\"M162.15,-105.85C176.57,-115.94 195.83,-129.42 211.7,-140.53\"/>\n",
       "<polygon fill=\"black\" stroke=\"black\" points=\"209.91,-143.55 220.11,-146.42 213.93,-137.81 209.91,-143.55\"/>\n",
       "</g>\n",
       "<!-- (&#39;C&#39;, 3)&#45;&gt;(&#39;D&#39;, 5) -->\n",
       "<g id=\"edge14\" class=\"edge\">\n",
       "<title>('C', 3)-&gt;('D', 5)</title>\n",
       "<path fill=\"none\" stroke=\"black\" d=\"M240.95,-108.3C240.95,-116.02 240.95,-125.29 240.95,-133.89\"/>\n",
       "<polygon fill=\"black\" stroke=\"black\" points=\"237.45,-133.9 240.95,-143.9 244.45,-133.9 237.45,-133.9\"/>\n",
       "</g>\n",
       "<!-- (&#39;C&#39;, 4)&#45;&gt;(&#39;D&#39;, 5) -->\n",
       "<g id=\"edge15\" class=\"edge\">\n",
       "<title>('C', 4)-&gt;('D', 5)</title>\n",
       "<path fill=\"none\" stroke=\"black\" d=\"M319.74,-105.85C305.32,-115.94 286.06,-129.42 270.2,-140.53\"/>\n",
       "<polygon fill=\"black\" stroke=\"black\" points=\"267.97,-137.81 261.78,-146.42 271.98,-143.55 267.97,-137.81\"/>\n",
       "</g>\n",
       "</g>\n",
       "</svg>"
      ],
      "text/plain": [
       "<IPython.core.display.SVG object>"
      ]
     },
     "metadata": {},
     "output_type": "display_data"
    }
   ],
   "source": [
    "# For this to work, you need graphviz installed on your machine!\n",
    "clf.show_q_diagram()"
   ]
  },
  {
   "cell_type": "markdown",
   "metadata": {},
   "source": [
    "The `C`nodes stand for composite. The chains themselves are composite models and are not visualized in detail. However, if you must:"
   ]
  },
  {
   "cell_type": "code",
   "execution_count": 19,
   "metadata": {},
   "outputs": [
    {
     "data": {
      "image/svg+xml": [
       "<svg xmlns=\"http://www.w3.org/2000/svg\" xmlns:xlink=\"http://www.w3.org/1999/xlink\" width=\"192pt\" height=\"188pt\" viewBox=\"0.00 0.00 192.19 188.00\">\n",
       "<g id=\"graph0\" class=\"graph\" transform=\"scale(1 1) rotate(0) translate(4 184)\">\n",
       "<title>G</title>\n",
       "<polygon fill=\"white\" stroke=\"transparent\" points=\"-4,4 -4,-184 188.19,-184 188.19,4 -4,4\"/>\n",
       "<!-- (&#39;D&#39;, 2) -->\n",
       "<g id=\"node1\" class=\"node\">\n",
       "<title>('D', 2)</title>\n",
       "<ellipse fill=\"none\" stroke=\"black\" cx=\"41.6\" cy=\"-18\" rx=\"41.69\" ry=\"18\"/>\n",
       "<text text-anchor=\"middle\" x=\"41.6\" y=\"-14.3\" font-family=\"Times,serif\" font-size=\"14.00\">('D', 2)</text>\n",
       "</g>\n",
       "<!-- (&#39;M&#39;, 57) -->\n",
       "<g id=\"node2\" class=\"node\">\n",
       "<title>('M', 57)</title>\n",
       "<ellipse fill=\"none\" stroke=\"black\" cx=\"91.6\" cy=\"-90\" rx=\"49.29\" ry=\"18\"/>\n",
       "<text text-anchor=\"middle\" x=\"91.6\" y=\"-86.3\" font-family=\"Times,serif\" font-size=\"14.00\">('M', 57)</text>\n",
       "</g>\n",
       "<!-- (&#39;D&#39;, 2)&#45;&gt;(&#39;M&#39;, 57) -->\n",
       "<g id=\"edge1\" class=\"edge\">\n",
       "<title>('D', 2)-&gt;('M', 57)</title>\n",
       "<path fill=\"none\" stroke=\"black\" d=\"M53.45,-35.59C59.46,-44.01 66.89,-54.42 73.6,-63.8\"/>\n",
       "<polygon fill=\"black\" stroke=\"black\" points=\"70.82,-65.94 79.48,-72.04 76.52,-61.87 70.82,-65.94\"/>\n",
       "</g>\n",
       "<!-- (&#39;D&#39;, 5) -->\n",
       "<g id=\"node4\" class=\"node\">\n",
       "<title>('D', 5)</title>\n",
       "<ellipse fill=\"none\" stroke=\"black\" cx=\"91.6\" cy=\"-162\" rx=\"41.69\" ry=\"18\"/>\n",
       "<text text-anchor=\"middle\" x=\"91.6\" y=\"-158.3\" font-family=\"Times,serif\" font-size=\"14.00\">('D', 5)</text>\n",
       "</g>\n",
       "<!-- (&#39;M&#39;, 57)&#45;&gt;(&#39;D&#39;, 5) -->\n",
       "<g id=\"edge2\" class=\"edge\">\n",
       "<title>('M', 57)-&gt;('D', 5)</title>\n",
       "<path fill=\"none\" stroke=\"black\" d=\"M91.6,-108.3C91.6,-116.02 91.6,-125.29 91.6,-133.89\"/>\n",
       "<polygon fill=\"black\" stroke=\"black\" points=\"88.1,-133.9 91.6,-143.9 95.1,-133.9 88.1,-133.9\"/>\n",
       "</g>\n",
       "<!-- (&#39;D&#39;, 4) -->\n",
       "<g id=\"node3\" class=\"node\">\n",
       "<title>('D', 4)</title>\n",
       "<ellipse fill=\"none\" stroke=\"black\" cx=\"142.6\" cy=\"-18\" rx=\"41.69\" ry=\"18\"/>\n",
       "<text text-anchor=\"middle\" x=\"142.6\" y=\"-14.3\" font-family=\"Times,serif\" font-size=\"14.00\">('D', 4)</text>\n",
       "</g>\n",
       "<!-- (&#39;D&#39;, 4)&#45;&gt;(&#39;M&#39;, 57) -->\n",
       "<g id=\"edge3\" class=\"edge\">\n",
       "<title>('D', 4)-&gt;('M', 57)</title>\n",
       "<path fill=\"none\" stroke=\"black\" d=\"M130.51,-35.59C124.29,-44.13 116.57,-54.72 109.66,-64.21\"/>\n",
       "<polygon fill=\"black\" stroke=\"black\" points=\"106.66,-62.39 103.6,-72.53 112.31,-66.51 106.66,-62.39\"/>\n",
       "</g>\n",
       "</g>\n",
       "</svg>"
      ],
      "text/plain": [
       "<IPython.core.display.SVG object>"
      ]
     },
     "metadata": {},
     "output_type": "display_data"
    }
   ],
   "source": [
    "clf.show_q_diagram(index=2)"
   ]
  },
  {
   "cell_type": "markdown",
   "metadata": {},
   "source": [
    "This is how the `(c,2)` node looks internally.\n",
    "\n",
    "Now, let us touch the query model for real:"
   ]
  },
  {
   "cell_type": "code",
   "execution_count": 20,
   "metadata": {},
   "outputs": [
    {
     "data": {
      "text/plain": [
       "<mercs.composition.NewCompositeModel.NewCompositeModel at 0x7f4d2df78220>"
      ]
     },
     "execution_count": 20,
     "metadata": {},
     "output_type": "execute_result"
    }
   ],
   "source": [
    "qmod = clf.q_model\n",
    "qmod"
   ]
  },
  {
   "cell_type": "markdown",
   "metadata": {},
   "source": [
    "Indeed, it's a composite model, as I said it was.\n",
    "\n",
    "Let us inspect a few attributes:"
   ]
  },
  {
   "cell_type": "code",
   "execution_count": 21,
   "metadata": {},
   "outputs": [
    {
     "data": {
      "text/plain": [
       "([2, 4], [5], 'nominal')"
      ]
     },
     "execution_count": 21,
     "metadata": {},
     "output_type": "execute_result"
    }
   ],
   "source": [
    "qmod.desc_ids, qmod.targ_ids, qmod.out_kind"
   ]
  },
  {
   "cell_type": "markdown",
   "metadata": {},
   "source": [
    "One other thing is the following, either you must give the correct inputs to the query model, if you call it directly:"
   ]
  },
  {
   "cell_type": "code",
   "execution_count": 22,
   "metadata": {},
   "outputs": [
    {
     "data": {
      "text/plain": [
       "array([0., 1., 0., 1., 0., 0., 0., 1., 1., 1.])"
      ]
     },
     "execution_count": 22,
     "metadata": {},
     "output_type": "execute_result"
    }
   ],
   "source": [
    "y_pred = qmod.predict(X[:, qmod.desc_ids])\n",
    "y_pred[:10]"
   ]
  },
  {
   "cell_type": "markdown",
   "metadata": {},
   "source": [
    "# SHAP Avatar Function\n",
    "\n",
    "So, now you have your MERCS model, and your queries. Furthermore, you know that given a query, a mercs model generates a custom query model for you.\n",
    "\n",
    "Evidently, now we just need SHAP values of this query model, and we'd know which features matter and which ones do not."
   ]
  },
  {
   "cell_type": "code",
   "execution_count": 23,
   "metadata": {},
   "outputs": [],
   "source": [
    "cfg_mercs_default = dict(\n",
    "    # Induction\n",
    "    max_depth=8,\n",
    "    selection_algorithm=\"random\",\n",
    "    nb_targets=1,\n",
    "    nb_iterations=10,\n",
    "    fraction_missing=0.0,\n",
    "    nb_missing_attributes=3,\n",
    "    n_jobs=1,\n",
    "    # Inference\n",
    "    prediction_algorithm=\"rw\",\n",
    "    max_steps=8,\n",
    "    nb_walks=5,\n",
    "    # Metadata\n",
    "    nominal_attributes=nominal_attributes,\n",
    ")\n",
    "\n",
    "X_train = X[:500, :]\n",
    "X_test = X[500:, :]\n",
    "\n",
    "# Train a MERCS-model with config above\n",
    "clf = Mercs(**cfg_mercs_default)\n",
    "\n",
    "# Nominal attributes has to be given at fit, all the rest can be done before\n",
    "clf.fit(X_train, nominal_attributes=nominal_attributes)"
   ]
  },
  {
   "cell_type": "code",
   "execution_count": 24,
   "metadata": {},
   "outputs": [
    {
     "data": {
      "text/plain": [
       "array([0., 0., 0., 0., 1., 0., 0., 1., 0., 1., 1., 0., 0., 0., 0., 0., 0.,\n",
       "       0., 0., 0.])"
      ]
     },
     "execution_count": 24,
     "metadata": {},
     "output_type": "execute_result"
    }
   ],
   "source": [
    "# Giving a q_code and making a prediction\n",
    "q_code = np.array([-1, -1, 0, -1, 0, 1])\n",
    "clf.predict(X_test, q_code=q_code)[:20]"
   ]
  },
  {
   "cell_type": "code",
   "execution_count": 25,
   "metadata": {},
   "outputs": [
    {
     "data": {
      "text/plain": [
       "array([0., 0., 0., 0., 1., 0., 0., 1., 0., 1., 1., 0., 0., 0., 0., 0., 0.,\n",
       "       0., 0., 0.])"
      ]
     },
     "execution_count": 25,
     "metadata": {},
     "output_type": "execute_result"
    }
   ],
   "source": [
    "clf.predict(X_test[:100, :], q_code=q_code)[:20]"
   ]
  },
  {
   "cell_type": "markdown",
   "metadata": {},
   "source": [
    "## Extracting nrm_shaps"
   ]
  },
  {
   "cell_type": "markdown",
   "metadata": {},
   "source": [
    "You need to give training data and testing data to calculate the SHAP values now.\n",
    "\n",
    "The training data can be the data that you you used in fit. The `n_samples`parameter subsamples this. I have found that you do not need to set too many samples for accurate results. Setting `n_samples` too high really hits runtime bad.\n",
    "\n",
    "The testing data is exactly what you expect it to be. It is the data you use in the mercs.predict (if you were not too lazy to do a train-test split)\n",
    "\n",
    "If you give 200 testing samples, the shap calculation will calculate 200 predictions, and internally, they're will be 200 abs_shaps values. Those are averaged and normalized and that process yields the nrm_shaps as you see here."
   ]
  },
  {
   "cell_type": "code",
   "execution_count": 34,
   "metadata": {},
   "outputs": [
    {
     "data": {
      "application/vnd.jupyter.widget-view+json": {
       "model_id": "3db697377f1f41ebbf8cfb25d375c0ac",
       "version_major": 2,
       "version_minor": 0
      },
      "text/plain": [
       "HBox(children=(FloatProgress(value=0.0, max=214.0), HTML(value='')))"
      ]
     },
     "metadata": {},
     "output_type": "display_data"
    },
    {
     "name": "stdout",
     "output_type": "stream",
     "text": [
      "\n"
     ]
    },
    {
     "data": {
      "application/vnd.jupyter.widget-view+json": {
       "model_id": "61c489a91e5d4b1a9d731947fa1657cf",
       "version_major": 2,
       "version_minor": 0
      },
      "text/plain": [
       "HBox(children=(FloatProgress(value=0.0, max=214.0), HTML(value='')))"
      ]
     },
     "metadata": {},
     "output_type": "display_data"
    },
    {
     "name": "stdout",
     "output_type": "stream",
     "text": [
      "\n"
     ]
    },
    {
     "data": {
      "application/vnd.jupyter.widget-view+json": {
       "model_id": "36a880b5a8334da298d5f97f54d597f8",
       "version_major": 2,
       "version_minor": 0
      },
      "text/plain": [
       "HBox(children=(FloatProgress(value=0.0, max=214.0), HTML(value='')))"
      ]
     },
     "metadata": {},
     "output_type": "display_data"
    },
    {
     "name": "stdout",
     "output_type": "stream",
     "text": [
      "\n"
     ]
    },
    {
     "data": {
      "application/vnd.jupyter.widget-view+json": {
       "model_id": "6006309b793e4a3891da5328ce98c135",
       "version_major": 2,
       "version_minor": 0
      },
      "text/plain": [
       "HBox(children=(FloatProgress(value=0.0, max=214.0), HTML(value='')))"
      ]
     },
     "metadata": {},
     "output_type": "display_data"
    },
    {
     "name": "stdout",
     "output_type": "stream",
     "text": [
      "\n"
     ]
    },
    {
     "data": {
      "application/vnd.jupyter.widget-view+json": {
       "model_id": "3413a530b8ae423ea1533144ab343fc9",
       "version_major": 2,
       "version_minor": 0
      },
      "text/plain": [
       "HBox(children=(FloatProgress(value=0.0, max=214.0), HTML(value='')))"
      ]
     },
     "metadata": {},
     "output_type": "display_data"
    },
    {
     "name": "stdout",
     "output_type": "stream",
     "text": [
      "\n"
     ]
    },
    {
     "data": {
      "application/vnd.jupyter.widget-view+json": {
       "model_id": "1a922b422b054864b14787ab247bbfb8",
       "version_major": 2,
       "version_minor": 0
      },
      "text/plain": [
       "HBox(children=(FloatProgress(value=0.0, max=214.0), HTML(value='')))"
      ]
     },
     "metadata": {},
     "output_type": "display_data"
    },
    {
     "name": "stdout",
     "output_type": "stream",
     "text": [
      "\n"
     ]
    },
    {
     "data": {
      "application/vnd.jupyter.widget-view+json": {
       "model_id": "faf4ab999f7b4ac6abd8f9db5a9f854d",
       "version_major": 2,
       "version_minor": 0
      },
      "text/plain": [
       "HBox(children=(FloatProgress(value=0.0, max=214.0), HTML(value='')))"
      ]
     },
     "metadata": {},
     "output_type": "display_data"
    },
    {
     "name": "stdout",
     "output_type": "stream",
     "text": [
      "\n"
     ]
    },
    {
     "data": {
      "application/vnd.jupyter.widget-view+json": {
       "model_id": "526be4aa0c1c44a4a420f1dec775e57f",
       "version_major": 2,
       "version_minor": 0
      },
      "text/plain": [
       "HBox(children=(FloatProgress(value=0.0, max=214.0), HTML(value='')))"
      ]
     },
     "metadata": {},
     "output_type": "display_data"
    },
    {
     "name": "stdout",
     "output_type": "stream",
     "text": [
      "\n",
      "1.32 s ± 26.7 ms per loop (mean ± std. dev. of 7 runs, 1 loop each)\n"
     ]
    }
   ],
   "source": [
    "%%timeit\n",
    "nrm_shaps = clf.avatar_q_model(X_train, X_test, n_samples=50)"
   ]
  },
  {
   "cell_type": "code",
   "execution_count": 35,
   "metadata": {},
   "outputs": [
    {
     "data": {
      "application/vnd.jupyter.widget-view+json": {
       "model_id": "4497b23ee876463396493c5d6a5dc6b2",
       "version_major": 2,
       "version_minor": 0
      },
      "text/plain": [
       "HBox(children=(FloatProgress(value=0.0, max=214.0), HTML(value='')))"
      ]
     },
     "metadata": {},
     "output_type": "display_data"
    },
    {
     "name": "stdout",
     "output_type": "stream",
     "text": [
      "\n"
     ]
    },
    {
     "data": {
      "text/plain": [
       "array([0.14257765, 0.85742235])"
      ]
     },
     "execution_count": 35,
     "metadata": {},
     "output_type": "execute_result"
    }
   ],
   "source": [
    "clf.avatar_q_model(X_train, X_test, n_samples=50)"
   ]
  },
  {
   "cell_type": "code",
   "execution_count": 36,
   "metadata": {},
   "outputs": [
    {
     "data": {
      "application/vnd.jupyter.widget-view+json": {
       "model_id": "a8d231c8f558476bbafa41d0000398ea",
       "version_major": 2,
       "version_minor": 0
      },
      "text/plain": [
       "HBox(children=(FloatProgress(value=0.0, max=214.0), HTML(value='')))"
      ]
     },
     "metadata": {},
     "output_type": "display_data"
    },
    {
     "name": "stdout",
     "output_type": "stream",
     "text": [
      "\n"
     ]
    },
    {
     "data": {
      "application/vnd.jupyter.widget-view+json": {
       "model_id": "9e08c628723a438a8a29db989e5549c8",
       "version_major": 2,
       "version_minor": 0
      },
      "text/plain": [
       "HBox(children=(FloatProgress(value=0.0, max=214.0), HTML(value='')))"
      ]
     },
     "metadata": {},
     "output_type": "display_data"
    },
    {
     "name": "stdout",
     "output_type": "stream",
     "text": [
      "\n"
     ]
    },
    {
     "data": {
      "application/vnd.jupyter.widget-view+json": {
       "model_id": "2e062767563544ee907498ca6fdd8077",
       "version_major": 2,
       "version_minor": 0
      },
      "text/plain": [
       "HBox(children=(FloatProgress(value=0.0, max=214.0), HTML(value='')))"
      ]
     },
     "metadata": {},
     "output_type": "display_data"
    },
    {
     "name": "stdout",
     "output_type": "stream",
     "text": [
      "\n"
     ]
    },
    {
     "data": {
      "application/vnd.jupyter.widget-view+json": {
       "model_id": "b6a890e9eb87423589cbcd3630129854",
       "version_major": 2,
       "version_minor": 0
      },
      "text/plain": [
       "HBox(children=(FloatProgress(value=0.0, max=214.0), HTML(value='')))"
      ]
     },
     "metadata": {},
     "output_type": "display_data"
    },
    {
     "name": "stdout",
     "output_type": "stream",
     "text": [
      "\n"
     ]
    },
    {
     "data": {
      "application/vnd.jupyter.widget-view+json": {
       "model_id": "ae440f2936ed4633b81420648d68e907",
       "version_major": 2,
       "version_minor": 0
      },
      "text/plain": [
       "HBox(children=(FloatProgress(value=0.0, max=214.0), HTML(value='')))"
      ]
     },
     "metadata": {},
     "output_type": "display_data"
    },
    {
     "name": "stdout",
     "output_type": "stream",
     "text": [
      "\n"
     ]
    },
    {
     "data": {
      "application/vnd.jupyter.widget-view+json": {
       "model_id": "d468652affa54bd68229f228f214a0c8",
       "version_major": 2,
       "version_minor": 0
      },
      "text/plain": [
       "HBox(children=(FloatProgress(value=0.0, max=214.0), HTML(value='')))"
      ]
     },
     "metadata": {},
     "output_type": "display_data"
    },
    {
     "name": "stdout",
     "output_type": "stream",
     "text": [
      "\n"
     ]
    },
    {
     "data": {
      "application/vnd.jupyter.widget-view+json": {
       "model_id": "13b3fedc82294dacbfd7e9a9971fa99e",
       "version_major": 2,
       "version_minor": 0
      },
      "text/plain": [
       "HBox(children=(FloatProgress(value=0.0, max=214.0), HTML(value='')))"
      ]
     },
     "metadata": {},
     "output_type": "display_data"
    },
    {
     "name": "stdout",
     "output_type": "stream",
     "text": [
      "\n"
     ]
    },
    {
     "data": {
      "application/vnd.jupyter.widget-view+json": {
       "model_id": "4e69722fb7564078aa88971a73766809",
       "version_major": 2,
       "version_minor": 0
      },
      "text/plain": [
       "HBox(children=(FloatProgress(value=0.0, max=214.0), HTML(value='')))"
      ]
     },
     "metadata": {},
     "output_type": "display_data"
    },
    {
     "name": "stdout",
     "output_type": "stream",
     "text": [
      "\n",
      "1.19 s ± 32.2 ms per loop (mean ± std. dev. of 7 runs, 1 loop each)\n"
     ]
    }
   ],
   "source": [
    "%%timeit\n",
    "nrm_shaps = clf.avatar_q_model(X_train, X_test, n_samples=5)"
   ]
  },
  {
   "cell_type": "code",
   "execution_count": 37,
   "metadata": {},
   "outputs": [
    {
     "data": {
      "application/vnd.jupyter.widget-view+json": {
       "model_id": "7669e92cd5834a86b7c349233e96e24b",
       "version_major": 2,
       "version_minor": 0
      },
      "text/plain": [
       "HBox(children=(FloatProgress(value=0.0, max=214.0), HTML(value='')))"
      ]
     },
     "metadata": {},
     "output_type": "display_data"
    },
    {
     "name": "stdout",
     "output_type": "stream",
     "text": [
      "\n"
     ]
    },
    {
     "data": {
      "text/plain": [
       "array([0.14194851, 0.85805149])"
      ]
     },
     "execution_count": 37,
     "metadata": {},
     "output_type": "execute_result"
    }
   ],
   "source": [
    "clf.avatar_q_model(X_train, X_test, n_samples=5)"
   ]
  },
  {
   "cell_type": "code",
   "execution_count": 40,
   "metadata": {},
   "outputs": [
    {
     "data": {
      "application/vnd.jupyter.widget-view+json": {
       "model_id": "9ff065f86f0a46ef908a0c2c96a3fb78",
       "version_major": 2,
       "version_minor": 0
      },
      "text/plain": [
       "HBox(children=(FloatProgress(value=0.0, max=50.0), HTML(value='')))"
      ]
     },
     "metadata": {},
     "output_type": "display_data"
    },
    {
     "name": "stdout",
     "output_type": "stream",
     "text": [
      "\n"
     ]
    },
    {
     "data": {
      "text/plain": [
       "array([0.20683716, 0.79316284])"
      ]
     },
     "execution_count": 40,
     "metadata": {},
     "output_type": "execute_result"
    }
   ],
   "source": [
    "clf.avatar_q_model(X_train, X_test[:50], n_samples=5)"
   ]
  },
  {
   "cell_type": "markdown",
   "metadata": {},
   "source": [
    "Smaller test set is even way faster AND the results seem also semi-close"
   ]
  }
 ],
 "metadata": {
  "kernelspec": {
   "display_name": "avatar",
   "language": "python",
   "name": "avatar"
  },
  "language_info": {
   "codemirror_mode": {
    "name": "ipython",
    "version": 3
   },
   "file_extension": ".py",
   "mimetype": "text/x-python",
   "name": "python",
   "nbconvert_exporter": "python",
   "pygments_lexer": "ipython3",
   "version": "3.8.3"
  },
  "toc-autonumbering": true
 },
 "nbformat": 4,
 "nbformat_minor": 4
}
