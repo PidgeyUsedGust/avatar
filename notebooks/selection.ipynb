{
 "cells": [
  {
   "cell_type": "markdown",
   "metadata": {},
   "source": [
    "# Feature selection.\n",
    "\n",
    "The following methods are implemented in this notebook.\n",
    "\n",
    "1. A (baseline) random sampling based approach — done.\n",
    "2. CHCGA — a genetic algorithm based approach — done.\n",
    "3. SFFS — a forward selection based approach — done.\n",
    "\n",
    "Both (1) and (2) allow use to set a max running time."
   ]
  },
  {
   "cell_type": "code",
   "execution_count": 1,
   "metadata": {},
   "outputs": [],
   "source": [
    "%reload_ext autoreload\n",
    "%autoreload 2\n",
    "\n",
    "import numpy as np\n",
    "import pandas as pd\n",
    "from typing import Optional, List, Tuple, Callable"
   ]
  },
  {
   "cell_type": "markdown",
   "metadata": {},
   "source": [
    "Load dataset."
   ]
  },
  {
   "cell_type": "code",
   "execution_count": 2,
   "metadata": {
    "scrolled": false
   },
   "outputs": [
    {
     "data": {
      "text/html": [
       "<div>\n",
       "<style scoped>\n",
       "    .dataframe tbody tr th:only-of-type {\n",
       "        vertical-align: middle;\n",
       "    }\n",
       "\n",
       "    .dataframe tbody tr th {\n",
       "        vertical-align: top;\n",
       "    }\n",
       "\n",
       "    .dataframe thead th {\n",
       "        text-align: right;\n",
       "    }\n",
       "</style>\n",
       "<table border=\"1\" class=\"dataframe\">\n",
       "  <thead>\n",
       "    <tr style=\"text-align: right;\">\n",
       "      <th></th>\n",
       "      <th>PassengerId</th>\n",
       "      <th>Survived</th>\n",
       "      <th>Pclass</th>\n",
       "      <th>Sex</th>\n",
       "      <th>Age</th>\n",
       "      <th>SibSp</th>\n",
       "      <th>Parch</th>\n",
       "      <th>Fare</th>\n",
       "      <th>Embarked</th>\n",
       "      <th>Split( )(Name)_1</th>\n",
       "      <th>...</th>\n",
       "      <th>OneHot()(Parch)_3</th>\n",
       "      <th>OneHot()(Parch)_4</th>\n",
       "      <th>OneHot()(Parch)_5</th>\n",
       "      <th>OneHot()(Parch)_6</th>\n",
       "      <th>OneHot()(Embarked)_C</th>\n",
       "      <th>OneHot()(Embarked)_Q</th>\n",
       "      <th>OneHot()(Embarked)_S</th>\n",
       "      <th>WordToNumber()(Ticket)_Ticket</th>\n",
       "      <th>ModeImputation()(Cabin)_Cabin</th>\n",
       "      <th>ModeImputation()(Embarked)_Embarked</th>\n",
       "    </tr>\n",
       "  </thead>\n",
       "  <tbody>\n",
       "    <tr>\n",
       "      <th>0</th>\n",
       "      <td>1</td>\n",
       "      <td>0</td>\n",
       "      <td>3</td>\n",
       "      <td>male</td>\n",
       "      <td>22.0</td>\n",
       "      <td>1</td>\n",
       "      <td>0</td>\n",
       "      <td>7.2500</td>\n",
       "      <td>S</td>\n",
       "      <td>Mr.</td>\n",
       "      <td>...</td>\n",
       "      <td>0</td>\n",
       "      <td>0</td>\n",
       "      <td>0</td>\n",
       "      <td>0</td>\n",
       "      <td>0</td>\n",
       "      <td>0</td>\n",
       "      <td>1</td>\n",
       "      <td>NaN</td>\n",
       "      <td>B96 B98</td>\n",
       "      <td>S</td>\n",
       "    </tr>\n",
       "    <tr>\n",
       "      <th>1</th>\n",
       "      <td>2</td>\n",
       "      <td>1</td>\n",
       "      <td>1</td>\n",
       "      <td>female</td>\n",
       "      <td>38.0</td>\n",
       "      <td>1</td>\n",
       "      <td>0</td>\n",
       "      <td>71.2833</td>\n",
       "      <td>C</td>\n",
       "      <td>Mrs.</td>\n",
       "      <td>...</td>\n",
       "      <td>0</td>\n",
       "      <td>0</td>\n",
       "      <td>0</td>\n",
       "      <td>0</td>\n",
       "      <td>1</td>\n",
       "      <td>0</td>\n",
       "      <td>0</td>\n",
       "      <td>NaN</td>\n",
       "      <td>C85</td>\n",
       "      <td>C</td>\n",
       "    </tr>\n",
       "    <tr>\n",
       "      <th>2</th>\n",
       "      <td>3</td>\n",
       "      <td>1</td>\n",
       "      <td>3</td>\n",
       "      <td>female</td>\n",
       "      <td>26.0</td>\n",
       "      <td>0</td>\n",
       "      <td>0</td>\n",
       "      <td>7.9250</td>\n",
       "      <td>S</td>\n",
       "      <td>Miss.</td>\n",
       "      <td>...</td>\n",
       "      <td>0</td>\n",
       "      <td>0</td>\n",
       "      <td>0</td>\n",
       "      <td>0</td>\n",
       "      <td>0</td>\n",
       "      <td>0</td>\n",
       "      <td>1</td>\n",
       "      <td>NaN</td>\n",
       "      <td>B96 B98</td>\n",
       "      <td>S</td>\n",
       "    </tr>\n",
       "    <tr>\n",
       "      <th>3</th>\n",
       "      <td>4</td>\n",
       "      <td>1</td>\n",
       "      <td>1</td>\n",
       "      <td>female</td>\n",
       "      <td>35.0</td>\n",
       "      <td>1</td>\n",
       "      <td>0</td>\n",
       "      <td>53.1000</td>\n",
       "      <td>S</td>\n",
       "      <td>Mrs.</td>\n",
       "      <td>...</td>\n",
       "      <td>0</td>\n",
       "      <td>0</td>\n",
       "      <td>0</td>\n",
       "      <td>0</td>\n",
       "      <td>0</td>\n",
       "      <td>0</td>\n",
       "      <td>1</td>\n",
       "      <td>113803.0</td>\n",
       "      <td>C123</td>\n",
       "      <td>S</td>\n",
       "    </tr>\n",
       "    <tr>\n",
       "      <th>4</th>\n",
       "      <td>5</td>\n",
       "      <td>0</td>\n",
       "      <td>3</td>\n",
       "      <td>male</td>\n",
       "      <td>35.0</td>\n",
       "      <td>0</td>\n",
       "      <td>0</td>\n",
       "      <td>8.0500</td>\n",
       "      <td>S</td>\n",
       "      <td>Mr.</td>\n",
       "      <td>...</td>\n",
       "      <td>0</td>\n",
       "      <td>0</td>\n",
       "      <td>0</td>\n",
       "      <td>0</td>\n",
       "      <td>0</td>\n",
       "      <td>0</td>\n",
       "      <td>1</td>\n",
       "      <td>373450.0</td>\n",
       "      <td>B96 B98</td>\n",
       "      <td>S</td>\n",
       "    </tr>\n",
       "  </tbody>\n",
       "</table>\n",
       "<p>5 rows × 35 columns</p>\n",
       "</div>"
      ],
      "text/plain": [
       "   PassengerId Survived  Pclass     Sex   Age  SibSp  Parch     Fare Embarked  \\\n",
       "0            1        0       3    male  22.0      1      0   7.2500        S   \n",
       "1            2        1       1  female  38.0      1      0  71.2833        C   \n",
       "2            3        1       3  female  26.0      0      0   7.9250        S   \n",
       "3            4        1       1  female  35.0      1      0  53.1000        S   \n",
       "4            5        0       3    male  35.0      0      0   8.0500        S   \n",
       "\n",
       "  Split( )(Name)_1  ... OneHot()(Parch)_3  OneHot()(Parch)_4  \\\n",
       "0              Mr.  ...                 0                  0   \n",
       "1             Mrs.  ...                 0                  0   \n",
       "2            Miss.  ...                 0                  0   \n",
       "3             Mrs.  ...                 0                  0   \n",
       "4              Mr.  ...                 0                  0   \n",
       "\n",
       "  OneHot()(Parch)_5  OneHot()(Parch)_6  OneHot()(Embarked)_C  \\\n",
       "0                 0                  0                     0   \n",
       "1                 0                  0                     1   \n",
       "2                 0                  0                     0   \n",
       "3                 0                  0                     0   \n",
       "4                 0                  0                     0   \n",
       "\n",
       "   OneHot()(Embarked)_Q  OneHot()(Embarked)_S  WordToNumber()(Ticket)_Ticket  \\\n",
       "0                     0                     1                            NaN   \n",
       "1                     0                     0                            NaN   \n",
       "2                     0                     1                            NaN   \n",
       "3                     0                     1                       113803.0   \n",
       "4                     0                     1                       373450.0   \n",
       "\n",
       "   ModeImputation()(Cabin)_Cabin  ModeImputation()(Embarked)_Embarked  \n",
       "0                        B96 B98                                    S  \n",
       "1                            C85                                    C  \n",
       "2                        B96 B98                                    S  \n",
       "3                           C123                                    S  \n",
       "4                        B96 B98                                    S  \n",
       "\n",
       "[5 rows x 35 columns]"
      ]
     },
     "execution_count": 2,
     "metadata": {},
     "output_type": "execute_result"
    }
   ],
   "source": [
    "titanic = pd.read_csv(\"../data/raw/demo/titanic_expanded.csv\")\n",
    "titanic.Survived = titanic.Survived.astype(\"category\")\n",
    "titanic.head()"
   ]
  },
  {
   "cell_type": "code",
   "execution_count": null,
   "metadata": {},
   "outputs": [],
   "source": []
  },
  {
   "cell_type": "markdown",
   "metadata": {},
   "source": [
    "### Random\n",
    "\n",
    "Randomly sample subsets of features, evaluate and get feature relevances."
   ]
  },
  {
   "cell_type": "code",
   "execution_count": 3,
   "metadata": {
    "scrolled": false
   },
   "outputs": [],
   "source": [
    "from avatar.selection import SamplingSelector\n",
    "\n",
    "\n",
    "ss = SamplingSelector(iterations=40, explain=0.8)\n",
    "ss.fit(titanic, target=\"Survived\")"
   ]
  },
  {
   "cell_type": "code",
   "execution_count": 15,
   "metadata": {},
   "outputs": [
    {
     "data": {
      "text/html": [
       "['Sex', 'Split( )(Name)_1', 'ExtractWord([Mr, Rev, Mrs, Master, Miss, Dr])(Name)_0', 'Age', 'Pclass', 'Fare', 'OneHot()(Pclass)_3']"
      ],
      "text/plain": [
       "['Sex',\n",
       " 'Split( )(Name)_1',\n",
       " 'ExtractWord([Mr, Rev, Mrs, Master, Miss, Dr])(Name)_0',\n",
       " 'Age',\n",
       " 'Pclass',\n",
       " 'Fare',\n",
       " 'OneHot()(Pclass)_3']"
      ]
     },
     "execution_count": 15,
     "metadata": {},
     "output_type": "execute_result"
    }
   ],
   "source": [
    "ss.select(explain=0.8)"
   ]
  },
  {
   "cell_type": "code",
   "execution_count": 5,
   "metadata": {},
   "outputs": [
    {
     "data": {
      "text/plain": [
       "Index(['Sex', 'Split( )(Name)_1',\n",
       "       'ExtractWord([Mr, Rev, Mrs, Master, Miss, Dr])(Name)_0', 'Age',\n",
       "       'Pclass', 'Fare', 'OneHot()(Pclass)_3', 'WordToNumber()(Ticket)_Ticket',\n",
       "       'ExtractNumber()(Ticket)_0', 'Split( )(Name)_2',\n",
       "       'ModeImputation()(Cabin)_Cabin', 'SibSp', 'PassengerId', 'Parch',\n",
       "       'OneHot()(Pclass)_2', 'OneHot()(SibSp)_1', 'OneHot()(Parch)_0',\n",
       "       'OneHot()(SibSp)_0', 'ModeImputation()(Embarked)_Embarked', 'Embarked',\n",
       "       'OneHot()(Embarked)_S', 'OneHot()(Embarked)_Q', 'OneHot()(Embarked)_C',\n",
       "       'OneHot()(Parch)_2', 'OneHot()(Parch)_1', 'OneHot()(SibSp)_4',\n",
       "       'OneHot()(SibSp)_3', 'OneHot()(SibSp)_5', 'OneHot()(SibSp)_8',\n",
       "       'OneHot()(Parch)_3', 'OneHot()(Parch)_4', 'OneHot()(Parch)_5',\n",
       "       'OneHot()(Parch)_6', 'Survived', 'OneHot()(SibSp)_2'],\n",
       "      dtype='object')"
      ]
     },
     "execution_count": 5,
     "metadata": {},
     "output_type": "execute_result"
    }
   ],
   "source": [
    "ss.ranked()"
   ]
  },
  {
   "cell_type": "markdown",
   "metadata": {},
   "source": [
    "Warm starting."
   ]
  },
  {
   "cell_type": "code",
   "execution_count": 12,
   "metadata": {
    "scrolled": false
   },
   "outputs": [],
   "source": [
    "from avatar.selection import WarmSamplingSelector\n",
    "\n",
    "\n",
    "wss = WarmSamplingSelector(iterations=40, explain=0.8)\n",
    "wss.fit(titanic, target=\"Survived\", start=[\"Sex\", \"Fare\"])"
   ]
  },
  {
   "cell_type": "code",
   "execution_count": 13,
   "metadata": {},
   "outputs": [
    {
     "data": {
      "text/plain": [
       "array([0.01504597, 0.        , 0.0965897 , 0.22044658, 0.08333636,\n",
       "       0.02815102, 0.00751281, 0.07085068, 0.00393563, 0.07180004,\n",
       "       0.04578654, 0.08724388, 0.05736441, 0.00970799, 0.07083569,\n",
       "       0.00317614, 0.00830437, 0.00045336, 0.00062545, 0.00209437,\n",
       "       0.00061622, 0.00038976, 0.02089348, 0.00463773, 0.00085403,\n",
       "       0.        , 0.        , 0.00030675, 0.        , 0.00336481,\n",
       "       0.0011657 , 0.00883354, 0.05982983, 0.01291745, 0.0029297 ])"
      ]
     },
     "execution_count": 13,
     "metadata": {},
     "output_type": "execute_result"
    }
   ],
   "source": [
    "wss.scores()"
   ]
  },
  {
   "cell_type": "code",
   "execution_count": 14,
   "metadata": {},
   "outputs": [
    {
     "data": {
      "text/html": [
       "['Sex', 'Pclass', 'ExtractNumber()(Ticket)_0', 'Age', 'Split( )(Name)_1', 'Fare', 'OneHot()(Pclass)_3', 'WordToNumber()(Ticket)_Ticket', 'ExtractWord([Mr, Rev, Mrs, Master, Miss, Dr])(Name)_0']"
      ],
      "text/plain": [
       "['Sex',\n",
       " 'Pclass',\n",
       " 'ExtractNumber()(Ticket)_0',\n",
       " 'Age',\n",
       " 'Split( )(Name)_1',\n",
       " 'Fare',\n",
       " 'OneHot()(Pclass)_3',\n",
       " 'WordToNumber()(Ticket)_Ticket',\n",
       " 'ExtractWord([Mr, Rev, Mrs, Master, Miss, Dr])(Name)_0']"
      ]
     },
     "execution_count": 14,
     "metadata": {},
     "output_type": "execute_result"
    }
   ],
   "source": [
    "wss.select()"
   ]
  },
  {
   "cell_type": "markdown",
   "metadata": {},
   "source": [
    "### Genetic\n",
    "\n",
    "The CHC Genetic Algorithm for feature selection. Uses\n",
    "\n",
    "* Cross-generational elitist selection\n",
    "* Heterogeneous recombination\n",
    "* and Cataclysmic mutation\n",
    "\n",
    "for maintaining diversity and avoiding stagnation.\n",
    "\n",
    "After the final population is obtained, combine importances from this population."
   ]
  },
  {
   "cell_type": "code",
   "execution_count": 16,
   "metadata": {
    "scrolled": false
   },
   "outputs": [],
   "source": [
    "from avatar.selection import CHCGASelector, Population, Individual\n",
    "    \n",
    "\n",
    "gas = CHCGASelector(iterations=50)\n",
    "gas.fit(titanic, target=\"Survived\")"
   ]
  },
  {
   "cell_type": "code",
   "execution_count": 17,
   "metadata": {},
   "outputs": [
    {
     "data": {
      "text/html": [
       "['Split( )(Name)_1', 'Sex', 'Fare', 'OneHot()(Pclass)_3', 'ExtractWord([Mr, Rev, Mrs, Master, Miss, Dr])(Name)_0']"
      ],
      "text/plain": [
       "['Split( )(Name)_1',\n",
       " 'Sex',\n",
       " 'Fare',\n",
       " 'OneHot()(Pclass)_3',\n",
       " 'ExtractWord([Mr, Rev, Mrs, Master, Miss, Dr])(Name)_0']"
      ]
     },
     "execution_count": 17,
     "metadata": {},
     "output_type": "execute_result"
    }
   ],
   "source": [
    "gas.select(explain=0.8)"
   ]
  },
  {
   "cell_type": "code",
   "execution_count": 23,
   "metadata": {},
   "outputs": [
    {
     "data": {
      "text/html": [
       "['Split( )(Name)_1', 'Sex', 'Fare', 'OneHot()(Pclass)_3', 'ExtractWord([Mr, Rev, Mrs, Master, Miss, Dr])(Name)_0', 'ExtractNumber()(Ticket)_0', 'Pclass']"
      ],
      "text/plain": [
       "['Split( )(Name)_1',\n",
       " 'Sex',\n",
       " 'Fare',\n",
       " 'OneHot()(Pclass)_3',\n",
       " 'ExtractWord([Mr, Rev, Mrs, Master, Miss, Dr])(Name)_0',\n",
       " 'ExtractNumber()(Ticket)_0',\n",
       " 'Pclass']"
      ]
     },
     "execution_count": 23,
     "metadata": {},
     "output_type": "execute_result"
    }
   ],
   "source": [
    "gas.select()"
   ]
  },
  {
   "cell_type": "markdown",
   "metadata": {},
   "source": [
    "### SFFS\n",
    "\n",
    "Sequential Forward Floating Selection. We don't use the adaptive version as there will often be many columns and that is too slow."
   ]
  },
  {
   "cell_type": "code",
   "execution_count": 19,
   "metadata": {
    "scrolled": false
   },
   "outputs": [],
   "source": [
    "from avatar.selection import SFFSelector\n",
    "    \n",
    "\n",
    "sffs = SFFSelector(iterations=10)\n",
    "sffs.fit(titanic, target=\"Survived\", start=[])"
   ]
  },
  {
   "cell_type": "code",
   "execution_count": 29,
   "metadata": {},
   "outputs": [
    {
     "data": {
      "text/html": [
       "['Sex', 'SibSp', 'Parch', 'ExtractNumber()(Ticket)_0', 'ExtractWord([Mr, Rev, Mrs, Master, Miss, Dr])(Name)_0']"
      ],
      "text/plain": [
       "['Sex',\n",
       " 'SibSp',\n",
       " 'Parch',\n",
       " 'ExtractNumber()(Ticket)_0',\n",
       " 'ExtractWord([Mr, Rev, Mrs, Master, Miss, Dr])(Name)_0']"
      ]
     },
     "execution_count": 29,
     "metadata": {},
     "output_type": "execute_result"
    }
   ],
   "source": [
    "sffs.select()"
   ]
  },
  {
   "cell_type": "code",
   "execution_count": 28,
   "metadata": {},
   "outputs": [
    {
     "data": {
      "text/plain": [
       "array([0.        , 0.        , 0.        , 0.68116625, 0.        ,\n",
       "       0.09456094, 0.03565845, 0.        , 0.        , 0.        ,\n",
       "       0.        , 0.09386584, 0.09209759, 0.00126835, 0.        ,\n",
       "       0.00138258, 0.        , 0.        , 0.        , 0.        ,\n",
       "       0.        , 0.        , 0.        , 0.        , 0.        ,\n",
       "       0.        , 0.        , 0.        , 0.        , 0.        ,\n",
       "       0.        , 0.        , 0.        , 0.        , 0.        ])"
      ]
     },
     "execution_count": 28,
     "metadata": {},
     "output_type": "execute_result"
    }
   ],
   "source": [
    "sffs.scores()"
   ]
  },
  {
   "cell_type": "code",
   "execution_count": 24,
   "metadata": {},
   "outputs": [
    {
     "data": {
      "text/html": [
       "['Sex', 'SibSp', 'Parch', 'ExtractNumber()(Ticket)_0', 'ExtractWord([Mr, Rev, Mrs, Master, Miss, Dr])(Name)_0']"
      ],
      "text/plain": [
       "['Sex',\n",
       " 'SibSp',\n",
       " 'Parch',\n",
       " 'ExtractNumber()(Ticket)_0',\n",
       " 'ExtractWord([Mr, Rev, Mrs, Master, Miss, Dr])(Name)_0']"
      ]
     },
     "execution_count": 24,
     "metadata": {},
     "output_type": "execute_result"
    }
   ],
   "source": [
    "sffs.select()"
   ]
  },
  {
   "cell_type": "code",
   "execution_count": 89,
   "metadata": {},
   "outputs": [
    {
     "data": {
      "text/plain": [
       "array([0.00000000e+00, 0.00000000e+00, 0.00000000e+00, 6.53397157e-01,\n",
       "       0.00000000e+00, 9.58453551e-02, 1.38914460e-02, 0.00000000e+00,\n",
       "       0.00000000e+00, 0.00000000e+00, 1.74607119e-01, 5.97109866e-02,\n",
       "       2.16780040e-03, 0.00000000e+00, 3.02909013e-04, 7.72264926e-05,\n",
       "       0.00000000e+00, 0.00000000e+00, 0.00000000e+00, 0.00000000e+00,\n",
       "       0.00000000e+00, 0.00000000e+00, 0.00000000e+00, 0.00000000e+00,\n",
       "       0.00000000e+00, 0.00000000e+00, 0.00000000e+00, 0.00000000e+00,\n",
       "       0.00000000e+00, 0.00000000e+00, 0.00000000e+00, 0.00000000e+00,\n",
       "       0.00000000e+00, 0.00000000e+00])"
      ]
     },
     "execution_count": 89,
     "metadata": {},
     "output_type": "execute_result"
    }
   ],
   "source": [
    "sffs.scores()"
   ]
  },
  {
   "cell_type": "code",
   "execution_count": null,
   "metadata": {},
   "outputs": [],
   "source": []
  }
 ],
 "metadata": {
  "kernelspec": {
   "display_name": "avatar",
   "language": "python",
   "name": "avatar"
  },
  "language_info": {
   "codemirror_mode": {
    "name": "ipython",
    "version": 3
   },
   "file_extension": ".py",
   "mimetype": "text/x-python",
   "name": "python",
   "nbconvert_exporter": "python",
   "pygments_lexer": "ipython3",
   "version": "3.8.3"
  }
 },
 "nbformat": 4,
 "nbformat_minor": 4
}
